{
 "cells": [
  {
   "cell_type": "markdown",
   "metadata": {},
   "source": [
    "##  Introduction:\n",
    "\n",
    "##  Introduction:\n",
    "\n",
    "This notebook is about Relative risk and we gonna work on pregnency dataset ..\n",
    "\n",
    "Create a file named risk.py. Write functions named ProbEarly, PropOnTime and ProbLate that take a PMF and compute the fraction of births that fall into each bin. \n",
    "\n",
    "Ranges are as follows: \n",
    "1. Early ==> <= 37\n",
    "2. OnTime ==> [38 to 40]\n",
    "3. Late ==> >= 41\n",
    "\n",
    "Hint: write a generalized function that these functions call.\n",
    "\n",
    "Make three PMFs, one for first babies, one for others, and one for all live births. For each PMF, compute the probability of being born early, on time, or late."
   ]
  },
  {
   "cell_type": "code",
   "execution_count": 32,
   "metadata": {
    "collapsed": false
   },
   "outputs": [],
   "source": [
    "import Pmf\n",
    "import numpy as np\n",
    "import itertools\n",
    "import matplotlib.pyplot as plt\n",
    "import pandas as pd\n",
    "import survey\n",
    "import first\n",
    "%matplotlib inline "
   ]
  },
  {
   "cell_type": "markdown",
   "metadata": {},
   "source": [
    "## Data Extraction .."
   ]
  },
  {
   "cell_type": "code",
   "execution_count": 13,
   "metadata": {
    "collapsed": true
   },
   "outputs": [],
   "source": [
    "table = survey.Pregnancies()\n",
    "table.ReadRecords()\n",
    "outcome_ = np.zeros([len(table.records), 1])\n",
    "\n",
    "for i in xrange(len(table.records)):\n",
    "    outcome_[i] = table.records[i].outcome"
   ]
  },
  {
   "cell_type": "code",
   "execution_count": 14,
   "metadata": {
    "collapsed": false
   },
   "outputs": [
    {
     "data": {
      "text/plain": [
       "array([[ 1.],\n",
       "       [ 1.],\n",
       "       [ 1.],\n",
       "       ..., \n",
       "       [ 2.],\n",
       "       [ 1.],\n",
       "       [ 1.]])"
      ]
     },
     "execution_count": 14,
     "metadata": {},
     "output_type": "execute_result"
    }
   ],
   "source": [
    "outcome_"
   ]
  },
  {
   "cell_type": "code",
   "execution_count": 15,
   "metadata": {
    "collapsed": true
   },
   "outputs": [],
   "source": [
    "alive_counter = 0 \n",
    "\n",
    "for baby in outcome_:\n",
    "    if (baby == 1):\n",
    "        alive_counter = alive_counter + 1\n",
    "    else:\n",
    "        continue "
   ]
  },
  {
   "cell_type": "code",
   "execution_count": 17,
   "metadata": {
    "collapsed": false
   },
   "outputs": [
    {
     "data": {
      "text/plain": [
       "9148"
      ]
     },
     "execution_count": 17,
     "metadata": {},
     "output_type": "execute_result"
    }
   ],
   "source": [
    "alive_counter"
   ]
  },
  {
   "cell_type": "code",
   "execution_count": 18,
   "metadata": {
    "collapsed": true
   },
   "outputs": [],
   "source": [
    "data = table.GetFields()"
   ]
  },
  {
   "cell_type": "code",
   "execution_count": 21,
   "metadata": {
    "collapsed": false
   },
   "outputs": [
    {
     "data": {
      "text/plain": [
       "array(['caseid', 'nbrnaliv', 'babysex', 'birthwgt_lb', 'birthwgt_oz',\n",
       "       'prglength', 'outcome', 'birthord', 'agepreg', 'finalwgt'], \n",
       "      dtype='|S11')"
      ]
     },
     "execution_count": 21,
     "metadata": {},
     "output_type": "execute_result"
    }
   ],
   "source": [
    "## read all data in dataframe .. then partition the dataframe table into two tables \n",
    "df = pd.DataFrame([])\n",
    "\n",
    "header =  [case[0] for (i, case) in enumerate(data)]  ## append, appends rows !! \n",
    "header = np.transpose(header)\n",
    "header"
   ]
  },
  {
   "cell_type": "code",
   "execution_count": 22,
   "metadata": {
    "collapsed": true
   },
   "outputs": [],
   "source": [
    "Value_to_push = []\n",
    "with open(\"2002FemPreg.dat\",\"r\") as io:\n",
    "    for l in io:\n",
    "        if len(l) > 100:\n",
    "            for (i,case) in enumerate(data):\n",
    "                try: \n",
    "                    Value_to_push.append([case[3](l[case[1]:case[2]])])\n",
    "#                     print(Value_to_push)\n",
    "                except ValueError: \n",
    "                    continue"
   ]
  },
  {
   "cell_type": "code",
   "execution_count": 23,
   "metadata": {
    "collapsed": false
   },
   "outputs": [
    {
     "data": {
      "text/plain": [
       "(<survey.Pregnancies at 0x7fba3789aa90>,\n",
       " <survey.Pregnancies at 0x7fba3789a9d0>)"
      ]
     },
     "execution_count": 23,
     "metadata": {},
     "output_type": "execute_result"
    }
   ],
   "source": [
    "partitions = first.PartitionRecords(table)\n",
    "partitions"
   ]
  },
  {
   "cell_type": "code",
   "execution_count": 24,
   "metadata": {
    "collapsed": false
   },
   "outputs": [
    {
     "data": {
      "text/plain": [
       "(4413, 4735)"
      ]
     },
     "execution_count": 24,
     "metadata": {},
     "output_type": "execute_result"
    }
   ],
   "source": [
    "first_baby = partitions[0]\n",
    "others = partitions[1]\n",
    "len(first_baby), len(others)"
   ]
  },
  {
   "cell_type": "code",
   "execution_count": 25,
   "metadata": {
    "collapsed": false
   },
   "outputs": [
    {
     "data": {
      "text/plain": [
       "(<survey.Pregnancies at 0x7fba331e9390>,\n",
       " <survey.Pregnancies at 0x7fba325c6dd0>,\n",
       " <survey.Pregnancies at 0x7fba325c6e10>)"
      ]
     },
     "execution_count": 25,
     "metadata": {},
     "output_type": "execute_result"
    }
   ],
   "source": [
    "## tables \n",
    "t = first.MakeTables()\n",
    "original_table = t[0]\n",
    "firsts_table = t[1]\n",
    "others_table = t[2]\n",
    "\n",
    "original_table, firsts_table, others_table"
   ]
  },
  {
   "cell_type": "code",
   "execution_count": 26,
   "metadata": {
    "collapsed": true
   },
   "outputs": [],
   "source": [
    "first_baby_ = np.zeros([len(firsts_table.records), 1])\n",
    "\n",
    "for i in xrange(len(firsts_table.records)):\n",
    "    try:\n",
    "        first_baby_[i] = firsts_table.records[i].prglength\n",
    "    except ValueError:\n",
    "        first_baby_[i] = 0"
   ]
  },
  {
   "cell_type": "code",
   "execution_count": 27,
   "metadata": {
    "collapsed": false
   },
   "outputs": [
    {
     "data": {
      "text/plain": [
       "(array([[ 39.],\n",
       "        [ 39.],\n",
       "        [ 38.],\n",
       "        ..., \n",
       "        [ 39.],\n",
       "        [ 34.],\n",
       "        [ 39.]]), 4413)"
      ]
     },
     "execution_count": 27,
     "metadata": {},
     "output_type": "execute_result"
    }
   ],
   "source": [
    "first_baby_, len(first_baby_)"
   ]
  },
  {
   "cell_type": "code",
   "execution_count": 28,
   "metadata": {
    "collapsed": true
   },
   "outputs": [],
   "source": [
    "others_baby_ = np.zeros([len(others_table.records), 1])\n",
    "\n",
    "for i in xrange(len(others_table.records)):\n",
    "    try:\n",
    "        others_baby_[i] = others_table.records[i].prglength\n",
    "    except ValueError:\n",
    "        others_baby_[i] = 0"
   ]
  },
  {
   "cell_type": "code",
   "execution_count": 29,
   "metadata": {
    "collapsed": false
   },
   "outputs": [
    {
     "data": {
      "text/plain": [
       "(array([[ 39.],\n",
       "        [ 39.],\n",
       "        [ 39.],\n",
       "        ..., \n",
       "        [ 39.],\n",
       "        [ 39.],\n",
       "        [ 39.]]), 4735)"
      ]
     },
     "execution_count": 29,
     "metadata": {},
     "output_type": "execute_result"
    }
   ],
   "source": [
    "others_baby_, len(others_baby_)"
   ]
  },
  {
   "cell_type": "code",
   "execution_count": 33,
   "metadata": {
    "collapsed": false
   },
   "outputs": [
    {
     "data": {
      "text/plain": [
       "4413"
      ]
     },
     "execution_count": 33,
     "metadata": {},
     "output_type": "execute_result"
    }
   ],
   "source": [
    "merged = list(itertools.chain(*first_baby_))\n",
    "len(merged)"
   ]
  },
  {
   "cell_type": "code",
   "execution_count": 39,
   "metadata": {
    "collapsed": false
   },
   "outputs": [
    {
     "data": {
      "text/plain": [
       "<Pmf.Pmf at 0x7fba331d1e90>"
      ]
     },
     "execution_count": 39,
     "metadata": {},
     "output_type": "execute_result"
    }
   ],
   "source": [
    "pmf_first = Pmf.MakePmfFromList(merged)\n",
    "pmf_first"
   ]
  },
  {
   "cell_type": "code",
   "execution_count": 40,
   "metadata": {
    "collapsed": false
   },
   "outputs": [
    {
     "data": {
      "text/plain": [
       "([0.0,\n",
       "  17.0,\n",
       "  20.0,\n",
       "  21.0,\n",
       "  22.0,\n",
       "  23.0,\n",
       "  24.0,\n",
       "  25.0,\n",
       "  26.0,\n",
       "  27.0,\n",
       "  28.0,\n",
       "  29.0,\n",
       "  30.0,\n",
       "  31.0,\n",
       "  32.0,\n",
       "  33.0,\n",
       "  34.0,\n",
       "  35.0,\n",
       "  36.0,\n",
       "  37.0,\n",
       "  38.0,\n",
       "  39.0,\n",
       "  40.0,\n",
       "  41.0,\n",
       "  42.0,\n",
       "  43.0,\n",
       "  44.0,\n",
       "  45.0,\n",
       "  46.0,\n",
       "  47.0,\n",
       "  48.0],\n",
       " [0.00022660321776569228,\n",
       "  0.00022660321776569228,\n",
       "  0.00022660321776569228,\n",
       "  0.00022660321776569228,\n",
       "  0.0006798096532970768,\n",
       "  0.00022660321776569228,\n",
       "  0.0015862225243598459,\n",
       "  0.00022660321776569228,\n",
       "  0.0036256514842510764,\n",
       "  0.00022660321776569228,\n",
       "  0.005438477226376614,\n",
       "  0.0020394289598912306,\n",
       "  0.016542034896895538,\n",
       "  0.003399048266485384,\n",
       "  0.012463176977113076,\n",
       "  0.0063448900974393836,\n",
       "  0.006571493315205076,\n",
       "  0.03602991162474507,\n",
       "  0.03897575345569907,\n",
       "  0.04713346929526399,\n",
       "  0.0616360752322683,\n",
       "  0.47903920235667347,\n",
       "  0.12145932472241106,\n",
       "  0.08157715839564922,\n",
       "  0.04645365964196692,\n",
       "  0.01971447994561523,\n",
       "  0.005211874008610923,\n",
       "  0.0013596193065941536,\n",
       "  0.00022660321776569228,\n",
       "  0.00022660321776569228,\n",
       "  0.0006798096532970768])"
      ]
     },
     "execution_count": 40,
     "metadata": {},
     "output_type": "execute_result"
    }
   ],
   "source": [
    "pmf_first.d.keys(), pmf_first.d.values()"
   ]
  },
  {
   "cell_type": "markdown",
   "metadata": {},
   "source": [
    "## PMF Functions "
   ]
  },
  {
   "cell_type": "code",
   "execution_count": 36,
   "metadata": {
    "collapsed": false
   },
   "outputs": [],
   "source": [
    "# ProbEarly (PMF_) ... return age <= 37\n",
    "\n",
    "def ProbEarly(index, pmf):\n",
    "    k_ = []\n",
    "    v_ = []\n",
    "    \n",
    "    for i in xrange(len(index)):\n",
    "        if(index[i] <= 37):\n",
    "            k_.append(index[i])\n",
    "            v_.append(pmf[i])\n",
    "            \n",
    "    return k_, v_"
   ]
  },
  {
   "cell_type": "code",
   "execution_count": 73,
   "metadata": {
    "collapsed": false
   },
   "outputs": [],
   "source": [
    "def ProbOnTime(index, pmf):\n",
    "    k__ = []\n",
    "    v__ = []\n",
    "    \n",
    "    for i in xrange(len(index)):\n",
    "        if(index[i] <= 40 and index[i] >= 38):\n",
    "            k__.append(index[i])\n",
    "            v__.append(pmf[i])\n",
    "            \n",
    "    return k__, v__"
   ]
  },
  {
   "cell_type": "code",
   "execution_count": 38,
   "metadata": {
    "collapsed": true
   },
   "outputs": [],
   "source": [
    "def ProbLate(index, pmf):\n",
    "    k___ = []\n",
    "    v___ = []\n",
    "    \n",
    "    for i in xrange(len(index)):\n",
    "        if(index[i] >= 41):\n",
    "            k___.append(index[i])\n",
    "            v___.append(pmf[i])\n",
    "            \n",
    "    return k___, v___"
   ]
  },
  {
   "cell_type": "markdown",
   "metadata": {},
   "source": [
    "# 1. First Babies:\n",
    "## Calling functions and plotting the curves:"
   ]
  },
  {
   "cell_type": "code",
   "execution_count": 42,
   "metadata": {
    "collapsed": false
   },
   "outputs": [
    {
     "data": {
      "text/plain": [
       "([0.0,\n",
       "  17.0,\n",
       "  20.0,\n",
       "  21.0,\n",
       "  22.0,\n",
       "  23.0,\n",
       "  24.0,\n",
       "  25.0,\n",
       "  26.0,\n",
       "  27.0,\n",
       "  28.0,\n",
       "  29.0,\n",
       "  30.0,\n",
       "  31.0,\n",
       "  32.0,\n",
       "  33.0,\n",
       "  34.0,\n",
       "  35.0,\n",
       "  36.0,\n",
       "  37.0],\n",
       " [0.00022660321776569228,\n",
       "  0.00022660321776569228,\n",
       "  0.00022660321776569228,\n",
       "  0.00022660321776569228,\n",
       "  0.0006798096532970768,\n",
       "  0.00022660321776569228,\n",
       "  0.0015862225243598459,\n",
       "  0.00022660321776569228,\n",
       "  0.0036256514842510764,\n",
       "  0.00022660321776569228,\n",
       "  0.005438477226376614,\n",
       "  0.0020394289598912306,\n",
       "  0.016542034896895538,\n",
       "  0.003399048266485384,\n",
       "  0.012463176977113076,\n",
       "  0.0063448900974393836,\n",
       "  0.006571493315205076,\n",
       "  0.03602991162474507,\n",
       "  0.03897575345569907,\n",
       "  0.04713346929526399])"
      ]
     },
     "execution_count": 42,
     "metadata": {},
     "output_type": "execute_result"
    }
   ],
   "source": [
    "k_, v_ = ProbEarly(pmf_first.d.keys(), pmf_first.d.values())\n",
    "k_, v_"
   ]
  },
  {
   "cell_type": "code",
   "execution_count": 44,
   "metadata": {
    "collapsed": false
   },
   "outputs": [
    {
     "data": {
      "text/plain": [
       "<matplotlib.text.Text at 0x7fba32247710>"
      ]
     },
     "execution_count": 44,
     "metadata": {},
     "output_type": "execute_result"
    },
    {
     "data": {
      "image/png": "[encoded data removed]",
      "text/plain": [
       "<matplotlib.figure.Figure at 0x7fba32299890>"
      ]
     },
     "metadata": {},
     "output_type": "display_data"
    }
   ],
   "source": [
    "plt.bar(k_, v_)\n",
    "plt.xlabel('weeks')\n",
    "plt.ylabel('PMF')"
   ]
  },
  {
   "cell_type": "code",
   "execution_count": 74,
   "metadata": {
    "collapsed": false
   },
   "outputs": [
    {
     "data": {
      "text/plain": [
       "([38.0, 39.0, 40.0],\n",
       " [0.0616360752322683, 0.47903920235667347, 0.12145932472241106])"
      ]
     },
     "execution_count": 74,
     "metadata": {},
     "output_type": "execute_result"
    }
   ],
   "source": [
    "k__, v__ = ProbOnTime(pmf_first.d.keys(), pmf_first.d.values())\n",
    "k__, v__"
   ]
  },
  {
   "cell_type": "code",
   "execution_count": 75,
   "metadata": {
    "collapsed": false
   },
   "outputs": [
    {
     "data": {
      "text/plain": [
       "<matplotlib.text.Text at 0x7fba31ee4750>"
      ]
     },
     "execution_count": 75,
     "metadata": {},
     "output_type": "execute_result"
    },
    {
     "data": {
      "image/png": "[encoded data removed]",
      "text/plain": [
       "<matplotlib.figure.Figure at 0x7fba31ec0a50>"
      ]
     },
     "metadata": {},
     "output_type": "display_data"
    }
   ],
   "source": [
    "plt.bar(k__, v__)\n",
    "plt.xlabel('weeks')\n",
    "plt.ylabel('PMF')"
   ]
  },
  {
   "cell_type": "code",
   "execution_count": 68,
   "metadata": {
    "collapsed": false
   },
   "outputs": [
    {
     "data": {
      "text/plain": [
       "([41.0, 42.0, 43.0, 44.0, 45.0, 46.0, 47.0, 48.0],\n",
       " [0.08157715839564922,\n",
       "  0.04645365964196692,\n",
       "  0.01971447994561523,\n",
       "  0.005211874008610923,\n",
       "  0.0013596193065941536,\n",
       "  0.00022660321776569228,\n",
       "  0.00022660321776569228,\n",
       "  0.0006798096532970768])"
      ]
     },
     "execution_count": 68,
     "metadata": {},
     "output_type": "execute_result"
    }
   ],
   "source": [
    "k___, v___ = ProbLate(pmf_first.d.keys(), pmf_first.d.values())\n",
    "k___, v___"
   ]
  },
  {
   "cell_type": "code",
   "execution_count": 69,
   "metadata": {
    "collapsed": false
   },
   "outputs": [
    {
     "data": {
      "text/plain": [
       "<Container object of 8 artists>"
      ]
     },
     "execution_count": 69,
     "metadata": {},
     "output_type": "execute_result"
    },
    {
     "data": {
      "image/png": "[encoded data removed]",
      "text/plain": [
       "<matplotlib.figure.Figure at 0x7fba32251d10>"
      ]
     },
     "metadata": {},
     "output_type": "display_data"
    }
   ],
   "source": [
    "plt.bar(k___, v___)"
   ]
  },
  {
   "cell_type": "markdown",
   "metadata": {},
   "source": [
    "## Comment:\n",
    "\n",
    "The above figures demonestrate that probability of a baby to be born early has an increasing shape .. which means that i.e. it is more likely to have a baby in week # 37 than in week # 30 .. \n",
    "\n",
    "The distribution of those born on time is almost normal with a peak in week # 39 .. and it is more likely to have a baby in week # 40 than in week # 38 .. \n",
    "\n",
    "However, after week # 40 the probability decreases over time .. and it is rare to have baby in week # 49 or later.  \n",
    "\n",
    "It's more informative to calculate the portion of babies under each range .. hence, let's calculate this .. "
   ]
  },
  {
   "cell_type": "code",
   "execution_count": 76,
   "metadata": {
    "collapsed": false
   },
   "outputs": [
    {
     "data": {
      "text/plain": [
       "(0.18241559030138227, 0.6621346023113528, 0.15544980738726488)"
      ]
     },
     "execution_count": 76,
     "metadata": {},
     "output_type": "execute_result"
    }
   ],
   "source": [
    "sum(v_), sum(v__), sum(v___) ## the order of these vectors similar to the order of their functions .."
   ]
  },
  {
   "cell_type": "markdown",
   "metadata": {},
   "source": [
    "The majority of babies .. come on time .. "
   ]
  },
  {
   "cell_type": "markdown",
   "metadata": {},
   "source": [
    "# 2. Other Babies:"
   ]
  },
  {
   "cell_type": "code",
   "execution_count": 77,
   "metadata": {
    "collapsed": false
   },
   "outputs": [
    {
     "data": {
      "text/plain": [
       "4735"
      ]
     },
     "execution_count": 77,
     "metadata": {},
     "output_type": "execute_result"
    }
   ],
   "source": [
    "merged_ = list(itertools.chain(*others_baby_))\n",
    "len(merged_)"
   ]
  },
  {
   "cell_type": "code",
   "execution_count": 78,
   "metadata": {
    "collapsed": false
   },
   "outputs": [
    {
     "data": {
      "text/plain": [
       "<Pmf.Pmf at 0x7fba32289350>"
      ]
     },
     "execution_count": 78,
     "metadata": {},
     "output_type": "execute_result"
    }
   ],
   "source": [
    "pmf_others = Pmf.MakePmfFromList(merged_)\n",
    "pmf_others"
   ]
  },
  {
   "cell_type": "code",
   "execution_count": 79,
   "metadata": {
    "collapsed": false
   },
   "outputs": [
    {
     "data": {
      "text/plain": [
       "([4.0,\n",
       "  9.0,\n",
       "  13.0,\n",
       "  17.0,\n",
       "  18.0,\n",
       "  19.0,\n",
       "  21.0,\n",
       "  22.0,\n",
       "  24.0,\n",
       "  25.0,\n",
       "  26.0,\n",
       "  27.0,\n",
       "  28.0,\n",
       "  29.0,\n",
       "  30.0,\n",
       "  31.0,\n",
       "  32.0,\n",
       "  33.0,\n",
       "  34.0,\n",
       "  35.0,\n",
       "  36.0,\n",
       "  37.0,\n",
       "  38.0,\n",
       "  39.0,\n",
       "  40.0,\n",
       "  41.0,\n",
       "  42.0,\n",
       "  43.0,\n",
       "  44.0,\n",
       "  45.0,\n",
       "  48.0,\n",
       "  50.0],\n",
       " [0.00021119324181626187,\n",
       "  0.00021119324181626187,\n",
       "  0.00021119324181626187,\n",
       "  0.00021119324181626187,\n",
       "  0.00021119324181626187,\n",
       "  0.00021119324181626187,\n",
       "  0.00021119324181626187,\n",
       "  0.0008447729672650475,\n",
       "  0.0012671594508975714,\n",
       "  0.00042238648363252375,\n",
       "  0.004012671594508976,\n",
       "  0.00042238648363252375,\n",
       "  0.001689545934530095,\n",
       "  0.0025343189017951427,\n",
       "  0.013727560718057022,\n",
       "  0.0025343189017951427,\n",
       "  0.012671594508975712,\n",
       "  0.0044350580781415,\n",
       "  0.006546990496304118,\n",
       "  0.032101372756071805,\n",
       "  0.03146779303062302,\n",
       "  0.05216473072861668,\n",
       "  0.07074973600844772,\n",
       "  0.5446673706441394,\n",
       "  0.12249208025343189,\n",
       "  0.04794086589229145,\n",
       "  0.02597676874340021,\n",
       "  0.012882787750791975,\n",
       "  0.004857444561774023,\n",
       "  0.0008447729672650475,\n",
       "  0.0008447729672650475,\n",
       "  0.00042238648363252375])"
      ]
     },
     "execution_count": 79,
     "metadata": {},
     "output_type": "execute_result"
    }
   ],
   "source": [
    "pmf_others.d.keys(), pmf_others.d.values()"
   ]
  },
  {
   "cell_type": "markdown",
   "metadata": {},
   "source": [
    "## Calling functions and plotting the curves:"
   ]
  },
  {
   "cell_type": "code",
   "execution_count": 80,
   "metadata": {
    "collapsed": false
   },
   "outputs": [
    {
     "data": {
      "text/plain": [
       "([4.0,\n",
       "  9.0,\n",
       "  13.0,\n",
       "  17.0,\n",
       "  18.0,\n",
       "  19.0,\n",
       "  21.0,\n",
       "  22.0,\n",
       "  24.0,\n",
       "  25.0,\n",
       "  26.0,\n",
       "  27.0,\n",
       "  28.0,\n",
       "  29.0,\n",
       "  30.0,\n",
       "  31.0,\n",
       "  32.0,\n",
       "  33.0,\n",
       "  34.0,\n",
       "  35.0,\n",
       "  36.0,\n",
       "  37.0],\n",
       " [0.00021119324181626187,\n",
       "  0.00021119324181626187,\n",
       "  0.00021119324181626187,\n",
       "  0.00021119324181626187,\n",
       "  0.00021119324181626187,\n",
       "  0.00021119324181626187,\n",
       "  0.00021119324181626187,\n",
       "  0.0008447729672650475,\n",
       "  0.0012671594508975714,\n",
       "  0.00042238648363252375,\n",
       "  0.004012671594508976,\n",
       "  0.00042238648363252375,\n",
       "  0.001689545934530095,\n",
       "  0.0025343189017951427,\n",
       "  0.013727560718057022,\n",
       "  0.0025343189017951427,\n",
       "  0.012671594508975712,\n",
       "  0.0044350580781415,\n",
       "  0.006546990496304118,\n",
       "  0.032101372756071805,\n",
       "  0.03146779303062302,\n",
       "  0.05216473072861668])"
      ]
     },
     "execution_count": 80,
     "metadata": {},
     "output_type": "execute_result"
    }
   ],
   "source": [
    "k_o, v_o = ProbEarly(pmf_others.d.keys(), pmf_others.d.values())\n",
    "k_o, v_o"
   ]
  },
  {
   "cell_type": "code",
   "execution_count": 82,
   "metadata": {
    "collapsed": false
   },
   "outputs": [
    {
     "data": {
      "text/plain": [
       "<matplotlib.text.Text at 0x7fba31cc0d90>"
      ]
     },
     "execution_count": 82,
     "metadata": {},
     "output_type": "execute_result"
    },
    {
     "data": {
      "image/png": "[encoded data removed]",
      "text/plain": [
       "<matplotlib.figure.Figure at 0x7fba31f77dd0>"
      ]
     },
     "metadata": {},
     "output_type": "display_data"
    }
   ],
   "source": [
    "plt.bar(k_o, v_o)\n",
    "plt.xlabel('week Number')\n",
    "plt.ylabel('PMF')"
   ]
  },
  {
   "cell_type": "code",
   "execution_count": 83,
   "metadata": {
    "collapsed": false
   },
   "outputs": [
    {
     "data": {
      "text/plain": [
       "([38.0, 39.0, 40.0],\n",
       " [0.07074973600844772, 0.5446673706441394, 0.12249208025343189])"
      ]
     },
     "execution_count": 83,
     "metadata": {},
     "output_type": "execute_result"
    }
   ],
   "source": [
    "k__o, v__o = ProbOnTime(pmf_others.d.keys(), pmf_others.d.values())\n",
    "k__o, v__o"
   ]
  },
  {
   "cell_type": "code",
   "execution_count": 84,
   "metadata": {
    "collapsed": false
   },
   "outputs": [
    {
     "data": {
      "text/plain": [
       "<matplotlib.text.Text at 0x7fba31bf4e90>"
      ]
     },
     "execution_count": 84,
     "metadata": {},
     "output_type": "execute_result"
    },
    {
     "data": {
      "image/png": "[encoded data removed]",
      "text/plain": [
       "<matplotlib.figure.Figure at 0x7fba31c45f50>"
      ]
     },
     "metadata": {},
     "output_type": "display_data"
    }
   ],
   "source": [
    "plt.bar(k__o, v__o)\n",
    "plt.xlabel('week Number')\n",
    "plt.ylabel('PMF')"
   ]
  },
  {
   "cell_type": "code",
   "execution_count": 85,
   "metadata": {
    "collapsed": false
   },
   "outputs": [
    {
     "data": {
      "text/plain": [
       "([41.0, 42.0, 43.0, 44.0, 45.0, 48.0, 50.0],\n",
       " [0.04794086589229145,\n",
       "  0.02597676874340021,\n",
       "  0.012882787750791975,\n",
       "  0.004857444561774023,\n",
       "  0.0008447729672650475,\n",
       "  0.0008447729672650475,\n",
       "  0.00042238648363252375])"
      ]
     },
     "execution_count": 85,
     "metadata": {},
     "output_type": "execute_result"
    }
   ],
   "source": [
    "k___o, v___o = ProbLate(pmf_others.d.keys(), pmf_others.d.values())\n",
    "k___o, v___o"
   ]
  },
  {
   "cell_type": "code",
   "execution_count": 86,
   "metadata": {
    "collapsed": false
   },
   "outputs": [
    {
     "data": {
      "text/plain": [
       "<matplotlib.text.Text at 0x7fba31d35190>"
      ]
     },
     "execution_count": 86,
     "metadata": {},
     "output_type": "execute_result"
    },
    {
     "data": {
      "image/png": "[encoded data removed]",
      "text/plain": [
       "<matplotlib.figure.Figure at 0x7fba31b20510>"
      ]
     },
     "metadata": {},
     "output_type": "display_data"
    }
   ],
   "source": [
    "plt.bar(k___o, v___o)\n",
    "plt.xlabel('week Number')\n",
    "plt.ylabel('PMF')"
   ]
  },
  {
   "cell_type": "markdown",
   "metadata": {},
   "source": [
    "## Comment:\n",
    "The shape of the distributions in Other_babies almost similar to the first_babies .. \n",
    "however, there is a sparsity in week # 47 which is not exists in first_babies figure .. \n",
    "\n",
    "Let's calculate the portion of babies under each range to be able to compare the results .. "
   ]
  },
  {
   "cell_type": "code",
   "execution_count": 87,
   "metadata": {
    "collapsed": false
   },
   "outputs": [
    {
     "data": {
      "text/plain": [
       "(0.16832101372756073, 0.737909186906019, 0.09376979936642028)"
      ]
     },
     "execution_count": 87,
     "metadata": {},
     "output_type": "execute_result"
    }
   ],
   "source": [
    "sum(v_o), sum(v__o), sum(v___o) ## the order of these vectors similar to the order of their functions .."
   ]
  },
  {
   "cell_type": "markdown",
   "metadata": {},
   "source": [
    "It is more likely to have baby on time .. neither late nor early .. \n",
    "\n",
    "however, the probability for first baby to come on time is less that the other babies .. \n",
    "\n",
    "For the other babies, it is more likely to have then early than late .. \n",
    "\n",
    "Finally, It is more likely to have first baby early (0.18) than other baby early (0.16) .. \n",
    "\n",
    "\n",
    "### Conclusively, \n",
    "\n",
    "First babies don't necessarly come late ;) "
   ]
  }
 ],
 "metadata": {
  "kernelspec": {
   "display_name": "Python 2",
   "language": "python",
   "name": "python2"
  },
  "language_info": {
   "codemirror_mode": {
    "name": "ipython",
    "version": 2
   },
   "file_extension": ".py",
   "mimetype": "text/x-python",
   "name": "python",
   "nbconvert_exporter": "python",
   "pygments_lexer": "ipython2",
   "version": "2.7.12"
  }
 },
 "nbformat": 4,
 "nbformat_minor": 0
}
