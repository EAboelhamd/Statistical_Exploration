{
 "cells": [
  {
   "cell_type": "markdown",
   "metadata": {},
   "source": [
    "## Introduction: \n",
    "\n",
    "This notebook is an implementation for applying PMF on remaining lifetime concept .. \n",
    "\n",
    "    Write a function called RemainingLifetime that takes a Pmf of lifetimes and\n",
    "    an age, and returns a new Pmf that represents the distribution of remaining\n",
    "    lifetimes.\n",
    "\n",
    "Before implementing this requirment .. let's introduce the survival analysis .. "
   ]
  },
  {
   "cell_type": "markdown",
   "metadata": {},
   "source": [
    "## What is Survival analysis ?!\n",
    "\n",
    "- Survival analysis attempts to answer questions such as: what is the proportion of a population which will survive past a certain time? Of those that survive, at what rate will they die or fail? Can multiple causes of death or failure be taken into account? How do particular circumstances or characteristics increase or decrease the probability of survival?\n",
    "\n",
    "- This is why to be able to implement the survival analysis concept .. someone has to have a distribution for the lifetime and an age .. \n",
    "\n",
    "As an example we can check ==> https://upload.wikimedia.org/wikipedia/commons/4/47/Excerpt_from_CDC_2003_Table_1.pdf"
   ]
  },
  {
   "cell_type": "code",
   "execution_count": 1,
   "metadata": {
    "collapsed": false
   },
   "outputs": [
    {
     "name": "stderr",
     "output_type": "stream",
     "text": [
      "\u001b[1m\u001b[34mINFO: Nothing to be done\n",
      "\u001b[0m\u001b[1m\u001b[34mINFO: METADATA is out-of-date — you may not have the latest version of Plots\n",
      "\u001b[0m\u001b[1m\u001b[34mINFO: Use `Pkg.update()` to get the latest versions of your packages\n",
      "\u001b[0m"
     ]
    }
   ],
   "source": [
    "using DataFrames\n",
    "Pkg.add(\"Plots\")\n",
    "using Plots\n",
    "# plotly()"
   ]
  },
  {
   "cell_type": "markdown",
   "metadata": {},
   "source": [
    "The list of elements has to be similar to that one in python .. just to be able to compare the results .. "
   ]
  },
  {
   "cell_type": "code",
   "execution_count": 2,
   "metadata": {
    "collapsed": false
   },
   "outputs": [
    {
     "data": {
      "text/plain": [
       "6-element Array{Int64,1}:\n",
       " 30\n",
       " 20\n",
       " 25\n",
       " 40\n",
       " 35\n",
       " 25"
      ]
     },
     "execution_count": 2,
     "metadata": {},
     "output_type": "execute_result"
    }
   ],
   "source": [
    "# all_ages = rand(25:50, 10) \n",
    "data = [30, 20, 25, 40, 35, 25]\n",
    "data"
   ]
  },
  {
   "cell_type": "code",
   "execution_count": 3,
   "metadata": {
    "collapsed": false
   },
   "outputs": [
    {
     "data": {
      "text/plain": [
       "Dict{Int64,Int64} with 5 entries:\n",
       "  20 => 1\n",
       "  25 => 2\n",
       "  35 => 1\n",
       "  40 => 1\n",
       "  30 => 1"
      ]
     },
     "execution_count": 3,
     "metadata": {},
     "output_type": "execute_result"
    }
   ],
   "source": [
    "c = countmap(data)  ## create data dictionary "
   ]
  },
  {
   "cell_type": "code",
   "execution_count": 4,
   "metadata": {
    "collapsed": false
   },
   "outputs": [
    {
     "data": {
      "text/plain": [
       "5-element Array{Any,1}:\n",
       " 0.166667\n",
       " 0.333333\n",
       " 0.166667\n",
       " 0.166667\n",
       " 0.166667"
      ]
     },
     "execution_count": 4,
     "metadata": {},
     "output_type": "execute_result"
    }
   ],
   "source": [
    "all_pmf = []\n",
    "for i in values(c)\n",
    "    append!(all_pmf, i/length(data))\n",
    "end\n",
    "all_pmf"
   ]
  },
  {
   "cell_type": "markdown",
   "metadata": {},
   "source": [
    "Something is still missed ! :S .. \n",
    "\n",
    "Here, I have PMFs without thier corresponding indices ! .. hence, I have to modify the above loop .. "
   ]
  },
  {
   "cell_type": "code",
   "execution_count": 22,
   "metadata": {
    "collapsed": false
   },
   "outputs": [
    {
     "data": {
      "text/plain": [
       "(Any[20,25,35,40,30],Any[0.166667,0.333333,0.166667,0.166667,0.166667])"
      ]
     },
     "execution_count": 22,
     "metadata": {},
     "output_type": "execute_result"
    }
   ],
   "source": [
    "pmf = []\n",
    "index = []\n",
    "\n",
    "for (k, v) in c\n",
    "    append!(pmf, v/length(data))\n",
    "    append!(index, k)       \n",
    "end\n",
    "\n",
    "index, pmf"
   ]
  },
  {
   "cell_type": "markdown",
   "metadata": {
    "collapsed": true
   },
   "source": [
    "Similar results :D .. \n",
    "\n",
    "There in python the pmf resulted from the built in function is also .. \n",
    "\n",
    "{20: 0.16666666666666666,\n",
    " 25: 0.3333333333333333,\n",
    " 30: 0.16666666666666666,\n",
    " 35: 0.16666666666666666,\n",
    " 40: 0.16666666666666666}"
   ]
  },
  {
   "cell_type": "markdown",
   "metadata": {},
   "source": [
    "Let's plot to demonestrate the ditribution of the whole pmf .. "
   ]
  },
  {
   "cell_type": "code",
   "execution_count": 23,
   "metadata": {
    "collapsed": false
   },
   "outputs": [
    {
     "data": {
      "text/html": [
       "<script src=\"/home/eman/.julia/v0.5/Plots/src/backends/../../deps/plotly-latest.min.js\"></script>    <div id=\"8bc47aa7-bd11-4aea-8f6d-1d8b243d9e6b\" style=\"width:600px;height:400px;\"></div>\n",
       "    <script>\n",
       "    PLOT = document.getElementById('8bc47aa7-bd11-4aea-8f6d-1d8b243d9e6b');\n",
       "    Plotly.plot(PLOT, [{\"yaxis\":\"y\",\"y\":[0.16666666666666666,0.3333333333333333,0.16666666666666666,0.16666666666666666,0.16666666666666666],\"showlegend\":true,\"name\":\"y1\",\"type\":\"bar\",\"xaxis\":\"x\",\"orientation\":\"v\",\"x\":[20.0,25.0,35.0,40.0,30.0],\"marker\":{\"color\":\"rgba(0, 154, 250, 1.000)\"}}], {\"yaxis\":{\"type\":\"-\",\"titlefont\":{\"size\":15,\"color\":\"rgba(0, 0, 0, 1.000)\",\"family\":\"sans-serif\"},\"title\":\"\",\"tickfont\":{\"size\":11,\"color\":\"rgba(0, 0, 0, 1.000)\",\"family\":\"sans-serif\"},\"ticks\":\"inside\",\"tickmode\":\"array\",\"showgrid\":true,\"tickvals\":[0.0,0.1,0.2,0.30000000000000004],\"domain\":[0.03762029746281716,0.9901574803149606],\"ticktext\":[\"0.0\",\"0.1\",\"0.2\",\"0.3\"],\"tickangle\":0,\"zeroline\":false,\"linecolor\":\"rgba(0, 0, 0, 1.000)\",\"tickcolor\":\"rgba(0, 0, 0, 1.000)\",\"anchor\":\"x\"},\"annotations\":[],\"width\":600,\"plot_bgcolor\":\"rgba(255, 255, 255, 1.000)\",\"showlegend\":true,\"legend\":{\"bgcolor\":\"rgba(255, 255, 255, 1.000)\",\"y\":1.0,\"font\":{\"size\":11,\"color\":\"rgba(0, 0, 0, 1.000)\",\"family\":\"sans-serif\"},\"bordercolor\":\"rgba(0, 0, 0, 1.000)\",\"x\":1.0},\"xaxis\":{\"type\":\"-\",\"titlefont\":{\"size\":15,\"color\":\"rgba(0, 0, 0, 1.000)\",\"family\":\"sans-serif\"},\"title\":\"\",\"tickfont\":{\"size\":11,\"color\":\"rgba(0, 0, 0, 1.000)\",\"family\":\"sans-serif\"},\"ticks\":\"inside\",\"tickmode\":\"array\",\"showgrid\":true,\"tickvals\":[20.0,30.0,40.0],\"domain\":[0.05100612423447069,0.9934383202099737],\"ticktext\":[\"20\",\"30\",\"40\"],\"tickangle\":0,\"zeroline\":false,\"linecolor\":\"rgba(0, 0, 0, 1.000)\",\"tickcolor\":\"rgba(0, 0, 0, 1.000)\",\"anchor\":\"y\"},\"paper_bgcolor\":\"rgba(255, 255, 255, 1.000)\",\"height\":400,\"margin\":{\"r\":0,\"l\":0,\"b\":0,\"t\":20}});\n",
       "    </script>\n"
      ]
     },
     "execution_count": 23,
     "metadata": {},
     "output_type": "execute_result"
    }
   ],
   "source": [
    "# bar!(all_pmf)\n",
    "bar(index, pmf)\n",
    "# x\n",
    "# ylabel(\"y\")"
   ]
  },
  {
   "cell_type": "markdown",
   "metadata": {},
   "source": [
    "## Is bar chart is the best choice ?! .. \n",
    "\n",
    "- We usually plot the probability density function for a continuous distribution as a curve or overlaid curves for multiple densities\n",
    "\n",
    "- A probability mass function for a discrete distibution is usually plotted as vertical bars. \n",
    "\n",
    "Reference ==> http://www.stat.wisc.edu/~st471-1/lectures/09-13.pdf"
   ]
  },
  {
   "cell_type": "code",
   "execution_count": 6,
   "metadata": {
    "collapsed": false
   },
   "outputs": [
    {
     "data": {
      "text/plain": [
       "RemainingLifetime (generic function with 1 method)"
      ]
     },
     "execution_count": 6,
     "metadata": {},
     "output_type": "execute_result"
    }
   ],
   "source": [
    "remaining_age = []\n",
    "remaining_pmf = []\n",
    "\n",
    "function RemainingLifetime(pmf, age)\n",
    "    for (k, v) in pmf\n",
    "        if(k >= age)\n",
    "            append!(remaining_age, k)\n",
    "            append!(remaining_pmf, v/length(data))  ## incorrect ! .. pmf values have to be printed instead of 1, 1, 1\n",
    "        end\n",
    "    end\n",
    "    return remaining_age, remaining_pmf\n",
    "end"
   ]
  },
  {
   "cell_type": "code",
   "execution_count": 7,
   "metadata": {
    "collapsed": false
   },
   "outputs": [
    {
     "data": {
      "text/plain": [
       "(Any[35,40,30],Any[0.166667,0.166667,0.166667])"
      ]
     },
     "execution_count": 7,
     "metadata": {},
     "output_type": "execute_result"
    }
   ],
   "source": [
    "remaining_age, remaining_pmf = RemainingLifetime(c, 30)"
   ]
  },
  {
   "cell_type": "markdown",
   "metadata": {},
   "source": [
    "Seemingly, the function works well as its output makes sense .. \n",
    "\n",
    "As the input range is 30 .. the function returns the remaining lifetime of all values greater than 30 in the dataset .. \n",
    "\n",
    "Now, let's plot the remaininglifetime to check its distibution .. "
   ]
  },
  {
   "cell_type": "code",
   "execution_count": 15,
   "metadata": {
    "collapsed": false
   },
   "outputs": [
    {
     "data": {
      "text/html": [
       "<script src=\"/home/eman/.julia/v0.5/Plots/src/backends/../../deps/plotly-latest.min.js\"></script>    <div id=\"a3878bab-5d1f-45fd-a7f5-961e2dd1090f\" style=\"width:600px;height:400px;\"></div>\n",
       "    <script>\n",
       "    PLOT = document.getElementById('a3878bab-5d1f-45fd-a7f5-961e2dd1090f');\n",
       "    Plotly.plot(PLOT, [{\"yaxis\":\"y\",\"y\":[0.16666666666666666,0.16666666666666666,0.16666666666666666],\"showlegend\":true,\"name\":\"y1\",\"type\":\"bar\",\"xaxis\":\"x\",\"orientation\":\"v\",\"x\":[35.0,40.0,30.0],\"marker\":{\"color\":\"rgba(0, 154, 250, 1.000)\"}}], {\"yaxis\":{\"type\":\"-\",\"titlefont\":{\"size\":15,\"color\":\"rgba(0, 0, 0, 1.000)\",\"family\":\"sans-serif\"},\"title\":\"\",\"tickfont\":{\"size\":11,\"color\":\"rgba(0, 0, 0, 1.000)\",\"family\":\"sans-serif\"},\"ticks\":\"inside\",\"tickmode\":\"array\",\"showgrid\":true,\"tickvals\":[0.0,0.05,0.1,0.15000000000000002],\"domain\":[0.03762029746281716,0.9901574803149606],\"ticktext\":[\"0.00\",\"0.05\",\"0.10\",\"0.15\"],\"tickangle\":0,\"zeroline\":false,\"linecolor\":\"rgba(0, 0, 0, 1.000)\",\"tickcolor\":\"rgba(0, 0, 0, 1.000)\",\"anchor\":\"x\"},\"annotations\":[],\"width\":600,\"plot_bgcolor\":\"rgba(255, 255, 255, 1.000)\",\"showlegend\":true,\"legend\":{\"bgcolor\":\"rgba(255, 255, 255, 1.000)\",\"y\":1.0,\"font\":{\"size\":11,\"color\":\"rgba(0, 0, 0, 1.000)\",\"family\":\"sans-serif\"},\"bordercolor\":\"rgba(0, 0, 0, 1.000)\",\"x\":1.0},\"xaxis\":{\"type\":\"-\",\"titlefont\":{\"size\":15,\"color\":\"rgba(0, 0, 0, 1.000)\",\"family\":\"sans-serif\"},\"title\":\"\",\"tickfont\":{\"size\":11,\"color\":\"rgba(0, 0, 0, 1.000)\",\"family\":\"sans-serif\"},\"ticks\":\"inside\",\"tickmode\":\"array\",\"showgrid\":true,\"tickvals\":[30.0,32.5,35.0,37.5,40.0],\"domain\":[0.0658209390492855,0.9934383202099738],\"ticktext\":[\"30.0\",\"32.5\",\"35.0\",\"37.5\",\"40.0\"],\"tickangle\":0,\"zeroline\":false,\"linecolor\":\"rgba(0, 0, 0, 1.000)\",\"tickcolor\":\"rgba(0, 0, 0, 1.000)\",\"anchor\":\"y\"},\"paper_bgcolor\":\"rgba(255, 255, 255, 1.000)\",\"height\":400,\"margin\":{\"r\":0,\"l\":0,\"b\":0,\"t\":20}});\n",
       "    </script>\n"
      ]
     },
     "execution_count": 15,
     "metadata": {},
     "output_type": "execute_result"
    }
   ],
   "source": [
    "bar(remaining_age, remaining_pmf)"
   ]
  },
  {
   "cell_type": "markdown",
   "metadata": {},
   "source": [
    "## Comment:\n",
    "It's done ! .. \n",
    "\n",
    "Here PMF for the whole data is right skewed .. however, for the remaining_lifetime it has a unfirom shape .. "
   ]
  }
 ],
 "metadata": {
  "kernelspec": {
   "display_name": "Julia 0.5.0",
   "language": "julia",
   "name": "julia-0.5"
  },
  "language_info": {
   "file_extension": ".jl",
   "mimetype": "application/julia",
   "name": "julia",
   "version": "0.5.0"
  }
 },
 "nbformat": 4,
 "nbformat_minor": 0
}
