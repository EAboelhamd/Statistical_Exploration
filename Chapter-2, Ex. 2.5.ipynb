{
 "cells": [
  {
   "cell_type": "markdown",
   "metadata": {},
   "source": [
    "## Introduction: \n",
    "\n",
    "In this notebook we gonna perform some statistical analysis on pmf concept ..\n",
    "\n",
    "i.e. compute the mean and variance for pmf .. \n",
    "\n",
    "## Ex. \n",
    "Write functions called PmfMean and PmfVar that take a Pmf object and compute the mean and variance. To test these methods, check that they are consistent with the methods Mean and Var in Pmf.py"
   ]
  },
  {
   "cell_type": "code",
   "execution_count": 4,
   "metadata": {
    "collapsed": true
   },
   "outputs": [],
   "source": [
    "import Pmf\n",
    "import numpy as np\n",
    "import matplotlib.pyplot as plt\n",
    "%matplotlib inline "
   ]
  },
  {
   "cell_type": "code",
   "execution_count": 5,
   "metadata": {
    "collapsed": false
   },
   "outputs": [
    {
     "data": {
      "text/plain": [
       "[30, 20, 25, 40, 50, 25]"
      ]
     },
     "execution_count": 5,
     "metadata": {},
     "output_type": "execute_result"
    }
   ],
   "source": [
    "all_ages = [30, 20, 25, 40, 50, 25]\n",
    "all_ages"
   ]
  },
  {
   "cell_type": "code",
   "execution_count": 6,
   "metadata": {
    "collapsed": false
   },
   "outputs": [
    {
     "data": {
      "text/plain": [
       "<Pmf.Pmf at 0x7292e80>"
      ]
     },
     "execution_count": 6,
     "metadata": {},
     "output_type": "execute_result"
    }
   ],
   "source": [
    "all_ages_prob = Pmf.MakePmfFromList(all_ages)\n",
    "all_ages_prob"
   ]
  },
  {
   "cell_type": "code",
   "execution_count": 7,
   "metadata": {
    "collapsed": false
   },
   "outputs": [
    {
     "data": {
      "text/plain": [
       "<Pmf.Pmf at 0x7292e80>"
      ]
     },
     "execution_count": 7,
     "metadata": {},
     "output_type": "execute_result"
    }
   ],
   "source": [
    "all_ages_prob  ## list of pmfs "
   ]
  },
  {
   "cell_type": "code",
   "execution_count": 8,
   "metadata": {
    "collapsed": false
   },
   "outputs": [],
   "source": [
    "# ## function PmfMean (Pmf) .. returns mean \n",
    "\n",
    "def PmfMean(pmf_):\n",
    "    product = [i*j for i, j in zip(all_ages_prob.d.values(), all_ages_prob.d.keys())]\n",
    "    return sum(product)"
   ]
  },
  {
   "cell_type": "code",
   "execution_count": 9,
   "metadata": {
    "collapsed": false
   },
   "outputs": [
    {
     "data": {
      "text/plain": [
       "31.66666666666666"
      ]
     },
     "execution_count": 9,
     "metadata": {},
     "output_type": "execute_result"
    }
   ],
   "source": [
    "m = PmfMean(all_ages_prob.d)\n",
    "m"
   ]
  },
  {
   "cell_type": "markdown",
   "metadata": {},
   "source": [
    "## Comment:\n",
    "\n",
    "To double check, we have to compare the resulted mean with that one resulted from Pmf class .. "
   ]
  },
  {
   "cell_type": "code",
   "execution_count": 10,
   "metadata": {
    "collapsed": false
   },
   "outputs": [
    {
     "data": {
      "text/plain": [
       "31.66666666666666"
      ]
     },
     "execution_count": 10,
     "metadata": {},
     "output_type": "execute_result"
    }
   ],
   "source": [
    "all_ages_prob.Mean()"
   ]
  },
  {
   "cell_type": "markdown",
   "metadata": {},
   "source": [
    "The value of the mean related to the built in function matches that one claculated using the mean equation "
   ]
  },
  {
   "cell_type": "markdown",
   "metadata": {},
   "source": [
    "## Variance:"
   ]
  },
  {
   "cell_type": "code",
   "execution_count": 28,
   "metadata": {
    "collapsed": true
   },
   "outputs": [],
   "source": [
    "def PmfVar(all_ages):\n",
    "    \n",
    "    pmf_ = all_ages.values()\n",
    "    data = all_ages.keys() \n",
    "    \n",
    "    m = PmfMean(all_ages)\n",
    "\n",
    "\n",
    "    diff = np.zeros_like(data)\n",
    "    \n",
    "    for i in xrange(len(data)):\n",
    "        diff[i]= np.square(data[i] - m)\n",
    "      \n",
    "    \n",
    "    product = [i*j for i, j in zip(pmf_, diff)]\n",
    "    \n",
    "    return sum(product) "
   ]
  },
  {
   "cell_type": "code",
   "execution_count": 29,
   "metadata": {
    "collapsed": false
   },
   "outputs": [
    {
     "data": {
      "text/plain": [
       "105.16666666666664"
      ]
     },
     "execution_count": 29,
     "metadata": {},
     "output_type": "execute_result"
    }
   ],
   "source": [
    "PmfVar(all_ages_prob.d)"
   ]
  },
  {
   "cell_type": "markdown",
   "metadata": {},
   "source": [
    "Let's call the var function in Pmf class to check the results .. "
   ]
  },
  {
   "cell_type": "code",
   "execution_count": 30,
   "metadata": {
    "collapsed": false
   },
   "outputs": [
    {
     "data": {
      "text/plain": [
       "105.55555555555554"
      ]
     },
     "execution_count": 30,
     "metadata": {},
     "output_type": "execute_result"
    }
   ],
   "source": [
    "all_ages_prob.Var()"
   ]
  },
  {
   "cell_type": "markdown",
   "metadata": {},
   "source": [
    "## They are not matched !! :S "
   ]
  },
  {
   "cell_type": "code",
   "execution_count": 47,
   "metadata": {
    "collapsed": true
   },
   "outputs": [],
   "source": [
    "def PmfVar_(all_ages):\n",
    "    \n",
    "    pmf_ = all_ages.values()\n",
    "    data = all_ages.keys() \n",
    "    \n",
    "    m = PmfMean(all_ages)\n",
    "    var_ = 0.0\n",
    "\n",
    "\n",
    "    diff = np.zeros_like(data)\n",
    "    \n",
    "    for i in xrange(len(data)):\n",
    "        diff[i]= np.square(data[i] - m)\n",
    "      \n",
    "    for i in xrange(len(all_ages.values())): \n",
    "        # p * (x - mu)**2\n",
    "        var_ += all_ages.values() [i] * (all_ages.keys()[i] - m)**2\n",
    "    \n",
    "    return var_ "
   ]
  },
  {
   "cell_type": "code",
   "execution_count": 48,
   "metadata": {
    "collapsed": false
   },
   "outputs": [
    {
     "data": {
      "text/plain": [
       "105.55555555555554"
      ]
     },
     "execution_count": 48,
     "metadata": {},
     "output_type": "execute_result"
    }
   ],
   "source": [
    "PmfVar_(all_ages_prob.d)"
   ]
  },
  {
   "cell_type": "markdown",
   "metadata": {},
   "source": [
    ":D they are matching each other !! .. "
   ]
  }
 ],
 "metadata": {
  "anaconda-cloud": {},
  "kernelspec": {
   "display_name": "Python [gl-env]",
   "language": "python",
   "name": "Python [gl-env]"
  }
 },
 "nbformat": 4,
 "nbformat_minor": 0
}
