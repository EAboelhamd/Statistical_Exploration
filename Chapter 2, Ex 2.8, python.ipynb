{
 "cells": [
  {
   "cell_type": "markdown",
   "metadata": {},
   "source": [
    "## Exercise 2.8:\n",
    "Based on the results from the previous exercises, suppose you were asked to summarize what you learned about whether first babies arrive late.\n",
    "\n",
    "### Answer: \n",
    "The answer for this question will be:\n",
    "\n",
    "1. Graphially \n",
    "    - Histogarm\n",
    "    - Bar chart\n",
    "     \n",
    "     \n",
    "2. Numerically:\n",
    "    - Centeral Tendancy Measures (Mean, median, mode) \n",
    "    - Disperition measures (std, variance) \n",
    "    "
   ]
  },
  {
   "cell_type": "code",
   "execution_count": 63,
   "metadata": {
    "collapsed": false
   },
   "outputs": [],
   "source": [
    "import numpy as np\n",
    "import matplotlib.pyplot as plt\n",
    "%matplotlib inline "
   ]
  },
  {
   "cell_type": "markdown",
   "metadata": {
    "collapsed": true
   },
   "source": [
    "## 1. Graphicallly: \n",
    "\n",
    "#### 1.1. Histogram: \n",
    "\n",
    "Not applicable ==> We couldn't plot it as it is used with continous data and here we have discrete values .. \n",
    "\n",
    "#### 1.2. Bar chart:\n",
    "In Ex. 2.6 and 2.7 I already plotted different bar charts for first_babies and others data .. \n",
    "- They collectively proved that it is not necessarly for first babies to come late .. the majority of them come on time .. not only this .. \n",
    "\n",
    "- The probability of having ontime first baby < having other babies on time \n",
    "\n",
    "- The probability of having first baby late > having other babies late .. \n",
    "\n",
    "Let's showed the bar chart for both probabilities .. \n",
    "\n",
    "For simplicity, let's just take the final probabilties here instead of creating them from scratch .. "
   ]
  },
  {
   "cell_type": "code",
   "execution_count": 64,
   "metadata": {
    "collapsed": true
   },
   "outputs": [],
   "source": [
    "first_prob = [0.18241559030138227, 0.6621346023113528, 0.15544980738726488]"
   ]
  },
  {
   "cell_type": "code",
   "execution_count": 65,
   "metadata": {
    "collapsed": true
   },
   "outputs": [],
   "source": [
    "others_prob = [0.16832101372756073, 0.737909186906019, 0.09376979936642028]"
   ]
  },
  {
   "cell_type": "code",
   "execution_count": 66,
   "metadata": {
    "collapsed": false
   },
   "outputs": [
    {
     "data": {
      "image/png": "[encoded data removed]",
      "text/plain": [
       "<matplotlib.figure.Figure at 0x7f6adc707f90>"
      ]
     },
     "metadata": {},
     "output_type": "display_data"
    }
   ],
   "source": [
    "indices = [0.5,1,1.5]  #x_axis column's allignment \n",
    "\n",
    "width = np.min(np.diff(indices))/3 #optimal width\n",
    "\n",
    "fig = plt.figure()\n",
    "ax = fig.add_subplot(111)\n",
    "ax.bar(indices-width,first_prob,width,color='b',label='-Ymin')\n",
    "ax.bar(indices,others_prob,width,color='r',label='Ymax')\n",
    "ax.set_xlabel('Pregnency Type')\n",
    "ax.set_ylabel('Probability')\n",
    "plt.show()"
   ]
  },
  {
   "cell_type": "markdown",
   "metadata": {},
   "source": [
    "Taking into consideration that first_babies is represented by Blue and others by red .. \n",
    "\n",
    "The following is observed from the above figure: \n",
    "1. The probability of having early first_babies > probability of having other babies in early months .. \n",
    "2. The reverse is true regarding the (Ontime) probability .. \n",
    "3. Again, the probability of first babies to come late > probability of other babies to come late .. \n",
    "\n",
    "In general .. we can conclude by:\n",
    "- It is more likely to have your first babies and other babies ontime .. neither late nor early .. \n",
    "- You first baby has higher probability to come late than other babies .."
   ]
  },
  {
   "cell_type": "markdown",
   "metadata": {},
   "source": [
    "## Numerically:\n",
    "\n",
    "Reference back to Ex. 2.2 where we calculate centeral tendancy measures and dispersion measure for first_babies and others .. as well as Ex. 2.6 where I calculated other measurements there .. just becuase the columns are already extracted there ..  "
   ]
  },
  {
   "cell_type": "code",
   "execution_count": 67,
   "metadata": {
    "collapsed": true
   },
   "outputs": [],
   "source": [
    "## First_babies , Others \n",
    "\n",
    "Means = [38.600951733514613, 38.522914466737063] \n",
    "Modes = [39, 39]\n",
    "Medians = [39, 39]\n",
    "\n",
    "stds = [2.7915850698243911, 2.6155761106844744]\n",
    "variances = [7.7929472020664496, 6.841238390783321]"
   ]
  },
  {
   "cell_type": "code",
   "execution_count": 68,
   "metadata": {
    "collapsed": false
   },
   "outputs": [
    {
     "name": "stdout",
     "output_type": "stream",
     "text": [
      "[38.60095173351461, 38.52291446673706]\n",
      "[39, 39]\n",
      "[39, 39]\n",
      "[2.791585069824391, 2.6155761106844744]\n",
      "[7.79294720206645, 6.841238390783321]\n"
     ]
    }
   ],
   "source": [
    "print(Means)\n",
    "print(Modes)\n",
    "print(Medians)\n",
    "print(stds)\n",
    "print(variances)"
   ]
  },
  {
   "cell_type": "markdown",
   "metadata": {},
   "source": [
    "## Conclusion:\n",
    "\n",
    "- There is no strong evidance that first babies have to come late .. \n",
    "- Usually they come ontime .. however the probability of having them late is slightly higher than having other babies late."
   ]
  }
 ],
 "metadata": {
  "kernelspec": {
   "display_name": "Python 2",
   "language": "python",
   "name": "python2"
  },
  "language_info": {
   "codemirror_mode": {
    "name": "ipython",
    "version": 2
   },
   "file_extension": ".py",
   "mimetype": "text/x-python",
   "name": "python",
   "nbconvert_exporter": "python",
   "pygments_lexer": "ipython2",
   "version": "2.7.12"
  }
 },
 "nbformat": 4,
 "nbformat_minor": 0
}
