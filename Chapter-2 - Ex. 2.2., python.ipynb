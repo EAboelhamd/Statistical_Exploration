{
 "cells": [
  {
   "cell_type": "markdown",
   "metadata": {},
   "source": [
    "## Introduction: \n",
    "\n",
    "This notebook is devoted to the 3rd question in Chapter-1, regarding Pregnencies data exploration .. \n",
    "\n",
    "The website for the textbook provides code to process the data (called Survey.py) and we gonna use it in this exercice .. \n",
    "\n",
    "http://greenteapress.com/thinkstats/survey.py\n",
    "\n",
    "and first.py \n",
    "\n",
    "http://greenteapress.com/thinkstats/first.py\n",
    "\n",
    "\n",
    "Reusing code from survey.py and first.py, compute the standard deviation of gestation time for first babies and others. \n",
    "\n",
    "Does it look like the spread is the same for the two groups?\n",
    "\n",
    "How big is the difference in the means compared to these standard deviations? What does this comparison suggest about the statistical significance of the difference?"
   ]
  },
  {
   "cell_type": "code",
   "execution_count": 72,
   "metadata": {
    "collapsed": false
   },
   "outputs": [],
   "source": [
    "import survey\n",
    "import first\n",
    "import numpy as np\n",
    "import pandas as pd\n",
    "import matplotlib.pyplot as plt\n",
    "%matplotlib inline"
   ]
  },
  {
   "cell_type": "code",
   "execution_count": 43,
   "metadata": {
    "collapsed": false
   },
   "outputs": [
    {
     "data": {
      "text/plain": [
       "(<survey.Pregnancies at 0x7f55eb66c7d0>,\n",
       " <survey.Pregnancies at 0x7f55eaf920d0>,\n",
       " <survey.Pregnancies at 0x7f55eaf92110>)"
      ]
     },
     "execution_count": 43,
     "metadata": {},
     "output_type": "execute_result"
    }
   ],
   "source": [
    "t = first.MakeTables()\n",
    "t[0], t[1], t[2]"
   ]
  },
  {
   "cell_type": "code",
   "execution_count": 44,
   "metadata": {
    "collapsed": false
   },
   "outputs": [
    {
     "data": {
      "text/plain": [
       "(13593, 4413, 4735)"
      ]
     },
     "execution_count": 44,
     "metadata": {},
     "output_type": "execute_result"
    }
   ],
   "source": [
    "original_table = t[0]\n",
    "firsts_table = t[1]\n",
    "others_table = t[2]\n",
    "\n",
    "len(original_table), len(firsts_table), len(others_table) ## same results "
   ]
  },
  {
   "cell_type": "markdown",
   "metadata": {},
   "source": [
    "### 1. Std for preg_length for first babies:"
   ]
  },
  {
   "cell_type": "code",
   "execution_count": 62,
   "metadata": {
    "collapsed": false
   },
   "outputs": [],
   "source": [
    "first_ = np.zeros([len(firsts_table.records), 1])\n",
    "\n",
    "for i in xrange(len(firsts_table.records)):\n",
    "     first_[i] = firsts_table.records[i].prglength   "
   ]
  },
  {
   "cell_type": "code",
   "execution_count": 63,
   "metadata": {
    "collapsed": false
   },
   "outputs": [
    {
     "data": {
      "text/plain": [
       "array([[ 39.],\n",
       "       [ 39.],\n",
       "       [ 38.],\n",
       "       ..., \n",
       "       [ 39.],\n",
       "       [ 34.],\n",
       "       [ 39.]])"
      ]
     },
     "execution_count": 63,
     "metadata": {},
     "output_type": "execute_result"
    }
   ],
   "source": [
    "first_"
   ]
  },
  {
   "cell_type": "code",
   "execution_count": 64,
   "metadata": {
    "collapsed": false
   },
   "outputs": [
    {
     "data": {
      "text/plain": [
       "2.7915850698243911"
      ]
     },
     "execution_count": 64,
     "metadata": {},
     "output_type": "execute_result"
    }
   ],
   "source": [
    "np.std(first_) "
   ]
  },
  {
   "cell_type": "markdown",
   "metadata": {},
   "source": [
    "## Validation: \n",
    "\n"
   ]
  },
  {
   "cell_type": "code",
   "execution_count": 65,
   "metadata": {
    "collapsed": false
   },
   "outputs": [
    {
     "data": {
      "text/plain": [
       "38.600951733514613"
      ]
     },
     "execution_count": 65,
     "metadata": {},
     "output_type": "execute_result"
    }
   ],
   "source": [
    "m = np.mean(first_)\n",
    "m"
   ]
  },
  {
   "cell_type": "code",
   "execution_count": 49,
   "metadata": {
    "collapsed": false
   },
   "outputs": [],
   "source": [
    "for i in first_:\n",
    "    std_ = np.sqrt(sum(i - m)**2/(len(first_)-1))"
   ]
  },
  {
   "cell_type": "code",
   "execution_count": 50,
   "metadata": {
    "collapsed": false
   },
   "outputs": [
    {
     "data": {
      "text/plain": [
       "0.0060076922394329295"
      ]
     },
     "execution_count": 50,
     "metadata": {},
     "output_type": "execute_result"
    }
   ],
   "source": [
    "std_"
   ]
  },
  {
   "cell_type": "markdown",
   "metadata": {},
   "source": [
    ":O .. there is a huge difference between calculating std end to end and using the built in function .. \n",
    "I think this difference comes from the assumption that higher built in function results indicates that they ignore NAs in the calc, hence they are dividing in smaller n .. thus obtain large value .. \n",
    "\n",
    "I worked on the whole column with NAs cells are included in the length of the column (n) .. hence, dividing over larger n results in tiny value ! "
   ]
  },
  {
   "cell_type": "code",
   "execution_count": 51,
   "metadata": {
    "collapsed": false
   },
   "outputs": [],
   "source": [
    "first_ = pd.DataFrame(first_)"
   ]
  },
  {
   "cell_type": "code",
   "execution_count": 52,
   "metadata": {
    "collapsed": false
   },
   "outputs": [
    {
     "data": {
      "text/plain": [
       "0    0\n",
       "dtype: int64"
      ]
     },
     "execution_count": 52,
     "metadata": {},
     "output_type": "execute_result"
    }
   ],
   "source": [
    "first_.isnull().sum() ## It has not got NAs :S .. Assumption fails "
   ]
  },
  {
   "cell_type": "markdown",
   "metadata": {},
   "source": [
    "The assumption of having NAs fails .. \n",
    "however, in the documentation .. \n",
    "\n",
    "http://www.icpsr.umich.edu/nsfg6/Controller?displayPage=labelDetails&fileCode=PREG&section=&subSec=8016&srtLabel=611931\n",
    "\n",
    "They mentioned that about 9278 cases have prog_len from 27-50 weeks (around the mean value) .. \n",
    "and the rest (around only 4315 have length between 0 and 26 weeks) .. which is a little bit far from the mean value .. \n",
    "\n",
    "This might indicates that the mean best represents the data points in case no outliers exist .. \n",
    "\n",
    "mmm however, the docum. is talking about the preg_length for both first_babies and others not just first_babies !! :S \n",
    "\n",
    "I think now we can assure the results by:\n",
    "1. writing the first_ data points on excel and calc std there and check if it if close to the built in fun or not .. \n",
    "2. plot data points to vistualize the existance of outliers and check its distribtion .."
   ]
  },
  {
   "cell_type": "code",
   "execution_count": 67,
   "metadata": {
    "collapsed": false
   },
   "outputs": [],
   "source": [
    "np.savetxt('test.xlsx', first_, delimiter='\\n') "
   ]
  },
  {
   "cell_type": "markdown",
   "metadata": {},
   "source": [
    "The data has been written on excel, then the std has been calculated there .. the std value there is (2.7919014147) .. which is so close to the result of the built in function std() in python ! :S\n",
    "\n",
    "Final check is to draw these data .. "
   ]
  },
  {
   "cell_type": "code",
   "execution_count": 75,
   "metadata": {
    "collapsed": false
   },
   "outputs": [
    {
     "data": {
      "text/plain": [
       "<matplotlib.text.Text at 0x7f55e50ac950>"
      ]
     },
     "execution_count": 75,
     "metadata": {},
     "output_type": "execute_result"
    },
    {
     "data": {
      "image/png": "[encoded data removed]",
      "text/plain": [
       "<matplotlib.figure.Figure at 0x7f55e517cd50>"
      ]
     },
     "metadata": {},
     "output_type": "display_data"
    }
   ],
   "source": [
    "plt.plot(first_)\n",
    "plt.xlabel('Pregnencies')\n",
    "plt.ylabel('Number of preg. (Weeks)')"
   ]
  },
  {
   "cell_type": "markdown",
   "metadata": {},
   "source": [
    "Is the case number 2002 is an outlier ?! "
   ]
  },
  {
   "cell_type": "code",
   "execution_count": 76,
   "metadata": {
    "collapsed": false
   },
   "outputs": [
    {
     "data": {
      "text/plain": [
       "<matplotlib.text.Text at 0x7f55e501da10>"
      ]
     },
     "execution_count": 76,
     "metadata": {},
     "output_type": "execute_result"
    },
    {
     "data": {
      "image/png": "[encoded data removed]",
      "text/plain": [
       "<matplotlib.figure.Figure at 0x7f55e5029190>"
      ]
     },
     "metadata": {},
     "output_type": "display_data"
    }
   ],
   "source": [
    "plt.boxplot(first_)\n",
    "plt.xlabel('One std')\n",
    "plt.ylabel('Preg_len in weeks')"
   ]
  },
  {
   "cell_type": "markdown",
   "metadata": {},
   "source": [
    "the value of 1 means one stadanrd devation .. \n",
    "\n",
    "the data is nearly normaly distributed .. however, the data is scattered over a wide range i.e. from 17 to 50 .. \n",
    "with the majority of data below the median value (red line) .. this contradicts the documentation that states that the majority of the data is above is between 27 and 50 .. however, again we are talking here about the 1st babies only and the doc is talking about both 1st and others .. \n",
    "\n",
    "Hence, I think the built in function (and excel) results are more meaningful here with their higher std value .. due to the wide spread of these data points !"
   ]
  }
 ],
 "metadata": {
  "kernelspec": {
   "display_name": "Python 2",
   "language": "python",
   "name": "python2"
  },
  "language_info": {
   "codemirror_mode": {
    "name": "ipython",
    "version": 2
   },
   "file_extension": ".py",
   "mimetype": "text/x-python",
   "name": "python",
   "nbconvert_exporter": "python",
   "pygments_lexer": "ipython2",
   "version": "2.7.12"
  }
 },
 "nbformat": 4,
 "nbformat_minor": 0
}
