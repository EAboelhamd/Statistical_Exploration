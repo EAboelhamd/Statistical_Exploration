{
 "cells": [
  {
   "cell_type": "markdown",
   "metadata": {},
   "source": [
    "## Introduction: \n",
    "\n",
    "This notebook is devoted to the 3rd question in Chapter-1, regarding Pregnencies data exploration .. \n",
    "\n",
    "The website for the textbook provides code to process the data (called Survey.py) and we gonna use it in this exercice .. \n",
    "\n",
    "http://greenteapress.com/thinkstats/survey.py\n"
   ]
  },
  {
   "cell_type": "markdown",
   "metadata": {},
   "source": [
    "## Ex. 3.1 :\n",
    "\n",
    "### Printing the number of records .. "
   ]
  },
  {
   "cell_type": "markdown",
   "metadata": {},
   "source": [
    "In this exercise you will write a program to explore the sata in the Pregnancies table. \n",
    "\n",
    "1. In the directory where you put survey.py and the data files, create file named first.py and type or paste in the following code and check the results: \n",
    "\n",
    "        import survey\n",
    "\n",
    "        table = survey.Pregnancies()\n",
    "\n",
    "        table.ReadRecords()\n",
    "\n",
    "        print 'Number of pregnancies: ', len(table.records)"
   ]
  },
  {
   "cell_type": "code",
   "execution_count": 68,
   "metadata": {
    "collapsed": false
   },
   "outputs": [],
   "source": [
    "import survey\n",
    "import first\n",
    "import numpy as np\n",
    "import pandas as pd "
   ]
  },
  {
   "cell_type": "code",
   "execution_count": 69,
   "metadata": {
    "collapsed": true
   },
   "outputs": [],
   "source": [
    "table = survey.Pregnancies()"
   ]
  },
  {
   "cell_type": "code",
   "execution_count": 70,
   "metadata": {
    "collapsed": false
   },
   "outputs": [],
   "source": [
    "table.ReadRecords()"
   ]
  },
  {
   "cell_type": "code",
   "execution_count": 71,
   "metadata": {
    "collapsed": false
   },
   "outputs": [
    {
     "name": "stdout",
     "output_type": "stream",
     "text": [
      "Number of pregnancies:  13593\n"
     ]
    }
   ],
   "source": [
    "print 'Number of pregnancies: ', len(table.records)"
   ]
  },
  {
   "cell_type": "markdown",
   "metadata": {},
   "source": [
    "## Justification: \n",
    "\n",
    "These statements above print the number of records in the pregnancies file .. the result matches the output mentioned in the textbook .. "
   ]
  },
  {
   "cell_type": "markdown",
   "metadata": {},
   "source": [
    "## Ex 3.2 :\n",
    "\n",
    "\n",
    "### count alive .. \n",
    "\n",
    "Write a loop that iterates table and counts the number of live births. \n",
    "\n",
    "Find the documentation of outcome and confirm that your result is consistent with the summary in the documentation."
   ]
  },
  {
   "cell_type": "code",
   "execution_count": 72,
   "metadata": {
    "collapsed": true
   },
   "outputs": [],
   "source": [
    "data = table.GetFields()"
   ]
  },
  {
   "cell_type": "code",
   "execution_count": 73,
   "metadata": {
    "collapsed": false
   },
   "outputs": [
    {
     "data": {
      "text/plain": [
       "[('caseid', 1, 12, int),\n",
       " ('nbrnaliv', 22, 22, int),\n",
       " ('babysex', 56, 56, int),\n",
       " ('birthwgt_lb', 57, 58, int),\n",
       " ('birthwgt_oz', 59, 60, int),\n",
       " ('prglength', 275, 276, int),\n",
       " ('outcome', 277, 277, int),\n",
       " ('birthord', 278, 279, int),\n",
       " ('agepreg', 284, 287, int),\n",
       " ('finalwgt', 423, 440, float)]"
      ]
     },
     "execution_count": 73,
     "metadata": {},
     "output_type": "execute_result"
    }
   ],
   "source": [
    "data"
   ]
  },
  {
   "cell_type": "code",
   "execution_count": 74,
   "metadata": {
    "collapsed": false
   },
   "outputs": [],
   "source": [
    "## extract outcome column .. \n",
    "\n",
    "outcome_ = np.zeros([len(table.records), 1])\n",
    "\n",
    "for i in xrange(len(table.records)):\n",
    "    outcome_[i] = table.records[i].outcome"
   ]
  },
  {
   "cell_type": "code",
   "execution_count": 75,
   "metadata": {
    "collapsed": false
   },
   "outputs": [
    {
     "data": {
      "text/plain": [
       "array([[ 1.],\n",
       "       [ 1.],\n",
       "       [ 1.],\n",
       "       ..., \n",
       "       [ 2.],\n",
       "       [ 1.],\n",
       "       [ 1.]])"
      ]
     },
     "execution_count": 75,
     "metadata": {},
     "output_type": "execute_result"
    }
   ],
   "source": [
    "outcome_"
   ]
  },
  {
   "cell_type": "code",
   "execution_count": 76,
   "metadata": {
    "collapsed": true
   },
   "outputs": [],
   "source": [
    "alive = 0\n",
    "\n",
    "for baby in outcome_:\n",
    "    if (baby == 1):\n",
    "        alive = alive + 1\n",
    "    else:\n",
    "        continue "
   ]
  },
  {
   "cell_type": "code",
   "execution_count": 77,
   "metadata": {
    "collapsed": false
   },
   "outputs": [
    {
     "data": {
      "text/plain": [
       "9148"
      ]
     },
     "execution_count": 77,
     "metadata": {},
     "output_type": "execute_result"
    }
   ],
   "source": [
    "alive"
   ]
  },
  {
   "cell_type": "markdown",
   "metadata": {},
   "source": [
    "## Justification: \n",
    "\n",
    "In the documentation they menioned the folowing: \n",
    "\n",
    "    OUTCOME = Outcome of pregnancy (=1 if live birth) \n",
    "\n",
    "The above result is consistant with the documention results (that output 9148 alive babies) .. \n",
    "\n",
    "The documenantion results link ==> \n",
    "\n",
    "http://www.icpsr.umich.edu/nsfg6/Controller?displayPage=labelDetails&fileCode=PREG&section=&subSec=8014&srtLabel=611785"
   ]
  },
  {
   "cell_type": "markdown",
   "metadata": {},
   "source": [
    "## Ex 3.3 :\n",
    "\n",
    "\n",
    "### Partition the data .. \n",
    "\n",
    "Modify the loop to partition the live birth records into two groups, one for first babies and one for the others. \n",
    "\n",
    "Again, read the documentation of birthord to see if your results are consistent.\n",
    "\n",
    "==> First of all, I tried to read the file in lines and push these lines in array, convert the array to DataFrame and then partition the dataframe table into two smaller tables (one for first babies and the second one for Others) ..  "
   ]
  },
  {
   "cell_type": "code",
   "execution_count": 78,
   "metadata": {
    "collapsed": false
   },
   "outputs": [
    {
     "data": {
      "text/plain": [
       "array(['caseid', 'nbrnaliv', 'babysex', 'birthwgt_lb', 'birthwgt_oz',\n",
       "       'prglength', 'outcome', 'birthord', 'agepreg', 'finalwgt'], \n",
       "      dtype='|S11')"
      ]
     },
     "execution_count": 78,
     "metadata": {},
     "output_type": "execute_result"
    }
   ],
   "source": [
    "## read all data in dataframe .. then partition the dataframe table into two tables \n",
    "df = pd.DataFrame([])\n",
    "\n",
    "header =  [case[0] for (i, case) in enumerate(data)]  ## append, appends rows !! \n",
    "header = np.transpose(header)\n",
    "header"
   ]
  },
  {
   "cell_type": "code",
   "execution_count": null,
   "metadata": {
    "collapsed": false
   },
   "outputs": [],
   "source": [
    "Value_to_push = []\n",
    "with open(\"2002FemPreg.dat\",\"r\") as io:\n",
    "    for l in io:\n",
    "        if len(l) > 100:\n",
    "            for (i,case) in enumerate(data):\n",
    "                try: \n",
    "                    Value_to_push.append([case[3](l[case[1]:case[2]])])\n",
    "                    print(Value_to_push)\n",
    "                except ValueError: \n",
    "                    continue"
   ]
  },
  {
   "cell_type": "code",
   "execution_count": 27,
   "metadata": {
    "collapsed": false
   },
   "outputs": [],
   "source": [
    "# alive_partition = []\n",
    "# others_partition = []\n",
    "\n",
    "# for record in xrange(len(table.records)):\n",
    "#     if(table.records[record].outcome == 1):\n",
    "#         alive_partition.append(table.records[record])\n",
    "#     else:\n",
    "#         others_partition.append(table.records[record])\n",
    "\n",
    "# print(np.shape(alive_partition), np.shape(others_partition))"
   ]
  },
  {
   "cell_type": "markdown",
   "metadata": {},
   "source": [
    "## Comment: \n",
    "\n",
    "the above trail didn't work properly as append(), adds values at the end of the list .. this is help with constructing tabuler form (each new entry is seen as single value) .. \n",
    "\n",
    "I tried insert() function .. but it inserted the whole records at the end of the end of the array (each new entry is seen as record) .. \n",
    "\n",
    "Finally, I used the first.py class mentioned in the textbook, utilizing its built in function (PartitionRecords) in partitioning the data\n"
   ]
  },
  {
   "cell_type": "code",
   "execution_count": 79,
   "metadata": {
    "collapsed": false
   },
   "outputs": [
    {
     "data": {
      "text/plain": [
       "(<survey.Pregnancies at 0x7f6d32035f50>,\n",
       " <survey.Pregnancies at 0x7f6d32035f90>)"
      ]
     },
     "execution_count": 79,
     "metadata": {},
     "output_type": "execute_result"
    }
   ],
   "source": [
    "partitions = first.PartitionRecords(table)\n",
    "partitions"
   ]
  },
  {
   "cell_type": "code",
   "execution_count": 80,
   "metadata": {
    "collapsed": false
   },
   "outputs": [
    {
     "data": {
      "text/plain": [
       "(4413, 4735)"
      ]
     },
     "execution_count": 80,
     "metadata": {},
     "output_type": "execute_result"
    }
   ],
   "source": [
    "first_baby = partitions[0]\n",
    "others = partitions[1]\n",
    "len(first_baby), len(others)"
   ]
  },
  {
   "cell_type": "markdown",
   "metadata": {},
   "source": [
    "## Justification:\n",
    "\n",
    "In the documentation they mentioned that the number of first babies are: 4413 which matches the results above ..\n",
    "\n",
    "They implicitly mentioned the number of (others) babies, by listing ALL possible number of births + inapplicable values (i.e. NAs) .. by subtracting the NAs from the total number of records  we gonna obtain the number of (others) \n",
    "\n",
    "Others length = 13593 - 4445 ==> 4735\n",
    "\n",
    "http://www.icpsr.umich.edu/nsfg6/Controller?displayPage=labelDetails&fileCode=PREG&section=&subSec=8016&srtLabel=611933"
   ]
  },
  {
   "cell_type": "markdown",
   "metadata": {},
   "source": [
    "## Note:\n",
    "We still can apply the first way of thinking of dividing the big table into two smaller ones using the built in function (MakeTables) in first.py \n",
    "\n",
    "http://greenteapress.com/thinkstats/first.py\n"
   ]
  },
  {
   "cell_type": "code",
   "execution_count": 95,
   "metadata": {
    "collapsed": false
   },
   "outputs": [
    {
     "data": {
      "text/plain": [
       "(<survey.Pregnancies at 0x7f6d30c6d090>,\n",
       " <survey.Pregnancies at 0x7f6d302cab10>,\n",
       " <survey.Pregnancies at 0x7f6d302cab50>)"
      ]
     },
     "execution_count": 95,
     "metadata": {},
     "output_type": "execute_result"
    }
   ],
   "source": [
    "t = first.MakeTables()\n",
    "original_table = t[0]\n",
    "firsts_table = t[1]\n",
    "others_table = t[2]\n",
    "\n",
    "original_table, firsts_table, others_table"
   ]
  },
  {
   "cell_type": "code",
   "execution_count": 98,
   "metadata": {
    "collapsed": false
   },
   "outputs": [
    {
     "data": {
      "text/plain": [
       "(13593, 4413, 4735)"
      ]
     },
     "execution_count": 98,
     "metadata": {},
     "output_type": "execute_result"
    }
   ],
   "source": [
    "len(original_table), len(firsts_table), len(others_table) ## same results "
   ]
  },
  {
   "cell_type": "markdown",
   "metadata": {
    "collapsed": true
   },
   "source": [
    "## Ex 3.4: \n",
    "\n",
    "Compute the average pregnancy length (in weeks) for first babies and others. Is there a difference between the groups? How big is it?"
   ]
  },
  {
   "cell_type": "code",
   "execution_count": 82,
   "metadata": {
    "collapsed": false
   },
   "outputs": [
    {
     "data": {
      "text/plain": [
       "[('caseid', 1, 12, int),\n",
       " ('nbrnaliv', 22, 22, int),\n",
       " ('babysex', 56, 56, int),\n",
       " ('birthwgt_lb', 57, 58, int),\n",
       " ('birthwgt_oz', 59, 60, int),\n",
       " ('prglength', 275, 276, int),\n",
       " ('outcome', 277, 277, int),\n",
       " ('birthord', 278, 279, int),\n",
       " ('agepreg', 284, 287, int),\n",
       " ('finalwgt', 423, 440, float)]"
      ]
     },
     "execution_count": 82,
     "metadata": {},
     "output_type": "execute_result"
    }
   ],
   "source": [
    "first_baby.GetFields()"
   ]
  },
  {
   "cell_type": "code",
   "execution_count": 87,
   "metadata": {
    "collapsed": false
   },
   "outputs": [
    {
     "data": {
      "text/plain": [
       "('prglength', 275, 276, int)"
      ]
     },
     "execution_count": 87,
     "metadata": {},
     "output_type": "execute_result"
    }
   ],
   "source": [
    "first_baby.GetFields()[5] ## the preglength column data related only to first_baby "
   ]
  },
  {
   "cell_type": "code",
   "execution_count": 101,
   "metadata": {
    "collapsed": false
   },
   "outputs": [
    {
     "name": "stdout",
     "output_type": "stream",
     "text": [
      "Number of first babies 4413\n",
      "Number of others 4735\n",
      "Mean gestation in weeks:\n",
      "First babies 38.6009517335\n",
      "Others 38.5229144667\n",
      "Difference in days 0.546260867443\n"
     ]
    }
   ],
   "source": [
    "first.Summarize('/home/eman/Dr.Beltagy Pre_Phd/Session 5 - diff notebooks')"
   ]
  },
  {
   "cell_type": "markdown",
   "metadata": {},
   "source": [
    "## Comment:\n",
    "The average gestation (in weeks) between the 1st babies and others is about 0.08 which means it is not that big ! .. \n",
    "\n",
    "This is an evidance that 1st babies don't necessarly come late !! (the core question of the textbook)  "
   ]
  },
  {
   "cell_type": "markdown",
   "metadata": {},
   "source": [
    "## Justification:\n",
    "\n",
    "There is no evidance for the correctness of the above results as they didn't mention the average in the documentation ..  only number of cases corresponding to each common preg_length .. \n",
    "\n",
    "http://www.icpsr.umich.edu/nsfg6/Controller?displayPage=labelDetails&fileCode=PREG&section=&subSec=8016&srtLabel=611931\n",
    "\n",
    "Hence, I can assure the results by comparing them with the Julia (end to end) results .. "
   ]
  }
 ],
 "metadata": {
  "kernelspec": {
   "display_name": "Python 2",
   "language": "python",
   "name": "python2"
  },
  "language_info": {
   "codemirror_mode": {
    "name": "ipython",
    "version": 2
   },
   "file_extension": ".py",
   "mimetype": "text/x-python",
   "name": "python",
   "nbconvert_exporter": "python",
   "pygments_lexer": "ipython2",
   "version": "2.7.12"
  }
 },
 "nbformat": 4,
 "nbformat_minor": 0
}
