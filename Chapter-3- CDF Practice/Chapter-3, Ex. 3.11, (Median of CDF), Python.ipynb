{
 "cells": [
  {
   "cell_type": "markdown",
   "metadata": {},
   "source": [
    "## Introduction:\n",
    "\n",
    "The median is just the 50th percentile. The 25th and 75th percentiles are often used to check whether a distribution is symmetric, and their difference, which is called the interquartile range, measures the spread.\n",
    "\n",
    "### Ex.\n",
    "\n",
    "1- Write a function called Median that takes a Cdf and computes the median.\n",
    "\n",
    "2- Another one called Interquartile that computes the interquartile range.\n",
    "\n",
    "3- Compute the 25th, 50th, and 75th percentiles of the birth weight CDF. \n",
    "        Do these values suggest that the distribution is symmetric?\n"
   ]
  },
  {
   "cell_type": "code",
   "execution_count": 1,
   "metadata": {
    "collapsed": true
   },
   "outputs": [],
   "source": [
    "import numpy as np\n",
    "import Cdf"
   ]
  },
  {
   "cell_type": "markdown",
   "metadata": {},
   "source": [
    "## 1- Write a function called Median that takes a Cdf and computes the median."
   ]
  },
  {
   "cell_type": "code",
   "execution_count": 2,
   "metadata": {
    "collapsed": true
   },
   "outputs": [],
   "source": [
    "def Median (cdf):\n",
    "    med = 0 \n",
    "    n = 0\n",
    "    index = cdf.xs\n",
    "    vals = cdf.ps\n",
    "    \n",
    "    if (len(index) % 2 == 0):   ## even numbers \n",
    "        n = len(index)/2\n",
    "        med = (vals[n-1] + vals[n])/2   ## this is a zero based prog. language\n",
    "        \n",
    "    else: ## odd numbers\n",
    "        n = float(len(index))/2\n",
    "        med = vals[int(round(n-1))] \n",
    "    return med"
   ]
  },
  {
   "cell_type": "markdown",
   "metadata": {},
   "source": [
    "Let's call the function initially by small numbers (odd and even)just to test it .. \n",
    "\n",
    "\n",
    "### 1. Dataset of even length:"
   ]
  },
  {
   "cell_type": "code",
   "execution_count": 3,
   "metadata": {
    "collapsed": true
   },
   "outputs": [],
   "source": [
    "even_data = [1, 2, 3, 4]\n",
    "even_data = Cdf.MakeCdfFromList(even_data)"
   ]
  },
  {
   "cell_type": "code",
   "execution_count": 4,
   "metadata": {
    "collapsed": false
   },
   "outputs": [
    {
     "data": {
      "text/plain": [
       "[(1, 0.25), (2, 0.5), (3, 0.75), (4, 1.0)]"
      ]
     },
     "execution_count": 4,
     "metadata": {},
     "output_type": "execute_result"
    }
   ],
   "source": [
    "even_data.Items()"
   ]
  },
  {
   "cell_type": "code",
   "execution_count": 5,
   "metadata": {
    "collapsed": false
   },
   "outputs": [
    {
     "data": {
      "text/plain": [
       "0.625"
      ]
     },
     "execution_count": 5,
     "metadata": {},
     "output_type": "execute_result"
    }
   ],
   "source": [
    "Median(even_data)"
   ]
  },
  {
   "cell_type": "markdown",
   "metadata": {},
   "source": [
    "### 2. Dataset of odd length:"
   ]
  },
  {
   "cell_type": "code",
   "execution_count": 6,
   "metadata": {
    "collapsed": true
   },
   "outputs": [],
   "source": [
    "odd_data = [1, 2, 3, 4, 5]\n",
    "odd_data = Cdf.MakeCdfFromList(odd_data)"
   ]
  },
  {
   "cell_type": "code",
   "execution_count": 7,
   "metadata": {
    "collapsed": false
   },
   "outputs": [
    {
     "data": {
      "text/plain": [
       "[(1, 0.2), (2, 0.4), (3, 0.6), (4, 0.8), (5, 1.0)]"
      ]
     },
     "execution_count": 7,
     "metadata": {},
     "output_type": "execute_result"
    }
   ],
   "source": [
    "odd_data.Items()"
   ]
  },
  {
   "cell_type": "code",
   "execution_count": 8,
   "metadata": {
    "collapsed": false
   },
   "outputs": [
    {
     "data": {
      "text/plain": [
       "0.6"
      ]
     },
     "execution_count": 8,
     "metadata": {},
     "output_type": "execute_result"
    }
   ],
   "source": [
    "Median(odd_data)"
   ]
  },
  {
   "cell_type": "markdown",
   "metadata": {},
   "source": [
    "## Check:"
   ]
  },
  {
   "cell_type": "code",
   "execution_count": 9,
   "metadata": {
    "collapsed": false
   },
   "outputs": [
    {
     "data": {
      "text/plain": [
       "(0.625, 0.59999999999999998)"
      ]
     },
     "execution_count": 9,
     "metadata": {},
     "output_type": "execute_result"
    }
   ],
   "source": [
    "np.median(even_data.ps), np.median(odd_data.ps)"
   ]
  },
  {
   "cell_type": "markdown",
   "metadata": {},
   "source": [
    "#### Maching ;)"
   ]
  },
  {
   "cell_type": "markdown",
   "metadata": {},
   "source": [
    "## 2- Another one called Interquartile that computes the interquartile range."
   ]
  },
  {
   "cell_type": "code",
   "execution_count": 10,
   "metadata": {
    "collapsed": true
   },
   "outputs": [],
   "source": [
    "def Interquartile(cdf):\n",
    "    index = cdf.xs\n",
    "    vals = cdf.ps\n",
    "    \n",
    "    upper_quart = vals[int(float(len(index)-1)*3/4)]  ## zero based \n",
    "    lower_quart = vals[int(float(len(index)-1)*1/4)]\n",
    "    \n",
    "    return upper_quart - lower_quart"
   ]
  },
  {
   "cell_type": "code",
   "execution_count": 11,
   "metadata": {
    "collapsed": false
   },
   "outputs": [
    {
     "data": {
      "text/plain": [
       "0.5"
      ]
     },
     "execution_count": 11,
     "metadata": {},
     "output_type": "execute_result"
    }
   ],
   "source": [
    "Interquartile(even_data)"
   ]
  },
  {
   "cell_type": "code",
   "execution_count": 12,
   "metadata": {
    "collapsed": false
   },
   "outputs": [
    {
     "data": {
      "text/plain": [
       "0.4"
      ]
     },
     "execution_count": 12,
     "metadata": {},
     "output_type": "execute_result"
    }
   ],
   "source": [
    "Interquartile(odd_data)"
   ]
  },
  {
   "cell_type": "markdown",
   "metadata": {},
   "source": [
    "## 3- Compute the 25th, 50th, and 75th percentiles of the birth weight CDF.\n",
    "\n",
    "- 25th percentile is the 1st quartile .. \n",
    "- 50th percentile is the 2nd quartile (Median)\n",
    "- 75th percentile is the 3rd quartile "
   ]
  },
  {
   "cell_type": "code",
   "execution_count": 50,
   "metadata": {
    "collapsed": true
   },
   "outputs": [],
   "source": [
    "def percentiles(cdf):\n",
    "    \n",
    "    index = cdf.xs\n",
    "    vals = cdf.ps\n",
    "    \n",
    "    third_quart = vals[int(float(len(index)-1)*3/4)]  ## zero based \n",
    "    second_quart = Median (cdf)\n",
    "    first_quart = vals[int(float(len(index)-1)*1/4)]\n",
    "           \n",
    "    return third_quart, second_quart, first_quart"
   ]
  },
  {
   "cell_type": "code",
   "execution_count": 51,
   "metadata": {
    "collapsed": false
   },
   "outputs": [
    {
     "data": {
      "text/plain": [
       "((0.8, 0.6, 0.4), (0.75, 0.625, 0.25))"
      ]
     },
     "execution_count": 51,
     "metadata": {},
     "output_type": "execute_result"
    }
   ],
   "source": [
    "percentiles(odd_data), percentiles(even_data)"
   ]
  },
  {
   "cell_type": "markdown",
   "metadata": {},
   "source": [
    "Let's prove the results by calling the built in function percentile from numpy lib. .. "
   ]
  },
  {
   "cell_type": "code",
   "execution_count": 52,
   "metadata": {
    "collapsed": false
   },
   "outputs": [
    {
     "data": {
      "text/plain": [
       "(0.80000000000000004, 0.59999999999999998, 0.40000000000000002)"
      ]
     },
     "execution_count": 52,
     "metadata": {},
     "output_type": "execute_result"
    }
   ],
   "source": [
    "np.percentile(odd_data.ps, 75), np.percentile(odd_data.ps, 50), np.percentile(odd_data.ps, 25)"
   ]
  },
  {
   "cell_type": "markdown",
   "metadata": {},
   "source": [
    "Almost matching results ! "
   ]
  }
 ],
 "metadata": {
  "kernelspec": {
   "display_name": "Python 2",
   "language": "python",
   "name": "python2"
  },
  "language_info": {
   "codemirror_mode": {
    "name": "ipython",
    "version": 2
   },
   "file_extension": ".py",
   "mimetype": "text/x-python",
   "name": "python",
   "nbconvert_exporter": "python",
   "pygments_lexer": "ipython2",
   "version": "2.7.12"
  }
 },
 "nbformat": 4,
 "nbformat_minor": 0
}
