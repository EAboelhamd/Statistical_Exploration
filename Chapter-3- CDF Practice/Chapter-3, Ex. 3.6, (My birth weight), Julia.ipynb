{
 "cells": [
  {
   "cell_type": "markdown",
   "metadata": {},
   "source": [
    "## Introduction:\n",
    "\n",
    "How much did you weigh at birth? If you don’t know, call your mother or someone else who knows. Using the pooled data (all live births), compute the distribution of birth weights and use it to find your percentile rank. \n",
    "\n",
    "If you were a first baby, find your percentile rank in the distribution for first babies. Otherwise use the distribution for others. If you are in the 90th percentile or higher, call your mother back and apologize."
   ]
  },
  {
   "cell_type": "code",
   "execution_count": 1,
   "metadata": {
    "collapsed": true
   },
   "outputs": [],
   "source": [
    "using DataFrames\n",
    "using Plots"
   ]
  },
  {
   "cell_type": "markdown",
   "metadata": {},
   "source": [
    "## Columns Extraction:"
   ]
  },
  {
   "cell_type": "code",
   "execution_count": 2,
   "metadata": {
    "collapsed": false
   },
   "outputs": [
    {
     "data": {
      "text/plain": [
       "10-element Array{Tuple{String,Int64,Int64,DataType},1}:\n",
       " (\"caseid\",1,12,Int64)       \n",
       " (\"nbrnaliv\",22,22,Int64)    \n",
       " (\"babysex\",56,56,Int64)     \n",
       " (\"birthwgt_lb\",57,58,Int64) \n",
       " (\"birthwgt_oz\",59,60,Int64) \n",
       " (\"prglength\",275,276,Int64) \n",
       " (\"outcome\",277,277,Int64)   \n",
       " (\"birthord\",278,279,Int64)  \n",
       " (\"agepreg\",284,287,Int64)   \n",
       " (\"finalwgt\",423,440,Float64)"
      ]
     },
     "execution_count": 2,
     "metadata": {},
     "output_type": "execute_result"
    }
   ],
   "source": [
    "data = [(\"caseid\",1,12,Int), (\"nbrnaliv\",22,22,Int),(\"babysex\",56,56,Int), (\"birthwgt_lb\",57,58,Int),(\"birthwgt_oz\",59,60,Int), (\"prglength\", 275,276,Int), (\"outcome\", 277,277, Int), (\"birthord\",278,279,Int), (\"agepreg\", 284,287,Int), (\"finalwgt\",423,440,Float64)]"
   ]
  },
  {
   "cell_type": "code",
   "execution_count": 3,
   "metadata": {
    "collapsed": false
   },
   "outputs": [
    {
     "data": {
      "text/html": [
       "<table class=\"data-frame\"><thead><tr><th></th></tr></thead><tbody></tbody></table>"
      ],
      "text/plain": [
       "0×0 DataFrames.DataFrame\n"
      ]
     },
     "execution_count": 3,
     "metadata": {},
     "output_type": "execute_result"
    }
   ],
   "source": [
    "df_=DataFrame()"
   ]
  },
  {
   "cell_type": "code",
   "execution_count": 4,
   "metadata": {
    "collapsed": false
   },
   "outputs": [
    {
     "data": {
      "text/plain": [
       "10-element Array{Array{T,1},1}:\n",
       " Int64[]  \n",
       " Int64[]  \n",
       " Int64[]  \n",
       " Int64[]  \n",
       " Int64[]  \n",
       " Int64[]  \n",
       " Int64[]  \n",
       " Int64[]  \n",
       " Int64[]  \n",
       " Float64[]"
      ]
     },
     "execution_count": 4,
     "metadata": {},
     "output_type": "execute_result"
    }
   ],
   "source": [
    "map(x->df_[Symbol(x[1])]=Vector{x[4]}(0),data)"
   ]
  },
  {
   "cell_type": "code",
   "execution_count": 5,
   "metadata": {
    "collapsed": true
   },
   "outputs": [],
   "source": [
    "open(\"2002FemPreg.dat\",\"r\") do io\n",
    "    for l in eachline(io)\n",
    "        if length(l)>100\n",
    "            for (i,case) in enumerate(data)\n",
    "                val2push=\n",
    "                try \n",
    "                    parse(case[4],l[case[2]:case[3]])\n",
    "                catch \n",
    "                    NA\n",
    "                end\n",
    "                push!(df_[Symbol(case[1])],val2push)\n",
    "          end\n",
    "      end\n",
    "    end\n",
    "end"
   ]
  },
  {
   "cell_type": "code",
   "execution_count": 6,
   "metadata": {
    "collapsed": false
   },
   "outputs": [
    {
     "data": {
      "text/html": [
       "<table class=\"data-frame\"><thead><tr><th></th><th>caseid</th><th>nbrnaliv</th><th>babysex</th><th>birthwgt_lb</th><th>birthwgt_oz</th><th>prglength</th><th>outcome</th><th>birthord</th><th>agepreg</th><th>finalwgt</th></tr></thead><tbody><tr><th>1</th><td>1</td><td>1</td><td>1</td><td>8</td><td>13</td><td>39</td><td>1</td><td>1</td><td>3316</td><td>6448.271111704751</td></tr><tr><th>2</th><td>1</td><td>1</td><td>2</td><td>7</td><td>14</td><td>39</td><td>1</td><td>2</td><td>3925</td><td>6448.271111704751</td></tr><tr><th>3</th><td>2</td><td>3</td><td>1</td><td>9</td><td>2</td><td>39</td><td>1</td><td>1</td><td>1433</td><td>12999.542264385902</td></tr><tr><th>4</th><td>2</td><td>1</td><td>2</td><td>7</td><td>0</td><td>39</td><td>1</td><td>2</td><td>1783</td><td>12999.542264385902</td></tr><tr><th>5</th><td>2</td><td>1</td><td>2</td><td>6</td><td>3</td><td>39</td><td>1</td><td>3</td><td>1833</td><td>12999.542264385902</td></tr><tr><th>6</th><td>6</td><td>1</td><td>1</td><td>8</td><td>9</td><td>38</td><td>1</td><td>1</td><td>2700</td><td>8874.440799222995</td></tr><tr><th>7</th><td>6</td><td>1</td><td>2</td><td>9</td><td>9</td><td>40</td><td>1</td><td>2</td><td>2883</td><td>8874.440799222995</td></tr><tr><th>8</th><td>6</td><td>1</td><td>2</td><td>8</td><td>6</td><td>42</td><td>1</td><td>3</td><td>3016</td><td>8874.440799222995</td></tr><tr><th>9</th><td>7</td><td>1</td><td>1</td><td>7</td><td>9</td><td>39</td><td>1</td><td>1</td><td>2808</td><td>6911.879920534536</td></tr><tr><th>10</th><td>7</td><td>1</td><td>2</td><td>6</td><td>10</td><td>35</td><td>1</td><td>2</td><td>3233</td><td>6911.879920534536</td></tr><tr><th>11</th><td>12</td><td>1</td><td>1</td><td>7</td><td>13</td><td>39</td><td>1</td><td>1</td><td>2575</td><td>6909.331618252927</td></tr><tr><th>12</th><td>14</td><td>1</td><td>2</td><td>7</td><td>0</td><td>39</td><td>1</td><td>1</td><td>2300</td><td>3039.904507096879</td></tr><tr><th>13</th><td>14</td><td>1</td><td>1</td><td>4</td><td>0</td><td>37</td><td>1</td><td>2</td><td>2458</td><td>3039.904507096879</td></tr><tr><th>14</th><td>14</td><td>NA</td><td>NA</td><td>NA</td><td>NA</td><td>9</td><td>2</td><td>NA</td><td>2983</td><td>3039.904507096879</td></tr><tr><th>15</th><td>15</td><td>NA</td><td>NA</td><td>NA</td><td>NA</td><td>3</td><td>4</td><td>NA</td><td>2750</td><td>5553.495599217641</td></tr><tr><th>16</th><td>15</td><td>1</td><td>2</td><td>7</td><td>11</td><td>33</td><td>1</td><td>1</td><td>2833</td><td>5553.495599217641</td></tr><tr><th>17</th><td>15</td><td>1</td><td>2</td><td>7</td><td>8</td><td>33</td><td>1</td><td>2</td><td>3033</td><td>5553.495599217641</td></tr><tr><th>18</th><td>18</td><td>1</td><td>1</td><td>6</td><td>5</td><td>39</td><td>1</td><td>1</td><td>1891</td><td>4153.371741429463</td></tr><tr><th>19</th><td>18</td><td>NA</td><td>NA</td><td>NA</td><td>NA</td><td>5</td><td>4</td><td>NA</td><td>2783</td><td>4153.371741429463</td></tr><tr><th>20</th><td>21</td><td>1</td><td>2</td><td>8</td><td>12</td><td>41</td><td>1</td><td>1</td><td>2791</td><td>7237.122630412091</td></tr><tr><th>21</th><td>21</td><td>1</td><td>2</td><td>8</td><td>3</td><td>39</td><td>1</td><td>2</td><td>3058</td><td>7237.122630412091</td></tr><tr><th>22</th><td>23</td><td>1</td><td>1</td><td>5</td><td>9</td><td>39</td><td>1</td><td>1</td><td>1891</td><td>13533.382043124135</td></tr><tr><th>23</th><td>23</td><td>NA</td><td>NA</td><td>NA</td><td>NA</td><td>8</td><td>4</td><td>NA</td><td>2708</td><td>13533.382043124135</td></tr><tr><th>24</th><td>24</td><td>1</td><td>1</td><td>6</td><td>12</td><td>39</td><td>1</td><td>1</td><td>2225</td><td>7424.840414467087</td></tr><tr><th>25</th><td>24</td><td>1</td><td>2</td><td>7</td><td>6</td><td>39</td><td>1</td><td>2</td><td>2575</td><td>7424.840414467087</td></tr><tr><th>26</th><td>24</td><td>1</td><td>1</td><td>6</td><td>13</td><td>39</td><td>1</td><td>3</td><td>2941</td><td>7424.840414467087</td></tr><tr><th>27</th><td>28</td><td>1</td><td>1</td><td>8</td><td>2</td><td>39</td><td>1</td><td>1</td><td>3266</td><td>6949.8460820623295</td></tr><tr><th>28</th><td>31</td><td>1</td><td>1</td><td>7</td><td>2</td><td>42</td><td>1</td><td>1</td><td>1883</td><td>5211.9431128540555</td></tr><tr><th>29</th><td>31</td><td>1</td><td>1</td><td>6</td><td>1</td><td>37</td><td>1</td><td>2</td><td>2083</td><td>5211.9431128540555</td></tr><tr><th>30</th><td>31</td><td>1</td><td>1</td><td>7</td><td>7</td><td>40</td><td>1</td><td>3</td><td>2166</td><td>5211.9431128540555</td></tr><tr><th>&vellip;</th><td>&vellip;</td><td>&vellip;</td><td>&vellip;</td><td>&vellip;</td><td>&vellip;</td><td>&vellip;</td><td>&vellip;</td><td>&vellip;</td><td>&vellip;</td><td>&vellip;</td></tr></tbody></table>"
      ],
      "text/plain": [
       "13593×10 DataFrames.DataFrame\n",
       "│ Row   │ caseid │ nbrnaliv │ babysex │ birthwgt_lb │ birthwgt_oz │ prglength │\n",
       "├───────┼────────┼──────────┼─────────┼─────────────┼─────────────┼───────────┤\n",
       "│ 1     │ 1      │ 1        │ 1       │ 8           │ 13          │ 39        │\n",
       "│ 2     │ 1      │ 1        │ 2       │ 7           │ 14          │ 39        │\n",
       "│ 3     │ 2      │ 3        │ 1       │ 9           │ 2           │ 39        │\n",
       "│ 4     │ 2      │ 1        │ 2       │ 7           │ 0           │ 39        │\n",
       "│ 5     │ 2      │ 1        │ 2       │ 6           │ 3           │ 39        │\n",
       "│ 6     │ 6      │ 1        │ 1       │ 8           │ 9           │ 38        │\n",
       "│ 7     │ 6      │ 1        │ 2       │ 9           │ 9           │ 40        │\n",
       "│ 8     │ 6      │ 1        │ 2       │ 8           │ 6           │ 42        │\n",
       "│ 9     │ 7      │ 1        │ 1       │ 7           │ 9           │ 39        │\n",
       "│ 10    │ 7      │ 1        │ 2       │ 6           │ 10          │ 35        │\n",
       "│ 11    │ 12     │ 1        │ 1       │ 7           │ 13          │ 39        │\n",
       "⋮\n",
       "│ 13582 │ 12568  │ 1        │ 1       │ 6           │ 6           │ 39        │\n",
       "│ 13583 │ 12568  │ NA       │ NA      │ NA          │ NA          │ 3         │\n",
       "│ 13584 │ 12569  │ NA       │ NA      │ NA          │ NA          │ 17        │\n",
       "│ 13585 │ 12569  │ 1        │ 2       │ 6           │ 6           │ 34        │\n",
       "│ 13586 │ 12570  │ NA       │ NA      │ NA          │ NA          │ 9         │\n",
       "│ 13587 │ 12570  │ NA       │ NA      │ NA          │ NA          │ 9         │\n",
       "│ 13588 │ 12570  │ NA       │ NA      │ NA          │ NA          │ 9         │\n",
       "│ 13589 │ 12571  │ 1        │ 1       │ 6           │ 3           │ 39        │\n",
       "│ 13590 │ 12571  │ NA       │ NA      │ NA          │ NA          │ 6         │\n",
       "│ 13591 │ 12571  │ NA       │ NA      │ NA          │ NA          │ 5         │\n",
       "│ 13592 │ 12571  │ 1        │ 1       │ 7           │ 8           │ 39        │\n",
       "│ 13593 │ 12571  │ 1        │ 1       │ 7           │ 8           │ 39        │\n",
       "\n",
       "│ Row   │ outcome │ birthord │ agepreg │ finalwgt │\n",
       "├───────┼─────────┼──────────┼─────────┼──────────┤\n",
       "│ 1     │ 1       │ 1        │ 3316    │ 6448.27  │\n",
       "│ 2     │ 1       │ 2        │ 3925    │ 6448.27  │\n",
       "│ 3     │ 1       │ 1        │ 1433    │ 12999.5  │\n",
       "│ 4     │ 1       │ 2        │ 1783    │ 12999.5  │\n",
       "│ 5     │ 1       │ 3        │ 1833    │ 12999.5  │\n",
       "│ 6     │ 1       │ 1        │ 2700    │ 8874.44  │\n",
       "│ 7     │ 1       │ 2        │ 2883    │ 8874.44  │\n",
       "│ 8     │ 1       │ 3        │ 3016    │ 8874.44  │\n",
       "│ 9     │ 1       │ 1        │ 2808    │ 6911.88  │\n",
       "│ 10    │ 1       │ 2        │ 3233    │ 6911.88  │\n",
       "│ 11    │ 1       │ 1        │ 2575    │ 6909.33  │\n",
       "⋮\n",
       "│ 13582 │ 1       │ 1        │ 3066    │ 7772.21  │\n",
       "│ 13583 │ 5       │ NA       │ 3325    │ 7772.21  │\n",
       "│ 13584 │ 2       │ NA       │ 2366    │ 5075.16  │\n",
       "│ 13585 │ 1       │ 1        │ 2691    │ 5075.16  │\n",
       "│ 13586 │ 2       │ NA       │ 2141    │ 11325.0  │\n",
       "│ 13587 │ 2       │ NA       │ 2241    │ 11325.0  │\n",
       "│ 13588 │ 2       │ NA       │ 2341    │ 11325.0  │\n",
       "│ 13589 │ 1       │ 1        │ 1791    │ 6269.2   │\n",
       "│ 13590 │ 2       │ NA       │ 1850    │ 6269.2   │\n",
       "│ 13591 │ 2       │ NA       │ 1975    │ 6269.2   │\n",
       "│ 13592 │ 1       │ 2        │ 2158    │ 6269.2   │\n",
       "│ 13593 │ 1       │ 3        │ 2158    │ 6269.2   │"
      ]
     },
     "execution_count": 6,
     "metadata": {},
     "output_type": "execute_result"
    }
   ],
   "source": [
    "df_"
   ]
  },
  {
   "cell_type": "code",
   "execution_count": 44,
   "metadata": {
    "collapsed": false
   },
   "outputs": [
    {
     "data": {
      "text/plain": [
       "4706-element Array{Int64,1}:\n",
       " 14\n",
       "  0\n",
       "  3\n",
       "  9\n",
       "  6\n",
       " 10\n",
       "  0\n",
       "  8\n",
       "  3\n",
       "  6\n",
       " 13\n",
       "  1\n",
       "  7\n",
       "  ⋮\n",
       "  2\n",
       "  8\n",
       " 14\n",
       " 11\n",
       " 10\n",
       " 11\n",
       "  0\n",
       " 13\n",
       "  2\n",
       "  0\n",
       "  8\n",
       "  8"
      ]
     },
     "execution_count": 44,
     "metadata": {},
     "output_type": "execute_result"
    }
   ],
   "source": [
    "first_ = Int[]\n",
    "others_ = Int[]\n",
    "\n",
    "for i = 1:size(df_)[1]\n",
    "    if(df_[i, 7] == 1)\n",
    "        try\n",
    "            if (df_[i, 8] == 1)\n",
    "                push!(first_, df_[i, 5])\n",
    "            else\n",
    "                push!(others_, df_[i, 5])\n",
    "            end\n",
    "        catch \n",
    "            NA\n",
    "        end\n",
    "    end\n",
    "end\n",
    "first_  # 4413 .. correct :D .. these are the alive, 1st babies .. \n",
    "others_"
   ]
  },
  {
   "cell_type": "markdown",
   "metadata": {},
   "source": [
    "## Calculating CDFs:\n",
    "\n",
    "### 1. First babies:"
   ]
  },
  {
   "cell_type": "code",
   "execution_count": 45,
   "metadata": {
    "collapsed": false
   },
   "outputs": [
    {
     "data": {
      "text/plain": [
       "Dict{Int64,Int64} with 18 entries:\n",
       "  2  => 286\n",
       "  98 => 1\n",
       "  11 => 296\n",
       "  0  => 417\n",
       "  9  => 247\n",
       "  7  => 258\n",
       "  10 => 246\n",
       "  8  => 374\n",
       "  6  => 353\n",
       "  4  => 234\n",
       "  3  => 276\n",
       "  5  => 250\n",
       "  13 => 243\n",
       "  14 => 225\n",
       "  99 => 17\n",
       "  15 => 192\n",
       "  12 => 274\n",
       "  1  => 192"
      ]
     },
     "execution_count": 45,
     "metadata": {},
     "output_type": "execute_result"
    }
   ],
   "source": [
    "c = countmap(first_)  ## Data dictionary for first babies .."
   ]
  },
  {
   "cell_type": "code",
   "execution_count": 46,
   "metadata": {
    "collapsed": false
   },
   "outputs": [
    {
     "name": "stderr",
     "output_type": "stream",
     "text": [
      "WARNING: Method definition calc_cdf(Any) in module Main at In[40]:3 overwritten at In[46]:3.\n"
     ]
    },
    {
     "data": {
      "text/plain": [
       "calc_cdf (generic function with 1 method)"
      ]
     },
     "execution_count": 46,
     "metadata": {},
     "output_type": "execute_result"
    }
   ],
   "source": [
    "## calc cdf\n",
    "function calc_cdf(c) # c is a data dict\n",
    "    runsum = 0\n",
    "    xs = []\n",
    "    cs = []\n",
    "\n",
    "    for (value, count) in sort(c)\n",
    "        runsum = runsum + count\n",
    "        push!(xs, value)\n",
    "        push!(cs, runsum)\n",
    "    end\n",
    "\n",
    "    total = float(runsum)\n",
    "    cdf = [c/total for c in cs]   ## cdf[end] = 1, ps carrried cdf\n",
    "    \n",
    "    return xs, cdf\n",
    "end"
   ]
  },
  {
   "cell_type": "code",
   "execution_count": 47,
   "metadata": {
    "collapsed": false
   },
   "outputs": [
    {
     "data": {
      "text/plain": [
       "(Any[0,1,2,3,4,5,6,7,8,9,10,11,12,13,14,15,98,99],[0.0951837,0.139009,0.204291,0.267291,0.320703,0.377768,0.458343,0.517234,0.602602,0.658982,0.715134,0.782698,0.845241,0.900708,0.952066,0.995891,0.99612,1.0])"
      ]
     },
     "execution_count": 47,
     "metadata": {},
     "output_type": "execute_result"
    }
   ],
   "source": [
    "k, v = calc_cdf(c)"
   ]
  },
  {
   "cell_type": "code",
   "execution_count": 48,
   "metadata": {
    "collapsed": false
   },
   "outputs": [
    {
     "data": {
      "text/html": [
       "<script src=\"/home/eman/.julia/v0.5/Plots/src/backends/../../deps/plotly-latest.min.js\"></script>    <div id=\"58b20e48-9319-42f6-a22b-ecb8aed38e11\" style=\"width:600px;height:400px;\"></div>\n",
       "    <script>\n",
       "    PLOT = document.getElementById('58b20e48-9319-42f6-a22b-ecb8aed38e11');\n",
       "    Plotly.plot(PLOT, [{\"yaxis\":\"y\",\"y\":[0.0951837480027391,0.13900935859392832,0.2042912577037206,0.2672905729285551,0.320703035836567,0.3777676329605113,0.45834284409952064,0.5172335083314312,0.6026021456288518,0.6589819675873089,0.7151335311572701,0.7826980141520201,0.8452408125998631,0.9007076010043369,0.9520657384158868,0.995891349007076,0.9961196073955718,1.0],\"showlegend\":true,\"name\":\"y1\",\"type\":\"scatter\",\"xaxis\":\"x\",\"line\":{\"width\":1,\"dash\":\"solid\",\"color\":\"rgba(0, 154, 250, 1.000)\",\"shape\":\"linear\"},\"x\":[0.0,1.0,2.0,3.0,4.0,5.0,6.0,7.0,8.0,9.0,10.0,11.0,12.0,13.0,14.0,15.0,98.0,99.0],\"mode\":\"lines\"}], {\"yaxis\":{\"type\":\"-\",\"titlefont\":{\"size\":15,\"color\":\"rgba(0, 0, 0, 1.000)\",\"family\":\"sans-serif\"},\"title\":\"CDFs\",\"tickfont\":{\"size\":11,\"color\":\"rgba(0, 0, 0, 1.000)\",\"family\":\"sans-serif\"},\"ticks\":\"inside\",\"tickmode\":\"array\",\"showgrid\":true,\"tickvals\":[0.25,0.5,0.75,1.0],\"domain\":[0.07581474190726165,0.9901574803149606],\"ticktext\":[\"0.25\",\"0.50\",\"0.75\",\"1.00\"],\"tickangle\":0,\"zeroline\":false,\"linecolor\":\"rgba(0, 0, 0, 1.000)\",\"tickcolor\":\"rgba(0, 0, 0, 1.000)\",\"anchor\":\"x\"},\"annotations\":[],\"width\":600,\"plot_bgcolor\":\"rgba(255, 255, 255, 1.000)\",\"showlegend\":true,\"legend\":{\"bgcolor\":\"rgba(255, 255, 255, 1.000)\",\"y\":1.0,\"font\":{\"size\":11,\"color\":\"rgba(0, 0, 0, 1.000)\",\"family\":\"sans-serif\"},\"bordercolor\":\"rgba(0, 0, 0, 1.000)\",\"x\":1.0},\"xaxis\":{\"type\":\"-\",\"titlefont\":{\"size\":15,\"color\":\"rgba(0, 0, 0, 1.000)\",\"family\":\"sans-serif\"},\"title\":\"Firsts\",\"tickfont\":{\"size\":11,\"color\":\"rgba(0, 0, 0, 1.000)\",\"family\":\"sans-serif\"},\"ticks\":\"inside\",\"tickmode\":\"array\",\"showgrid\":true,\"tickvals\":[0.0,25.0,50.0,75.0],\"domain\":[0.09128390201224845,0.9934383202099738],\"ticktext\":[\"0\",\"25\",\"50\",\"75\"],\"tickangle\":0,\"zeroline\":false,\"linecolor\":\"rgba(0, 0, 0, 1.000)\",\"tickcolor\":\"rgba(0, 0, 0, 1.000)\",\"anchor\":\"y\"},\"paper_bgcolor\":\"rgba(255, 255, 255, 1.000)\",\"height\":400,\"margin\":{\"r\":0,\"l\":0,\"b\":0,\"t\":20}});\n",
       "    </script>\n"
      ]
     },
     "execution_count": 48,
     "metadata": {},
     "output_type": "execute_result"
    }
   ],
   "source": [
    "plot(k, v)\n",
    "xlabel!(\"Firsts\")\n",
    "ylabel!(\"CDFs\")"
   ]
  },
  {
   "cell_type": "code",
   "execution_count": 49,
   "metadata": {
    "collapsed": false
   },
   "outputs": [
    {
     "data": {
      "text/plain": [
       "Dict{Int64,Int64} with 18 entries:\n",
       "  2  => 317\n",
       "  11 => 261\n",
       "  0  => 620\n",
       "  9  => 258\n",
       "  7  => 243\n",
       "  10 => 229\n",
       "  8  => 382\n",
       "  6  => 356\n",
       "  4  => 291\n",
       "  3  => 257\n",
       "  5  => 285\n",
       "  14 => 250\n",
       "  13 => 244\n",
       "  99 => 29\n",
       "  97 => 1\n",
       "  15 => 186\n",
       "  12 => 281\n",
       "  1  => 216"
      ]
     },
     "execution_count": 49,
     "metadata": {},
     "output_type": "execute_result"
    }
   ],
   "source": [
    "c_o = countmap(others_)"
   ]
  },
  {
   "cell_type": "code",
   "execution_count": 50,
   "metadata": {
    "collapsed": false
   },
   "outputs": [
    {
     "data": {
      "text/plain": [
       "(Any[0,1,2,3,4,5,6,7,8,9,10,11,12,13,14,15,97,99],[0.131747,0.177646,0.245006,0.299618,0.361453,0.422014,0.497663,0.549299,0.630472,0.685295,0.733957,0.789418,0.849129,0.900977,0.954101,0.993625,0.993838,1.0])"
      ]
     },
     "execution_count": 50,
     "metadata": {},
     "output_type": "execute_result"
    }
   ],
   "source": [
    "k_o, v_o = calc_cdf(c_o)"
   ]
  },
  {
   "cell_type": "code",
   "execution_count": 51,
   "metadata": {
    "collapsed": false
   },
   "outputs": [
    {
     "data": {
      "text/html": [
       "<script src=\"/home/eman/.julia/v0.5/Plots/src/backends/../../deps/plotly-latest.min.js\"></script>    <div id=\"e6565728-9e93-40a6-bad5-8b5ba50543f1\" style=\"width:600px;height:400px;\"></div>\n",
       "    <script>\n",
       "    PLOT = document.getElementById('e6565728-9e93-40a6-bad5-8b5ba50543f1');\n",
       "    Plotly.plot(PLOT, [{\"yaxis\":\"y\",\"y\":[0.0951837480027391,0.13900935859392832,0.2042912577037206,0.2672905729285551,0.320703035836567,0.3777676329605113,0.45834284409952064,0.5172335083314312,0.6026021456288518,0.6589819675873089,0.7151335311572701,0.7826980141520201,0.8452408125998631,0.9007076010043369,0.9520657384158868,0.995891349007076,0.9961196073955718,1.0],\"showlegend\":true,\"name\":\"y1\",\"type\":\"scatter\",\"xaxis\":\"x\",\"line\":{\"width\":1,\"dash\":\"solid\",\"color\":\"rgba(0, 154, 250, 1.000)\",\"shape\":\"linear\"},\"x\":[0.0,1.0,2.0,3.0,4.0,5.0,6.0,7.0,8.0,9.0,10.0,11.0,12.0,13.0,14.0,15.0,98.0,99.0],\"mode\":\"lines\"},{\"yaxis\":\"y\",\"y\":[0.1317467063323417,0.17764555886102848,0.24500637484062898,0.29961750956226096,0.3614534636634084,0.422014449638759,0.4976625584360391,0.5492987675308117,0.6304717382065448,0.6852953676158096,0.7339566510837229,0.7894177645558861,0.8491287717807054,0.9009774755631109,0.9541011474713132,0.9936251593710157,0.9938376540586485,1.0],\"showlegend\":true,\"name\":\"y2\",\"type\":\"scatter\",\"xaxis\":\"x\",\"line\":{\"width\":1,\"dash\":\"solid\",\"color\":\"rgba(227, 111, 71, 1.000)\",\"shape\":\"linear\"},\"x\":[0.0,1.0,2.0,3.0,4.0,5.0,6.0,7.0,8.0,9.0,10.0,11.0,12.0,13.0,14.0,15.0,97.0,99.0],\"mode\":\"lines\"}], {\"yaxis\":{\"type\":\"-\",\"titlefont\":{\"size\":15,\"color\":\"rgba(0, 0, 0, 1.000)\",\"family\":\"sans-serif\"},\"title\":\"CDFs\",\"tickfont\":{\"size\":11,\"color\":\"rgba(0, 0, 0, 1.000)\",\"family\":\"sans-serif\"},\"ticks\":\"inside\",\"tickmode\":\"array\",\"showgrid\":true,\"tickvals\":[0.25,0.5,0.75,1.0],\"domain\":[0.07581474190726165,0.9901574803149606],\"ticktext\":[\"0.25\",\"0.50\",\"0.75\",\"1.00\"],\"tickangle\":0,\"zeroline\":false,\"linecolor\":\"rgba(0, 0, 0, 1.000)\",\"tickcolor\":\"rgba(0, 0, 0, 1.000)\",\"anchor\":\"x\"},\"annotations\":[],\"width\":600,\"plot_bgcolor\":\"rgba(255, 255, 255, 1.000)\",\"showlegend\":true,\"legend\":{\"bgcolor\":\"rgba(255, 255, 255, 1.000)\",\"y\":1.0,\"font\":{\"size\":11,\"color\":\"rgba(0, 0, 0, 1.000)\",\"family\":\"sans-serif\"},\"bordercolor\":\"rgba(0, 0, 0, 1.000)\",\"x\":1.0},\"xaxis\":{\"type\":\"-\",\"titlefont\":{\"size\":15,\"color\":\"rgba(0, 0, 0, 1.000)\",\"family\":\"sans-serif\"},\"title\":\"Others'\",\"tickfont\":{\"size\":11,\"color\":\"rgba(0, 0, 0, 1.000)\",\"family\":\"sans-serif\"},\"ticks\":\"inside\",\"tickmode\":\"array\",\"showgrid\":true,\"tickvals\":[0.0,25.0,50.0,75.0],\"domain\":[0.09128390201224845,0.9934383202099738],\"ticktext\":[\"0\",\"25\",\"50\",\"75\"],\"tickangle\":0,\"zeroline\":false,\"linecolor\":\"rgba(0, 0, 0, 1.000)\",\"tickcolor\":\"rgba(0, 0, 0, 1.000)\",\"anchor\":\"y\"},\"paper_bgcolor\":\"rgba(255, 255, 255, 1.000)\",\"height\":400,\"margin\":{\"r\":0,\"l\":0,\"b\":0,\"t\":20}});\n",
       "    </script>\n"
      ]
     },
     "execution_count": 51,
     "metadata": {},
     "output_type": "execute_result"
    }
   ],
   "source": [
    "plot!(k_o, v_o)\n",
    "xlabel!(\"Others'\")\n",
    "ylabel!(\"CDFs\")"
   ]
  },
  {
   "cell_type": "markdown",
   "metadata": {
    "collapsed": true
   },
   "source": [
    "Red curve is for others, blue one is for first babies .. \n",
    "\n",
    "- The shape of the distributions looks alike that one demonestrated in the textbook .. \n",
    "\n",
    "- We can see that first babies are slightly lighter throughout the distribution, with a larger discrepancy above the mean.\n",
    "\n",
    "\n",
    "- However, I still have an issue of plotting only 50 data points compared to 200 mentioned in the textbook.. I think this makes sense as the CDF values increase to 1 then steady at 1 up to inf. hence, it makes no sense to repeat the value of 1 upto 200+ values !"
   ]
  },
  {
   "cell_type": "markdown",
   "metadata": {
    "collapsed": true
   },
   "source": [
    "## Allocating my weight on the Cdf curve:\n",
    "\n",
    "I were the first baby .. hence, I'll allocate my weight over the 1st babies curve .. and calculate my percentile rank ..  "
   ]
  },
  {
   "cell_type": "code",
   "execution_count": 52,
   "metadata": {
    "collapsed": false
   },
   "outputs": [
    {
     "name": "stderr",
     "output_type": "stream",
     "text": [
      "WARNING: Method definition Percentile_Rank(Any, Any) in module Main at In[23]:2 overwritten at In[52]:2.\n"
     ]
    },
    {
     "data": {
      "text/plain": [
       "Percentile_Rank (generic function with 1 method)"
      ]
     },
     "execution_count": 52,
     "metadata": {},
     "output_type": "execute_result"
    }
   ],
   "source": [
    "function Percentile_Rank(weights, your_weight)\n",
    "    count = 0\n",
    "    \n",
    "    for weight in weights\n",
    "        if weight <= your_weight\n",
    "            count += 1\n",
    "        end\n",
    "    end\n",
    "\n",
    "    percentile_rank = 100.0 * count / length(weights)\n",
    "    \n",
    "    return percentile_rank\n",
    "end"
   ]
  },
  {
   "cell_type": "code",
   "execution_count": 53,
   "metadata": {
    "collapsed": false
   },
   "outputs": [
    {
     "data": {
      "text/plain": [
       "71.513353115727"
      ]
     },
     "execution_count": 53,
     "metadata": {},
     "output_type": "execute_result"
    }
   ],
   "source": [
    "My_weight = 10\n",
    "perc_rank = Percentile_Rank(first_, My_weight)\n",
    "perc_rank"
   ]
  },
  {
   "cell_type": "code",
   "execution_count": null,
   "metadata": {
    "collapsed": true
   },
   "outputs": [],
   "source": []
  }
 ],
 "metadata": {
  "kernelspec": {
   "display_name": "Julia 0.5.0",
   "language": "julia",
   "name": "julia-0.5"
  },
  "language_info": {
   "file_extension": ".jl",
   "mimetype": "application/julia",
   "name": "julia",
   "version": "0.5.0"
  }
 },
 "nbformat": 4,
 "nbformat_minor": 0
}
