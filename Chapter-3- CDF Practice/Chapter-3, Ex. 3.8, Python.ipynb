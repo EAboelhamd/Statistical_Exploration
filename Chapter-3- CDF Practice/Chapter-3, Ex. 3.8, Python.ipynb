{
 "cells": [
  {
   "cell_type": "markdown",
   "metadata": {},
   "source": [
    "## Introduction:\n",
    "\n",
    "This section in the textbook is about the relative percentile rank .. \n",
    "\n",
    "### Ex:\n",
    "I recently ran the James Joyce Ramble 10K in Dedham MA. The results are available from http://coolrunning.com/results/10/ma/Apr25_27thAn_set1.shtml.\n",
    "\n",
    "1. Go to that page and find my results. I came in 97th in a field of 1633, so what is my percentile rank in the field?\n",
    "   In my division (M4049 means “male between 40 and 49 years of age”) I came in 26th out of 256. \n",
    "   What is my percentile   rank in my division? \n",
    "   \n",
    "2. If I am still running in 10 years (and I hope I am), I will be in the M5059 division. Assuming that my percentile rank in my division is the same, how much slower should I expect to be? \n",
    "\n",
    "3. I maintain a friendly rivalry with a student who is in the F2039 division. How fast does she have to run her next 10K to “beat” me in terms of percentile ranks?"
   ]
  },
  {
   "cell_type": "code",
   "execution_count": 6,
   "metadata": {
    "collapsed": false
   },
   "outputs": [],
   "source": [
    "import Cdf\n",
    "import relay\n",
    "import relay_soln\n",
    "import csv\n",
    "import Pmf\n",
    "import matplotlib.pyplot as plt\n",
    "import numpy as np\n",
    "%matplotlib inline "
   ]
  },
  {
   "cell_type": "markdown",
   "metadata": {},
   "source": [
    "## Solution Steps:\n",
    "\n",
    "1. Calc. the speed given the first age.\n",
    "2. Extract the speeds of the participants within the same age group.\n",
    "3. divide the two results to calc. the relative speeds given the input ages."
   ]
  },
  {
   "cell_type": "code",
   "execution_count": 4,
   "metadata": {
    "collapsed": true
   },
   "outputs": [],
   "source": [
    "res = relay.ReadResults()"
   ]
  },
  {
   "cell_type": "code",
   "execution_count": 12,
   "metadata": {
    "collapsed": false
   },
   "outputs": [],
   "source": [
    "speeds = relay.GetSpeeds(res)"
   ]
  },
  {
   "cell_type": "code",
   "execution_count": 8,
   "metadata": {
    "collapsed": true
   },
   "outputs": [],
   "source": [
    "cdf = Cdf.MakeCdfFromList(speeds, 'speeds')"
   ]
  },
  {
   "cell_type": "code",
   "execution_count": 13,
   "metadata": {
    "collapsed": false
   },
   "outputs": [
    {
     "data": {
      "text/plain": [
       "<matplotlib.text.Text at 0x7f2837c8a550>"
      ]
     },
     "execution_count": 13,
     "metadata": {},
     "output_type": "execute_result"
    },
    {
     "data": {
      "image/png": "[encoded data removed]",
      "text/plain": [
       "<matplotlib.figure.Figure at 0x7f283c0ac5d0>"
      ]
     },
     "metadata": {},
     "output_type": "display_data"
    }
   ],
   "source": [
    "plt.plot(cdf.xs, cdf.ps)\n",
    "plt.xlabel('Participants')\n",
    "plt.ylabel('CDF')"
   ]
  },
  {
   "cell_type": "code",
   "execution_count": 14,
   "metadata": {
    "collapsed": true
   },
   "outputs": [],
   "source": [
    "## find the percentile rank of runner .. \n",
    "\n",
    "def Percentile_Rank(scores, your_score):\n",
    "    count = 0\n",
    "    \n",
    "    for score in scores:\n",
    "        if score <= your_score:\n",
    "            count += 1\n",
    "\n",
    "    percentile_rank = 100.0 * count / len(scores)\n",
    "    \n",
    "    return percentile_rank"
   ]
  },
  {
   "cell_type": "code",
   "execution_count": 19,
   "metadata": {
    "collapsed": false
   },
   "outputs": [
    {
     "data": {
      "text/plain": [
       "('1633', '448/448', 'F2039', '2:03:26', '2:01:47', '19:36')"
      ]
     },
     "execution_count": 19,
     "metadata": {},
     "output_type": "execute_result"
    }
   ],
   "source": [
    "author_speed = speeds[-1]  \n",
    "author_speed"
   ]
  },
  {
   "cell_type": "markdown",
   "metadata": {},
   "source": [
    "To make sure that this is the desired speed .. let's find its corresponding record .. "
   ]
  },
  {
   "cell_type": "code",
   "execution_count": 20,
   "metadata": {
    "collapsed": false
   },
   "outputs": [
    {
     "data": {
      "text/plain": [
       "('1633', '448/448', 'F2039', '2:03:26', '2:01:47', '19:36')"
      ]
     },
     "execution_count": 20,
     "metadata": {},
     "output_type": "execute_result"
    }
   ],
   "source": [
    "res[-1]"
   ]
  },
  {
   "cell_type": "code",
   "execution_count": 21,
   "metadata": {
    "collapsed": false
   },
   "outputs": [
    {
     "data": {
      "text/plain": [
       "0.06265664160401002"
      ]
     },
     "execution_count": 21,
     "metadata": {},
     "output_type": "execute_result"
    }
   ],
   "source": [
    "perc_rank = Percentile_Rank(speeds, author_speed)\n",
    "perc_rank"
   ]
  },
  {
   "cell_type": "markdown",
   "metadata": {},
   "source": [
    "Resanable result .. as the rank of the author in the race was the least .. \n",
    "\n",
    "hence, all the competitors were better then him .. \n",
    "\n",
    "this is why his percentile rank was very tiny .. \n",
    "\n",
    "To assure this way of thinking .. let's calc the percentile rank of the winner (speeds[0]) ..  that is expected to be 100% .. which means that he beats 100% of the participants .. "
   ]
  },
  {
   "cell_type": "code",
   "execution_count": 23,
   "metadata": {
    "collapsed": false
   },
   "outputs": [
    {
     "data": {
      "text/plain": [
       "100.0"
      ]
     },
     "execution_count": 23,
     "metadata": {},
     "output_type": "execute_result"
    }
   ],
   "source": [
    "perc_rank = Percentile_Rank(speeds, speeds[0])\n",
    "perc_rank"
   ]
  },
  {
   "cell_type": "markdown",
   "metadata": {},
   "source": [
    "## 1. Division of M4049:"
   ]
  },
  {
   "cell_type": "code",
   "execution_count": 39,
   "metadata": {
    "collapsed": false
   },
   "outputs": [
    {
     "data": {
      "text/plain": [
       "[('1', '1/362', 'M2039', '30:43', '30:42', '4:57'),\n",
       " ('2', '2/362', 'M2039', '31:36', '31:36', '5:06'),\n",
       " ('3', '3/362', 'M2039', '31:42', '31:42', '5:07'),\n",
       " ('4', '4/362', 'M2039', '32:28', '32:27', '5:14'),\n",
       " ('5', '5/362', 'M2039', '32:52', '32:52', '5:18'),\n",
       " ('6', '6/362', 'M2039', '33:06', '33:06', '5:20'),\n",
       " ('7', '1/256', 'M4049', '33:33', '33:33', '5:24'),\n",
       " ('8', '2/256', 'M4049', '33:42', '33:42', '5:26'),\n",
       " ('9', '3/256', 'M4049', '33:54', '33:54', '5:28'),\n",
       " ('10', '7/362', 'M2039', '33:56', '33:56', '5:28')]"
      ]
     },
     "execution_count": 39,
     "metadata": {},
     "output_type": "execute_result"
    }
   ],
   "source": [
    "res = relay.ReadResults()\n",
    "res[0:10]"
   ]
  },
  {
   "cell_type": "code",
   "execution_count": 40,
   "metadata": {
    "collapsed": false
   },
   "outputs": [
    {
     "data": {
      "text/plain": [
       "'M2039'"
      ]
     },
     "execution_count": 40,
     "metadata": {},
     "output_type": "execute_result"
    }
   ],
   "source": [
    "res[2][2]  # test the desired column .. "
   ]
  },
  {
   "cell_type": "code",
   "execution_count": 48,
   "metadata": {
    "collapsed": false
   },
   "outputs": [],
   "source": [
    "M4049 = []\n",
    "for i in res:\n",
    "    if(i[:][2] == 'M4049'):\n",
    "        M4049.append(i)  # list of speeds within the input age group(unconverted)"
   ]
  },
  {
   "cell_type": "code",
   "execution_count": 50,
   "metadata": {
    "collapsed": false
   },
   "outputs": [
    {
     "data": {
      "text/plain": [
       "[11.042944785276074,\n",
       " 10.97560975609756,\n",
       " 10.81081081081081,\n",
       " 10.526315789473683,\n",
       " 9.782608695652174,\n",
       " 9.75609756097561,\n",
       " 9.677419354838712,\n",
       " 9.651474530831099,\n",
       " 9.498680738786279]"
      ]
     },
     "execution_count": 50,
     "metadata": {},
     "output_type": "execute_result"
    }
   ],
   "source": [
    "speeds_M4049 = relay.GetSpeeds(M4049)\n",
    "speeds_M4049[1:10]"
   ]
  },
  {
   "cell_type": "code",
   "execution_count": 52,
   "metadata": {
    "collapsed": false
   },
   "outputs": [
    {
     "data": {
      "text/plain": [
       "256"
      ]
     },
     "execution_count": 52,
     "metadata": {},
     "output_type": "execute_result"
    }
   ],
   "source": [
    "len(speeds_M4049)"
   ]
  },
  {
   "cell_type": "code",
   "execution_count": 54,
   "metadata": {
    "collapsed": false
   },
   "outputs": [
    {
     "data": {
      "text/plain": [
       "8.591885441527447"
      ]
     },
     "execution_count": 54,
     "metadata": {},
     "output_type": "execute_result"
    }
   ],
   "source": [
    "speeds_M4049[26] ## the author's speed .."
   ]
  },
  {
   "cell_type": "markdown",
   "metadata": {},
   "source": [
    "Let's calc. his percentile rank .. "
   ]
  },
  {
   "cell_type": "code",
   "execution_count": 57,
   "metadata": {
    "collapsed": false
   },
   "outputs": [
    {
     "data": {
      "text/plain": [
       "89.84375"
      ]
     },
     "execution_count": 57,
     "metadata": {},
     "output_type": "execute_result"
    }
   ],
   "source": [
    "perc_rank_M4049 = Percentile_Rank(speeds_M4049, speeds_M4049[26])\n",
    "perc_rank_M4049"
   ]
  },
  {
   "cell_type": "markdown",
   "metadata": {},
   "source": [
    ":D .. his percetile rank in his division is about 89.8% .. "
   ]
  },
  {
   "cell_type": "markdown",
   "metadata": {},
   "source": [
    "## 2. Division of M5059:\n",
    "\n",
    "Assuming that my percentile rank in my division is the same, how much slower should I expect to be? ..\n",
    "\n",
    "Hence, I gonna calc. the actual percentile rank for him with respect to his new age group .. and then subtract the given percentile rank from .."
   ]
  },
  {
   "cell_type": "code",
   "execution_count": 59,
   "metadata": {
    "collapsed": true
   },
   "outputs": [],
   "source": [
    "M5059 = []\n",
    "for i in res:\n",
    "    if(i[:][2] == 'M5059'):\n",
    "        M5059.append(i)  # list of speeds within the input age group(unconverted)"
   ]
  },
  {
   "cell_type": "code",
   "execution_count": 61,
   "metadata": {
    "collapsed": false
   },
   "outputs": [
    {
     "data": {
      "text/plain": [
       "[9.549071618037136,\n",
       " 9.375,\n",
       " 9.022556390977442,\n",
       " 8.955223880597014,\n",
       " 8.91089108910891,\n",
       " 8.80195599022005,\n",
       " 8.61244019138756,\n",
       " 8.49056603773585,\n",
       " 8.352668213457076]"
      ]
     },
     "execution_count": 61,
     "metadata": {},
     "output_type": "execute_result"
    }
   ],
   "source": [
    "speeds_M5059 = relay.GetSpeeds(M5059)\n",
    "speeds_M5059[1:10]"
   ]
  },
  {
   "cell_type": "code",
   "execution_count": 62,
   "metadata": {
    "collapsed": false
   },
   "outputs": [
    {
     "data": {
      "text/plain": [
       "7.843137254901961"
      ]
     },
     "execution_count": 62,
     "metadata": {},
     "output_type": "execute_result"
    }
   ],
   "source": [
    "speeds_M5059[26]  ## same speed position .. "
   ]
  },
  {
   "cell_type": "code",
   "execution_count": 63,
   "metadata": {
    "collapsed": false
   },
   "outputs": [
    {
     "data": {
      "text/plain": [
       "85.38011695906432"
      ]
     },
     "execution_count": 63,
     "metadata": {},
     "output_type": "execute_result"
    }
   ],
   "source": [
    "perc_rank_M5059 = Percentile_Rank(speeds_M5059, speeds_M5059[26])\n",
    "perc_rank_M5059"
   ]
  },
  {
   "cell_type": "markdown",
   "metadata": {},
   "source": [
    "Hence, difference is .. "
   ]
  },
  {
   "cell_type": "code",
   "execution_count": 64,
   "metadata": {
    "collapsed": false
   },
   "outputs": [
    {
     "data": {
      "text/plain": [
       "4.463633040935676"
      ]
     },
     "execution_count": 64,
     "metadata": {},
     "output_type": "execute_result"
    }
   ],
   "source": [
    "perc_rank_M4049 - perc_rank_M5059"
   ]
  },
  {
   "cell_type": "markdown",
   "metadata": {},
   "source": [
    "## Conclusion:\n",
    "\n",
    "His percentile rank is expected to be about 4.46% less than the given speed .. given his age group of 50-59 "
   ]
  },
  {
   "cell_type": "markdown",
   "metadata": {},
   "source": [
    "## 3. Division of F2039:\n",
    "\n",
    "I maintain a friendly rivalry with a student who is in the F2039 division. \n",
    "\n",
    "How fast does she have to run her next 10K to “beat” me in terms of percentile ranks?"
   ]
  },
  {
   "cell_type": "code",
   "execution_count": 65,
   "metadata": {
    "collapsed": true
   },
   "outputs": [],
   "source": [
    "## her speed .. \n",
    "\n",
    "F2039 = []\n",
    "for i in res:\n",
    "    if(i[:][2] == 'F2039'):\n",
    "        F2039.append(i)  # list of speeds within the input age group(unconverted)   "
   ]
  },
  {
   "cell_type": "code",
   "execution_count": 67,
   "metadata": {
    "collapsed": true
   },
   "outputs": [],
   "source": [
    "speeds_F2039 = relay.GetSpeeds(F2039)"
   ]
  },
  {
   "cell_type": "markdown",
   "metadata": {},
   "source": [
    "Now, I need the speed of that girl .. the point is she is the least one in the whole race .. and consiquantly, she is the least one in her age group .. "
   ]
  },
  {
   "cell_type": "code",
   "execution_count": 68,
   "metadata": {
    "collapsed": false
   },
   "outputs": [
    {
     "data": {
      "text/plain": [
       "3.0612244897959187"
      ]
     },
     "execution_count": 68,
     "metadata": {},
     "output_type": "execute_result"
    }
   ],
   "source": [
    "speeds_F2039[-1]"
   ]
  },
  {
   "cell_type": "code",
   "execution_count": 69,
   "metadata": {
    "collapsed": false
   },
   "outputs": [
    {
     "data": {
      "text/plain": [
       "0.22321428571428573"
      ]
     },
     "execution_count": 69,
     "metadata": {},
     "output_type": "execute_result"
    }
   ],
   "source": [
    "perc_rank_F2039 = Percentile_Rank(speeds_F2039, speeds_F2039[-1])\n",
    "perc_rank_F2039"
   ]
  },
  {
   "cell_type": "markdown",
   "metadata": {},
   "source": [
    "This means that her speed is better than about 22% of the competitors in her age group .. \n"
   ]
  },
  {
   "cell_type": "code",
   "execution_count": 73,
   "metadata": {
    "collapsed": false
   },
   "outputs": [
    {
     "data": {
      "text/plain": [
       "2.5620915032679736"
      ]
     },
     "execution_count": 73,
     "metadata": {},
     "output_type": "execute_result"
    }
   ],
   "source": [
    "## to calc the rate .. i have to divide the speeds .. \n",
    "speeds_M5059[26] / speeds_F2039[-1]"
   ]
  },
  {
   "cell_type": "markdown",
   "metadata": {},
   "source": [
    "This means that he is faster than her double and half .. per 1 Km ..\n",
    "\n",
    "She has to reach this speed per 1 Km to be able to beat him."
   ]
  }
 ],
 "metadata": {
  "kernelspec": {
   "display_name": "Python 2",
   "language": "python",
   "name": "python2"
  },
  "language_info": {
   "codemirror_mode": {
    "name": "ipython",
    "version": 2
   },
   "file_extension": ".py",
   "mimetype": "text/x-python",
   "name": "python",
   "nbconvert_exporter": "python",
   "pygments_lexer": "ipython2",
   "version": "2.7.12"
  }
 },
 "nbformat": 4,
 "nbformat_minor": 0
}
