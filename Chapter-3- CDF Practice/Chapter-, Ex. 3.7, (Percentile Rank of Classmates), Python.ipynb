{
 "cells": [
  {
   "cell_type": "markdown",
   "metadata": {},
   "source": [
    "## Introduction:\n",
    "\n",
    "Suppose you and your classmates compute the percentile rank of your birth weights and then compute the CDF of the percentile ranks. \n",
    "\n",
    "What do you expect it to look like? \n",
    "\n",
    "Hint: what fraction of the class do you expect to be above the median?"
   ]
  },
  {
   "cell_type": "markdown",
   "metadata": {},
   "source": [
    "## Answer:\n",
    "\n",
    "1. The CDF and Percentile rank values expected to be the same .. \n",
    "As: CDF is exactly equals to the percentile rank except that CDF is a fractional value however, percentile rank is a percentage value .. \n",
    "\n",
    "2. As the median is the 50% percentile .. hence, about 50% of the class will be below the median and thus the fraction of the class above the median = 100 - (% of the class below the median) .. \n",
    "\n",
    "Reference ==> https://stats.stackexchange.com/questions/132952/is-calculating-a-percentile-the-same-as-evaluating-a-cumulative-density-function\n",
    "\n",
    "Let's prove those answers above .. using the pregnencies dataset .. however, let's work on the whole column representing babies weights .. without dividing it to first_babies and others ..  "
   ]
  },
  {
   "cell_type": "code",
   "execution_count": 1,
   "metadata": {
    "collapsed": false
   },
   "outputs": [
    {
     "name": "stdout",
     "output_type": "stream",
     "text": [
      "score, percentile rank\n",
      "55 20.0\n",
      "66 40.0\n",
      "77 60.0\n",
      "88 80.0\n",
      "99 100.0\n",
      "\n",
      "prank, score, score\n",
      "0 55 55\n",
      "20 55 55\n",
      "25 66 66\n",
      "40 66 66\n",
      "50 77 77\n",
      "60 77 77\n",
      "75 88 88\n",
      "80 88 88\n",
      "100 99 99\n"
     ]
    },
    {
     "name": "stderr",
     "output_type": "stream",
     "text": [
      "/usr/lib/python2.7/dist-packages/matplotlib/font_manager.py:273: UserWarning: Matplotlib is building the font cache using fc-list. This may take a moment.\n",
      "  warnings.warn('Matplotlib is building the font cache using fc-list. This may take a moment.')\n"
     ]
    }
   ],
   "source": [
    "import Cdf\n",
    "import Pmf\n",
    "import numpy as np\n",
    "import random \n",
    "import score_example\n",
    "import itertools\n",
    "# import pandas as pd\n",
    "import survey\n",
    "import first\n",
    "import matplotlib.pyplot as plt\n",
    "%matplotlib inline "
   ]
  },
  {
   "cell_type": "code",
   "execution_count": 2,
   "metadata": {
    "collapsed": true
   },
   "outputs": [],
   "source": [
    "table = survey.Pregnancies()\n",
    "table.ReadRecords()\n",
    "outcome_ = np.zeros([len(table.records), 1])\n",
    "\n",
    "for i in xrange(len(table.records)):\n",
    "    outcome_[i] = table.records[i].outcome"
   ]
  },
  {
   "cell_type": "code",
   "execution_count": 3,
   "metadata": {
    "collapsed": false
   },
   "outputs": [
    {
     "data": {
      "text/plain": [
       "(<survey.Pregnancies at 0x7fd811739f50>,\n",
       " <survey.Pregnancies at 0x7fd811739f90>)"
      ]
     },
     "execution_count": 3,
     "metadata": {},
     "output_type": "execute_result"
    }
   ],
   "source": [
    "partitions = first.PartitionRecords(table)\n",
    "partitions  # divide the data to firsts, others .. "
   ]
  },
  {
   "cell_type": "code",
   "execution_count": 4,
   "metadata": {
    "collapsed": false
   },
   "outputs": [
    {
     "data": {
      "text/plain": [
       "(<survey.Pregnancies at 0x7fd8116d6090>,\n",
       " <survey.Pregnancies at 0x7fd7f5761250>,\n",
       " <survey.Pregnancies at 0x7fd7f5761290>)"
      ]
     },
     "execution_count": 4,
     "metadata": {},
     "output_type": "execute_result"
    }
   ],
   "source": [
    "## tables \n",
    "t = first.MakeTables()\n",
    "original_table = t[0]\n",
    "firsts_table = t[1]\n",
    "others_table = t[2]\n",
    "\n",
    "original_table, firsts_table, others_table"
   ]
  },
  {
   "cell_type": "code",
   "execution_count": 5,
   "metadata": {
    "collapsed": false
   },
   "outputs": [
    {
     "data": {
      "text/plain": [
       "(13593, 9148)"
      ]
     },
     "execution_count": 5,
     "metadata": {},
     "output_type": "execute_result"
    }
   ],
   "source": [
    "len(original_table), len(firsts_table) + len(others_table)"
   ]
  },
  {
   "cell_type": "markdown",
   "metadata": {},
   "source": [
    "As agreed earlier I gonna work on the whole column of weights .. and it makes more sense to work on the sum of first and others not on the whole table .. which means that we gonna concat the weight column for firsts and others as it implies that these are only alive babies .. however, the whol column contains both alive and non alive babies .. "
   ]
  },
  {
   "cell_type": "code",
   "execution_count": 19,
   "metadata": {
    "collapsed": false
   },
   "outputs": [
    {
     "data": {
      "text/plain": [
       "4413"
      ]
     },
     "execution_count": 19,
     "metadata": {},
     "output_type": "execute_result"
    }
   ],
   "source": [
    "first_baby_1 = np.zeros([len(firsts_table.records), 1]) ## oz\n",
    "first_baby_2 = np.zeros([len(firsts_table.records), 1])  ## lb\n",
    "\n",
    "for i in xrange(len(firsts_table.records)):\n",
    "    try:\n",
    "        first_baby_1[i] = firsts_table.records[i].birthwgt_oz\n",
    "        first_baby_2[i] = firsts_table.records[i].birthwgt_lb\n",
    "    except ValueError:\n",
    "        first_baby_1[i] = 0\n",
    "        first_baby_2[i] = 0\n",
    "        \n",
    "first_baby_ = first_baby_1 + first_baby_2\n",
    "len(first_baby_)"
   ]
  },
  {
   "cell_type": "code",
   "execution_count": 20,
   "metadata": {
    "collapsed": false
   },
   "outputs": [
    {
     "data": {
      "text/plain": [
       "4735"
      ]
     },
     "execution_count": 20,
     "metadata": {},
     "output_type": "execute_result"
    }
   ],
   "source": [
    "others_baby_1 = np.zeros([len(others_table.records), 1]) ## oz\n",
    "others_baby_2 = np.zeros([len(others_table.records), 1])  ## lb\n",
    "\n",
    "for i in xrange(len(firsts_table.records)):\n",
    "    try:\n",
    "        others_baby_1[i] = others_table.records[i].birthwgt_oz\n",
    "        others_baby_2[i] = others_table.records[i].birthwgt_lb\n",
    "    except ValueError:\n",
    "        others_baby_1[i] = 0\n",
    "        others_baby_2[i] = 0\n",
    "        \n",
    "others_baby_ = others_baby_1 + others_baby_2\n",
    "len(others_baby_)"
   ]
  },
  {
   "cell_type": "code",
   "execution_count": 21,
   "metadata": {
    "collapsed": false
   },
   "outputs": [
    {
     "data": {
      "text/plain": [
       "array([ 21.,  11.,  17., ...,   0.,   0.,   0.])"
      ]
     },
     "execution_count": 21,
     "metadata": {},
     "output_type": "execute_result"
    }
   ],
   "source": [
    "babies_weights_all = np.append(first_baby_, others_baby_)\n",
    "np.size(babies_weights_all)   ## reference has to be added (the website link)\n",
    "babies_weights_all"
   ]
  },
  {
   "cell_type": "markdown",
   "metadata": {},
   "source": [
    "### Percentile Ranks:"
   ]
  },
  {
   "cell_type": "code",
   "execution_count": 22,
   "metadata": {
    "collapsed": false
   },
   "outputs": [],
   "source": [
    "## let's calc the percentile rank .. \n",
    "\n",
    "def Percentile_Rank(weigths, your_weight):\n",
    "    count = 0\n",
    "    \n",
    "    for weight in weigths:\n",
    "        if weight <= your_weight:\n",
    "            count += 1\n",
    "\n",
    "    percentile_rank = 100.0 * count / len(weigths)\n",
    "    \n",
    "    return percentile_rank"
   ]
  },
  {
   "cell_type": "code",
   "execution_count": 23,
   "metadata": {
    "collapsed": false
   },
   "outputs": [
    {
     "data": {
      "text/plain": [
       "[81.30738959335373,\n",
       " 31.46042850896371,\n",
       " 25.79798863139484,\n",
       " 18.944031482291212,\n",
       " 64.28727590730215,\n",
       " 86.91517271534762,\n",
       " 25.79798863139484,\n",
       " 8.25317009182335,\n",
       " 98.27284652383034,\n",
       " 25.79798863139484]"
      ]
     },
     "execution_count": 23,
     "metadata": {},
     "output_type": "execute_result"
    }
   ],
   "source": [
    "# my_weight = int(random.choice(babies_weights_oz))\n",
    "perc_rank = []\n",
    "\n",
    "for weight in babies_weights_all:\n",
    "    perc_rank.append(Percentile_Rank(babies_weights_all, weight))\n",
    "    \n",
    "perc_rank[10:20]"
   ]
  },
  {
   "cell_type": "markdown",
   "metadata": {},
   "source": [
    "Note that this is read as a % .. i.e. 99.7% of the population have weights lower than mine .. \n",
    "\n",
    "### Now, let's calculate the CDF .. "
   ]
  },
  {
   "cell_type": "code",
   "execution_count": 24,
   "metadata": {
    "collapsed": false
   },
   "outputs": [
    {
     "data": {
      "text/plain": [
       "9148"
      ]
     },
     "execution_count": 24,
     "metadata": {},
     "output_type": "execute_result"
    }
   ],
   "source": [
    "merged = list(itertools.chain(*[babies_weights_all]))\n",
    "len(merged)"
   ]
  },
  {
   "cell_type": "code",
   "execution_count": 25,
   "metadata": {
    "collapsed": false
   },
   "outputs": [
    {
     "data": {
      "text/plain": [
       "<Cdf.Cdf at 0x7fd7f55ccb10>"
      ]
     },
     "execution_count": 25,
     "metadata": {},
     "output_type": "execute_result"
    }
   ],
   "source": [
    "cdf_babies = Cdf.MakeCdfFromList(merged)\n",
    "cdf_babies"
   ]
  },
  {
   "cell_type": "code",
   "execution_count": 26,
   "metadata": {
    "collapsed": false
   },
   "outputs": [
    {
     "data": {
      "text/plain": [
       "<matplotlib.text.Text at 0x7fd7f5788050>"
      ]
     },
     "execution_count": 26,
     "metadata": {},
     "output_type": "execute_result"
    },
    {
     "data": {
      "image/png": "[encoded data removed]",
      "text/plain": [
       "<matplotlib.figure.Figure at 0x7fd7f55ccc10>"
      ]
     },
     "metadata": {},
     "output_type": "display_data"
    }
   ],
   "source": [
    "plt.plot(cdf_babies.xs, cdf_babies.ps)\n",
    "plt.xlabel('values')\n",
    "plt.ylabel('CDF')"
   ]
  },
  {
   "cell_type": "code",
   "execution_count": 27,
   "metadata": {
    "collapsed": false
   },
   "outputs": [
    {
     "data": {
      "text/plain": [
       "[(0.0, 0.041867074770441624),\n",
       " (1.0, 0.04197638828159161),\n",
       " (2.0, 0.04285089637079143),\n",
       " (3.0, 0.045474420638390904),\n",
       " (4.0, 0.049519020550940096),\n",
       " (5.0, 0.05902929602098819),\n",
       " (6.0, 0.08253170091823349),\n",
       " (7.0, 0.1315041539134237),\n",
       " (8.0, 0.1894403148229121),\n",
       " (9.0, 0.2579798863139484),\n",
       " (10.0, 0.31460428508963706),\n",
       " (11.0, 0.37931788369042413),\n",
       " (12.0, 0.4370354175776126),\n",
       " (13.0, 0.5092916484477481),\n",
       " (14.0, 0.5712724092697857),\n",
       " (15.0, 0.6428727590730214),\n",
       " (16.0, 0.6954525579361609),\n",
       " (17.0, 0.7508745080891999),\n",
       " (18.0, 0.8130738959335374),\n",
       " (19.0, 0.8691517271534762),\n",
       " (20.0, 0.9168124180148667),\n",
       " (21.0, 0.9586794927853083),\n",
       " (22.0, 0.9827284652383035),\n",
       " (23.0, 0.9924573677306515),\n",
       " (24.0, 0.9946436379536511),\n",
       " (25.0, 0.994862264975951),\n",
       " (26.0, 0.994971578487101),\n",
       " (57.0, 0.995080891998251),\n",
       " (99.0, 0.995190205509401),\n",
       " (103.0, 0.9954088325317009),\n",
       " (104.0, 0.9959554000874508),\n",
       " (105.0, 0.9968299081766506),\n",
       " (106.0, 0.9986882378662003),\n",
       " (107.0, 0.9994534324442501),\n",
       " (108.0, 0.9997813729777001),\n",
       " (194.0, 0.99989068648885),\n",
       " (196.0, 1.0)]"
      ]
     },
     "execution_count": 27,
     "metadata": {},
     "output_type": "execute_result"
    }
   ],
   "source": [
    "cdf_babies.Items()"
   ]
  },
  {
   "cell_type": "markdown",
   "metadata": {},
   "source": [
    "These values related to CDF are fractions and have to sum to 1"
   ]
  },
  {
   "cell_type": "markdown",
   "metadata": {},
   "source": [
    "### 2. What Fraction of the class above the median ?!"
   ]
  },
  {
   "cell_type": "code",
   "execution_count": 28,
   "metadata": {
    "collapsed": false
   },
   "outputs": [
    {
     "data": {
      "text/plain": [
       "13.0"
      ]
     },
     "execution_count": 28,
     "metadata": {},
     "output_type": "execute_result"
    }
   ],
   "source": [
    "np.median(babies_weights_all) ## median point"
   ]
  },
  {
   "cell_type": "code",
   "execution_count": 29,
   "metadata": {
    "collapsed": false
   },
   "outputs": [
    {
     "data": {
      "text/plain": [
       "50.92916484477482"
      ]
     },
     "execution_count": 29,
     "metadata": {},
     "output_type": "execute_result"
    }
   ],
   "source": [
    "under_weight_percentile = Percentile_Rank(babies_weights_all, np.median(babies_weights_all))\n",
    "under_weight_percentile"
   ]
  },
  {
   "cell_type": "markdown",
   "metadata": {},
   "source": [
    "Around 53.69% of the data points are below the weight is 7 ! .. \n",
    "Hence the complement are above .. and we can call them (over weighted) babies !"
   ]
  },
  {
   "cell_type": "code",
   "execution_count": 30,
   "metadata": {
    "collapsed": false
   },
   "outputs": [
    {
     "data": {
      "text/plain": [
       "49.07083515522518"
      ]
     },
     "execution_count": 30,
     "metadata": {},
     "output_type": "execute_result"
    }
   ],
   "source": [
    "over_weight_percentile = 100 - under_weight_percentile\n",
    "over_weight_percentile"
   ]
  },
  {
   "cell_type": "markdown",
   "metadata": {},
   "source": [
    "Around 46.3% of the babies are above the median !"
   ]
  }
 ],
 "metadata": {
  "kernelspec": {
   "display_name": "Python 2",
   "language": "python",
   "name": "python2"
  },
  "language_info": {
   "codemirror_mode": {
    "name": "ipython",
    "version": 2
   },
   "file_extension": ".py",
   "mimetype": "text/x-python",
   "name": "python",
   "nbconvert_exporter": "python",
   "pygments_lexer": "ipython2",
   "version": "2.7.12"
  }
 },
 "nbformat": 4,
 "nbformat_minor": 0
}
