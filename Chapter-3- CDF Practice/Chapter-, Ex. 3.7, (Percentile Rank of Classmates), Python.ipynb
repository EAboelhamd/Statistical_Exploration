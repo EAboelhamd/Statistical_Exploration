{
 "cells": [
  {
   "cell_type": "markdown",
   "metadata": {},
   "source": [
    "## Introduction:\n",
    "\n",
    "Suppose you and your classmates compute the percentile rank of your birth weights and then compute the CDF of the percentile ranks. \n",
    "\n",
    "What do you expect it to look like? \n",
    "\n",
    "Hint: what fraction of the class do you expect to be above the median?"
   ]
  },
  {
   "cell_type": "markdown",
   "metadata": {},
   "source": [
    "## Answer:\n",
    "\n",
    "1. The CDF and Percentile rank values expected to be the same .. \n",
    "As: CDF is exactly equals the percentile rank except that CDF is a fractional value however, percentile rank is a percentage value .. \n",
    "\n",
    "2. The distribution of the class weights expected to be normal .. hence, I think 50% of the class weights have to be above the median value .. \n",
    "\n",
    "Let's prove those answers above .. using the pregnencies dataset .. however, let's work on the whole column representing babies weights .. without dividing it to first_babies and others ..  "
   ]
  },
  {
   "cell_type": "code",
   "execution_count": 33,
   "metadata": {
    "collapsed": false
   },
   "outputs": [],
   "source": [
    "import Cdf\n",
    "import Pmf\n",
    "import numpy as np\n",
    "import random \n",
    "import score_example\n",
    "import itertools\n",
    "# import pandas as pd\n",
    "import survey\n",
    "import first\n",
    "import matplotlib.pyplot as plt\n",
    "%matplotlib inline "
   ]
  },
  {
   "cell_type": "code",
   "execution_count": 2,
   "metadata": {
    "collapsed": true
   },
   "outputs": [],
   "source": [
    "table = survey.Pregnancies()\n",
    "table.ReadRecords()\n",
    "outcome_ = np.zeros([len(table.records), 1])\n",
    "\n",
    "for i in xrange(len(table.records)):\n",
    "    outcome_[i] = table.records[i].outcome"
   ]
  },
  {
   "cell_type": "code",
   "execution_count": 3,
   "metadata": {
    "collapsed": false
   },
   "outputs": [
    {
     "data": {
      "text/plain": [
       "(<survey.Pregnancies at 0x7f62a811e3d0>,\n",
       " <survey.Pregnancies at 0x7f62a811e410>)"
      ]
     },
     "execution_count": 3,
     "metadata": {},
     "output_type": "execute_result"
    }
   ],
   "source": [
    "partitions = first.PartitionRecords(table)\n",
    "partitions  # divide the data to firsts, others .. "
   ]
  },
  {
   "cell_type": "code",
   "execution_count": 4,
   "metadata": {
    "collapsed": false
   },
   "outputs": [
    {
     "data": {
      "text/plain": [
       "(<survey.Pregnancies at 0x7f62a811e810>,\n",
       " <survey.Pregnancies at 0x7f6297854210>,\n",
       " <survey.Pregnancies at 0x7f6297854250>)"
      ]
     },
     "execution_count": 4,
     "metadata": {},
     "output_type": "execute_result"
    }
   ],
   "source": [
    "## tables \n",
    "t = first.MakeTables()\n",
    "original_table = t[0]\n",
    "firsts_table = t[1]\n",
    "others_table = t[2]\n",
    "\n",
    "original_table, firsts_table, others_table"
   ]
  },
  {
   "cell_type": "code",
   "execution_count": 5,
   "metadata": {
    "collapsed": false
   },
   "outputs": [
    {
     "data": {
      "text/plain": [
       "(13593, 9148)"
      ]
     },
     "execution_count": 5,
     "metadata": {},
     "output_type": "execute_result"
    }
   ],
   "source": [
    "len(original_table), len(firsts_table) + len(others_table)"
   ]
  },
  {
   "cell_type": "markdown",
   "metadata": {},
   "source": [
    "As agreed earlier I gonna work on the whole column of weights .. and it makes more sense to work on the sum of first and others not on the whole table .. which means that we gonna concat the weight column for firsts and others as it implies that these are only alive babies .. however, the whol column contains both alive and non alive babies .. "
   ]
  },
  {
   "cell_type": "code",
   "execution_count": 6,
   "metadata": {
    "collapsed": false
   },
   "outputs": [
    {
     "data": {
      "text/plain": [
       "4413"
      ]
     },
     "execution_count": 6,
     "metadata": {},
     "output_type": "execute_result"
    }
   ],
   "source": [
    "first_baby_ = np.zeros([len(firsts_table.records), 1])\n",
    "\n",
    "for i in xrange(len(firsts_table.records)):\n",
    "    try:\n",
    "        first_baby_[i] = firsts_table.records[i].birthwgt_oz\n",
    "    except ValueError:\n",
    "        first_baby_[i] = 0\n",
    "len(first_baby_)"
   ]
  },
  {
   "cell_type": "code",
   "execution_count": 7,
   "metadata": {
    "collapsed": false
   },
   "outputs": [
    {
     "data": {
      "text/plain": [
       "4735"
      ]
     },
     "execution_count": 7,
     "metadata": {},
     "output_type": "execute_result"
    }
   ],
   "source": [
    "others_baby_ = np.zeros([len(others_table.records), 1])\n",
    "\n",
    "for i in xrange(len(others_table.records)):\n",
    "    try:\n",
    "        others_baby_[i] = others_table.records[i].birthwgt_oz\n",
    "    except ValueError:\n",
    "        others_baby_[i] = 0\n",
    "len(others_baby_)"
   ]
  },
  {
   "cell_type": "code",
   "execution_count": 8,
   "metadata": {
    "collapsed": false
   },
   "outputs": [
    {
     "data": {
      "text/plain": [
       "array([ 13.,   2.,   9., ...,   0.,   8.,   8.])"
      ]
     },
     "execution_count": 8,
     "metadata": {},
     "output_type": "execute_result"
    }
   ],
   "source": [
    "babies_weights_oz = np.append(first_baby_, others_baby_)\n",
    "np.size(babies_weights_oz)   ## reference has to be added (the website link)\n",
    "babies_weights_oz"
   ]
  },
  {
   "cell_type": "code",
   "execution_count": 9,
   "metadata": {
    "collapsed": false
   },
   "outputs": [],
   "source": [
    "## let's calc the percentile rank .. \n",
    "\n",
    "def Percentile_Rank(scores, your_score):\n",
    "    count = 0\n",
    "    \n",
    "    for score in scores:\n",
    "        if score <= your_score:\n",
    "            count += 1\n",
    "\n",
    "    percentile_rank = 100.0 * count / len(scores)\n",
    "    \n",
    "    return percentile_rank"
   ]
  },
  {
   "cell_type": "code",
   "execution_count": 32,
   "metadata": {
    "collapsed": false
   },
   "outputs": [
    {
     "data": {
      "text/plain": [
       "23.05421950153039"
      ]
     },
     "execution_count": 32,
     "metadata": {},
     "output_type": "execute_result"
    }
   ],
   "source": [
    "my_weight = int(random.choice(babies_weights_oz))\n",
    "perc_rank = Percentile_Rank(babies_weights_oz, my_weight)\n",
    "perc_rank  "
   ]
  },
  {
   "cell_type": "markdown",
   "metadata": {},
   "source": [
    "Note that this is read as a % .. i.e. 99.7% of the population have weights lower than mine .. \n",
    "\n",
    "Now, let's calculate the CDF .. "
   ]
  },
  {
   "cell_type": "code",
   "execution_count": 11,
   "metadata": {
    "collapsed": false
   },
   "outputs": [
    {
     "data": {
      "text/plain": [
       "9148"
      ]
     },
     "execution_count": 11,
     "metadata": {},
     "output_type": "execute_result"
    }
   ],
   "source": [
    "merged = list(itertools.chain(*[babies_weights_oz]))\n",
    "len(merged)"
   ]
  },
  {
   "cell_type": "code",
   "execution_count": 12,
   "metadata": {
    "collapsed": false
   },
   "outputs": [
    {
     "data": {
      "text/plain": [
       "<Cdf.Cdf at 0x7f62a811eb90>"
      ]
     },
     "execution_count": 12,
     "metadata": {},
     "output_type": "execute_result"
    }
   ],
   "source": [
    "cdf_babies = Cdf.MakeCdfFromList(merged)\n",
    "cdf_babies"
   ]
  },
  {
   "cell_type": "code",
   "execution_count": 2,
   "metadata": {
    "collapsed": false
   },
   "outputs": [
    {
     "ename": "NameError",
     "evalue": "name 'plt' is not defined",
     "output_type": "error",
     "traceback": [
      "\u001b[1;31m---------------------------------------------------------------------------\u001b[0m",
      "\u001b[1;31mNameError\u001b[0m                                 Traceback (most recent call last)",
      "\u001b[1;32m<ipython-input-2-9df378f30695>\u001b[0m in \u001b[0;36m<module>\u001b[1;34m()\u001b[0m\n\u001b[1;32m----> 1\u001b[1;33m \u001b[0mplt\u001b[0m\u001b[1;33m.\u001b[0m\u001b[0mplot\u001b[0m\u001b[1;33m(\u001b[0m\u001b[0mcdf_babies\u001b[0m\u001b[1;33m.\u001b[0m\u001b[0mxs\u001b[0m\u001b[1;33m,\u001b[0m \u001b[0mcdf_babies\u001b[0m\u001b[1;33m.\u001b[0m\u001b[0mps\u001b[0m\u001b[1;33m)\u001b[0m\u001b[1;33m\u001b[0m\u001b[0m\n\u001b[0m",
      "\u001b[1;31mNameError\u001b[0m: name 'plt' is not defined"
     ]
    }
   ],
   "source": [
    "plt.plot(cdf_babies.xs, cdf_babies.ps)\n",
    "plt.xlabel('values')\n",
    "plt.ylabel('CDF')"
   ]
  },
  {
   "cell_type": "code",
   "execution_count": 14,
   "metadata": {
    "collapsed": false
   },
   "outputs": [
    {
     "data": {
      "text/plain": [
       "[(0.0, 0.120026235242676),\n",
       " (1.0, 0.16462614779186707),\n",
       " (2.0, 0.2305421950153039),\n",
       " (3.0, 0.28880629645824224),\n",
       " (4.0, 0.34619588981198074),\n",
       " (5.0, 0.40467861827721907),\n",
       " (6.0, 0.48218189768255354),\n",
       " (7.0, 0.5369479667686926),\n",
       " (8.0, 0.619588981198076),\n",
       " (9.0, 0.6747923043288151),\n",
       " (10.0, 0.7267162221250547),\n",
       " (11.0, 0.7876038478355925),\n",
       " (12.0, 0.8482728465238304),\n",
       " (13.0, 0.9015085264538697),\n",
       " (14.0, 0.9534324442501093),\n",
       " (15.0, 0.994752951464801),\n",
       " (97.0, 0.994862264975951),\n",
       " (98.0, 0.994971578487101),\n",
       " (99.0, 1.0)]"
      ]
     },
     "execution_count": 14,
     "metadata": {},
     "output_type": "execute_result"
    }
   ],
   "source": [
    "cdf_babies.Items()"
   ]
  },
  {
   "cell_type": "markdown",
   "metadata": {},
   "source": [
    "These values related to CDF are fractions and have to sum to 1"
   ]
  },
  {
   "cell_type": "markdown",
   "metadata": {},
   "source": [
    "### 2. Disrtibution of the class:\n",
    "\n",
    "As proved in the earlier exercises .. PMF is more suitable than CDF in case the distribution of the discrete data has to be shown  .. hence, let's plot PMF for the above babies weights .. "
   ]
  },
  {
   "cell_type": "code",
   "execution_count": 15,
   "metadata": {
    "collapsed": false
   },
   "outputs": [
    {
     "data": {
      "text/plain": [
       "[(0.0, 0.120026235242676),\n",
       " (1.0, 0.04459991254919108),\n",
       " (2.0, 0.06591604722343682),\n",
       " (3.0, 0.05826410144293835),\n",
       " (4.0, 0.05738959335373852),\n",
       " (5.0, 0.058482728465238304),\n",
       " (6.0, 0.0775032794053345),\n",
       " (7.0, 0.05476606908613905),\n",
       " (8.0, 0.08264101442938347),\n",
       " (9.0, 0.05520332313073896),\n",
       " (10.0, 0.051923917796239616),\n",
       " (11.0, 0.060887625710537824),\n",
       " (12.0, 0.06066899868823787),\n",
       " (13.0, 0.05323567993003935),\n",
       " (14.0, 0.051923917796239616),\n",
       " (15.0, 0.041320507214691736),\n",
       " (97.0, 0.00010931351114997814),\n",
       " (98.0, 0.00010931351114997814),\n",
       " (99.0, 0.005028421512898994)]"
      ]
     },
     "execution_count": 15,
     "metadata": {},
     "output_type": "execute_result"
    }
   ],
   "source": [
    "pmf_babies = Pmf.MakePmfFromList(merged)\n",
    "pmf_babies.Items()"
   ]
  },
  {
   "cell_type": "code",
   "execution_count": 16,
   "metadata": {
    "collapsed": false
   },
   "outputs": [
    {
     "data": {
      "text/plain": [
       "<matplotlib.text.Text at 0x7f62976c1710>"
      ]
     },
     "execution_count": 16,
     "metadata": {},
     "output_type": "execute_result"
    },
    {
     "data": {
      "image/png": "[encoded data removed]",
      "text/plain": [
       "<matplotlib.figure.Figure at 0x7f62a8114610>"
      ]
     },
     "metadata": {},
     "output_type": "display_data"
    }
   ],
   "source": [
    "plt.bar(pmf_babies.d.keys(), pmf_babies.d.values()) \n",
    "plt.xlabel('Babies')\n",
    "plt.ylabel('PMF values')"
   ]
  },
  {
   "cell_type": "markdown",
   "metadata": {},
   "source": [
    "not as expected ! :S .. \n",
    "\n",
    "I expected them to be normal .. however , this is not a perfectly normal curve although it is not skewed as well .. \n",
    "\n",
    "May be becuase the data are clustered below 20 .. ! .. \n",
    "Further analysis has to be made .. "
   ]
  }
 ],
 "metadata": {
  "kernelspec": {
   "display_name": "Python 2",
   "language": "python",
   "name": "python2"
  },
  "language_info": {
   "codemirror_mode": {
    "name": "ipython",
    "version": 2
   },
   "file_extension": ".py",
   "mimetype": "text/x-python",
   "name": "python",
   "nbconvert_exporter": "python",
   "pygments_lexer": "ipython2",
   "version": "2.7.12"
  }
 },
 "nbformat": 4,
 "nbformat_minor": 0
}
