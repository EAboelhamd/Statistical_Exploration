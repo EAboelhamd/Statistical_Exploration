{
 "cells": [
  {
   "cell_type": "markdown",
   "metadata": {},
   "source": [
    "## Introduction:\n",
    "\n",
    "How much did you weight at birth? If you don’t know, call your mother or someone else who knows. Using the pooled data (all live births), compute the distribution of birth weights and use it to find your percentile rank. \n",
    "\n",
    "If you were a first baby, find your percentile rank in the distribution for first babies. Otherwise use the distribution for others. If you are in the 90th percentile or higher, call your mother back and apologize."
   ]
  },
  {
   "cell_type": "code",
   "execution_count": 2,
   "metadata": {
    "collapsed": false
   },
   "outputs": [],
   "source": [
    "import Cdf\n",
    "import numpy as np\n",
    "import score_example\n",
    "import itertools\n",
    "# import pandas as pd\n",
    "import survey\n",
    "import first\n",
    "import matplotlib.pyplot as plt\n",
    "%matplotlib inline "
   ]
  },
  {
   "cell_type": "markdown",
   "metadata": {},
   "source": [
    "## Load Data:"
   ]
  },
  {
   "cell_type": "code",
   "execution_count": 3,
   "metadata": {
    "collapsed": false
   },
   "outputs": [],
   "source": [
    "table = survey.Pregnancies()\n",
    "table.ReadRecords()\n",
    "outcome_ = np.zeros([len(table.records), 1])\n",
    "\n",
    "for i in xrange(len(table.records)):\n",
    "    outcome_[i] = table.records[i].outcome"
   ]
  },
  {
   "cell_type": "code",
   "execution_count": 4,
   "metadata": {
    "collapsed": false
   },
   "outputs": [
    {
     "data": {
      "text/plain": [
       "array([[ 1.],\n",
       "       [ 1.],\n",
       "       [ 1.],\n",
       "       [ 1.],\n",
       "       [ 1.],\n",
       "       [ 1.],\n",
       "       [ 1.],\n",
       "       [ 1.],\n",
       "       [ 1.]])"
      ]
     },
     "execution_count": 4,
     "metadata": {},
     "output_type": "execute_result"
    }
   ],
   "source": [
    "outcome_[1:10]  # 1 represents alive case"
   ]
  },
  {
   "cell_type": "code",
   "execution_count": 5,
   "metadata": {
    "collapsed": false
   },
   "outputs": [
    {
     "data": {
      "text/plain": [
       "(<survey.Pregnancies at 0x7fe13c0d6990>,\n",
       " <survey.Pregnancies at 0x7fe13c0d6850>)"
      ]
     },
     "execution_count": 5,
     "metadata": {},
     "output_type": "execute_result"
    }
   ],
   "source": [
    "partitions = first.PartitionRecords(table)\n",
    "partitions  # divide the data to firsts, others .. "
   ]
  },
  {
   "cell_type": "code",
   "execution_count": 6,
   "metadata": {
    "collapsed": false
   },
   "outputs": [
    {
     "data": {
      "text/plain": [
       "(4413, 4735)"
      ]
     },
     "execution_count": 6,
     "metadata": {},
     "output_type": "execute_result"
    }
   ],
   "source": [
    "first_baby = partitions[0]\n",
    "others = partitions[1]\n",
    "len(first_baby), len(others)"
   ]
  },
  {
   "cell_type": "code",
   "execution_count": 7,
   "metadata": {
    "collapsed": false
   },
   "outputs": [
    {
     "data": {
      "text/plain": [
       "(<survey.Pregnancies at 0x7fe13c0d6790>,\n",
       " <survey.Pregnancies at 0x7fe12bce0290>,\n",
       " <survey.Pregnancies at 0x7fe12bce02d0>)"
      ]
     },
     "execution_count": 7,
     "metadata": {},
     "output_type": "execute_result"
    }
   ],
   "source": [
    "## tables \n",
    "t = first.MakeTables()\n",
    "original_table = t[0]\n",
    "firsts_table = t[1]\n",
    "others_table = t[2]\n",
    "\n",
    "original_table, firsts_table, others_table"
   ]
  },
  {
   "cell_type": "code",
   "execution_count": 8,
   "metadata": {
    "collapsed": true
   },
   "outputs": [],
   "source": [
    "## I have to try Dr's way as a more effecient way .. \n",
    "\n",
    "first_baby_ = np.zeros([len(firsts_table.records), 1])\n",
    "\n",
    "for i in xrange(len(firsts_table.records)):\n",
    "    try:\n",
    "        first_baby_[i] = firsts_table.records[i].birthwgt_oz\n",
    "    except ValueError:\n",
    "        first_baby_[i] = 0"
   ]
  },
  {
   "cell_type": "code",
   "execution_count": 10,
   "metadata": {
    "collapsed": false
   },
   "outputs": [
    {
     "data": {
      "text/plain": [
       "array([[  2.],\n",
       "       [  9.],\n",
       "       [  9.],\n",
       "       [ 13.],\n",
       "       [  0.],\n",
       "       [ 11.],\n",
       "       [  5.],\n",
       "       [ 12.],\n",
       "       [  9.]])"
      ]
     },
     "execution_count": 10,
     "metadata": {},
     "output_type": "execute_result"
    }
   ],
   "source": [
    "first_baby_[1:10]  ## weights of 1st 10 babies "
   ]
  },
  {
   "cell_type": "code",
   "execution_count": 17,
   "metadata": {
    "collapsed": true
   },
   "outputs": [],
   "source": [
    "others_baby_ = np.zeros([len(others_table.records), 1])\n",
    "\n",
    "for i in xrange(len(others_table.records)):\n",
    "    try:\n",
    "        others_baby_[i] = others_table.records[i].birthwgt_oz\n",
    "    except ValueError:\n",
    "        others_baby_[i] = 0"
   ]
  },
  {
   "cell_type": "code",
   "execution_count": 18,
   "metadata": {
    "collapsed": false
   },
   "outputs": [
    {
     "data": {
      "text/plain": [
       "array([[  0.],\n",
       "       [  3.],\n",
       "       [  9.],\n",
       "       [  6.],\n",
       "       [ 10.],\n",
       "       [  0.],\n",
       "       [  8.],\n",
       "       [  3.],\n",
       "       [  6.]])"
      ]
     },
     "execution_count": 18,
     "metadata": {},
     "output_type": "execute_result"
    }
   ],
   "source": [
    "others_baby_[1:10]"
   ]
  },
  {
   "cell_type": "markdown",
   "metadata": {},
   "source": [
    "## Let's Calculate CDFs:\n",
    "\n",
    "### 1st Babies:"
   ]
  },
  {
   "cell_type": "code",
   "execution_count": 22,
   "metadata": {
    "collapsed": false
   },
   "outputs": [
    {
     "data": {
      "text/plain": [
       "4413"
      ]
     },
     "execution_count": 22,
     "metadata": {},
     "output_type": "execute_result"
    }
   ],
   "source": [
    "merged = list(itertools.chain(*first_baby_))\n",
    "len(merged)"
   ]
  },
  {
   "cell_type": "code",
   "execution_count": 23,
   "metadata": {
    "collapsed": false
   },
   "outputs": [],
   "source": [
    "cdf_first = Cdf.MakeCdfFromList(merged)\n",
    "# cdf_first.Items()[1:10]"
   ]
  },
  {
   "cell_type": "code",
   "execution_count": 24,
   "metadata": {
    "collapsed": false
   },
   "outputs": [
    {
     "data": {
      "text/plain": [
       "<matplotlib.text.Text at 0x7fe12bbaa650>"
      ]
     },
     "execution_count": 24,
     "metadata": {},
     "output_type": "execute_result"
    },
    {
     "data": {
      "image/png": "[encoded data removed]",
      "text/plain": [
       "<matplotlib.figure.Figure at 0x7fe12bbd2910>"
      ]
     },
     "metadata": {},
     "output_type": "display_data"
    }
   ],
   "source": [
    "plt.plot(cdf_first.xs, cdf_first.ps)\n",
    "plt.xlabel('weights-oz')\n",
    "plt.ylabel('CDFs')"
   ]
  },
  {
   "cell_type": "markdown",
   "metadata": {},
   "source": [
    "Why only 100 cases were drawn !! :S"
   ]
  },
  {
   "cell_type": "markdown",
   "metadata": {},
   "source": [
    "### Others:"
   ]
  },
  {
   "cell_type": "code",
   "execution_count": 25,
   "metadata": {
    "collapsed": false
   },
   "outputs": [
    {
     "data": {
      "text/plain": [
       "4735"
      ]
     },
     "execution_count": 25,
     "metadata": {},
     "output_type": "execute_result"
    }
   ],
   "source": [
    "merged_others = list(itertools.chain(*others_baby_))\n",
    "len(merged_others)"
   ]
  },
  {
   "cell_type": "code",
   "execution_count": 26,
   "metadata": {
    "collapsed": true
   },
   "outputs": [],
   "source": [
    "cdf_others = Cdf.MakeCdfFromList(merged_others)"
   ]
  },
  {
   "cell_type": "code",
   "execution_count": 27,
   "metadata": {
    "collapsed": false
   },
   "outputs": [
    {
     "data": {
      "text/plain": [
       "<matplotlib.text.Text at 0x7fe12bbb4710>"
      ]
     },
     "execution_count": 27,
     "metadata": {},
     "output_type": "execute_result"
    },
    {
     "data": {
      "image/png": "[encoded data removed]",
      "text/plain": [
       "<matplotlib.figure.Figure at 0x7fe12baebe10>"
      ]
     },
     "metadata": {},
     "output_type": "display_data"
    }
   ],
   "source": [
    "plt.plot(cdf_others.xs, cdf_others.ps)\n",
    "plt.xlabel('weights-oz')\n",
    "plt.ylabel('CDFs')"
   ]
  },
  {
   "cell_type": "markdown",
   "metadata": {},
   "source": [
    "### Let's plot both curves togther to compare their distributions:"
   ]
  },
  {
   "cell_type": "code",
   "execution_count": 28,
   "metadata": {
    "collapsed": false
   },
   "outputs": [
    {
     "data": {
      "text/plain": [
       "<matplotlib.text.Text at 0x7fe12bafcbd0>"
      ]
     },
     "execution_count": 28,
     "metadata": {},
     "output_type": "execute_result"
    },
    {
     "data": {
      "image/png": "[encoded data removed]",
      "text/plain": [
       "<matplotlib.figure.Figure at 0x7fe12bac2850>"
      ]
     },
     "metadata": {},
     "output_type": "display_data"
    }
   ],
   "source": [
    "plt.plot(cdf_others.xs, cdf_others.ps, 'r', cdf_first.xs, cdf_first.ps, 'b')\n",
    "plt.xlabel('weights-oz')\n",
    "plt.ylabel('CDFs')"
   ]
  },
  {
   "cell_type": "markdown",
   "metadata": {},
   "source": [
    "Blue ==> First_babies,   Red ==> Others \n",
    "\n",
    "- The shape of the distributions looks alike that one demonestrated in the textbook .. \n",
    "\n",
    "- We can see that first babies are slightly lighter throughout the distribution, with a larger discrepancy above the mean."
   ]
  },
  {
   "cell_type": "markdown",
   "metadata": {},
   "source": [
    "## Allocating my weight on the Cdf curve:\n",
    "\n",
    "I were the first baby .. hence, I'll allocate my weight over the 1st babies curve .. and calculate my percentile rank ..  "
   ]
  },
  {
   "cell_type": "code",
   "execution_count": 29,
   "metadata": {
    "collapsed": true
   },
   "outputs": [],
   "source": [
    "def Percentile_Rank(weights, your_weight):\n",
    "    count = 0\n",
    "    \n",
    "    for weight in weights:\n",
    "        if weight <= your_weight:\n",
    "            count += 1\n",
    "\n",
    "    percentile_rank = 100.0 * count / len(weights)\n",
    "    \n",
    "    return percentile_rank"
   ]
  },
  {
   "cell_type": "code",
   "execution_count": 30,
   "metadata": {
    "collapsed": false
   },
   "outputs": [
    {
     "data": {
      "text/plain": [
       "71.7199184228416"
      ]
     },
     "execution_count": 30,
     "metadata": {},
     "output_type": "execute_result"
    }
   ],
   "source": [
    "My_weight = 10\n",
    "perc_rank = Percentile_Rank(first_baby_, My_weight)\n",
    "perc_rank"
   ]
  },
  {
   "cell_type": "markdown",
   "metadata": {},
   "source": [
    "This means that my weight is higher than 71.7% of the 1st babies ..  "
   ]
  }
 ],
 "metadata": {
  "kernelspec": {
   "display_name": "Python 2",
   "language": "python",
   "name": "python2"
  },
  "language_info": {
   "codemirror_mode": {
    "name": "ipython",
    "version": 2
   },
   "file_extension": ".py",
   "mimetype": "text/x-python",
   "name": "python",
   "nbconvert_exporter": "python",
   "pygments_lexer": "ipython2",
   "version": "2.7.12"
  }
 },
 "nbformat": 4,
 "nbformat_minor": 0
}
