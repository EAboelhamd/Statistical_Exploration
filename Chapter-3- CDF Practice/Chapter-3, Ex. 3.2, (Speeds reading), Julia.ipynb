{
 "cells": [
  {
   "cell_type": "markdown",
   "metadata": {},
   "source": [
    "## Ex. \n",
    "\n",
    "- Write a function called BiasPmf that takes a Pmf representing the actual distribution of runners’ speeds, and the speed of a running observer, and returns a new Pmf representing the distribution of runners’ speeds as seen by the observer.\n",
    "\n",
    "- Compute the distribution of speeds you would observe if you ran a relay race at 7.5 MPH with this group of runners. "
   ]
  },
  {
   "cell_type": "code",
   "execution_count": 374,
   "metadata": {
    "collapsed": false
   },
   "outputs": [],
   "source": [
    "using DataFrames    "
   ]
  },
  {
   "cell_type": "code",
   "execution_count": 326,
   "metadata": {
    "collapsed": false
   },
   "outputs": [
    {
     "data": {
      "text/html": [
       "<table class=\"data-frame\"><thead><tr><th></th><th>Place</th><th>DivTotal</th><th>Div</th><th>Guntime</th><th>Nettime</th><th>Pace</th></tr></thead><tbody><tr><th>1</th><td>1</td><td>1/362</td><td>M2039</td><td>30:43</td><td>30:42</td><td>4:57</td></tr><tr><th>2</th><td>2</td><td>2/362</td><td>M2039</td><td>31:36</td><td>31:36</td><td>5:06</td></tr><tr><th>3</th><td>3</td><td>3/362</td><td>M2039</td><td>31:42</td><td>31:42</td><td>5:07</td></tr><tr><th>4</th><td>4</td><td>4/362</td><td>M2039</td><td>32:28</td><td>32:27</td><td>5:14</td></tr><tr><th>5</th><td>5</td><td>5/362</td><td>M2039</td><td>32:52</td><td>32:52</td><td>5:18</td></tr><tr><th>6</th><td>6</td><td>6/362</td><td>M2039</td><td>33:06</td><td>33:06</td><td>5:20</td></tr><tr><th>7</th><td>7</td><td>1/256</td><td>M4049</td><td>33:33</td><td>33:33</td><td>5:24</td></tr><tr><th>8</th><td>8</td><td>2/256</td><td>M4049</td><td>33:42</td><td>33:42</td><td>5:26</td></tr><tr><th>9</th><td>9</td><td>3/256</td><td>M4049</td><td>33:54</td><td>33:54</td><td>5:28</td></tr><tr><th>10</th><td>10</td><td>7/362</td><td>M2039</td><td>33:56</td><td>33:56</td><td>5:28</td></tr><tr><th>11</th><td>11</td><td>8/362</td><td>M2039</td><td>34:13</td><td>34:13</td><td>5:31</td></tr><tr><th>12</th><td>12</td><td>4/256</td><td>M4049</td><td>34:25</td><td>34:25*</td><td>5:33</td></tr><tr><th>13</th><td>13</td><td>5/256</td><td>M4049</td><td>35:22</td><td>35:22</td><td>5:42</td></tr><tr><th>14</th><td>14</td><td>9/362</td><td>M2039</td><td>35:50</td><td>35:49</td><td>5:46</td></tr><tr><th>15</th><td>15</td><td>1/448</td><td>F2039</td><td>36:31</td><td>36:31</td><td>5:53</td></tr><tr><th>16</th><td>16</td><td>10/362</td><td>M2039</td><td>36:42</td><td>36:41</td><td>5:55</td></tr><tr><th>17</th><td>17</td><td>2/448</td><td>F2039</td><td>36:53</td><td>36:52</td><td>5:56</td></tr><tr><th>18</th><td>18</td><td>3/448</td><td>F2039</td><td>37:16</td><td>37:16</td><td>6:00</td></tr><tr><th>19</th><td>19</td><td>11/362</td><td>M2039</td><td>37:35</td><td>37:26</td><td>6:02</td></tr><tr><th>20</th><td>20</td><td>12/362</td><td>M2039</td><td>37:41</td><td>37:40</td><td>6:04</td></tr><tr><th>21</th><td>21</td><td>4/448</td><td>F2039</td><td>37:45</td><td>37:44</td><td>6:05</td></tr><tr><th>22</th><td>22</td><td>6/256</td><td>M4049</td><td>38:09</td><td>38:06</td><td>6:08</td></tr><tr><th>23</th><td>23</td><td>7/256</td><td>M4049</td><td>38:12</td><td>38:10</td><td>6:09</td></tr><tr><th>24</th><td>24</td><td>13/362</td><td>M2039</td><td>38:12</td><td>38:11</td><td>6:09</td></tr><tr><th>25</th><td>25</td><td>1/46</td><td>M6069</td><td>38:13</td><td>38:12*</td><td>6:09</td></tr><tr><th>26</th><td>26</td><td>1/171</td><td>M5059</td><td>38:22</td><td>38:21</td><td>6:11</td></tr><tr><th>27</th><td>27</td><td>5/448</td><td>F2039</td><td>38:31</td><td>38:30</td><td>6:12</td></tr><tr><th>28</th><td>28</td><td>8/256</td><td>M4049</td><td>38:33</td><td>38:31</td><td>6:12</td></tr><tr><th>29</th><td>29</td><td>14/362</td><td>M2039</td><td>38:34</td><td>38:32</td><td>6:13</td></tr><tr><th>30</th><td>30</td><td>15/362</td><td>M2039</td><td>38:41</td><td>38:34</td><td>6:13</td></tr><tr><th>&vellip;</th><td>&vellip;</td><td>&vellip;</td><td>&vellip;</td><td>&vellip;</td><td>&vellip;</td><td>&vellip;</td></tr></tbody></table>"
      ],
      "text/plain": [
       "1596×6 DataFrames.DataFrame\n",
       "│ Row  │ Place │ DivTotal  │ Div     │ Guntime   │ Nettime   │ Pace    │\n",
       "├──────┼───────┼───────────┼─────────┼───────────┼───────────┼─────────┤\n",
       "│ 1    │ 1     │ \"1/362\"   │ \"M2039\" │ \"30:43\"   │ \"30:42\"   │ \"4:57\"  │\n",
       "│ 2    │ 2     │ \"2/362\"   │ \"M2039\" │ \"31:36\"   │ \"31:36\"   │ \"5:06\"  │\n",
       "│ 3    │ 3     │ \"3/362\"   │ \"M2039\" │ \"31:42\"   │ \"31:42\"   │ \"5:07\"  │\n",
       "│ 4    │ 4     │ \"4/362\"   │ \"M2039\" │ \"32:28\"   │ \"32:27\"   │ \"5:14\"  │\n",
       "│ 5    │ 5     │ \"5/362\"   │ \"M2039\" │ \"32:52\"   │ \"32:52\"   │ \"5:18\"  │\n",
       "│ 6    │ 6     │ \"6/362\"   │ \"M2039\" │ \"33:06\"   │ \"33:06\"   │ \"5:20\"  │\n",
       "│ 7    │ 7     │ \"1/256\"   │ \"M4049\" │ \"33:33\"   │ \"33:33\"   │ \"5:24\"  │\n",
       "│ 8    │ 8     │ \"2/256\"   │ \"M4049\" │ \"33:42\"   │ \"33:42\"   │ \"5:26\"  │\n",
       "│ 9    │ 9     │ \"3/256\"   │ \"M4049\" │ \"33:54\"   │ \"33:54\"   │ \"5:28\"  │\n",
       "│ 10   │ 10    │ \"7/362\"   │ \"M2039\" │ \"33:56\"   │ \"33:56\"   │ \"5:28\"  │\n",
       "│ 11   │ 11    │ \"8/362\"   │ \"M2039\" │ \"34:13\"   │ \"34:13\"   │ \"5:31\"  │\n",
       "⋮\n",
       "│ 1585 │ 1622  │ \"61/64\"   │ \"F5059\" │ \"1:30:35\" │ \"1:28:56\" │ \"14:19\" │\n",
       "│ 1586 │ 1623  │ \"444/448\" │ \"F2039\" │ \"1:31:52\" │ \"1:30:13\" │ \"14:32\" │\n",
       "│ 1587 │ 1624  │ \"445/448\" │ \"F2039\" │ \"1:30:19\" │ \"1:30:19\" │ \"14:33\" │\n",
       "│ 1588 │ 1625  │ \"45/46\"   │ \"M6069\" │ \"1:32:31\" │ \"1:31:15\" │ \"14:41\" │\n",
       "│ 1589 │ 1626  │ \"446/448\" │ \"F2039\" │ \"1:32:10\" │ \"1:32:01\" │ \"14:49\" │\n",
       "│ 1590 │ 1627  │ \"447/448\" │ \"F2039\" │ \"1:34:13\" │ \"1:32:11\" │ \"14:50\" │\n",
       "│ 1591 │ 1628  │ \"62/64\"   │ \"F5059\" │ \"1:34:26\" │ \"1:32:24\" │ \"14:53\" │\n",
       "│ 1592 │ 1629  │ \"171/171\" │ \"M5059\" │ \"1:50:09\" │ \"1:50:09\" │ \"17:44\" │\n",
       "│ 1593 │ 1630  │ \"63/64\"   │ \"F5059\" │ \"1:55:13\" │ \"1:53:38\" │ \"18:18\" │\n",
       "│ 1594 │ 1631  │ \"64/64\"   │ \"F5059\" │ \"1:55:14\" │ \"1:53:38\" │ \"18:18\" │\n",
       "│ 1595 │ 1632  │ \"46/46\"   │ \"M6069\" │ \"1:55:34\" │ \"1:55:34\" │ \"18:36\" │\n",
       "│ 1596 │ 1633  │ \"448/448\" │ \"F2039\" │ \"2:03:26\" │ \"2:01:47\" │ \"19:36\" │"
      ]
     },
     "execution_count": 326,
     "metadata": {},
     "output_type": "execute_result"
    }
   ],
   "source": [
    "df = readtable(\"results.csv\", header = false, names=[:Place, :DivTotal, :Div, :Guntime, :Nettime, :Pace])"
   ]
  },
  {
   "cell_type": "code",
   "execution_count": 327,
   "metadata": {
    "collapsed": false
   },
   "outputs": [
    {
     "data": {
      "text/plain": [
       "\"7/362\""
      ]
     },
     "execution_count": 327,
     "metadata": {},
     "output_type": "execute_result"
    }
   ],
   "source": [
    "df[2][10]"
   ]
  },
  {
   "cell_type": "code",
   "execution_count": 339,
   "metadata": {
    "collapsed": false
   },
   "outputs": [
    {
     "data": {
      "text/plain": [
       "1596-element Array{String,1}:\n",
       " \"4:57\" \n",
       " \"5:06\" \n",
       " \"5:07\" \n",
       " \"5:14\" \n",
       " \"5:18\" \n",
       " \"5:20\" \n",
       " \"5:24\" \n",
       " \"5:26\" \n",
       " \"5:28\" \n",
       " \"5:28\" \n",
       " \"5:31\" \n",
       " \"5:33\" \n",
       " \"5:42\" \n",
       " ⋮      \n",
       " \"14:19\"\n",
       " \"14:32\"\n",
       " \"14:33\"\n",
       " \"14:41\"\n",
       " \"14:49\"\n",
       " \"14:50\"\n",
       " \"14:53\"\n",
       " \"17:44\"\n",
       " \"18:18\"\n",
       " \"18:18\"\n",
       " \"18:36\"\n",
       " \"19:36\""
      ]
     },
     "execution_count": 339,
     "metadata": {},
     "output_type": "execute_result"
    }
   ],
   "source": [
    "pace = convert(Array, df[:][6])  ## pace column"
   ]
  },
  {
   "cell_type": "markdown",
   "metadata": {},
   "source": [
    "## Convert Pace to Speed:"
   ]
  },
  {
   "cell_type": "code",
   "execution_count": 357,
   "metadata": {
    "collapsed": false
   },
   "outputs": [],
   "source": [
    "minutes = Int[]\n",
    "for i = 1:length(pace)\n",
    "    append!(minutes, parse(Int, pace[i][1:end-3]))\n",
    "end"
   ]
  },
  {
   "cell_type": "code",
   "execution_count": 359,
   "metadata": {
    "collapsed": false
   },
   "outputs": [
    {
     "data": {
      "text/plain": [
       "1596-element Array{Int64,1}:\n",
       "  4\n",
       "  5\n",
       "  5\n",
       "  5\n",
       "  5\n",
       "  5\n",
       "  5\n",
       "  5\n",
       "  5\n",
       "  5\n",
       "  5\n",
       "  5\n",
       "  5\n",
       "  ⋮\n",
       " 14\n",
       " 14\n",
       " 14\n",
       " 14\n",
       " 14\n",
       " 14\n",
       " 14\n",
       " 17\n",
       " 18\n",
       " 18\n",
       " 18\n",
       " 19"
      ]
     },
     "execution_count": 359,
     "metadata": {},
     "output_type": "execute_result"
    }
   ],
   "source": [
    "minutes"
   ]
  },
  {
   "cell_type": "code",
   "execution_count": 361,
   "metadata": {
    "collapsed": false
   },
   "outputs": [
    {
     "data": {
      "text/plain": [
       "1596-element Array{Int64,1}:\n",
       " 57\n",
       "  6\n",
       "  7\n",
       " 14\n",
       " 18\n",
       " 20\n",
       " 24\n",
       " 26\n",
       " 28\n",
       " 28\n",
       " 31\n",
       " 33\n",
       " 42\n",
       "  ⋮\n",
       " 19\n",
       " 32\n",
       " 33\n",
       " 41\n",
       " 49\n",
       " 50\n",
       " 53\n",
       " 44\n",
       " 18\n",
       " 18\n",
       " 36\n",
       " 36"
      ]
     },
     "execution_count": 361,
     "metadata": {},
     "output_type": "execute_result"
    }
   ],
   "source": [
    "seconds = Int[]\n",
    "for i = 1:length(pace)\n",
    "    \n",
    "    if(length(pace[i][:]) == 5)\n",
    "        append!(seconds, parse(Int, pace[i][4:5]))\n",
    "    else \n",
    "        append!(seconds, parse(Int, pace[i][3:4]))\n",
    "    end\n",
    "end\n",
    "seconds"
   ]
  },
  {
   "cell_type": "code",
   "execution_count": 363,
   "metadata": {
    "collapsed": false
   },
   "outputs": [
    {
     "data": {
      "text/plain": [
       "(1596,1596)"
      ]
     },
     "execution_count": 363,
     "metadata": {},
     "output_type": "execute_result"
    }
   ],
   "source": [
    "length(minutes), length(seconds)"
   ]
  },
  {
   "cell_type": "code",
   "execution_count": 373,
   "metadata": {
    "collapsed": false
   },
   "outputs": [
    {
     "data": {
      "text/plain": [
       "1596-element Array{Any,1}:\n",
       " 12.1212 \n",
       " 11.7647 \n",
       " 11.7264 \n",
       " 11.465  \n",
       " 11.3208 \n",
       " 11.25   \n",
       " 11.1111 \n",
       " 11.0429 \n",
       " 10.9756 \n",
       " 10.9756 \n",
       " 10.8761 \n",
       " 10.8108 \n",
       " 10.5263 \n",
       "  ⋮      \n",
       "  4.19092\n",
       "  4.12844\n",
       "  4.12371\n",
       "  4.08627\n",
       "  4.04949\n",
       "  4.04494\n",
       "  4.03135\n",
       "  3.38346\n",
       "  3.27869\n",
       "  3.27869\n",
       "  3.22581\n",
       "  3.06122"
      ]
     },
     "execution_count": 373,
     "metadata": {},
     "output_type": "execute_result"
    }
   ],
   "source": [
    "secs = []\n",
    "speed = []\n",
    "\n",
    "append!(secs, minutes*60 + seconds)\n",
    "\n",
    "for i=1:length(secs)\n",
    "    append!(speed, 1.0 / secs[i] * 60 * 60 )\n",
    "end\n",
    "speed"
   ]
  },
  {
   "cell_type": "code",
   "execution_count": null,
   "metadata": {
    "collapsed": true
   },
   "outputs": [],
   "source": []
  }
 ],
 "metadata": {
  "kernelspec": {
   "display_name": "Julia 0.5.0",
   "language": "julia",
   "name": "julia-0.5"
  },
  "language_info": {
   "file_extension": ".jl",
   "mimetype": "application/julia",
   "name": "julia",
   "version": "0.5.0"
  }
 },
 "nbformat": 4,
 "nbformat_minor": 0
}
