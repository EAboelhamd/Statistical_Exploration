{
 "cells": [
  {
   "cell_type": "markdown",
   "metadata": {},
   "source": [
    "## Introduction (Optional):\n",
    "\n",
    "If you only want to compute one percentile, it is not efficient to sort the scores. A better option is the selection algorithm, which you can read about at http://wikipedia.org/wiki/Selection_algorithm.\n",
    "\n",
    "Write (or find) an implementation of the selection algorithm and use it to write an efficient version of Percentile."
   ]
  },
  {
   "cell_type": "code",
   "execution_count": 1,
   "metadata": {
    "collapsed": true
   },
   "outputs": [],
   "source": [
    "import numpy as np\n",
    "import heapq"
   ]
  },
  {
   "cell_type": "code",
   "execution_count": 2,
   "metadata": {
    "collapsed": false
   },
   "outputs": [],
   "source": [
    "scores = [55, 66, 77, 88, 99]\n",
    "your_score = 88"
   ]
  },
  {
   "cell_type": "markdown",
   "metadata": {},
   "source": [
    "## Selection Algorithm .. \n",
    "\n",
    "Given the above list of scores and a given score .. You can utilize of the selection alogorithm to find the percentile of that given score .. and you can apply the following command to determine the k smallest elements in that list .. "
   ]
  },
  {
   "cell_type": "code",
   "execution_count": 10,
   "metadata": {
    "collapsed": false
   },
   "outputs": [
    {
     "data": {
      "text/plain": [
       "[55, 66, 77, 88, 99]"
      ]
     },
     "execution_count": 10,
     "metadata": {},
     "output_type": "execute_result"
    }
   ],
   "source": [
    "k_smallest = heapq.nsmallest(your_score, scores)\n",
    "k_smallest"
   ]
  },
  {
   "cell_type": "markdown",
   "metadata": {},
   "source": [
    "The nsmallest() find the k smallest elements in a list of scores of size N .. below the given score in O(Nlogk) time .. \n",
    "\n",
    "As the nsmallest() return an ordered list of all scores less than yours .. you can easily find yours by pop() the last element .. and calc. its percentile rank .. "
   ]
  },
  {
   "cell_type": "code",
   "execution_count": 11,
   "metadata": {
    "collapsed": false
   },
   "outputs": [
    {
     "data": {
      "text/plain": [
       "99"
      ]
     },
     "execution_count": 11,
     "metadata": {},
     "output_type": "execute_result"
    }
   ],
   "source": [
    "k_smallest.pop()"
   ]
  },
  {
   "cell_type": "markdown",
   "metadata": {},
   "source": [
    "Check more imeplemenations here .. \n",
    "http://stackoverflow.com/questions/5380568/algorithm-to-find-k-smallest-numbers-in-array-of-n-items\n",
    "\n",
    "### Algorithm steps:\n",
    "\n",
    " 1. find the k'th element in A using 'selection algorithm', let it be 'z'\n",
    " 2. initialize an empty list 'L'\n",
    " 3. initialize counter = 0\n",
    " 4. for each element in A: \n",
    "         4.1. if element < z: \n",
    "         4.1.1. counter = counter + 1 ; L.add(element)\n",
    " 5. for each element in A:\n",
    "         5.1. if element == z AND count < k:\n",
    "               5.1.1. counter = counter + 1 ; L.add(element)\n",
    " 6. return L"
   ]
  },
  {
   "cell_type": "code",
   "execution_count": 22,
   "metadata": {
    "collapsed": false
   },
   "outputs": [
    {
     "data": {
      "text/plain": [
       "[55, 66, 77, 88]"
      ]
     },
     "execution_count": 22,
     "metadata": {},
     "output_type": "execute_result"
    }
   ],
   "source": [
    "## sort the list of elements .. \n",
    "l = []\n",
    "counter = 0\n",
    "\n",
    "for score in scores:\n",
    "    if score < your_score:\n",
    "        counter = counter + 1\n",
    "        l.append(score)  ## carries the list of ALL scores less than a given score .. \n",
    "     \n",
    "    if score == your_score and counter < len(scores):\n",
    "        counter = counter + 1 \n",
    "        l.append(score) \n",
    "        \n",
    "l"
   ]
  },
  {
   "cell_type": "code",
   "execution_count": 23,
   "metadata": {
    "collapsed": false
   },
   "outputs": [
    {
     "data": {
      "text/plain": [
       "80.0"
      ]
     },
     "execution_count": 23,
     "metadata": {},
     "output_type": "execute_result"
    }
   ],
   "source": [
    "percentile_rank = 100.0 * counter / len(scores)\n",
    "percentile_rank"
   ]
  },
  {
   "cell_type": "markdown",
   "metadata": {},
   "source": [
    "This means that 80% of the data are below the given score .. "
   ]
  }
 ],
 "metadata": {
  "kernelspec": {
   "display_name": "Python 2",
   "language": "python",
   "name": "python2"
  },
  "language_info": {
   "codemirror_mode": {
    "name": "ipython",
    "version": 2
   },
   "file_extension": ".py",
   "mimetype": "text/x-python",
   "name": "python",
   "nbconvert_exporter": "python",
   "pygments_lexer": "ipython2",
   "version": "2.7.12"
  }
 },
 "nbformat": 4,
 "nbformat_minor": 0
}
