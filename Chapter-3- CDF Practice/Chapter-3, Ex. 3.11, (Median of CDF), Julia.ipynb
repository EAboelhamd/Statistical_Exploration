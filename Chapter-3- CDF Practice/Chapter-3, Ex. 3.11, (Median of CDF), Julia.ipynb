{
 "cells": [
  {
   "cell_type": "markdown",
   "metadata": {},
   "source": [
    "## Introduction:\n",
    "\n",
    "The median is just the 50th percentile. The 25th and 75th percentiles are often used to check whether a distribution is symmetric, and their difference, which is called the interquartile range, measures the spread.\n",
    "\n",
    "### Ex.\n",
    "\n",
    "1- Write a function called Median that takes a Cdf and computes the median.\n",
    "\n",
    "2- Another one called Interquartile that computes the interquartile range.\n",
    "\n",
    "3- Compute the 25th, 50th, and 75th percentiles of the birth weight CDF. \n",
    "        Do these values suggest that the distribution is symmetric?\n"
   ]
  },
  {
   "cell_type": "code",
   "execution_count": 1,
   "metadata": {
    "collapsed": true
   },
   "outputs": [],
   "source": [
    "using DataFrames"
   ]
  },
  {
   "cell_type": "markdown",
   "metadata": {},
   "source": [
    "## 1- Write a function called Median that takes a Cdf and computes the median."
   ]
  },
  {
   "cell_type": "code",
   "execution_count": 51,
   "metadata": {
    "collapsed": false
   },
   "outputs": [
    {
     "name": "stderr",
     "output_type": "stream",
     "text": [
      "WARNING: Method definition Median(Any, Any) in module Main at In[49]:2 overwritten at In[51]:2.\n"
     ]
    },
    {
     "data": {
      "text/plain": [
       "Median (generic function with 2 methods)"
      ]
     },
     "execution_count": 51,
     "metadata": {},
     "output_type": "execute_result"
    }
   ],
   "source": [
    "function Median(cdf, index)\n",
    "    med = 0 \n",
    "    n = 0\n",
    "    index = index  ## has to be modified\n",
    "    vals = cdf   ## has to be modified\n",
    "    \n",
    "    if (length(index) % 2 == 0)   ## even numbers \n",
    "        n = length(index)/2\n",
    "        med = (vals[n-1] + vals[n])/2   ## this is a zero based prog. language\n",
    "    else ## odd numbers\n",
    "        n = float(length(index))/2\n",
    "        med = vals[Int(round(n-1))] \n",
    "    end \n",
    "    \n",
    "    return med\n",
    "end"
   ]
  },
  {
   "cell_type": "code",
   "execution_count": 43,
   "metadata": {
    "collapsed": false
   },
   "outputs": [
    {
     "name": "stderr",
     "output_type": "stream",
     "text": [
      "WARNING: Method definition cdf_calc(Any) in module Main at In[35]:3 overwritten at In[43]:3.\n"
     ]
    },
    {
     "data": {
      "text/plain": [
       "cdf_calc (generic function with 1 method)"
      ]
     },
     "execution_count": 43,
     "metadata": {},
     "output_type": "execute_result"
    }
   ],
   "source": [
    "## CDF\n",
    "function cdf_calc(data_list)\n",
    "    runsum = 0\n",
    "    xs = []\n",
    "    cs = []\n",
    "    c = countmap(data_list)   # data dict\n",
    "\n",
    "    for (value, count) in sort(c)\n",
    "        runsum = runsum + count\n",
    "        append!(xs, value)\n",
    "        append!(cs, runsum)\n",
    "    end\n",
    "\n",
    "    total = float(runsum)\n",
    "    cdf = [c/total for c in cs]   ## cdf[end] = 1, ps carrried cdf\n",
    "    return cdf, xs\n",
    "end"
   ]
  },
  {
   "cell_type": "markdown",
   "metadata": {},
   "source": [
    "Let's call the function initially by small numbers (odd and even)just to test it .. \n",
    "\n",
    "\n",
    "### 1. Dataset of even length:"
   ]
  },
  {
   "cell_type": "code",
   "execution_count": 44,
   "metadata": {
    "collapsed": false
   },
   "outputs": [
    {
     "data": {
      "text/plain": [
       "4-element Array{Int64,1}:\n",
       " 1\n",
       " 2\n",
       " 3\n",
       " 4"
      ]
     },
     "execution_count": 44,
     "metadata": {},
     "output_type": "execute_result"
    }
   ],
   "source": [
    "even_data = [1, 2, 3, 4]"
   ]
  },
  {
   "cell_type": "code",
   "execution_count": 45,
   "metadata": {
    "collapsed": false
   },
   "outputs": [
    {
     "data": {
      "text/plain": [
       "([0.25,0.5,0.75,1.0],Any[1,2,3,4])"
      ]
     },
     "execution_count": 45,
     "metadata": {},
     "output_type": "execute_result"
    }
   ],
   "source": [
    "cdf_even, index = cdf_calc(even_data)"
   ]
  },
  {
   "cell_type": "markdown",
   "metadata": {},
   "source": [
    "### 2. Dataset of odd length:"
   ]
  },
  {
   "cell_type": "code",
   "execution_count": 46,
   "metadata": {
    "collapsed": false
   },
   "outputs": [
    {
     "data": {
      "text/plain": [
       "5-element Array{Int64,1}:\n",
       " 1\n",
       " 2\n",
       " 3\n",
       " 4\n",
       " 5"
      ]
     },
     "execution_count": 46,
     "metadata": {},
     "output_type": "execute_result"
    }
   ],
   "source": [
    "odd_data = [1, 2, 3, 4, 5]"
   ]
  },
  {
   "cell_type": "code",
   "execution_count": 47,
   "metadata": {
    "collapsed": false
   },
   "outputs": [
    {
     "data": {
      "text/plain": [
       "([0.2,0.4,0.6,0.8,1.0],Any[1,2,3,4,5])"
      ]
     },
     "execution_count": 47,
     "metadata": {},
     "output_type": "execute_result"
    }
   ],
   "source": [
    "cdf_odd, index = cdf_calc(odd_data)"
   ]
  },
  {
   "cell_type": "code",
   "execution_count": 53,
   "metadata": {
    "collapsed": false
   },
   "outputs": [
    {
     "data": {
      "text/plain": [
       "(0.5,0.4)"
      ]
     },
     "execution_count": 53,
     "metadata": {},
     "output_type": "execute_result"
    }
   ],
   "source": [
    "Median(cdf_even, index), Median(cdf_odd, index)"
   ]
  },
  {
   "cell_type": "markdown",
   "metadata": {},
   "source": [
    "## 2- Another one called Interquartile that computes the interquartile range."
   ]
  },
  {
   "cell_type": "code",
   "execution_count": 54,
   "metadata": {
    "collapsed": false
   },
   "outputs": [
    {
     "data": {
      "text/plain": [
       "Interquartile (generic function with 2 methods)"
      ]
     },
     "execution_count": 54,
     "metadata": {},
     "output_type": "execute_result"
    }
   ],
   "source": [
    "function Interquartile(cdf, index)\n",
    "    index = index\n",
    "    vals = cdf\n",
    "    \n",
    "    upper_quart = vals[Int(float(length(index)-1)*3/4)]  ## zero based \n",
    "    lower_quart = vals[Int(float(length(index)-1)*1/4)]\n",
    "    \n",
    "    return upper_quart - lower_quart\n",
    "end"
   ]
  },
  {
   "cell_type": "code",
   "execution_count": 56,
   "metadata": {
    "collapsed": false
   },
   "outputs": [
    {
     "data": {
      "text/plain": [
       "(0.5,0.39999999999999997)"
      ]
     },
     "execution_count": 56,
     "metadata": {},
     "output_type": "execute_result"
    }
   ],
   "source": [
    "Interquartile(cdf_even, index), Interquartile(cdf_odd, index)"
   ]
  },
  {
   "cell_type": "markdown",
   "metadata": {},
   "source": [
    "The results matches Python code as well as the python built in functions .."
   ]
  },
  {
   "cell_type": "markdown",
   "metadata": {},
   "source": [
    "## 3- Compute the 25th, 50th, and 75th percentiles of the birth weight CDF.\n",
    "\n",
    "- 25th percentile is the 1st quartile .. \n",
    "- 50th percentile is the 2nd quartile (Median)\n",
    "- 75th percentile is the 3rd quartile "
   ]
  },
  {
   "cell_type": "code",
   "execution_count": 62,
   "metadata": {
    "collapsed": false
   },
   "outputs": [
    {
     "name": "stderr",
     "output_type": "stream",
     "text": [
      "WARNING: Method definition percentiles(Any, Any) in module Main at In[60]:3 overwritten at In[62]:3.\n"
     ]
    },
    {
     "data": {
      "text/plain": [
       "percentiles (generic function with 1 method)"
      ]
     },
     "execution_count": 62,
     "metadata": {},
     "output_type": "execute_result"
    }
   ],
   "source": [
    "function percentiles(cdf, index)\n",
    "    \n",
    "    index = index\n",
    "    vals = cdf \n",
    "    \n",
    "    third_quart = vals[Int(float(length(index)-1)*3/4)]  ## zero based \n",
    "    second_quart = Median(vals, index)\n",
    "    first_quart = vals[Int(float(length(index)-1)*1/4)]\n",
    "           \n",
    "    return third_quart, second_quart, first_quart\n",
    "end"
   ]
  },
  {
   "cell_type": "code",
   "execution_count": 64,
   "metadata": {
    "collapsed": false
   },
   "outputs": [
    {
     "data": {
      "text/plain": [
       "((0.6,0.4,0.2),(0.75,0.5,0.25))"
      ]
     },
     "execution_count": 64,
     "metadata": {},
     "output_type": "execute_result"
    }
   ],
   "source": [
    "percentiles(cdf_odd, index), percentiles(cdf_even, index)"
   ]
  }
 ],
 "metadata": {
  "kernelspec": {
   "display_name": "Julia 0.5.0",
   "language": "julia",
   "name": "julia-0.5"
  },
  "language_info": {
   "file_extension": ".jl",
   "mimetype": "application/julia",
   "name": "julia",
   "version": "0.5.0"
  }
 },
 "nbformat": 4,
 "nbformat_minor": 0
}
