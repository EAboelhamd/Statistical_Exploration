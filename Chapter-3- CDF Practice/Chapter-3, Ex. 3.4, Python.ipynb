{
 "cells": [
  {
   "cell_type": "markdown",
   "metadata": {},
   "source": [
    "## Introduction (Optional):\n",
    "\n",
    "If you only want to compute one percentile, it is not efficient to sort the scores. A better option is the selection algorithm, which you can read about at http://wikipedia.org/wiki/Selection_algorithm.\n",
    "\n",
    "Write (or find) an implementation of the selection algorithm and use it to write an efficient version of Percentile."
   ]
  },
  {
   "cell_type": "code",
   "execution_count": 40,
   "metadata": {
    "collapsed": true
   },
   "outputs": [],
   "source": [
    "import numpy as np\n",
    "import heapq"
   ]
  },
  {
   "cell_type": "code",
   "execution_count": 61,
   "metadata": {
    "collapsed": false
   },
   "outputs": [],
   "source": [
    "## I gonna use the same data in score_example .. I just swap the scores' positions to test sort() \n",
    "\n",
    "scores = [66, 88, 99 , 77, 55]\n",
    "your_score = 88"
   ]
  },
  {
   "cell_type": "markdown",
   "metadata": {},
   "source": [
    "## Selection Algorithm .. \n",
    "\n",
    "Given the above list of scores and a given score .. You can utilize of the selection alogorithms to find the percentile of that given score .. and you can appy the following command to determine the k smallest elements in that list .. "
   ]
  },
  {
   "cell_type": "code",
   "execution_count": 62,
   "metadata": {
    "collapsed": false
   },
   "outputs": [
    {
     "data": {
      "text/plain": [
       "[55, 66, 77, 88, 99]"
      ]
     },
     "execution_count": 62,
     "metadata": {},
     "output_type": "execute_result"
    }
   ],
   "source": [
    "k_smallest = heapq.nsmallest(your_score, scores)\n",
    "k_smallest"
   ]
  },
  {
   "cell_type": "markdown",
   "metadata": {},
   "source": [
    "The nsmallest() find the k smallest elements in a list of scores of size N .. below the given score in O(Nlogk) time .. \n",
    "\n",
    "As the nsmallest() return an ordered list of all scores less than yours .. you can calc. easily find yours by pop() the last element .. and calc. its percentile rank .. "
   ]
  },
  {
   "cell_type": "code",
   "execution_count": 64,
   "metadata": {
    "collapsed": false
   },
   "outputs": [
    {
     "data": {
      "text/plain": [
       "99"
      ]
     },
     "execution_count": 64,
     "metadata": {},
     "output_type": "execute_result"
    }
   ],
   "source": [
    "k_smallest.pop()"
   ]
  },
  {
   "cell_type": "markdown",
   "metadata": {},
   "source": [
    "Check more imeplemenations here .. \n",
    "http://stackoverflow.com/questions/5380568/algorithm-to-find-k-smallest-numbers-in-array-of-n-items\n",
    "\n",
    "### Algorithm steps:\n",
    "\n",
    " 1. find the k'th element in A using 'selection algorithm', let it be 'z'\n",
    " 2. initialize an empty list 'L'\n",
    " 3. initialize counter<-0\n",
    " 4. for each element in A: \n",
    "         4.1. if element < z: \n",
    "         4.1.1. counter<-counter + 1 ; L.add(element)\n",
    " 5. for each element in A:\n",
    "         5.1. if element == z AND count < k:\n",
    "               5.1.1. counter<-counter + 1 ; L.add(element)\n",
    " 6. return L"
   ]
  }
 ],
 "metadata": {
  "kernelspec": {
   "display_name": "Python 2",
   "language": "python",
   "name": "python2"
  },
  "language_info": {
   "codemirror_mode": {
    "name": "ipython",
    "version": 2
   },
   "file_extension": ".py",
   "mimetype": "text/x-python",
   "name": "python",
   "nbconvert_exporter": "python",
   "pygments_lexer": "ipython2",
   "version": "2.7.12"
  }
 },
 "nbformat": 4,
 "nbformat_minor": 0
}
