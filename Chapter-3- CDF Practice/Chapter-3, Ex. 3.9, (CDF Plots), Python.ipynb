{
 "cells": [
  {
   "cell_type": "markdown",
   "metadata": {},
   "source": [
    "## Introduction:\n",
    "\n",
    "Write a function called Sample, that takes a Cdf and an integer, n, and returns a list of n values chosen at random from the Cdf. \n",
    "\n",
    "Hint: use random.random. You will find a solution to this exercise in Cdf.py\n",
    "\n",
    "\n",
    "Using the distribution of birth weights from the NSFG, generate a random sample with 1000 elements. Compute the CDF of the sample. Make a plot that shows the original CDF and the CDF of the random sample. For large values of n, the distributions should be the same.\n",
    "\n",
    "\n",
    "## Solution steps:\n",
    "\n",
    "- Choose a random probability in the range 0–1.\n",
    "- Use Cdf.Value to find the value in the distribution that corresponds to the probability you chose."
   ]
  },
  {
   "cell_type": "code",
   "execution_count": 73,
   "metadata": {
    "collapsed": false
   },
   "outputs": [],
   "source": [
    "import numpy as np\n",
    "import survey\n",
    "import first\n",
    "import Cdf\n",
    "import relay\n",
    "import score_example\n",
    "import itertools\n",
    "import pandas as pd\n",
    "import matplotlib.pyplot as plt\n",
    "%matplotlib inline "
   ]
  },
  {
   "cell_type": "code",
   "execution_count": 102,
   "metadata": {
    "collapsed": true
   },
   "outputs": [],
   "source": [
    "def Sample(cdf_, n):\n",
    "    rand_vals = np.random.sample(n)\n",
    "    vals = []\n",
    "    \n",
    "    for i in rand_vals:\n",
    "        vals.append(Cdf.Cdf.Value(cdf_, i))\n",
    "\n",
    "    return vals"
   ]
  },
  {
   "cell_type": "markdown",
   "metadata": {},
   "source": [
    "### Data Extraction:"
   ]
  },
  {
   "cell_type": "code",
   "execution_count": 66,
   "metadata": {
    "collapsed": false
   },
   "outputs": [],
   "source": [
    "table = survey.Pregnancies()\n",
    "table.ReadRecords()\n",
    "outcome_ = np.zeros([len(table.records), 1])\n",
    "\n",
    "for i in xrange(len(table.records)):\n",
    "    outcome_[i] = table.records[i].outcome"
   ]
  },
  {
   "cell_type": "code",
   "execution_count": 67,
   "metadata": {
    "collapsed": false
   },
   "outputs": [
    {
     "data": {
      "text/plain": [
       "(<survey.Pregnancies at 0x7f62bdf54590>,\n",
       " <survey.Pregnancies at 0x7f62bdf54d90>)"
      ]
     },
     "execution_count": 67,
     "metadata": {},
     "output_type": "execute_result"
    }
   ],
   "source": [
    "partitions = first.PartitionRecords(table)\n",
    "partitions  # divide the data to firsts, others .. "
   ]
  },
  {
   "cell_type": "code",
   "execution_count": 68,
   "metadata": {
    "collapsed": false
   },
   "outputs": [
    {
     "data": {
      "text/plain": [
       "(4413, 4735)"
      ]
     },
     "execution_count": 68,
     "metadata": {},
     "output_type": "execute_result"
    }
   ],
   "source": [
    "first_baby = partitions[0]\n",
    "others = partitions[1]\n",
    "len(first_baby), len(others)"
   ]
  },
  {
   "cell_type": "code",
   "execution_count": 69,
   "metadata": {
    "collapsed": false
   },
   "outputs": [
    {
     "data": {
      "text/plain": [
       "(<survey.Pregnancies at 0x7f62c7973650>,\n",
       " <survey.Pregnancies at 0x7f62bdaa8b90>,\n",
       " <survey.Pregnancies at 0x7f62bdaa8bd0>)"
      ]
     },
     "execution_count": 69,
     "metadata": {},
     "output_type": "execute_result"
    }
   ],
   "source": [
    "## tables \n",
    "t = first.MakeTables()\n",
    "original_table = t[0]\n",
    "firsts_table = t[1]\n",
    "others_table = t[2]\n",
    "\n",
    "original_table, firsts_table, others_table"
   ]
  },
  {
   "cell_type": "code",
   "execution_count": 70,
   "metadata": {
    "collapsed": true
   },
   "outputs": [],
   "source": [
    "## I have to try Dr's way as a more effecient way .. \n",
    "\n",
    "\n",
    "first_baby_ = np.zeros([len(firsts_table.records), 1])\n",
    "\n",
    "for i in xrange(len(firsts_table.records)):\n",
    "    try:\n",
    "        first_baby_[i] = firsts_table.records[i].birthwgt_oz\n",
    "    except ValueError:\n",
    "        first_baby_[i] = 0"
   ]
  },
  {
   "cell_type": "code",
   "execution_count": 71,
   "metadata": {
    "collapsed": true
   },
   "outputs": [],
   "source": [
    "others_baby_ = np.zeros([len(others_table.records), 1])\n",
    "\n",
    "for i in xrange(len(others_table.records)):\n",
    "    try:\n",
    "        others_baby_[i] = others_table.records[i].birthwgt_oz\n",
    "    except ValueError:\n",
    "        others_baby_[i] = 0"
   ]
  },
  {
   "cell_type": "code",
   "execution_count": 76,
   "metadata": {
    "collapsed": false
   },
   "outputs": [
    {
     "data": {
      "text/plain": [
       "array([ 13.,   2.,   9., ...,   0.,   8.,   8.])"
      ]
     },
     "execution_count": 76,
     "metadata": {},
     "output_type": "execute_result"
    }
   ],
   "source": [
    "all_babies = np.append(first_baby_, others_baby_)\n",
    "all_babies ## weights of all babies .. "
   ]
  },
  {
   "cell_type": "code",
   "execution_count": 80,
   "metadata": {
    "collapsed": false
   },
   "outputs": [
    {
     "data": {
      "text/plain": [
       "9148"
      ]
     },
     "execution_count": 80,
     "metadata": {},
     "output_type": "execute_result"
    }
   ],
   "source": [
    "merged = list(itertools.chain(*[all_babies]))\n",
    "len(merged)"
   ]
  },
  {
   "cell_type": "code",
   "execution_count": 81,
   "metadata": {
    "collapsed": true
   },
   "outputs": [],
   "source": [
    "cdf_population = Cdf.MakeCdfFromList(merged)"
   ]
  },
  {
   "cell_type": "code",
   "execution_count": 100,
   "metadata": {
    "collapsed": false
   },
   "outputs": [
    {
     "data": {
      "text/plain": [
       "[<matplotlib.lines.Line2D at 0x7f62bc503b10>]"
      ]
     },
     "execution_count": 100,
     "metadata": {},
     "output_type": "execute_result"
    },
    {
     "data": {
      "image/png": "[encoded data removed]",
      "text/plain": [
       "<matplotlib.figure.Figure at 0x7f62bd70e1d0>"
      ]
     },
     "metadata": {},
     "output_type": "display_data"
    }
   ],
   "source": [
    "plt.plot(cdf_population.xs, cdf_population.ps)"
   ]
  },
  {
   "cell_type": "code",
   "execution_count": 103,
   "metadata": {
    "collapsed": false
   },
   "outputs": [],
   "source": [
    "n = 1000\n",
    "sample_cdf  = Sample(cdf_population, n)"
   ]
  },
  {
   "cell_type": "code",
   "execution_count": null,
   "metadata": {
    "collapsed": false
   },
   "outputs": [],
   "source": [
    "I need to plot the sample cdf and compare it with the original data's cdf"
   ]
  },
  {
   "cell_type": "code",
   "execution_count": null,
   "metadata": {
    "collapsed": true
   },
   "outputs": [],
   "source": []
  }
 ],
 "metadata": {
  "kernelspec": {
   "display_name": "Python 2",
   "language": "python",
   "name": "python2"
  },
  "language_info": {
   "codemirror_mode": {
    "name": "ipython",
    "version": 2
   },
   "file_extension": ".py",
   "mimetype": "text/x-python",
   "name": "python",
   "nbconvert_exporter": "python",
   "pygments_lexer": "ipython2",
   "version": "2.7.12"
  }
 },
 "nbformat": 4,
 "nbformat_minor": 0
}
