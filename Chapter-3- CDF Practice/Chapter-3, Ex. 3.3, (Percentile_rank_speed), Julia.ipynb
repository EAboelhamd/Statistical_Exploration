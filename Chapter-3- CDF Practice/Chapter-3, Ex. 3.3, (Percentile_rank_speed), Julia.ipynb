{
 "cells": [
  {
   "cell_type": "markdown",
   "metadata": {},
   "source": [
    "## Introduction:\n",
    "If you are given a value, it is easy to find its percentile rank; going the other way is slightly harder. If you are given a percentile rank and you want to find the corresponding value, one option is to sort the values and search for\n",
    "the one you want:\n",
    "\n",
    "    def Percentile(scores, percentile_rank):\n",
    "        scores.sort()\n",
    "    for score in scores:\n",
    "        if PercentileRank(scores, score) >= percentile_rank:\n",
    "            return score\n",
    "            \n",
    "The result of this calculation is a percentile. For example, the 50th percentile is the value with percentile rank 50. In the distribution of exam scores, the 50th percentile is 77 ..\n",
    "\n",
    "This implementation of Percentile is not very efficient. A better approach is to use the percentile rank to compute the index of the corresponding percentile. Write a version of Percentile that uses this algorithm."
   ]
  },
  {
   "cell_type": "code",
   "execution_count": 33,
   "metadata": {
    "collapsed": false
   },
   "outputs": [
    {
     "data": {
      "text/plain": [
       "88"
      ]
     },
     "execution_count": 33,
     "metadata": {},
     "output_type": "execute_result"
    }
   ],
   "source": [
    "scores = [55, 66, 77, 88, 99]\n",
    "your_score = 88"
   ]
  },
  {
   "cell_type": "code",
   "execution_count": 34,
   "metadata": {
    "collapsed": false
   },
   "outputs": [
    {
     "name": "stderr",
     "output_type": "stream",
     "text": [
      "WARNING: Method definition modified_percentile_rank(Any, Any) in module Main at In[32]:3 overwritten at In[34]:3.\n"
     ]
    },
    {
     "data": {
      "text/plain": [
       "modified_percentile_rank (generic function with 1 method)"
      ]
     },
     "execution_count": 34,
     "metadata": {},
     "output_type": "execute_result"
    }
   ],
   "source": [
    "function modified_percentile_rank(scores, percentile_rank)\n",
    "    \n",
    "    sort(scores)\n",
    "    \n",
    "    index = Int(round(percentile_rank * length(scores) / 100))\n",
    "\n",
    "    return scores[index]\n",
    "end"
   ]
  },
  {
   "cell_type": "code",
   "execution_count": 35,
   "metadata": {
    "collapsed": false
   },
   "outputs": [
    {
     "name": "stderr",
     "output_type": "stream",
     "text": [
      "WARNING: Method definition Percentile_Rank(Any, Any) in module Main at In[28]:4 overwritten at In[35]:4.\n"
     ]
    },
    {
     "data": {
      "text/plain": [
       "Percentile_Rank (generic function with 1 method)"
      ]
     },
     "execution_count": 35,
     "metadata": {},
     "output_type": "execute_result"
    }
   ],
   "source": [
    "## let's calc the percentile rank .. \n",
    "\n",
    "function Percentile_Rank(scores, your_score)\n",
    "    count = 0\n",
    "    \n",
    "    for score in scores\n",
    "        if score <= your_score\n",
    "            count += 1\n",
    "        end\n",
    "    end\n",
    "\n",
    "    percentile_rank = 100.0 * count / length(scores)\n",
    "    \n",
    "    return percentile_rank\n",
    "end"
   ]
  },
  {
   "cell_type": "code",
   "execution_count": 36,
   "metadata": {
    "collapsed": false
   },
   "outputs": [
    {
     "data": {
      "text/plain": [
       "80.0"
      ]
     },
     "execution_count": 36,
     "metadata": {},
     "output_type": "execute_result"
    }
   ],
   "source": [
    "percentile_rank = Percentile_Rank(scores, your_score)"
   ]
  },
  {
   "cell_type": "code",
   "execution_count": 37,
   "metadata": {
    "collapsed": false
   },
   "outputs": [
    {
     "data": {
      "text/plain": [
       "88"
      ]
     },
     "execution_count": 37,
     "metadata": {},
     "output_type": "execute_result"
    }
   ],
   "source": [
    "modified_percentile_rank(scores, percentile_rank)"
   ]
  },
  {
   "cell_type": "code",
   "execution_count": 47,
   "metadata": {
    "collapsed": false
   },
   "outputs": [
    {
     "name": "stdout",
     "output_type": "stream",
     "text": [
      "\n",
      "\n",
      "0 0.0 \n",
      "\n",
      "20 0.0 \n",
      "\n",
      "25 0.0 \n",
      "\n",
      "40 0.0 \n",
      "\n",
      "50 0.0 \n",
      "\n",
      "60 20.0 \n",
      "\n",
      "75 40.0 \n",
      "\n",
      "80 60.0 \n",
      "\n",
      "100 100.0 "
     ]
    }
   ],
   "source": [
    "vec = [0, 20, 25, 40, 50, 60, 75, 80, 100] #percentile ranks \n",
    "\n",
    "for percentile_rank in vec\n",
    "    println('\\n')\n",
    "    print(percentile_rank, \" \"),\n",
    "    print(Percentile_Rank(scores, percentile_rank), \" \") \n",
    "    #     print(modified_percentile_rank(scores, percentile_rank))  # Commented cuase it won't work in case of zero percentile ranks !\n",
    "end"
   ]
  },
  {
   "cell_type": "markdown",
   "metadata": {},
   "source": [
    "Minimum score in scores values is 55 .. \n",
    "this is why we have value of zero corresponding to any percentile rank less than 55 ! "
   ]
  }
 ],
 "metadata": {
  "kernelspec": {
   "display_name": "Julia 0.5.0",
   "language": "julia",
   "name": "julia-0.5"
  },
  "language_info": {
   "file_extension": ".jl",
   "mimetype": "application/julia",
   "name": "julia",
   "version": "0.5.0"
  }
 },
 "nbformat": 4,
 "nbformat_minor": 0
}
