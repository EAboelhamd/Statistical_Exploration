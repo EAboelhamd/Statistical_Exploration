{
 "cells": [
  {
   "cell_type": "markdown",
   "metadata": {},
   "source": [
    "## Introduction:\n",
    "\n",
    "Download Cdf.py and relay.py (see Exercise 3.2) and generate a plot that shows the CDF of running speeds. Which gives you a better sense of the shape of the distribution, the PMF or the CDF? You can download a solution from http://thinkstats.com/relay_cdf.py."
   ]
  },
  {
   "cell_type": "code",
   "execution_count": 2,
   "metadata": {
    "collapsed": false
   },
   "outputs": [],
   "source": [
    "import relay_cdf\n",
    "import Cdf\n",
    "import relay\n",
    "import matplotlib.pyplot as plt\n",
    "%matplotlib inline"
   ]
  },
  {
   "cell_type": "code",
   "execution_count": 4,
   "metadata": {
    "collapsed": false
   },
   "outputs": [
    {
     "name": "stdout",
     "output_type": "stream",
     "text": [
      "Writing relay_cdf.pdf\n",
      "Writing relay_cdf.eps\n"
     ]
    },
    {
     "data": {
      "text/plain": [
       "<matplotlib.figure.Figure at 0x7ff5059f90d0>"
      ]
     },
     "metadata": {},
     "output_type": "display_data"
    }
   ],
   "source": [
    "relay_cdf.main()"
   ]
  },
  {
   "cell_type": "markdown",
   "metadata": {},
   "source": [
    "The output of the above call is the continuous distribution for the speeds data .. \n",
    "\n",
    "Let's try to imeplement it ourselves .. "
   ]
  },
  {
   "cell_type": "code",
   "execution_count": 5,
   "metadata": {
    "collapsed": false
   },
   "outputs": [
    {
     "data": {
      "text/plain": [
       "[('2', '2/362', 'M2039', '31:36', '31:36', '5:06'),\n",
       " ('3', '3/362', 'M2039', '31:42', '31:42', '5:07'),\n",
       " ('4', '4/362', 'M2039', '32:28', '32:27', '5:14'),\n",
       " ('5', '5/362', 'M2039', '32:52', '32:52', '5:18'),\n",
       " ('6', '6/362', 'M2039', '33:06', '33:06', '5:20'),\n",
       " ('7', '1/256', 'M4049', '33:33', '33:33', '5:24'),\n",
       " ('8', '2/256', 'M4049', '33:42', '33:42', '5:26'),\n",
       " ('9', '3/256', 'M4049', '33:54', '33:54', '5:28'),\n",
       " ('10', '7/362', 'M2039', '33:56', '33:56', '5:28')]"
      ]
     },
     "execution_count": 5,
     "metadata": {},
     "output_type": "execute_result"
    }
   ],
   "source": [
    "results = relay.ReadResults()\n",
    "results[1:10]"
   ]
  },
  {
   "cell_type": "code",
   "execution_count": 6,
   "metadata": {
    "collapsed": false
   },
   "outputs": [
    {
     "data": {
      "text/plain": [
       "[11.76470588235294,\n",
       " 11.726384364820847,\n",
       " 11.464968152866243,\n",
       " 11.320754716981133,\n",
       " 11.25,\n",
       " 11.11111111111111,\n",
       " 11.042944785276074,\n",
       " 10.97560975609756,\n",
       " 10.97560975609756]"
      ]
     },
     "execution_count": 6,
     "metadata": {},
     "output_type": "execute_result"
    }
   ],
   "source": [
    "speeds = relay.GetSpeeds(results)\n",
    "speeds[1:10]"
   ]
  },
  {
   "cell_type": "markdown",
   "metadata": {},
   "source": [
    "Let's make CDF from list of speeds .. "
   ]
  },
  {
   "cell_type": "code",
   "execution_count": 7,
   "metadata": {
    "collapsed": false
   },
   "outputs": [
    {
     "data": {
      "text/plain": [
       "[(3.2258064516129035, 0.0012531328320802004),\n",
       " (3.278688524590164, 0.002506265664160401),\n",
       " (3.3834586466165413, 0.003132832080200501),\n",
       " (4.031354983202688, 0.0037593984962406013),\n",
       " (4.04494382022472, 0.0043859649122807015),\n",
       " (4.049493813273341, 0.005012531328320802),\n",
       " (4.0862656072644725, 0.005639097744360902),\n",
       " (4.123711340206186, 0.006265664160401002),\n",
       " (4.128440366972478, 0.006892230576441102)]"
      ]
     },
     "execution_count": 7,
     "metadata": {},
     "output_type": "execute_result"
    }
   ],
   "source": [
    "cdfs = Cdf.MakeCdfFromList(speeds)\n",
    "cdfs.Items()[1:10]"
   ]
  },
  {
   "cell_type": "markdown",
   "metadata": {},
   "source": [
    "Notice that these values are fractions .. this implies the following:\n",
    "1. The shape of these data is expected to be continuous curve ..\n",
    "2. We can not only find the Cdf of the given values .. but also, any input speed on the curve due to the continuous nature of the curve .. \n",
    "3. The steepness of the curve increases by increasing the number of data points .."
   ]
  },
  {
   "cell_type": "code",
   "execution_count": 8,
   "metadata": {
    "collapsed": false
   },
   "outputs": [
    {
     "data": {
      "text/plain": [
       "[<matplotlib.lines.Line2D at 0x7ff4e12b1750>]"
      ]
     },
     "execution_count": 8,
     "metadata": {},
     "output_type": "execute_result"
    },
    {
     "data": {
      "image/png": "[encoded data removed]",
      "text/plain": [
       "<matplotlib.figure.Figure at 0x7ff501277cd0>"
      ]
     },
     "metadata": {},
     "output_type": "display_data"
    }
   ],
   "source": [
    "plt.plot(cdfs.xs, cdfs.ps)"
   ]
  },
  {
   "cell_type": "markdown",
   "metadata": {},
   "source": [
    "This matches the shape of the curve generated from relay_cdf()\n",
    "\n",
    "## Which gives you a better sense of the shape of the distribution, the PMF or the CDF? \n",
    "Pdf .. \n",
    "\n",
    "As Cdf always increase up to 1 .. hence, it deosn't show whether this is a normal, skewed curve !! .. \n",
    "\n",
    "However, Pdf, tells about the shape of the distribution (i.e. Normal, Skewed) ..\n",
    "\n",
    "Let's plot PMF to check .. "
   ]
  },
  {
   "cell_type": "code",
   "execution_count": 9,
   "metadata": {
    "collapsed": false
   },
   "outputs": [
    {
     "data": {
      "image/png": "[encoded data removed]",
      "text/plain": [
       "<matplotlib.figure.Figure at 0x7ff4e0f29310>"
      ]
     },
     "metadata": {},
     "output_type": "display_data"
    }
   ],
   "source": [
    "relay.main()"
   ]
  },
  {
   "cell_type": "markdown",
   "metadata": {},
   "source": [
    "The distribution of the speeds is almost normal .."
   ]
  }
 ],
 "metadata": {
  "kernelspec": {
   "display_name": "Python 2",
   "language": "python",
   "name": "python2"
  },
  "language_info": {
   "codemirror_mode": {
    "name": "ipython",
    "version": 2
   },
   "file_extension": ".py",
   "mimetype": "text/x-python",
   "name": "python",
   "nbconvert_exporter": "python",
   "pygments_lexer": "ipython2",
   "version": "2.7.12"
  }
 },
 "nbformat": 4,
 "nbformat_minor": 0
}
