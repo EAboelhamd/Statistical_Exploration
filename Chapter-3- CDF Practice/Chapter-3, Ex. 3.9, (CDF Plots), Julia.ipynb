{
 "cells": [
  {
   "cell_type": "markdown",
   "metadata": {},
   "source": [
    "## Introduction:\n",
    "\n",
    "- Write a function called Sample, that takes a Cdf and an integer, n, and returns a list of n values chosen at random from the Cdf. \n",
    "\n",
    "- Using the distribution of birth weights from the NSFG, generate a random sample with 1000 elements. Compute the CDF of the sample. Make a plot that shows the original CDF and the CDF of the random sample. For large values of n, the distributions should be the same.\n",
    "\n",
    "\n",
    "## Solution steps:\n",
    "\n",
    "- Choose a random probability in the range 0–1.\n",
    "- Use Cdf.Value to find the value in the distribution that corresponds to the probability you chose."
   ]
  },
  {
   "cell_type": "code",
   "execution_count": 1,
   "metadata": {
    "collapsed": true
   },
   "outputs": [],
   "source": [
    "using StatsBase\n",
    "using DataFrames\n",
    "using Plots"
   ]
  },
  {
   "cell_type": "code",
   "execution_count": 2,
   "metadata": {
    "collapsed": false
   },
   "outputs": [
    {
     "data": {
      "text/plain": [
       "Sample (generic function with 1 method)"
      ]
     },
     "execution_count": 2,
     "metadata": {},
     "output_type": "execute_result"
    }
   ],
   "source": [
    "function Sample(cdf_, n)\n",
    "    rand_vals = sample(1:100, n, replace = false)\n",
    "    vals = []\n",
    "    \n",
    "    for i in rand_vals\n",
    "        append!(vals, cdf_.vals[i])\n",
    "    end \n",
    "    \n",
    "    return vals\n",
    "end "
   ]
  },
  {
   "cell_type": "markdown",
   "metadata": {},
   "source": [
    "Let's call the above function after constructing CDF for the birth weights of NSFG dataset .. "
   ]
  },
  {
   "cell_type": "code",
   "execution_count": 3,
   "metadata": {
    "collapsed": false
   },
   "outputs": [
    {
     "data": {
      "text/plain": [
       "10-element Array{Tuple{String,Int64,Int64,DataType},1}:\n",
       " (\"caseid\",1,12,Int64)       \n",
       " (\"nbrnaliv\",22,22,Int64)    \n",
       " (\"babysex\",56,56,Int64)     \n",
       " (\"birthwgt_lb\",57,58,Int64) \n",
       " (\"birthwgt_oz\",59,60,Int64) \n",
       " (\"prglength\",275,276,Int64) \n",
       " (\"outcome\",277,277,Int64)   \n",
       " (\"birthord\",278,279,Int64)  \n",
       " (\"agepreg\",284,287,Int64)   \n",
       " (\"finalwgt\",423,440,Float64)"
      ]
     },
     "execution_count": 3,
     "metadata": {},
     "output_type": "execute_result"
    }
   ],
   "source": [
    "data = [(\"caseid\",1,12,Int), (\"nbrnaliv\",22,22,Int),(\"babysex\",56,56,Int), (\"birthwgt_lb\",57,58,Int),(\"birthwgt_oz\",59,60,Int), (\"prglength\", 275,276,Int), (\"outcome\", 277,277, Int), (\"birthord\",278,279,Int), (\"agepreg\", 284,287,Int), (\"finalwgt\",423,440,Float64)]"
   ]
  },
  {
   "cell_type": "code",
   "execution_count": 4,
   "metadata": {
    "collapsed": false
   },
   "outputs": [
    {
     "data": {
      "text/html": [
       "<table class=\"data-frame\"><thead><tr><th></th></tr></thead><tbody></tbody></table>"
      ],
      "text/plain": [
       "0×0 DataFrames.DataFrame\n"
      ]
     },
     "execution_count": 4,
     "metadata": {},
     "output_type": "execute_result"
    }
   ],
   "source": [
    "df_=DataFrame()"
   ]
  },
  {
   "cell_type": "code",
   "execution_count": 5,
   "metadata": {
    "collapsed": false
   },
   "outputs": [
    {
     "data": {
      "text/plain": [
       "10-element Array{Array{T,1},1}:\n",
       " Int64[]  \n",
       " Int64[]  \n",
       " Int64[]  \n",
       " Int64[]  \n",
       " Int64[]  \n",
       " Int64[]  \n",
       " Int64[]  \n",
       " Int64[]  \n",
       " Int64[]  \n",
       " Float64[]"
      ]
     },
     "execution_count": 5,
     "metadata": {},
     "output_type": "execute_result"
    }
   ],
   "source": [
    "map(x->df_[Symbol(x[1])]=Vector{x[4]}(0),data)"
   ]
  },
  {
   "cell_type": "code",
   "execution_count": 6,
   "metadata": {
    "collapsed": true
   },
   "outputs": [],
   "source": [
    "open(\"2002FemPreg.dat\",\"r\") do io\n",
    "    for l in eachline(io)\n",
    "        if length(l)>100\n",
    "            for (i,case) in enumerate(data)\n",
    "                val2push=\n",
    "                try \n",
    "                    parse(case[4],l[case[2]:case[3]])\n",
    "                catch \n",
    "                    NA\n",
    "                end\n",
    "                push!(df_[Symbol(case[1])],val2push)\n",
    "          end\n",
    "      end\n",
    "    end\n",
    "end"
   ]
  },
  {
   "cell_type": "code",
   "execution_count": 7,
   "metadata": {
    "collapsed": false
   },
   "outputs": [
    {
     "data": {
      "text/html": [
       "<table class=\"data-frame\"><thead><tr><th></th><th>caseid</th><th>nbrnaliv</th><th>babysex</th><th>birthwgt_lb</th><th>birthwgt_oz</th><th>prglength</th><th>outcome</th><th>birthord</th><th>agepreg</th><th>finalwgt</th></tr></thead><tbody><tr><th>1</th><td>1</td><td>1</td><td>1</td><td>8</td><td>13</td><td>39</td><td>1</td><td>1</td><td>3316</td><td>6448.271111704751</td></tr><tr><th>2</th><td>1</td><td>1</td><td>2</td><td>7</td><td>14</td><td>39</td><td>1</td><td>2</td><td>3925</td><td>6448.271111704751</td></tr><tr><th>3</th><td>2</td><td>3</td><td>1</td><td>9</td><td>2</td><td>39</td><td>1</td><td>1</td><td>1433</td><td>12999.542264385902</td></tr><tr><th>4</th><td>2</td><td>1</td><td>2</td><td>7</td><td>0</td><td>39</td><td>1</td><td>2</td><td>1783</td><td>12999.542264385902</td></tr><tr><th>5</th><td>2</td><td>1</td><td>2</td><td>6</td><td>3</td><td>39</td><td>1</td><td>3</td><td>1833</td><td>12999.542264385902</td></tr><tr><th>6</th><td>6</td><td>1</td><td>1</td><td>8</td><td>9</td><td>38</td><td>1</td><td>1</td><td>2700</td><td>8874.440799222995</td></tr><tr><th>7</th><td>6</td><td>1</td><td>2</td><td>9</td><td>9</td><td>40</td><td>1</td><td>2</td><td>2883</td><td>8874.440799222995</td></tr><tr><th>8</th><td>6</td><td>1</td><td>2</td><td>8</td><td>6</td><td>42</td><td>1</td><td>3</td><td>3016</td><td>8874.440799222995</td></tr><tr><th>9</th><td>7</td><td>1</td><td>1</td><td>7</td><td>9</td><td>39</td><td>1</td><td>1</td><td>2808</td><td>6911.879920534536</td></tr><tr><th>10</th><td>7</td><td>1</td><td>2</td><td>6</td><td>10</td><td>35</td><td>1</td><td>2</td><td>3233</td><td>6911.879920534536</td></tr><tr><th>11</th><td>12</td><td>1</td><td>1</td><td>7</td><td>13</td><td>39</td><td>1</td><td>1</td><td>2575</td><td>6909.331618252927</td></tr><tr><th>12</th><td>14</td><td>1</td><td>2</td><td>7</td><td>0</td><td>39</td><td>1</td><td>1</td><td>2300</td><td>3039.904507096879</td></tr><tr><th>13</th><td>14</td><td>1</td><td>1</td><td>4</td><td>0</td><td>37</td><td>1</td><td>2</td><td>2458</td><td>3039.904507096879</td></tr><tr><th>14</th><td>14</td><td>NA</td><td>NA</td><td>NA</td><td>NA</td><td>9</td><td>2</td><td>NA</td><td>2983</td><td>3039.904507096879</td></tr><tr><th>15</th><td>15</td><td>NA</td><td>NA</td><td>NA</td><td>NA</td><td>3</td><td>4</td><td>NA</td><td>2750</td><td>5553.495599217641</td></tr><tr><th>16</th><td>15</td><td>1</td><td>2</td><td>7</td><td>11</td><td>33</td><td>1</td><td>1</td><td>2833</td><td>5553.495599217641</td></tr><tr><th>17</th><td>15</td><td>1</td><td>2</td><td>7</td><td>8</td><td>33</td><td>1</td><td>2</td><td>3033</td><td>5553.495599217641</td></tr><tr><th>18</th><td>18</td><td>1</td><td>1</td><td>6</td><td>5</td><td>39</td><td>1</td><td>1</td><td>1891</td><td>4153.371741429463</td></tr><tr><th>19</th><td>18</td><td>NA</td><td>NA</td><td>NA</td><td>NA</td><td>5</td><td>4</td><td>NA</td><td>2783</td><td>4153.371741429463</td></tr><tr><th>20</th><td>21</td><td>1</td><td>2</td><td>8</td><td>12</td><td>41</td><td>1</td><td>1</td><td>2791</td><td>7237.122630412091</td></tr><tr><th>21</th><td>21</td><td>1</td><td>2</td><td>8</td><td>3</td><td>39</td><td>1</td><td>2</td><td>3058</td><td>7237.122630412091</td></tr><tr><th>22</th><td>23</td><td>1</td><td>1</td><td>5</td><td>9</td><td>39</td><td>1</td><td>1</td><td>1891</td><td>13533.382043124135</td></tr><tr><th>23</th><td>23</td><td>NA</td><td>NA</td><td>NA</td><td>NA</td><td>8</td><td>4</td><td>NA</td><td>2708</td><td>13533.382043124135</td></tr><tr><th>24</th><td>24</td><td>1</td><td>1</td><td>6</td><td>12</td><td>39</td><td>1</td><td>1</td><td>2225</td><td>7424.840414467087</td></tr><tr><th>25</th><td>24</td><td>1</td><td>2</td><td>7</td><td>6</td><td>39</td><td>1</td><td>2</td><td>2575</td><td>7424.840414467087</td></tr><tr><th>26</th><td>24</td><td>1</td><td>1</td><td>6</td><td>13</td><td>39</td><td>1</td><td>3</td><td>2941</td><td>7424.840414467087</td></tr><tr><th>27</th><td>28</td><td>1</td><td>1</td><td>8</td><td>2</td><td>39</td><td>1</td><td>1</td><td>3266</td><td>6949.8460820623295</td></tr><tr><th>28</th><td>31</td><td>1</td><td>1</td><td>7</td><td>2</td><td>42</td><td>1</td><td>1</td><td>1883</td><td>5211.9431128540555</td></tr><tr><th>29</th><td>31</td><td>1</td><td>1</td><td>6</td><td>1</td><td>37</td><td>1</td><td>2</td><td>2083</td><td>5211.9431128540555</td></tr><tr><th>30</th><td>31</td><td>1</td><td>1</td><td>7</td><td>7</td><td>40</td><td>1</td><td>3</td><td>2166</td><td>5211.9431128540555</td></tr><tr><th>&vellip;</th><td>&vellip;</td><td>&vellip;</td><td>&vellip;</td><td>&vellip;</td><td>&vellip;</td><td>&vellip;</td><td>&vellip;</td><td>&vellip;</td><td>&vellip;</td><td>&vellip;</td></tr></tbody></table>"
      ],
      "text/plain": [
       "13593×10 DataFrames.DataFrame\n",
       "│ Row   │ caseid │ nbrnaliv │ babysex │ birthwgt_lb │ birthwgt_oz │ prglength │\n",
       "├───────┼────────┼──────────┼─────────┼─────────────┼─────────────┼───────────┤\n",
       "│ 1     │ 1      │ 1        │ 1       │ 8           │ 13          │ 39        │\n",
       "│ 2     │ 1      │ 1        │ 2       │ 7           │ 14          │ 39        │\n",
       "│ 3     │ 2      │ 3        │ 1       │ 9           │ 2           │ 39        │\n",
       "│ 4     │ 2      │ 1        │ 2       │ 7           │ 0           │ 39        │\n",
       "│ 5     │ 2      │ 1        │ 2       │ 6           │ 3           │ 39        │\n",
       "│ 6     │ 6      │ 1        │ 1       │ 8           │ 9           │ 38        │\n",
       "│ 7     │ 6      │ 1        │ 2       │ 9           │ 9           │ 40        │\n",
       "│ 8     │ 6      │ 1        │ 2       │ 8           │ 6           │ 42        │\n",
       "│ 9     │ 7      │ 1        │ 1       │ 7           │ 9           │ 39        │\n",
       "│ 10    │ 7      │ 1        │ 2       │ 6           │ 10          │ 35        │\n",
       "│ 11    │ 12     │ 1        │ 1       │ 7           │ 13          │ 39        │\n",
       "⋮\n",
       "│ 13582 │ 12568  │ 1        │ 1       │ 6           │ 6           │ 39        │\n",
       "│ 13583 │ 12568  │ NA       │ NA      │ NA          │ NA          │ 3         │\n",
       "│ 13584 │ 12569  │ NA       │ NA      │ NA          │ NA          │ 17        │\n",
       "│ 13585 │ 12569  │ 1        │ 2       │ 6           │ 6           │ 34        │\n",
       "│ 13586 │ 12570  │ NA       │ NA      │ NA          │ NA          │ 9         │\n",
       "│ 13587 │ 12570  │ NA       │ NA      │ NA          │ NA          │ 9         │\n",
       "│ 13588 │ 12570  │ NA       │ NA      │ NA          │ NA          │ 9         │\n",
       "│ 13589 │ 12571  │ 1        │ 1       │ 6           │ 3           │ 39        │\n",
       "│ 13590 │ 12571  │ NA       │ NA      │ NA          │ NA          │ 6         │\n",
       "│ 13591 │ 12571  │ NA       │ NA      │ NA          │ NA          │ 5         │\n",
       "│ 13592 │ 12571  │ 1        │ 1       │ 7           │ 8           │ 39        │\n",
       "│ 13593 │ 12571  │ 1        │ 1       │ 7           │ 8           │ 39        │\n",
       "\n",
       "│ Row   │ outcome │ birthord │ agepreg │ finalwgt │\n",
       "├───────┼─────────┼──────────┼─────────┼──────────┤\n",
       "│ 1     │ 1       │ 1        │ 3316    │ 6448.27  │\n",
       "│ 2     │ 1       │ 2        │ 3925    │ 6448.27  │\n",
       "│ 3     │ 1       │ 1        │ 1433    │ 12999.5  │\n",
       "│ 4     │ 1       │ 2        │ 1783    │ 12999.5  │\n",
       "│ 5     │ 1       │ 3        │ 1833    │ 12999.5  │\n",
       "│ 6     │ 1       │ 1        │ 2700    │ 8874.44  │\n",
       "│ 7     │ 1       │ 2        │ 2883    │ 8874.44  │\n",
       "│ 8     │ 1       │ 3        │ 3016    │ 8874.44  │\n",
       "│ 9     │ 1       │ 1        │ 2808    │ 6911.88  │\n",
       "│ 10    │ 1       │ 2        │ 3233    │ 6911.88  │\n",
       "│ 11    │ 1       │ 1        │ 2575    │ 6909.33  │\n",
       "⋮\n",
       "│ 13582 │ 1       │ 1        │ 3066    │ 7772.21  │\n",
       "│ 13583 │ 5       │ NA       │ 3325    │ 7772.21  │\n",
       "│ 13584 │ 2       │ NA       │ 2366    │ 5075.16  │\n",
       "│ 13585 │ 1       │ 1        │ 2691    │ 5075.16  │\n",
       "│ 13586 │ 2       │ NA       │ 2141    │ 11325.0  │\n",
       "│ 13587 │ 2       │ NA       │ 2241    │ 11325.0  │\n",
       "│ 13588 │ 2       │ NA       │ 2341    │ 11325.0  │\n",
       "│ 13589 │ 1       │ 1        │ 1791    │ 6269.2   │\n",
       "│ 13590 │ 2       │ NA       │ 1850    │ 6269.2   │\n",
       "│ 13591 │ 2       │ NA       │ 1975    │ 6269.2   │\n",
       "│ 13592 │ 1       │ 2        │ 2158    │ 6269.2   │\n",
       "│ 13593 │ 1       │ 3        │ 2158    │ 6269.2   │"
      ]
     },
     "execution_count": 7,
     "metadata": {},
     "output_type": "execute_result"
    }
   ],
   "source": [
    "df_"
   ]
  },
  {
   "cell_type": "code",
   "execution_count": 8,
   "metadata": {
    "collapsed": false
   },
   "outputs": [
    {
     "data": {
      "text/plain": [
       "9148-element Array{Int64,1}:\n",
       " 13\n",
       " 14\n",
       "  2\n",
       "  0\n",
       "  3\n",
       "  9\n",
       "  9\n",
       "  6\n",
       "  9\n",
       " 10\n",
       " 13\n",
       "  0\n",
       "  0\n",
       "  ⋮\n",
       "  0\n",
       " 13\n",
       "  9\n",
       "  2\n",
       "  7\n",
       "  0\n",
       "  0\n",
       "  6\n",
       "  6\n",
       "  3\n",
       "  8\n",
       "  8"
      ]
     },
     "execution_count": 8,
     "metadata": {},
     "output_type": "execute_result"
    }
   ],
   "source": [
    "class_weights = Int[]\n",
    "\n",
    "for i = 1:size(df_)[1]\n",
    "    if(df_[i, 7] == 1)  ##alive baby\n",
    "        try\n",
    "            append!(class_weights, df_[i, 5])\n",
    "        catch \n",
    "            0\n",
    "        end\n",
    "    end\n",
    "end\n",
    "class_weights"
   ]
  },
  {
   "cell_type": "code",
   "execution_count": 9,
   "metadata": {
    "collapsed": false
   },
   "outputs": [
    {
     "data": {
      "text/plain": [
       "Dict{Int64,Int64} with 49 entries:\n",
       "  2            => 603\n",
       "  11           => 557\n",
       "  -4294967291  => 1\n",
       "  94924368     => 1\n",
       "  2656         => 1\n",
       "  8            => 756\n",
       "  94846096     => 1\n",
       "  94916848     => 1\n",
       "  -208         => 1\n",
       "  91226113     => 1\n",
       "  14           => 475\n",
       "  94882624     => 1\n",
       "  94920192     => 1\n",
       "  94777392     => 1\n",
       "  3888         => 1\n",
       "  493921239040 => 1\n",
       "  4            => 525\n",
       "  13           => 487\n",
       "  99           => 46\n",
       "  94855064     => 1\n",
       "  1            => 409\n",
       "  4112         => 1\n",
       "  0            => 1059\n",
       "  9            => 505\n",
       "  7            => 501\n",
       "  ⋮            => ⋮"
      ]
     },
     "execution_count": 9,
     "metadata": {},
     "output_type": "execute_result"
    }
   ],
   "source": [
    "c = countmap(class_weights)"
   ]
  },
  {
   "cell_type": "code",
   "execution_count": 10,
   "metadata": {
    "collapsed": true
   },
   "outputs": [],
   "source": [
    "## construct CDF .. \n",
    "## call Sample() ..\n",
    "## plot the whole data and the returned from Sample()"
   ]
  },
  {
   "cell_type": "code",
   "execution_count": 11,
   "metadata": {
    "collapsed": false
   },
   "outputs": [
    {
     "ename": "LoadError",
     "evalue": "UndefVarError: cdf_ not defined",
     "output_type": "error",
     "traceback": [
      "UndefVarError: cdf_ not defined",
      ""
     ]
    }
   ],
   "source": [
    "Sample(cdf_, n)"
   ]
  },
  {
   "cell_type": "code",
   "execution_count": null,
   "metadata": {
    "collapsed": true
   },
   "outputs": [],
   "source": []
  }
 ],
 "metadata": {
  "kernelspec": {
   "display_name": "Julia 0.5.0",
   "language": "julia",
   "name": "julia-0.5"
  },
  "language_info": {
   "file_extension": ".jl",
   "mimetype": "application/julia",
   "name": "julia",
   "version": "0.5.0"
  }
 },
 "nbformat": 4,
 "nbformat_minor": 0
}
