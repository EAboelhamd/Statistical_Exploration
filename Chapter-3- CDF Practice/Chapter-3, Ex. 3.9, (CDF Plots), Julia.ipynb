{
 "cells": [
  {
   "cell_type": "markdown",
   "metadata": {},
   "source": [
    "## Introduction:\n",
    "\n",
    "- Write a function called Sample, that takes a Cdf and an integer, n, and returns a list of n values chosen at random from the Cdf. \n",
    "\n",
    "- Using the distribution of birth weights from the NSFG, generate a random sample with 1000 elements. Compute the CDF of the sample. Make a plot that shows the original CDF and the CDF of the random sample. For large values of n, the distributions should be the same.\n",
    "\n",
    "\n",
    "## Solution steps:\n",
    "\n",
    "- Choose a random probability in the range 0–1.\n",
    "- Use Cdf.Value to find the value in the distribution that corresponds to the probability you chose."
   ]
  },
  {
   "cell_type": "code",
   "execution_count": 1,
   "metadata": {
    "collapsed": true
   },
   "outputs": [],
   "source": [
    "using StatsBase\n",
    "using DataFrames\n",
    "using Plots"
   ]
  },
  {
   "cell_type": "markdown",
   "metadata": {},
   "source": [
    "Let's call the above function after constructing CDF for the birth weights of NSFG dataset .. "
   ]
  },
  {
   "cell_type": "code",
   "execution_count": 2,
   "metadata": {
    "collapsed": false
   },
   "outputs": [
    {
     "data": {
      "text/plain": [
       "10-element Array{Tuple{String,Int64,Int64,DataType},1}:\n",
       " (\"caseid\",1,12,Int64)       \n",
       " (\"nbrnaliv\",22,22,Int64)    \n",
       " (\"babysex\",56,56,Int64)     \n",
       " (\"birthwgt_lb\",57,58,Int64) \n",
       " (\"birthwgt_oz\",59,60,Int64) \n",
       " (\"prglength\",275,276,Int64) \n",
       " (\"outcome\",277,277,Int64)   \n",
       " (\"birthord\",278,279,Int64)  \n",
       " (\"agepreg\",284,287,Int64)   \n",
       " (\"finalwgt\",423,440,Float64)"
      ]
     },
     "execution_count": 2,
     "metadata": {},
     "output_type": "execute_result"
    }
   ],
   "source": [
    "data = [(\"caseid\",1,12,Int), (\"nbrnaliv\",22,22,Int),(\"babysex\",56,56,Int), (\"birthwgt_lb\",57,58,Int),(\"birthwgt_oz\",59,60,Int), (\"prglength\", 275,276,Int), (\"outcome\", 277,277, Int), (\"birthord\",278,279,Int), (\"agepreg\", 284,287,Int), (\"finalwgt\",423,440,Float64)]"
   ]
  },
  {
   "cell_type": "code",
   "execution_count": 3,
   "metadata": {
    "collapsed": false
   },
   "outputs": [
    {
     "data": {
      "text/html": [
       "<table class=\"data-frame\"><thead><tr><th></th></tr></thead><tbody></tbody></table>"
      ],
      "text/plain": [
       "0×0 DataFrames.DataFrame\n"
      ]
     },
     "execution_count": 3,
     "metadata": {},
     "output_type": "execute_result"
    }
   ],
   "source": [
    "df_=DataFrame()"
   ]
  },
  {
   "cell_type": "code",
   "execution_count": 4,
   "metadata": {
    "collapsed": false
   },
   "outputs": [
    {
     "data": {
      "text/plain": [
       "10-element Array{Array{T,1},1}:\n",
       " Int64[]  \n",
       " Int64[]  \n",
       " Int64[]  \n",
       " Int64[]  \n",
       " Int64[]  \n",
       " Int64[]  \n",
       " Int64[]  \n",
       " Int64[]  \n",
       " Int64[]  \n",
       " Float64[]"
      ]
     },
     "execution_count": 4,
     "metadata": {},
     "output_type": "execute_result"
    }
   ],
   "source": [
    "map(x->df_[Symbol(x[1])]=Vector{x[4]}(0),data)"
   ]
  },
  {
   "cell_type": "code",
   "execution_count": 5,
   "metadata": {
    "collapsed": true
   },
   "outputs": [],
   "source": [
    "open(\"2002FemPreg.dat\",\"r\") do io\n",
    "    for l in eachline(io)\n",
    "        if length(l)>100\n",
    "            for (i,case) in enumerate(data)\n",
    "                val2push=\n",
    "                try \n",
    "                    parse(case[4],l[case[2]:case[3]])\n",
    "                catch \n",
    "                    NA\n",
    "                end\n",
    "                push!(df_[Symbol(case[1])],val2push)\n",
    "          end\n",
    "      end\n",
    "    end\n",
    "end"
   ]
  },
  {
   "cell_type": "code",
   "execution_count": 6,
   "metadata": {
    "collapsed": false
   },
   "outputs": [
    {
     "data": {
      "text/html": [
       "<table class=\"data-frame\"><thead><tr><th></th><th>caseid</th><th>nbrnaliv</th><th>babysex</th><th>birthwgt_lb</th><th>birthwgt_oz</th><th>prglength</th><th>outcome</th><th>birthord</th><th>agepreg</th><th>finalwgt</th></tr></thead><tbody><tr><th>1</th><td>1</td><td>1</td><td>1</td><td>8</td><td>13</td><td>39</td><td>1</td><td>1</td><td>3316</td><td>6448.271111704751</td></tr><tr><th>2</th><td>1</td><td>1</td><td>2</td><td>7</td><td>14</td><td>39</td><td>1</td><td>2</td><td>3925</td><td>6448.271111704751</td></tr><tr><th>3</th><td>2</td><td>3</td><td>1</td><td>9</td><td>2</td><td>39</td><td>1</td><td>1</td><td>1433</td><td>12999.542264385902</td></tr><tr><th>4</th><td>2</td><td>1</td><td>2</td><td>7</td><td>0</td><td>39</td><td>1</td><td>2</td><td>1783</td><td>12999.542264385902</td></tr><tr><th>5</th><td>2</td><td>1</td><td>2</td><td>6</td><td>3</td><td>39</td><td>1</td><td>3</td><td>1833</td><td>12999.542264385902</td></tr><tr><th>6</th><td>6</td><td>1</td><td>1</td><td>8</td><td>9</td><td>38</td><td>1</td><td>1</td><td>2700</td><td>8874.440799222995</td></tr><tr><th>7</th><td>6</td><td>1</td><td>2</td><td>9</td><td>9</td><td>40</td><td>1</td><td>2</td><td>2883</td><td>8874.440799222995</td></tr><tr><th>8</th><td>6</td><td>1</td><td>2</td><td>8</td><td>6</td><td>42</td><td>1</td><td>3</td><td>3016</td><td>8874.440799222995</td></tr><tr><th>9</th><td>7</td><td>1</td><td>1</td><td>7</td><td>9</td><td>39</td><td>1</td><td>1</td><td>2808</td><td>6911.879920534536</td></tr><tr><th>10</th><td>7</td><td>1</td><td>2</td><td>6</td><td>10</td><td>35</td><td>1</td><td>2</td><td>3233</td><td>6911.879920534536</td></tr><tr><th>11</th><td>12</td><td>1</td><td>1</td><td>7</td><td>13</td><td>39</td><td>1</td><td>1</td><td>2575</td><td>6909.331618252927</td></tr><tr><th>12</th><td>14</td><td>1</td><td>2</td><td>7</td><td>0</td><td>39</td><td>1</td><td>1</td><td>2300</td><td>3039.904507096879</td></tr><tr><th>13</th><td>14</td><td>1</td><td>1</td><td>4</td><td>0</td><td>37</td><td>1</td><td>2</td><td>2458</td><td>3039.904507096879</td></tr><tr><th>14</th><td>14</td><td>NA</td><td>NA</td><td>NA</td><td>NA</td><td>9</td><td>2</td><td>NA</td><td>2983</td><td>3039.904507096879</td></tr><tr><th>15</th><td>15</td><td>NA</td><td>NA</td><td>NA</td><td>NA</td><td>3</td><td>4</td><td>NA</td><td>2750</td><td>5553.495599217641</td></tr><tr><th>16</th><td>15</td><td>1</td><td>2</td><td>7</td><td>11</td><td>33</td><td>1</td><td>1</td><td>2833</td><td>5553.495599217641</td></tr><tr><th>17</th><td>15</td><td>1</td><td>2</td><td>7</td><td>8</td><td>33</td><td>1</td><td>2</td><td>3033</td><td>5553.495599217641</td></tr><tr><th>18</th><td>18</td><td>1</td><td>1</td><td>6</td><td>5</td><td>39</td><td>1</td><td>1</td><td>1891</td><td>4153.371741429463</td></tr><tr><th>19</th><td>18</td><td>NA</td><td>NA</td><td>NA</td><td>NA</td><td>5</td><td>4</td><td>NA</td><td>2783</td><td>4153.371741429463</td></tr><tr><th>20</th><td>21</td><td>1</td><td>2</td><td>8</td><td>12</td><td>41</td><td>1</td><td>1</td><td>2791</td><td>7237.122630412091</td></tr><tr><th>21</th><td>21</td><td>1</td><td>2</td><td>8</td><td>3</td><td>39</td><td>1</td><td>2</td><td>3058</td><td>7237.122630412091</td></tr><tr><th>22</th><td>23</td><td>1</td><td>1</td><td>5</td><td>9</td><td>39</td><td>1</td><td>1</td><td>1891</td><td>13533.382043124135</td></tr><tr><th>23</th><td>23</td><td>NA</td><td>NA</td><td>NA</td><td>NA</td><td>8</td><td>4</td><td>NA</td><td>2708</td><td>13533.382043124135</td></tr><tr><th>24</th><td>24</td><td>1</td><td>1</td><td>6</td><td>12</td><td>39</td><td>1</td><td>1</td><td>2225</td><td>7424.840414467087</td></tr><tr><th>25</th><td>24</td><td>1</td><td>2</td><td>7</td><td>6</td><td>39</td><td>1</td><td>2</td><td>2575</td><td>7424.840414467087</td></tr><tr><th>26</th><td>24</td><td>1</td><td>1</td><td>6</td><td>13</td><td>39</td><td>1</td><td>3</td><td>2941</td><td>7424.840414467087</td></tr><tr><th>27</th><td>28</td><td>1</td><td>1</td><td>8</td><td>2</td><td>39</td><td>1</td><td>1</td><td>3266</td><td>6949.8460820623295</td></tr><tr><th>28</th><td>31</td><td>1</td><td>1</td><td>7</td><td>2</td><td>42</td><td>1</td><td>1</td><td>1883</td><td>5211.9431128540555</td></tr><tr><th>29</th><td>31</td><td>1</td><td>1</td><td>6</td><td>1</td><td>37</td><td>1</td><td>2</td><td>2083</td><td>5211.9431128540555</td></tr><tr><th>30</th><td>31</td><td>1</td><td>1</td><td>7</td><td>7</td><td>40</td><td>1</td><td>3</td><td>2166</td><td>5211.9431128540555</td></tr><tr><th>&vellip;</th><td>&vellip;</td><td>&vellip;</td><td>&vellip;</td><td>&vellip;</td><td>&vellip;</td><td>&vellip;</td><td>&vellip;</td><td>&vellip;</td><td>&vellip;</td><td>&vellip;</td></tr></tbody></table>"
      ],
      "text/plain": [
       "13593×10 DataFrames.DataFrame\n",
       "│ Row   │ caseid │ nbrnaliv │ babysex │ birthwgt_lb │ birthwgt_oz │ prglength │\n",
       "├───────┼────────┼──────────┼─────────┼─────────────┼─────────────┼───────────┤\n",
       "│ 1     │ 1      │ 1        │ 1       │ 8           │ 13          │ 39        │\n",
       "│ 2     │ 1      │ 1        │ 2       │ 7           │ 14          │ 39        │\n",
       "│ 3     │ 2      │ 3        │ 1       │ 9           │ 2           │ 39        │\n",
       "│ 4     │ 2      │ 1        │ 2       │ 7           │ 0           │ 39        │\n",
       "│ 5     │ 2      │ 1        │ 2       │ 6           │ 3           │ 39        │\n",
       "│ 6     │ 6      │ 1        │ 1       │ 8           │ 9           │ 38        │\n",
       "│ 7     │ 6      │ 1        │ 2       │ 9           │ 9           │ 40        │\n",
       "│ 8     │ 6      │ 1        │ 2       │ 8           │ 6           │ 42        │\n",
       "│ 9     │ 7      │ 1        │ 1       │ 7           │ 9           │ 39        │\n",
       "│ 10    │ 7      │ 1        │ 2       │ 6           │ 10          │ 35        │\n",
       "│ 11    │ 12     │ 1        │ 1       │ 7           │ 13          │ 39        │\n",
       "⋮\n",
       "│ 13582 │ 12568  │ 1        │ 1       │ 6           │ 6           │ 39        │\n",
       "│ 13583 │ 12568  │ NA       │ NA      │ NA          │ NA          │ 3         │\n",
       "│ 13584 │ 12569  │ NA       │ NA      │ NA          │ NA          │ 17        │\n",
       "│ 13585 │ 12569  │ 1        │ 2       │ 6           │ 6           │ 34        │\n",
       "│ 13586 │ 12570  │ NA       │ NA      │ NA          │ NA          │ 9         │\n",
       "│ 13587 │ 12570  │ NA       │ NA      │ NA          │ NA          │ 9         │\n",
       "│ 13588 │ 12570  │ NA       │ NA      │ NA          │ NA          │ 9         │\n",
       "│ 13589 │ 12571  │ 1        │ 1       │ 6           │ 3           │ 39        │\n",
       "│ 13590 │ 12571  │ NA       │ NA      │ NA          │ NA          │ 6         │\n",
       "│ 13591 │ 12571  │ NA       │ NA      │ NA          │ NA          │ 5         │\n",
       "│ 13592 │ 12571  │ 1        │ 1       │ 7           │ 8           │ 39        │\n",
       "│ 13593 │ 12571  │ 1        │ 1       │ 7           │ 8           │ 39        │\n",
       "\n",
       "│ Row   │ outcome │ birthord │ agepreg │ finalwgt │\n",
       "├───────┼─────────┼──────────┼─────────┼──────────┤\n",
       "│ 1     │ 1       │ 1        │ 3316    │ 6448.27  │\n",
       "│ 2     │ 1       │ 2        │ 3925    │ 6448.27  │\n",
       "│ 3     │ 1       │ 1        │ 1433    │ 12999.5  │\n",
       "│ 4     │ 1       │ 2        │ 1783    │ 12999.5  │\n",
       "│ 5     │ 1       │ 3        │ 1833    │ 12999.5  │\n",
       "│ 6     │ 1       │ 1        │ 2700    │ 8874.44  │\n",
       "│ 7     │ 1       │ 2        │ 2883    │ 8874.44  │\n",
       "│ 8     │ 1       │ 3        │ 3016    │ 8874.44  │\n",
       "│ 9     │ 1       │ 1        │ 2808    │ 6911.88  │\n",
       "│ 10    │ 1       │ 2        │ 3233    │ 6911.88  │\n",
       "│ 11    │ 1       │ 1        │ 2575    │ 6909.33  │\n",
       "⋮\n",
       "│ 13582 │ 1       │ 1        │ 3066    │ 7772.21  │\n",
       "│ 13583 │ 5       │ NA       │ 3325    │ 7772.21  │\n",
       "│ 13584 │ 2       │ NA       │ 2366    │ 5075.16  │\n",
       "│ 13585 │ 1       │ 1        │ 2691    │ 5075.16  │\n",
       "│ 13586 │ 2       │ NA       │ 2141    │ 11325.0  │\n",
       "│ 13587 │ 2       │ NA       │ 2241    │ 11325.0  │\n",
       "│ 13588 │ 2       │ NA       │ 2341    │ 11325.0  │\n",
       "│ 13589 │ 1       │ 1        │ 1791    │ 6269.2   │\n",
       "│ 13590 │ 2       │ NA       │ 1850    │ 6269.2   │\n",
       "│ 13591 │ 2       │ NA       │ 1975    │ 6269.2   │\n",
       "│ 13592 │ 1       │ 2        │ 2158    │ 6269.2   │\n",
       "│ 13593 │ 1       │ 3        │ 2158    │ 6269.2   │"
      ]
     },
     "execution_count": 6,
     "metadata": {},
     "output_type": "execute_result"
    }
   ],
   "source": [
    "df_"
   ]
  },
  {
   "cell_type": "code",
   "execution_count": 7,
   "metadata": {
    "collapsed": false
   },
   "outputs": [
    {
     "data": {
      "text/plain": [
       "9148-element Array{Int64,1}:\n",
       " 13\n",
       " 14\n",
       "  2\n",
       "  0\n",
       "  3\n",
       "  9\n",
       "  9\n",
       "  6\n",
       "  9\n",
       " 10\n",
       " 13\n",
       "  0\n",
       "  0\n",
       "  ⋮\n",
       "  0\n",
       " 13\n",
       "  9\n",
       "  2\n",
       "  7\n",
       "  0\n",
       "  0\n",
       "  6\n",
       "  6\n",
       "  3\n",
       "  8\n",
       "  8"
      ]
     },
     "execution_count": 7,
     "metadata": {},
     "output_type": "execute_result"
    }
   ],
   "source": [
    "class_weights = Int[]\n",
    "\n",
    "for i = 1:size(df_)[1]\n",
    "    if(df_[i, 7] == 1)  ##alive baby\n",
    "        try\n",
    "            append!(class_weights, df_[i, 5])\n",
    "        catch \n",
    "            0\n",
    "        end\n",
    "    end\n",
    "end\n",
    "class_weights"
   ]
  },
  {
   "cell_type": "code",
   "execution_count": 8,
   "metadata": {
    "collapsed": false
   },
   "outputs": [
    {
     "data": {
      "text/plain": [
       "Dict{Int64,Int64} with 48 entries:\n",
       "  2                   => 604\n",
       "  76091456            => 1\n",
       "  11                  => 557\n",
       "  76088568            => 1\n",
       "  76096976            => 1\n",
       "  76011456            => 1\n",
       "  72325104            => 1\n",
       "  8                   => 756\n",
       "  68719476916         => 1\n",
       "  75924848            => 1\n",
       "  76069392            => 1\n",
       "  140690640205664     => 1\n",
       "  14                  => 475\n",
       "  4294967296          => 1\n",
       "  75971456            => 1\n",
       "  336                 => 1\n",
       "  75981504            => 1\n",
       "  4                   => 525\n",
       "  4658083153315464688 => 2\n",
       "  76098208            => 1\n",
       "  13                  => 487\n",
       "  75961040            => 1\n",
       "  117                 => 1\n",
       "  99                  => 46\n",
       "  76097104            => 1\n",
       "  ⋮                   => ⋮"
      ]
     },
     "execution_count": 8,
     "metadata": {},
     "output_type": "execute_result"
    }
   ],
   "source": [
    "c = countmap(class_weights)"
   ]
  },
  {
   "cell_type": "code",
   "execution_count": 9,
   "metadata": {
    "collapsed": false
   },
   "outputs": [
    {
     "data": {
      "text/plain": [
       "48-element Array{Float64,1}:\n",
       " 0.000655881\n",
       " 0.116747   \n",
       " 0.161347   \n",
       " 0.227372   \n",
       " 0.285636   \n",
       " 0.343026   \n",
       " 0.401509   \n",
       " 0.479012   \n",
       " 0.533778   \n",
       " 0.616419   \n",
       " 0.671622   \n",
       " 0.723546   \n",
       " 0.784434   \n",
       " ⋮          \n",
       " 0.998688   \n",
       " 0.998798   \n",
       " 0.998907   \n",
       " 0.999016   \n",
       " 0.999125   \n",
       " 0.999235   \n",
       " 0.999344   \n",
       " 0.999453   \n",
       " 0.999563   \n",
       " 0.999672   \n",
       " 0.999891   \n",
       " 1.0        "
      ]
     },
     "execution_count": 9,
     "metadata": {},
     "output_type": "execute_result"
    }
   ],
   "source": [
    "runsum = 0\n",
    "xs = []\n",
    "cs = []\n",
    "\n",
    "for (value, count) in sort(c)\n",
    "    runsum = runsum + count\n",
    "    append!(xs, value)\n",
    "    append!(cs, runsum)\n",
    "end\n",
    "\n",
    "total = float(runsum)\n",
    "cdf = [c/total for c in cs]   ## cdf[end] = 1, ps carrried cdf"
   ]
  },
  {
   "cell_type": "code",
   "execution_count": 10,
   "metadata": {
    "collapsed": false
   },
   "outputs": [
    {
     "data": {
      "text/plain": [
       "48"
      ]
     },
     "execution_count": 10,
     "metadata": {},
     "output_type": "execute_result"
    }
   ],
   "source": [
    "length(cdf)"
   ]
  },
  {
   "cell_type": "code",
   "execution_count": 12,
   "metadata": {
    "collapsed": false
   },
   "outputs": [
    {
     "data": {
      "text/html": [
       "<script src=\"/home/eman/.julia/v0.5/Plots/src/backends/../../deps/plotly-latest.min.js\"></script>    <div id=\"98a61722-8e8d-43de-a666-b36e5b78b7e4\" style=\"width:600px;height:400px;\"></div>\n",
       "    <script>\n",
       "    PLOT = document.getElementById('98a61722-8e8d-43de-a666-b36e5b78b7e4');\n",
       "    Plotly.plot(PLOT, [{\"yaxis\":\"y\",\"y\":[0.0006558810668998689,0.11674682990817666,0.16134674245736774,0.22737210319195453,0.28563620463489287,0.3430257979886314,0.4015085264538697,0.4790118058592042,0.5337778749453432,0.6164188893747267,0.6716222125054657,0.7235461303017053,0.7844337560122431,0.845102754700481,0.8983384346305203,0.9502623524267599,0.9915828596414517,0.9916921731526016,0.9918014866637517,0.9968299081766506,0.9969392216878006,0.9970485351989505,0.9971578487101006,0.9972671622212506,0.9973764757324005,0.9974857892435505,0.9975951027547005,0.9977044162658505,0.9978137297770004,0.9979230432881504,0.9980323567993004,0.9981416703104504,0.9982509838216004,0.9983602973327503,0.9984696108439003,0.9985789243550502,0.9986882378662003,0.9987975513773503,0.9989068648885002,0.9990161783996502,0.9991254919108001,0.9992348054219502,0.9993441189331002,0.9994534324442501,0.9995627459554001,0.99967205946655,0.99989068648885,1.0],\"showlegend\":true,\"name\":\"y1\",\"type\":\"scatter\",\"xaxis\":\"x\",\"line\":{\"width\":1,\"dash\":\"solid\",\"color\":\"rgba(0, 154, 250, 1.000)\",\"shape\":\"linear\"},\"x\":[1,2,3,4,5,6,7,8,9,10,11,12,13,14,15,16,17,18,19,20,21,22,23,24,25,26,27,28,29,30,31,32,33,34,35,36,37,38,39,40,41,42,43,44,45,46,47,48],\"mode\":\"lines\"}], {\"yaxis\":{\"type\":\"-\",\"titlefont\":{\"size\":15,\"color\":\"rgba(0, 0, 0, 1.000)\",\"family\":\"sans-serif\"},\"title\":\"CDFs\",\"tickfont\":{\"size\":11,\"color\":\"rgba(0, 0, 0, 1.000)\",\"family\":\"sans-serif\"},\"ticks\":\"inside\",\"tickmode\":\"array\",\"showgrid\":true,\"tickvals\":[0.25,0.5,0.75,1.0],\"domain\":[0.07581474190726165,0.9901574803149606],\"ticktext\":[\"0.25\",\"0.50\",\"0.75\",\"1.00\"],\"tickangle\":0,\"zeroline\":false,\"linecolor\":\"rgba(0, 0, 0, 1.000)\",\"tickcolor\":\"rgba(0, 0, 0, 1.000)\",\"anchor\":\"x\"},\"annotations\":[],\"width\":600,\"plot_bgcolor\":\"rgba(255, 255, 255, 1.000)\",\"showlegend\":true,\"legend\":{\"bgcolor\":\"rgba(255, 255, 255, 1.000)\",\"y\":1.0,\"font\":{\"size\":11,\"color\":\"rgba(0, 0, 0, 1.000)\",\"family\":\"sans-serif\"},\"bordercolor\":\"rgba(0, 0, 0, 1.000)\",\"x\":1.0},\"xaxis\":{\"type\":\"-\",\"titlefont\":{\"size\":15,\"color\":\"rgba(0, 0, 0, 1.000)\",\"family\":\"sans-serif\"},\"title\":\"Class Weights\",\"tickfont\":{\"size\":11,\"color\":\"rgba(0, 0, 0, 1.000)\",\"family\":\"sans-serif\"},\"ticks\":\"inside\",\"tickmode\":\"array\",\"showgrid\":true,\"tickvals\":[10.0,20.0,30.0,40.0],\"domain\":[0.09128390201224845,0.9934383202099738],\"ticktext\":[\"10\",\"20\",\"30\",\"40\"],\"tickangle\":0,\"zeroline\":false,\"linecolor\":\"rgba(0, 0, 0, 1.000)\",\"tickcolor\":\"rgba(0, 0, 0, 1.000)\",\"anchor\":\"y\"},\"paper_bgcolor\":\"rgba(255, 255, 255, 1.000)\",\"height\":400,\"margin\":{\"r\":0,\"l\":0,\"b\":0,\"t\":20}});\n",
       "    </script>\n"
      ]
     },
     "execution_count": 12,
     "metadata": {},
     "output_type": "execute_result"
    }
   ],
   "source": [
    "plot(cdf)\n",
    "xlabel!(\"Class Weights\")\n",
    "ylabel!(\"CDFs\")"
   ]
  },
  {
   "cell_type": "markdown",
   "metadata": {},
   "source": [
    "Matches python plot .. "
   ]
  },
  {
   "cell_type": "markdown",
   "metadata": {},
   "source": [
    "## Sample elements from CDF list .. \n",
    "\n",
    "I'll generate 1000 element from the list .. "
   ]
  },
  {
   "cell_type": "code",
   "execution_count": 13,
   "metadata": {
    "collapsed": false
   },
   "outputs": [
    {
     "data": {
      "text/plain": [
       "Sample (generic function with 1 method)"
      ]
     },
     "execution_count": 13,
     "metadata": {},
     "output_type": "execute_result"
    }
   ],
   "source": [
    "function Sample(cdf, n)  # returns a list of n values chosen at random from the Cdf\n",
    "    \n",
    "    return cdf[1:rand(1:n)]  # random selection from CDF\n",
    "end"
   ]
  },
  {
   "cell_type": "code",
   "execution_count": 14,
   "metadata": {
    "collapsed": false
   },
   "outputs": [
    {
     "data": {
      "text/plain": [
       "47-element Array{Float64,1}:\n",
       " 0.000655881\n",
       " 0.116747   \n",
       " 0.161347   \n",
       " 0.227372   \n",
       " 0.285636   \n",
       " 0.343026   \n",
       " 0.401509   \n",
       " 0.479012   \n",
       " 0.533778   \n",
       " 0.616419   \n",
       " 0.671622   \n",
       " 0.723546   \n",
       " 0.784434   \n",
       " ⋮          \n",
       " 0.998579   \n",
       " 0.998688   \n",
       " 0.998798   \n",
       " 0.998907   \n",
       " 0.999016   \n",
       " 0.999125   \n",
       " 0.999235   \n",
       " 0.999344   \n",
       " 0.999453   \n",
       " 0.999563   \n",
       " 0.999672   \n",
       " 0.999891   "
      ]
     },
     "execution_count": 14,
     "metadata": {},
     "output_type": "execute_result"
    }
   ],
   "source": [
    "n = 50\n",
    "cdf_vals = Sample(cdf, n)"
   ]
  },
  {
   "cell_type": "code",
   "execution_count": 15,
   "metadata": {
    "collapsed": false
   },
   "outputs": [
    {
     "data": {
      "text/html": [
       "<script src=\"/home/eman/.julia/v0.5/Plots/src/backends/../../deps/plotly-latest.min.js\"></script>    <div id=\"c8f2a2f2-1fa5-4675-89c4-045097bd0cf9\" style=\"width:600px;height:400px;\"></div>\n",
       "    <script>\n",
       "    PLOT = document.getElementById('c8f2a2f2-1fa5-4675-89c4-045097bd0cf9');\n",
       "    Plotly.plot(PLOT, [{\"yaxis\":\"y\",\"y\":[0.0006558810668998689,0.11674682990817666,0.16134674245736774,0.22737210319195453,0.28563620463489287,0.3430257979886314,0.4015085264538697,0.4790118058592042,0.5337778749453432,0.6164188893747267,0.6716222125054657,0.7235461303017053,0.7844337560122431,0.845102754700481,0.8983384346305203,0.9502623524267599,0.9915828596414517,0.9916921731526016,0.9918014866637517,0.9968299081766506,0.9969392216878006,0.9970485351989505,0.9971578487101006,0.9972671622212506,0.9973764757324005,0.9974857892435505,0.9975951027547005,0.9977044162658505,0.9978137297770004,0.9979230432881504,0.9980323567993004,0.9981416703104504,0.9982509838216004,0.9983602973327503,0.9984696108439003,0.9985789243550502,0.9986882378662003,0.9987975513773503,0.9989068648885002,0.9990161783996502,0.9991254919108001,0.9992348054219502,0.9993441189331002,0.9994534324442501,0.9995627459554001,0.99967205946655,0.99989068648885],\"showlegend\":true,\"name\":\"y1\",\"type\":\"scatter\",\"xaxis\":\"x\",\"line\":{\"width\":1,\"dash\":\"solid\",\"color\":\"rgba(0, 154, 250, 1.000)\",\"shape\":\"linear\"},\"x\":[1,2,3,4,5,6,7,8,9,10,11,12,13,14,15,16,17,18,19,20,21,22,23,24,25,26,27,28,29,30,31,32,33,34,35,36,37,38,39,40,41,42,43,44,45,46,47],\"mode\":\"lines\"}], {\"yaxis\":{\"type\":\"-\",\"titlefont\":{\"size\":15,\"color\":\"rgba(0, 0, 0, 1.000)\",\"family\":\"sans-serif\"},\"title\":\"cdf values\",\"tickfont\":{\"size\":11,\"color\":\"rgba(0, 0, 0, 1.000)\",\"family\":\"sans-serif\"},\"ticks\":\"inside\",\"tickmode\":\"array\",\"showgrid\":true,\"tickvals\":[0.25,0.5,0.75],\"domain\":[0.07581474190726165,0.9901574803149606],\"ticktext\":[\"0.25\",\"0.50\",\"0.75\"],\"tickangle\":0,\"zeroline\":false,\"linecolor\":\"rgba(0, 0, 0, 1.000)\",\"tickcolor\":\"rgba(0, 0, 0, 1.000)\",\"anchor\":\"x\"},\"annotations\":[],\"width\":600,\"plot_bgcolor\":\"rgba(255, 255, 255, 1.000)\",\"showlegend\":true,\"legend\":{\"bgcolor\":\"rgba(255, 255, 255, 1.000)\",\"y\":1.0,\"font\":{\"size\":11,\"color\":\"rgba(0, 0, 0, 1.000)\",\"family\":\"sans-serif\"},\"bordercolor\":\"rgba(0, 0, 0, 1.000)\",\"x\":1.0},\"xaxis\":{\"type\":\"-\",\"titlefont\":{\"size\":15,\"color\":\"rgba(0, 0, 0, 1.000)\",\"family\":\"sans-serif\"},\"title\":\"index\",\"tickfont\":{\"size\":11,\"color\":\"rgba(0, 0, 0, 1.000)\",\"family\":\"sans-serif\"},\"ticks\":\"inside\",\"tickmode\":\"array\",\"showgrid\":true,\"tickvals\":[10.0,20.0,30.0,40.0],\"domain\":[0.09128390201224845,0.9934383202099738],\"ticktext\":[\"10\",\"20\",\"30\",\"40\"],\"tickangle\":0,\"zeroline\":false,\"linecolor\":\"rgba(0, 0, 0, 1.000)\",\"tickcolor\":\"rgba(0, 0, 0, 1.000)\",\"anchor\":\"y\"},\"paper_bgcolor\":\"rgba(255, 255, 255, 1.000)\",\"height\":400,\"margin\":{\"r\":0,\"l\":0,\"b\":0,\"t\":20}});\n",
       "    </script>\n"
      ]
     },
     "execution_count": 15,
     "metadata": {},
     "output_type": "execute_result"
    }
   ],
   "source": [
    "plot(cdf_vals)\n",
    "xlabel!(\"index\")\n",
    "ylabel!(\"cdf values\")"
   ]
  },
  {
   "cell_type": "markdown",
   "metadata": {},
   "source": [
    "as long as n increases, the shape of the sampled cdf tends to be similar to the shape of the cdf population ..\n",
    "\n",
    "Let's generate n number of sample elements from babies_weights and calc their CDF then plot it to compare it with the pop of weights .."
   ]
  },
  {
   "cell_type": "code",
   "execution_count": 16,
   "metadata": {
    "collapsed": false
   },
   "outputs": [
    {
     "data": {
      "text/plain": [
       "783-element Array{Int64,1}:\n",
       " 13\n",
       " 14\n",
       "  2\n",
       "  0\n",
       "  3\n",
       "  9\n",
       "  9\n",
       "  6\n",
       "  9\n",
       " 10\n",
       " 13\n",
       "  0\n",
       "  0\n",
       "  ⋮\n",
       "  8\n",
       "  8\n",
       "  0\n",
       "  6\n",
       " 13\n",
       " 14\n",
       "  3\n",
       " 13\n",
       "  0\n",
       "  2\n",
       "  6\n",
       "  0"
      ]
     },
     "execution_count": 16,
     "metadata": {},
     "output_type": "execute_result"
    }
   ],
   "source": [
    "num = 1000\n",
    "class_weights[1:rand(1:num)]"
   ]
  },
  {
   "cell_type": "code",
   "execution_count": 17,
   "metadata": {
    "collapsed": false
   },
   "outputs": [
    {
     "data": {
      "text/plain": [
       "Dict{Int64,Int64} with 48 entries:\n",
       "  2                   => 604\n",
       "  76091456            => 1\n",
       "  11                  => 557\n",
       "  76088568            => 1\n",
       "  76096976            => 1\n",
       "  76011456            => 1\n",
       "  72325104            => 1\n",
       "  8                   => 756\n",
       "  68719476916         => 1\n",
       "  75924848            => 1\n",
       "  76069392            => 1\n",
       "  140690640205664     => 1\n",
       "  14                  => 475\n",
       "  4294967296          => 1\n",
       "  75971456            => 1\n",
       "  336                 => 1\n",
       "  75981504            => 1\n",
       "  4                   => 525\n",
       "  4658083153315464688 => 2\n",
       "  76098208            => 1\n",
       "  13                  => 487\n",
       "  75961040            => 1\n",
       "  117                 => 1\n",
       "  99                  => 46\n",
       "  76097104            => 1\n",
       "  ⋮                   => ⋮"
      ]
     },
     "execution_count": 17,
     "metadata": {},
     "output_type": "execute_result"
    }
   ],
   "source": [
    "c_ = countmap(class_weights)"
   ]
  },
  {
   "cell_type": "code",
   "execution_count": 18,
   "metadata": {
    "collapsed": false
   },
   "outputs": [
    {
     "data": {
      "text/plain": [
       "48-element Array{Float64,1}:\n",
       " 0.000655881\n",
       " 0.116747   \n",
       " 0.161347   \n",
       " 0.227372   \n",
       " 0.285636   \n",
       " 0.343026   \n",
       " 0.401509   \n",
       " 0.479012   \n",
       " 0.533778   \n",
       " 0.616419   \n",
       " 0.671622   \n",
       " 0.723546   \n",
       " 0.784434   \n",
       " ⋮          \n",
       " 0.998688   \n",
       " 0.998798   \n",
       " 0.998907   \n",
       " 0.999016   \n",
       " 0.999125   \n",
       " 0.999235   \n",
       " 0.999344   \n",
       " 0.999453   \n",
       " 0.999563   \n",
       " 0.999672   \n",
       " 0.999891   \n",
       " 1.0        "
      ]
     },
     "execution_count": 18,
     "metadata": {},
     "output_type": "execute_result"
    }
   ],
   "source": [
    "runsum = 0\n",
    "xs = []\n",
    "cs = []\n",
    "\n",
    "for (value, count) in sort(c_)\n",
    "    runsum = runsum + count\n",
    "    append!(xs, value)\n",
    "    append!(cs, runsum)\n",
    "end\n",
    "\n",
    "total = float(runsum)\n",
    "cdf_ = [i/total for i in cs]   ## cdf[end] = 1, ps carrried cdf"
   ]
  },
  {
   "cell_type": "code",
   "execution_count": 19,
   "metadata": {
    "collapsed": false
   },
   "outputs": [
    {
     "data": {
      "text/plain": [
       "48-element Array{Float64,1}:\n",
       " 0.000655881\n",
       " 0.116747   \n",
       " 0.161347   \n",
       " 0.227372   \n",
       " 0.285636   \n",
       " 0.343026   \n",
       " 0.401509   \n",
       " 0.479012   \n",
       " 0.533778   \n",
       " 0.616419   \n",
       " 0.671622   \n",
       " 0.723546   \n",
       " 0.784434   \n",
       " ⋮          \n",
       " 0.998688   \n",
       " 0.998798   \n",
       " 0.998907   \n",
       " 0.999016   \n",
       " 0.999125   \n",
       " 0.999235   \n",
       " 0.999344   \n",
       " 0.999453   \n",
       " 0.999563   \n",
       " 0.999672   \n",
       " 0.999891   \n",
       " 1.0        "
      ]
     },
     "execution_count": 19,
     "metadata": {},
     "output_type": "execute_result"
    }
   ],
   "source": [
    "n = 50\n",
    "cdf_vals_ = Sample(cdf_, n)"
   ]
  },
  {
   "cell_type": "code",
   "execution_count": 20,
   "metadata": {
    "collapsed": false
   },
   "outputs": [
    {
     "data": {
      "text/html": [
       "<script src=\"/home/eman/.julia/v0.5/Plots/src/backends/../../deps/plotly-latest.min.js\"></script>    <div id=\"d24bba63-6982-4b2f-9536-dbfc66595506\" style=\"width:600px;height:400px;\"></div>\n",
       "    <script>\n",
       "    PLOT = document.getElementById('d24bba63-6982-4b2f-9536-dbfc66595506');\n",
       "    Plotly.plot(PLOT, [{\"yaxis\":\"y\",\"y\":[0.0006558810668998689,0.11674682990817666,0.16134674245736774,0.22737210319195453,0.28563620463489287,0.3430257979886314,0.4015085264538697,0.4790118058592042,0.5337778749453432,0.6164188893747267,0.6716222125054657,0.7235461303017053,0.7844337560122431,0.845102754700481,0.8983384346305203,0.9502623524267599,0.9915828596414517,0.9916921731526016,0.9918014866637517,0.9968299081766506,0.9969392216878006,0.9970485351989505,0.9971578487101006,0.9972671622212506,0.9973764757324005,0.9974857892435505,0.9975951027547005,0.9977044162658505,0.9978137297770004,0.9979230432881504,0.9980323567993004,0.9981416703104504,0.9982509838216004,0.9983602973327503,0.9984696108439003,0.9985789243550502,0.9986882378662003,0.9987975513773503,0.9989068648885002,0.9990161783996502,0.9991254919108001,0.9992348054219502,0.9993441189331002,0.9994534324442501,0.9995627459554001,0.99967205946655,0.99989068648885,1.0],\"showlegend\":true,\"name\":\"y1\",\"type\":\"scatter\",\"xaxis\":\"x\",\"line\":{\"width\":1,\"dash\":\"solid\",\"color\":\"rgba(0, 154, 250, 1.000)\",\"shape\":\"linear\"},\"x\":[1,2,3,4,5,6,7,8,9,10,11,12,13,14,15,16,17,18,19,20,21,22,23,24,25,26,27,28,29,30,31,32,33,34,35,36,37,38,39,40,41,42,43,44,45,46,47,48],\"mode\":\"lines\"}], {\"yaxis\":{\"type\":\"-\",\"titlefont\":{\"size\":15,\"color\":\"rgba(0, 0, 0, 1.000)\",\"family\":\"sans-serif\"},\"title\":\"cdf values\",\"tickfont\":{\"size\":11,\"color\":\"rgba(0, 0, 0, 1.000)\",\"family\":\"sans-serif\"},\"ticks\":\"inside\",\"tickmode\":\"array\",\"showgrid\":true,\"tickvals\":[0.25,0.5,0.75,1.0],\"domain\":[0.07581474190726165,0.9901574803149606],\"ticktext\":[\"0.25\",\"0.50\",\"0.75\",\"1.00\"],\"tickangle\":0,\"zeroline\":false,\"linecolor\":\"rgba(0, 0, 0, 1.000)\",\"tickcolor\":\"rgba(0, 0, 0, 1.000)\",\"anchor\":\"x\"},\"annotations\":[],\"width\":600,\"plot_bgcolor\":\"rgba(255, 255, 255, 1.000)\",\"showlegend\":true,\"legend\":{\"bgcolor\":\"rgba(255, 255, 255, 1.000)\",\"y\":1.0,\"font\":{\"size\":11,\"color\":\"rgba(0, 0, 0, 1.000)\",\"family\":\"sans-serif\"},\"bordercolor\":\"rgba(0, 0, 0, 1.000)\",\"x\":1.0},\"xaxis\":{\"type\":\"-\",\"titlefont\":{\"size\":15,\"color\":\"rgba(0, 0, 0, 1.000)\",\"family\":\"sans-serif\"},\"title\":\"index\",\"tickfont\":{\"size\":11,\"color\":\"rgba(0, 0, 0, 1.000)\",\"family\":\"sans-serif\"},\"ticks\":\"inside\",\"tickmode\":\"array\",\"showgrid\":true,\"tickvals\":[10.0,20.0,30.0,40.0],\"domain\":[0.09128390201224845,0.9934383202099738],\"ticktext\":[\"10\",\"20\",\"30\",\"40\"],\"tickangle\":0,\"zeroline\":false,\"linecolor\":\"rgba(0, 0, 0, 1.000)\",\"tickcolor\":\"rgba(0, 0, 0, 1.000)\",\"anchor\":\"y\"},\"paper_bgcolor\":\"rgba(255, 255, 255, 1.000)\",\"height\":400,\"margin\":{\"r\":0,\"l\":0,\"b\":0,\"t\":20}});\n",
       "    </script>\n"
      ]
     },
     "execution_count": 20,
     "metadata": {},
     "output_type": "execute_result"
    }
   ],
   "source": [
    "plot(cdf_vals_)\n",
    "xlabel!(\"index\")\n",
    "ylabel!(\"cdf values\")"
   ]
  },
  {
   "cell_type": "markdown",
   "metadata": {},
   "source": [
    "almost similar to the shape of the population'S CDF .. "
   ]
  }
 ],
 "metadata": {
  "kernelspec": {
   "display_name": "Julia 0.5.0",
   "language": "julia",
   "name": "julia-0.5"
  },
  "language_info": {
   "file_extension": ".jl",
   "mimetype": "application/julia",
   "name": "julia",
   "version": "0.5.0"
  }
 },
 "nbformat": 4,
 "nbformat_minor": 0
}
