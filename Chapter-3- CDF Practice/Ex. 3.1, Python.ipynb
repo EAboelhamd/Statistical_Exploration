{
 "cells": [
  {
   "cell_type": "markdown",
   "metadata": {},
   "source": [
    "## Introduction:\n",
    "\n",
    "This notebook contains practice on Ch-3, related to Commulative Dirtibution Function (CDF) .. \n",
    "\n",
    "### Ex: \n",
    "\n",
    "- Build a PMF of these data and compute the mean as perceived by the Dean. Since the data have been grouped in bins, you can use the mid-point of each bin.\n",
    "\n",
    "- Then find the distribution of class sizes as perceived by students and compute its mean.\n",
    "\n",
    "- Write a function called UnbiasPmf that takes the PMF of the observed values and returns a new Pmf object that estimates the distribution of class sizes. You can download a solution to this problem from http://thinkstats.com/class_size.py\n",
    "\n",
    "#### ------------------------------------------------------------------------------------------------------------------------------------------------------------------"
   ]
  },
  {
   "cell_type": "code",
   "execution_count": 222,
   "metadata": {
    "collapsed": false
   },
   "outputs": [],
   "source": [
    "import numpy as np\n",
    "import pandas as pd\n",
    "import class_size\n",
    "import collections\n",
    "import matplotlib.pyplot as plt\n",
    "from sklearn import preprocessing\n",
    "%matplotlib inline"
   ]
  },
  {
   "cell_type": "markdown",
   "metadata": {},
   "source": [
    "### 1. PMF computation:\n",
    "\n",
    "Class sizes = mid point of each class .. \n",
    "\n",
    "I can loop the hist and calc the mid point of each class .. or even copy the mid-point directly as an input .. "
   ]
  },
  {
   "cell_type": "code",
   "execution_count": 223,
   "metadata": {
    "collapsed": false
   },
   "outputs": [
    {
     "data": {
      "text/plain": [
       "{7: 8, 12: 8, 17: 14, 22: 4, 27: 6, 32: 12, 37: 8, 42: 3, 47: 2}"
      ]
     },
     "execution_count": 223,
     "metadata": {},
     "output_type": "execute_result"
    }
   ],
   "source": [
    "## Base case (in the textbook) , c is the class size, biased sampling\n",
    "d = {\n",
    "         7: 8, \n",
    "         12: 8, \n",
    "         17: 14, \n",
    "         22: 4, \n",
    "         27: 6, \n",
    "         32: 12, \n",
    "         37: 8, \n",
    "         42: 3, \n",
    "         47: 2, \n",
    "    }\n",
    "d"
   ]
  },
  {
   "cell_type": "code",
   "execution_count": 224,
   "metadata": {
    "collapsed": false
   },
   "outputs": [
    {
     "data": {
      "text/plain": [
       "([32, 17, 37, 22, 7, 42, 27, 12, 47], [12, 14, 8, 4, 8, 3, 6, 8, 2])"
      ]
     },
     "execution_count": 224,
     "metadata": {},
     "output_type": "execute_result"
    }
   ],
   "source": [
    "d.keys(), d.values()"
   ]
  },
  {
   "cell_type": "code",
   "execution_count": 225,
   "metadata": {
    "collapsed": false
   },
   "outputs": [],
   "source": [
    "total = float(sum(d.values()))\n",
    "for key in d: d[key] /= total"
   ]
  },
  {
   "cell_type": "code",
   "execution_count": 226,
   "metadata": {
    "collapsed": false
   },
   "outputs": [
    {
     "data": {
      "text/plain": [
       "{7: 0.12307692307692308,\n",
       " 12: 0.12307692307692308,\n",
       " 17: 0.2153846153846154,\n",
       " 22: 0.06153846153846154,\n",
       " 27: 0.09230769230769231,\n",
       " 32: 0.18461538461538463,\n",
       " 37: 0.12307692307692308,\n",
       " 42: 0.046153846153846156,\n",
       " 47: 0.03076923076923077}"
      ]
     },
     "execution_count": 226,
     "metadata": {},
     "output_type": "execute_result"
    }
   ],
   "source": [
    "d"
   ]
  },
  {
   "cell_type": "markdown",
   "metadata": {},
   "source": [
    "### 2. Distribution of the class sizes:"
   ]
  },
  {
   "cell_type": "code",
   "execution_count": 227,
   "metadata": {
    "collapsed": false
   },
   "outputs": [
    {
     "data": {
      "text/plain": [
       "<matplotlib.text.Text at 0x7fe143684290>"
      ]
     },
     "execution_count": 227,
     "metadata": {},
     "output_type": "execute_result"
    },
    {
     "data": {
      "image/png": "[encoded data removed]",
      "text/plain": [
       "<matplotlib.figure.Figure at 0x7fe143680dd0>"
      ]
     },
     "metadata": {},
     "output_type": "display_data"
    }
   ],
   "source": [
    "## discrete values ==> bar chart ..\n",
    "plt.bar(d.keys(), d.values())\n",
    "plt.xlabel(\"Class Size\")\n",
    "plt.ylabel(\"PMF\")"
   ]
  },
  {
   "cell_type": "markdown",
   "metadata": {},
   "source": [
    "Uniform distribtion ..\n",
    "\n",
    "### Mean values .. "
   ]
  },
  {
   "cell_type": "code",
   "execution_count": 228,
   "metadata": {
    "collapsed": false
   },
   "outputs": [],
   "source": [
    "def PmfMean(d):\n",
    "    temp = []\n",
    "    pmf = d.values()\n",
    "    index = d.keys()\n",
    "\n",
    "    for k in xrange(len(index)):\n",
    "        temp.append(np.multiply(index[k],pmf[k]))\n",
    "        \n",
    "    return sum(temp)"
   ]
  },
  {
   "cell_type": "code",
   "execution_count": 229,
   "metadata": {
    "collapsed": false
   },
   "outputs": [
    {
     "data": {
      "text/plain": [
       "23.692307692307701"
      ]
     },
     "execution_count": 229,
     "metadata": {},
     "output_type": "execute_result"
    }
   ],
   "source": [
    "PmfMean(d)"
   ]
  },
  {
   "cell_type": "markdown",
   "metadata": {},
   "source": [
    "Mean value for the base biased case is around 24 .. this matches the results in the textbook illustrations .."
   ]
  },
  {
   "cell_type": "markdown",
   "metadata": {
    "collapsed": true
   },
   "source": [
    "### 3. Unbiase Class size: \n",
    "\n",
    "The motivation behind this part is that is that ..  suppose you want to find the distribution of class sizes at a college, but you can’t get reliable data from the Dean. An alternative is to choose a random sample of students and ask them the number of students in each of their classes. Then you could compute the PMF of their responses.\n",
    "\n",
    "However, The result would be biased because large classes would be oversampled, but you could estimate the actual distribution of class sizes by applying an appropriate transformation to the observed distribution.\n",
    "\n",
    "Hence, oversampling results in biasness (i.e. if you ask students how big their classes are, large classes are oversampled in proportion to their size)"
   ]
  },
  {
   "cell_type": "markdown",
   "metadata": {},
   "source": [
    "## Normalization:\n",
    "\n",
    "To overcome the biasness problem .. we have to normalize the data .. "
   ]
  },
  {
   "cell_type": "code",
   "execution_count": 236,
   "metadata": {
    "collapsed": false
   },
   "outputs": [
    {
     "name": "stderr",
     "output_type": "stream",
     "text": [
      "/usr/lib/python2.7/dist-packages/sklearn/utils/validation.py:386: DeprecationWarning: Passing 1d arrays as data is deprecated in 0.17 and willraise ValueError in 0.19. Reshape your data either using X.reshape(-1, 1) if your data has a single feature or X.reshape(1, -1) if it contains a single sample.\n",
      "  DeprecationWarning)\n"
     ]
    },
    {
     "data": {
      "text/plain": [
       "array([[ 0.49112731,  0.57298186,  0.3274182 ,  0.1637091 ,  0.3274182 ,\n",
       "         0.12278183,  0.24556365,  0.3274182 ,  0.08185455]])"
      ]
     },
     "execution_count": 236,
     "metadata": {},
     "output_type": "execute_result"
    }
   ],
   "source": [
    "X_normalized = preprocessing.normalize(d.values())\n",
    "X_normalized"
   ]
  },
  {
   "cell_type": "code",
   "execution_count": 250,
   "metadata": {
    "collapsed": true
   },
   "outputs": [],
   "source": [
    "def Normalized_PmfMean(X_normalized, keys):\n",
    "    temp = []\n",
    "    pmf = X_normalized\n",
    "    index = keys\n",
    "\n",
    "    for k in xrange(len(X_normalized)):\n",
    "        temp = np.multiply(index[k],pmf[k])\n",
    "#         print(temp.append(np.multiply(index[k],pmf[k])))\n",
    "    return sum(temp)"
   ]
  },
  {
   "cell_type": "code",
   "execution_count": 251,
   "metadata": {
    "collapsed": false
   },
   "outputs": [
    {
     "data": {
      "text/plain": [
       "85.128732943286025"
      ]
     },
     "execution_count": 251,
     "metadata": {},
     "output_type": "execute_result"
    }
   ],
   "source": [
    "key_ = d.keys()\n",
    "Normalized_PmfMean(X_normalized, key_)  ## mismatch results .. might indecates wrong normalization "
   ]
  },
  {
   "cell_type": "markdown",
   "metadata": {},
   "source": [
    "## Note:\n",
    "This was my own implementation .. let's confirm the results by calling the built in functions from class_size .. "
   ]
  },
  {
   "cell_type": "code",
   "execution_count": 233,
   "metadata": {
    "collapsed": false
   },
   "outputs": [
    {
     "name": "stdout",
     "output_type": "stream",
     "text": [
      "mean 23.6923076923\n",
      "var 128.674556213\n",
      "mean 29.1233766234\n",
      "var 109.225037949\n",
      "mean 23.6923076923\n",
      "var 128.674556213\n"
     ]
    },
    {
     "data": {
      "image/png": "[encoded data removed]",
      "text/plain": [
       "<matplotlib.figure.Figure at 0x7fe14358cbd0>"
      ]
     },
     "metadata": {},
     "output_type": "display_data"
    }
   ],
   "source": [
    "c_ = class_size.main\n",
    "c_()  "
   ]
  },
  {
   "cell_type": "markdown",
   "metadata": {},
   "source": [
    "The first stats. results are for the normal case, then biased one and finally unbiased data .. "
   ]
  },
  {
   "cell_type": "code",
   "execution_count": null,
   "metadata": {
    "collapsed": true
   },
   "outputs": [],
   "source": []
  }
 ],
 "metadata": {
  "kernelspec": {
   "display_name": "Python 2",
   "language": "python",
   "name": "python2"
  },
  "language_info": {
   "codemirror_mode": {
    "name": "ipython",
    "version": 2
   },
   "file_extension": ".py",
   "mimetype": "text/x-python",
   "name": "python",
   "nbconvert_exporter": "python",
   "pygments_lexer": "ipython2",
   "version": "2.7.12"
  }
 },
 "nbformat": 4,
 "nbformat_minor": 0
}
