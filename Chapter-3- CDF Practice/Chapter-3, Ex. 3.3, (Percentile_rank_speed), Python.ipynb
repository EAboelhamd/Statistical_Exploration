{
 "cells": [
  {
   "cell_type": "markdown",
   "metadata": {},
   "source": [
    "## Introduction:\n",
    "If you are given a value, it is easy to find its percentile rank; going the other way is slightly harder. If you are given a percentile rank and you want to find the corresponding value, one option is to sort the values and search for\n",
    "the one you want:\n",
    "\n",
    "    def Percentile(scores, percentile_rank):\n",
    "        scores.sort()\n",
    "    for score in scores:\n",
    "        if PercentileRank(scores, score) >= percentile_rank:\n",
    "            return score\n",
    "            \n",
    "The result of this calculation is a percentile. For example, the 50th percentile is the value with percentile rank 50. In the distribution of exam scores, the 50th percentile is 77 ..\n",
    "\n",
    "This implementation of Percentile is not very efficient. A better approach is to use the percentile rank to compute the index of the corresponding percentile. Write a version of Percentile that uses this algorithm.\n",
    "\n",
    "You can download a solution from http://thinkstats.com/score_example.py"
   ]
  },
  {
   "cell_type": "code",
   "execution_count": 5,
   "metadata": {
    "collapsed": false
   },
   "outputs": [
    {
     "name": "stdout",
     "output_type": "stream",
     "text": [
      "score, percentile rank\n",
      "55 20.0\n",
      "66 40.0\n",
      "77 60.0\n",
      "88 80.0\n",
      "99 100.0\n",
      "\n",
      "prank, score, score\n",
      "0 55 55\n",
      "20 55 55\n",
      "25 66 66\n",
      "40 66 66\n",
      "50 77 77\n",
      "60 77 77\n",
      "75 88 88\n",
      "80 88 88\n",
      "100 99 99\n"
     ]
    }
   ],
   "source": [
    "import score_example\n",
    "import numpy as np"
   ]
  },
  {
   "cell_type": "code",
   "execution_count": 11,
   "metadata": {
    "collapsed": true
   },
   "outputs": [],
   "source": [
    "scores = [55, 66, 77, 88, 99]\n",
    "your_score = 88"
   ]
  },
  {
   "cell_type": "code",
   "execution_count": 17,
   "metadata": {
    "collapsed": true
   },
   "outputs": [],
   "source": [
    "def modified_percentile_rank(scores, percentile_rank):\n",
    "    \n",
    "    scores.sort()\n",
    "    \n",
    "    index = int(np.round(percentile_rank * (len(scores)-1) / 100))\n",
    "    \n",
    "    #print(index)\n",
    "    return scores[index]"
   ]
  },
  {
   "cell_type": "code",
   "execution_count": 18,
   "metadata": {
    "collapsed": true
   },
   "outputs": [],
   "source": [
    "## let's calc the percentile rank .. \n",
    "\n",
    "def Percentile_Rank(scores, your_score):\n",
    "    count = 0\n",
    "    \n",
    "    for score in scores:\n",
    "        if score <= your_score:\n",
    "            count += 1\n",
    "\n",
    "    percentile_rank = 100.0 * count / len(scores) # perecentile rank is a %\n",
    "    \n",
    "    return percentile_rank"
   ]
  },
  {
   "cell_type": "code",
   "execution_count": 19,
   "metadata": {
    "collapsed": false
   },
   "outputs": [
    {
     "data": {
      "text/plain": [
       "80.0"
      ]
     },
     "execution_count": 19,
     "metadata": {},
     "output_type": "execute_result"
    }
   ],
   "source": [
    "perc_rank = Percentile_Rank(scores, your_score)\n",
    "perc_rank"
   ]
  },
  {
   "cell_type": "code",
   "execution_count": 20,
   "metadata": {
    "collapsed": false
   },
   "outputs": [
    {
     "data": {
      "text/plain": [
       "88"
      ]
     },
     "execution_count": 20,
     "metadata": {},
     "output_type": "execute_result"
    }
   ],
   "source": [
    "modified_percentile_rank(scores, perc_rank)"
   ]
  },
  {
   "cell_type": "markdown",
   "metadata": {},
   "source": [
    "Let's check our calculations by importing score_example .. "
   ]
  },
  {
   "cell_type": "code",
   "execution_count": 21,
   "metadata": {
    "collapsed": false
   },
   "outputs": [
    {
     "data": {
      "text/plain": [
       "80"
      ]
     },
     "execution_count": 21,
     "metadata": {},
     "output_type": "execute_result"
    }
   ],
   "source": [
    "test_perc_rank = score_example.PercentileRank(scores, your_score)\n",
    "int(test_perc_rank)"
   ]
  },
  {
   "cell_type": "code",
   "execution_count": 23,
   "metadata": {
    "collapsed": false
   },
   "outputs": [
    {
     "data": {
      "text/plain": [
       "88"
      ]
     },
     "execution_count": 23,
     "metadata": {},
     "output_type": "execute_result"
    }
   ],
   "source": [
    "score_example.Percentile2(scores, int(test_perc_rank))  ## the problem with their implementation is that they didn't handel the fractional index"
   ]
  },
  {
   "cell_type": "markdown",
   "metadata": {},
   "source": [
    "Maching results .. \n",
    "\n",
    "However, I'm just print the percentile rank for only your_score and the built in function printed it for the whole data .. I can modify mine .. "
   ]
  },
  {
   "cell_type": "code",
   "execution_count": 24,
   "metadata": {
    "collapsed": false
   },
   "outputs": [
    {
     "name": "stdout",
     "output_type": "stream",
     "text": [
      "0 0.0 55\n",
      "20 0.0 55\n",
      "25 0.0 66\n",
      "40 0.0 66\n",
      "50 0.0 77\n",
      "60 20.0 77\n",
      "75 40.0 88\n",
      "80 60.0 88\n",
      "100 100.0 99\n"
     ]
    }
   ],
   "source": [
    "for percentile_rank in [0, 20, 25, 40, 50, 60, 75, 80, 100]:\n",
    "    print percentile_rank, \n",
    "    print Percentile_Rank(scores, percentile_rank),\n",
    "    print modified_percentile_rank(scores, percentile_rank)"
   ]
  },
  {
   "cell_type": "markdown",
   "metadata": {},
   "source": [
    "Same results as the built in function ! .. \n",
    "\n",
    "The percentile rank of 80 is 88 .. "
   ]
  }
 ],
 "metadata": {
  "kernelspec": {
   "display_name": "Python 2",
   "language": "python",
   "name": "python2"
  },
  "language_info": {
   "codemirror_mode": {
    "name": "ipython",
    "version": 2
   },
   "file_extension": ".py",
   "mimetype": "text/x-python",
   "name": "python",
   "nbconvert_exporter": "python",
   "pygments_lexer": "ipython2",
   "version": "2.7.12"
  }
 },
 "nbformat": 4,
 "nbformat_minor": 0
}
