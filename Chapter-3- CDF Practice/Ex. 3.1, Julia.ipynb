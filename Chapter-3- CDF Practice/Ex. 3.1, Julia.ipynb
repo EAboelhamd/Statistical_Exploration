{
 "cells": [
  {
   "cell_type": "markdown",
   "metadata": {},
   "source": [
    "## Introduction:\n",
    "\n",
    "This notebook contains practice on Ch-3, related to Commulative Dirtibution Function (CDF) .. \n",
    "\n",
    "### Ex: \n",
    "\n",
    "- Build a PMF of the data (mentioned in the chapter) and compute the mean as perceived by the Dean. Since the data have been grouped in bins, you can use the mid-point of each bin.\n",
    "\n",
    "- Then find the distribution of class sizes as perceived by students and compute its mean.\n",
    "\n",
    "#### ------------------------------------------------------------------------------------------------------------------------------------------------------------------"
   ]
  },
  {
   "cell_type": "code",
   "execution_count": 1,
   "metadata": {
    "collapsed": true
   },
   "outputs": [],
   "source": [
    "using DataFrames\n",
    "using Plots"
   ]
  },
  {
   "cell_type": "markdown",
   "metadata": {},
   "source": [
    "### 1. PMF computation:\n",
    "\n",
    "Class sizes = mid point of each class .. \n",
    "\n",
    "I can loop the hist and calc the mid point of each class .. or even copy the mid-point directly as an input .. "
   ]
  },
  {
   "cell_type": "code",
   "execution_count": 62,
   "metadata": {
    "collapsed": false
   },
   "outputs": [
    {
     "data": {
      "text/plain": [
       "Dict{Int64,Int64} with 9 entries:\n",
       "  7  => 8\n",
       "  37 => 8\n",
       "  47 => 2\n",
       "  32 => 12\n",
       "  42 => 3\n",
       "  27 => 6\n",
       "  17 => 14\n",
       "  22 => 4\n",
       "  12 => 8"
      ]
     },
     "execution_count": 62,
     "metadata": {},
     "output_type": "execute_result"
    }
   ],
   "source": [
    "c_ = Dict(\n",
    "     7 => 8, \n",
    "     12=> 8, \n",
    "     17=>14, \n",
    "     22=> 4, \n",
    "     27=> 6, \n",
    "     32=> 12, \n",
    "     37=> 8, \n",
    "     42=> 3, \n",
    "     47=> 2, \n",
    ")"
   ]
  },
  {
   "cell_type": "markdown",
   "metadata": {},
   "source": [
    "As the data dictionary is already given as input in python and here .. \n",
    "and python results matches the built in functions output .. \n",
    "\n",
    "I can safely copy the PMF from there instead of calculating it end to end .. "
   ]
  },
  {
   "cell_type": "code",
   "execution_count": 111,
   "metadata": {
    "collapsed": false
   },
   "outputs": [
    {
     "data": {
      "text/plain": [
       "Dict{Int64,Float64} with 9 entries:\n",
       "  7  => 0.123077\n",
       "  37 => 0.123077\n",
       "  47 => 0.0307692\n",
       "  32 => 0.184615\n",
       "  42 => 0.0461538\n",
       "  27 => 0.0923077\n",
       "  17 => 0.215385\n",
       "  22 => 0.0615385\n",
       "  12 => 0.123077"
      ]
     },
     "execution_count": 111,
     "metadata": {},
     "output_type": "execute_result"
    }
   ],
   "source": [
    "# dict for index, pmf pairs \n",
    "d_ = Dict(7 => 0.12307692307692308,\n",
    "     12 => 0.12307692307692308,\n",
    "     17 => 0.2153846153846154,\n",
    "     22 => 0.06153846153846154,\n",
    "     27 => 0.09230769230769231,\n",
    "     32 => 0.18461538461538463,\n",
    "     37 => 0.12307692307692308,\n",
    "     42 => 0.046153846153846156,\n",
    "     47 => 0.03076923076923077)"
   ]
  },
  {
   "cell_type": "markdown",
   "metadata": {},
   "source": [
    "### 2. Distribution of the class sizes:"
   ]
  },
  {
   "cell_type": "code",
   "execution_count": 112,
   "metadata": {
    "collapsed": false
   },
   "outputs": [
    {
     "data": {
      "text/html": [
       "<script src=\"/home/eman/.julia/v0.5/Plots/src/backends/../../deps/plotly-latest.min.js\"></script>    <div id=\"e608ca34-39f4-422e-be4f-1c7fc05aecd1\" style=\"width:600px;height:400px;\"></div>\n",
       "    <script>\n",
       "    PLOT = document.getElementById('e608ca34-39f4-422e-be4f-1c7fc05aecd1');\n",
       "    Plotly.plot(PLOT, [{\"yaxis\":\"y\",\"y\":[0.12307692307692308,0.12307692307692308,0.03076923076923077,0.18461538461538463,0.046153846153846156,0.0,0.0,0.09230769230769231,0.0,0.2153846153846154,0.0,0.0,0.0,0.06153846153846154,0.12307692307692308,0.0],\"showlegend\":true,\"name\":\"y1\",\"type\":\"bar\",\"xaxis\":\"x\",\"orientation\":\"v\",\"x\":[7,37,47,32,42,0,0,27,0,17,0,0,0,22,12,0],\"marker\":{\"color\":\"rgba(0, 154, 250, 1.000)\"}}], {\"yaxis\":{\"type\":\"-\",\"titlefont\":{\"size\":15,\"color\":\"rgba(0, 0, 0, 1.000)\",\"family\":\"sans-serif\"},\"title\":\"PMF\",\"tickfont\":{\"size\":11,\"color\":\"rgba(0, 0, 0, 1.000)\",\"family\":\"sans-serif\"},\"ticks\":\"inside\",\"tickmode\":\"array\",\"showgrid\":true,\"tickvals\":[0.0,0.05,0.1,0.15000000000000002,0.2],\"domain\":[0.07581474190726165,0.9901574803149606],\"ticktext\":[\"0.00\",\"0.05\",\"0.10\",\"0.15\",\"0.20\"],\"tickangle\":0,\"zeroline\":false,\"linecolor\":\"rgba(0, 0, 0, 1.000)\",\"tickcolor\":\"rgba(0, 0, 0, 1.000)\",\"anchor\":\"x\"},\"annotations\":[],\"width\":600,\"plot_bgcolor\":\"rgba(255, 255, 255, 1.000)\",\"showlegend\":true,\"legend\":{\"bgcolor\":\"rgba(255, 255, 255, 1.000)\",\"y\":1.0,\"font\":{\"size\":11,\"color\":\"rgba(0, 0, 0, 1.000)\",\"family\":\"sans-serif\"},\"bordercolor\":\"rgba(0, 0, 0, 1.000)\",\"x\":1.0},\"xaxis\":{\"type\":\"-\",\"titlefont\":{\"size\":15,\"color\":\"rgba(0, 0, 0, 1.000)\",\"family\":\"sans-serif\"},\"title\":\"Class Size\",\"tickfont\":{\"size\":11,\"color\":\"rgba(0, 0, 0, 1.000)\",\"family\":\"sans-serif\"},\"ticks\":\"inside\",\"tickmode\":\"array\",\"showgrid\":true,\"tickvals\":[0.0,10.0,20.0,30.0,40.0],\"domain\":[0.09128390201224845,0.9934383202099738],\"ticktext\":[\"0\",\"10\",\"20\",\"30\",\"40\"],\"tickangle\":0,\"zeroline\":false,\"linecolor\":\"rgba(0, 0, 0, 1.000)\",\"tickcolor\":\"rgba(0, 0, 0, 1.000)\",\"anchor\":\"y\"},\"paper_bgcolor\":\"rgba(255, 255, 255, 1.000)\",\"height\":400,\"margin\":{\"r\":0,\"l\":0,\"b\":0,\"t\":20}});\n",
       "    </script>\n"
      ]
     },
     "execution_count": 112,
     "metadata": {},
     "output_type": "execute_result"
    }
   ],
   "source": [
    "bar(d_.keys, d_.vals)\n",
    "xlabel!(\"Class Size\")\n",
    "ylabel!(\"PMF\")"
   ]
  },
  {
   "cell_type": "markdown",
   "metadata": {},
   "source": [
    "Matches the python distribution ..\n",
    "\n",
    "### Mean values .. "
   ]
  },
  {
   "cell_type": "code",
   "execution_count": 113,
   "metadata": {
    "collapsed": false
   },
   "outputs": [
    {
     "name": "stderr",
     "output_type": "stream",
     "text": [
      "WARNING: Method definition PmfMean(Any, Any) in module Main at In[53]:3 overwritten at In[113]:3.\n"
     ]
    },
    {
     "data": {
      "text/plain": [
       "PmfMean (generic function with 2 methods)"
      ]
     },
     "execution_count": 113,
     "metadata": {},
     "output_type": "execute_result"
    }
   ],
   "source": [
    "function PmfMean(index, pmf)\n",
    "    \n",
    "    return sum(index.*pmf)\n",
    "end"
   ]
  },
  {
   "cell_type": "code",
   "execution_count": 114,
   "metadata": {
    "collapsed": false
   },
   "outputs": [
    {
     "data": {
      "text/plain": [
       "23.692307692307693"
      ]
     },
     "execution_count": 114,
     "metadata": {},
     "output_type": "execute_result"
    }
   ],
   "source": [
    "m = PmfMean(d_.keys, d_.vals)"
   ]
  },
  {
   "cell_type": "markdown",
   "metadata": {},
   "source": [
    "Matches python results .. "
   ]
  },
  {
   "cell_type": "markdown",
   "metadata": {
    "collapsed": true
   },
   "source": [
    "## 3. Biased Case:"
   ]
  },
  {
   "cell_type": "code",
   "execution_count": 55,
   "metadata": {
    "collapsed": false
   },
   "outputs": [
    {
     "data": {
      "text/plain": [
       "9-element Array{Float64,1}:\n",
       " 0.249351 \n",
       " 0.192208 \n",
       " 0.0363636\n",
       " 0.0818182\n",
       " 0.0623377\n",
       " 0.061039 \n",
       " 0.154545 \n",
       " 0.0571429\n",
       " 0.105195 "
      ]
     },
     "execution_count": 55,
     "metadata": {},
     "output_type": "execute_result"
    }
   ],
   "source": [
    "## as generated in the python code .. no need to reconstruct dict again and recalc PMF\n",
    "\n",
    "index_bias = [32, 37, 7, 42, 12, 47, 17, 22, 27]\n",
    "\n",
    "pmf_bias = \n",
    " [0.24935064935064938,\n",
    "  0.1922077922077922,\n",
    "  0.03636363636363637,\n",
    "  0.08181818181818183,\n",
    "  0.062337662337662345,\n",
    "  0.061038961038961045,\n",
    "  0.15454545454545457,\n",
    "  0.05714285714285715,\n",
    "  0.1051948051948052]"
   ]
  },
  {
   "cell_type": "code",
   "execution_count": 56,
   "metadata": {
    "collapsed": false
   },
   "outputs": [
    {
     "data": {
      "text/html": [
       "<script src=\"/home/eman/.julia/v0.5/Plots/src/backends/../../deps/plotly-latest.min.js\"></script>    <div id=\"44cd56bd-11e1-477c-ac45-a6e7354bcef9\" style=\"width:600px;height:400px;\"></div>\n",
       "    <script>\n",
       "    PLOT = document.getElementById('44cd56bd-11e1-477c-ac45-a6e7354bcef9');\n",
       "    Plotly.plot(PLOT, [{\"yaxis\":\"y\",\"y\":[0.24935064935064938,0.1922077922077922,0.03636363636363637,0.08181818181818183,0.062337662337662345,0.061038961038961045,0.15454545454545457,0.05714285714285715,0.1051948051948052],\"showlegend\":true,\"name\":\"y1\",\"type\":\"bar\",\"xaxis\":\"x\",\"orientation\":\"v\",\"x\":[32,37,7,42,12,47,17,22,27],\"marker\":{\"color\":\"rgba(0, 154, 250, 1.000)\"}}], {\"yaxis\":{\"type\":\"-\",\"titlefont\":{\"size\":15,\"color\":\"rgba(0, 0, 0, 1.000)\",\"family\":\"sans-serif\"},\"title\":\"PMF\",\"tickfont\":{\"size\":11,\"color\":\"rgba(0, 0, 0, 1.000)\",\"family\":\"sans-serif\"},\"ticks\":\"inside\",\"tickmode\":\"array\",\"showgrid\":true,\"tickvals\":[0.0,0.05,0.1,0.15000000000000002,0.2],\"domain\":[0.07581474190726165,0.9901574803149606],\"ticktext\":[\"0.00\",\"0.05\",\"0.10\",\"0.15\",\"0.20\"],\"tickangle\":0,\"zeroline\":false,\"linecolor\":\"rgba(0, 0, 0, 1.000)\",\"tickcolor\":\"rgba(0, 0, 0, 1.000)\",\"anchor\":\"x\"},\"annotations\":[],\"width\":600,\"plot_bgcolor\":\"rgba(255, 255, 255, 1.000)\",\"showlegend\":true,\"legend\":{\"bgcolor\":\"rgba(255, 255, 255, 1.000)\",\"y\":1.0,\"font\":{\"size\":11,\"color\":\"rgba(0, 0, 0, 1.000)\",\"family\":\"sans-serif\"},\"bordercolor\":\"rgba(0, 0, 0, 1.000)\",\"x\":1.0},\"xaxis\":{\"type\":\"-\",\"titlefont\":{\"size\":15,\"color\":\"rgba(0, 0, 0, 1.000)\",\"family\":\"sans-serif\"},\"title\":\"Class Size\",\"tickfont\":{\"size\":11,\"color\":\"rgba(0, 0, 0, 1.000)\",\"family\":\"sans-serif\"},\"ticks\":\"inside\",\"tickmode\":\"array\",\"showgrid\":true,\"tickvals\":[10.0,20.0,30.0,40.0],\"domain\":[0.09128390201224845,0.9934383202099738],\"ticktext\":[\"10\",\"20\",\"30\",\"40\"],\"tickangle\":0,\"zeroline\":false,\"linecolor\":\"rgba(0, 0, 0, 1.000)\",\"tickcolor\":\"rgba(0, 0, 0, 1.000)\",\"anchor\":\"y\"},\"paper_bgcolor\":\"rgba(255, 255, 255, 1.000)\",\"height\":400,\"margin\":{\"r\":0,\"l\":0,\"b\":0,\"t\":20}});\n",
       "    </script>\n"
      ]
     },
     "execution_count": 56,
     "metadata": {},
     "output_type": "execute_result"
    }
   ],
   "source": [
    "bar(index_bias, pmf_bias)\n",
    "xlabel!(\"Class Size\")\n",
    "ylabel!(\"PMF\")"
   ]
  },
  {
   "cell_type": "code",
   "execution_count": 57,
   "metadata": {
    "collapsed": false
   },
   "outputs": [
    {
     "data": {
      "text/plain": [
       "29.123376623376622"
      ]
     },
     "execution_count": 57,
     "metadata": {},
     "output_type": "execute_result"
    }
   ],
   "source": [
    "PmfMean(index_bias, pmf_bias)"
   ]
  },
  {
   "cell_type": "markdown",
   "metadata": {},
   "source": [
    "It maches python result .. this is an evidence that the mean calc. function works properly .."
   ]
  },
  {
   "cell_type": "markdown",
   "metadata": {},
   "source": [
    "## 3. Unbiase Class size: \n",
    "\n",
    "The motivation behind this part is that is that ..  suppose you want to find the distribution of class sizes at a college, but you can’t get reliable data from the Dean. An alternative is to choose a random sample of students and ask them the number of students in each of their classes. Then you could compute the PMF of their responses.\n",
    "\n",
    "However, The result would be biased because large classes would be oversampled, but you could estimate the actual distribution of class sizes by applying an appropriate transformation to the observed distribution.\n",
    "\n",
    "Hence, oversampling results in biasness (i.e. if you ask students how big their classes are, large classes are oversampled in proportion to their size) ..\n",
    "\n",
    "\n",
    "This is the base case mentioned above .."
   ]
  },
  {
   "cell_type": "code",
   "execution_count": 115,
   "metadata": {
    "collapsed": false
   },
   "outputs": [
    {
     "data": {
      "text/plain": [
       "23.692307692307693"
      ]
     },
     "execution_count": 115,
     "metadata": {},
     "output_type": "execute_result"
    }
   ],
   "source": [
    "m = PmfMean(d_.keys, d_.vals)"
   ]
  }
 ],
 "metadata": {
  "kernelspec": {
   "display_name": "Julia 0.5.0",
   "language": "julia",
   "name": "julia-0.5"
  },
  "language_info": {
   "file_extension": ".jl",
   "mimetype": "application/julia",
   "name": "julia",
   "version": "0.5.0"
  }
 },
 "nbformat": 4,
 "nbformat_minor": 0
}
