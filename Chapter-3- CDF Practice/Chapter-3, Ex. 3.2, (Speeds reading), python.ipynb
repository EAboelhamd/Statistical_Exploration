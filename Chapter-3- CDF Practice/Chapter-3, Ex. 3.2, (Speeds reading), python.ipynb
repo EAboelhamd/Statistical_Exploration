{
 "cells": [
  {
   "cell_type": "markdown",
   "metadata": {},
   "source": [
    "## Ex. \n",
    "\n",
    "- Write a function called BiasPmf that takes a Pmf representing the actual distribution of runners’ speeds, and the speed of a running observer, and returns a new Pmf representing the distribution of runners’ speeds as seen by the observer.\n",
    "\n",
    "- To test your function, get the distribution of speeds from a normal road race (not a relay). I wrote a program that reads the results from the James Joyce Ramble 10K in Dedham MA and converts the pace of each runner to MPH. Download it from http://thinkstats.com/relay.py. Run it and look at the PMF of speeds.\n",
    "\n",
    "- Now compute the distribution of speeds you would observe if you ran a relay race at 7.5 MPH with this group of runners. You can download a solution from http://thinkstats.com/relay_soln.py"
   ]
  },
  {
   "cell_type": "code",
   "execution_count": 1,
   "metadata": {
    "collapsed": false
   },
   "outputs": [
    {
     "name": "stderr",
     "output_type": "stream",
     "text": [
      "/usr/lib/python2.7/dist-packages/matplotlib/font_manager.py:273: UserWarning: Matplotlib is building the font cache using fc-list. This may take a moment.\n",
      "  warnings.warn('Matplotlib is building the font cache using fc-list. This may take a moment.')\n"
     ]
    }
   ],
   "source": [
    "import relay\n",
    "import relay_soln\n",
    "import csv\n",
    "import Pmf\n",
    "import matplotlib.pyplot as plt\n",
    "import numpy as np\n",
    "%matplotlib inline "
   ]
  },
  {
   "cell_type": "markdown",
   "metadata": {},
   "source": [
    "## 1. BiasPmf():\n",
    "- Input ==> distribution of runners' speeds, speed of the running observer .. \n",
    "- Output ==> a new Pmf (the distribution of runners’ speeds as seen by the observer) .."
   ]
  },
  {
   "cell_type": "code",
   "execution_count": 2,
   "metadata": {
    "collapsed": false
   },
   "outputs": [
    {
     "data": {
      "image/png": "[encoded data removed]",
      "text/plain": [
       "<matplotlib.figure.Figure at 0x7fb9b4149b90>"
      ]
     },
     "metadata": {},
     "output_type": "display_data"
    }
   ],
   "source": [
    "relay.main() ## it gave me an error, however, it is mandate to output the graph and compare it with mine"
   ]
  },
  {
   "cell_type": "markdown",
   "metadata": {},
   "source": [
    "The output of calling the main is a distribution of the speeds .. \n",
    "\n",
    "Let's implemnting our own function and test the results .. "
   ]
  },
  {
   "cell_type": "code",
   "execution_count": 3,
   "metadata": {
    "collapsed": false
   },
   "outputs": [],
   "source": [
    "res = relay.ReadResults() ## read the results from the competition URL and returns them in tuples .. "
   ]
  },
  {
   "cell_type": "code",
   "execution_count": 4,
   "metadata": {
    "collapsed": false
   },
   "outputs": [],
   "source": [
    "## write data in csv file .. \n",
    "## this reading is related to Julia's implementation \n",
    "with open('results.csv', 'wb') as f:\n",
    "    writer = csv.writer(f)\n",
    "    writer.writerows(res)"
   ]
  },
  {
   "cell_type": "code",
   "execution_count": 5,
   "metadata": {
    "collapsed": false
   },
   "outputs": [],
   "source": [
    "speeds = relay.GetSpeeds(res) ## these are the speeds in MPH"
   ]
  },
  {
   "cell_type": "code",
   "execution_count": 6,
   "metadata": {
    "collapsed": false
   },
   "outputs": [],
   "source": [
    "## let's compute the pmf for the above speeds .. considering the speeds as our target list .. \n",
    "\n",
    "pmf = Pmf.MakePmfFromList(speeds, 'speeds')\n",
    "# pmf.d ## dictionary of pmf"
   ]
  },
  {
   "cell_type": "code",
   "execution_count": 7,
   "metadata": {
    "collapsed": false
   },
   "outputs": [
    {
     "data": {
      "text/plain": [
       "<matplotlib.text.Text at 0x7fb9b40d1d10>"
      ]
     },
     "execution_count": 7,
     "metadata": {},
     "output_type": "execute_result"
    },
    {
     "data": {
      "image/png": "[encoded data removed]",
      "text/plain": [
       "<matplotlib.figure.Figure at 0x7fb9b4065290>"
      ]
     },
     "metadata": {},
     "output_type": "display_data"
    }
   ],
   "source": [
    "## now let's plot this dict .. using bar plot as these are discerete values ..\n",
    "\n",
    "plt.bar(pmf.d.keys(), pmf.d.values())\n",
    "plt.xlabel('speed (mph)')\n",
    "plt.ylabel('probability')"
   ]
  },
  {
   "cell_type": "markdown",
   "metadata": {
    "collapsed": true
   },
   "source": [
    "## Comment:\n",
    "\n",
    "- The shape is a little bit weird becuase the number of data points are huge .. \n",
    "\n",
    "- The distribution of the output speeds is similar to that one from calling the main() .. \n",
    "\n",
    "- It is almost normal .. So far this is the distribution of the overall speeds .. \n",
    "\n",
    "\n",
    "==> Let's construct the biasPmf function .. \n",
    "\n"
   ]
  },
  {
   "cell_type": "code",
   "execution_count": 8,
   "metadata": {
    "collapsed": false
   },
   "outputs": [
    {
     "data": {
      "text/plain": [
       "6.8833652007648176"
      ]
     },
     "execution_count": 8,
     "metadata": {},
     "output_type": "execute_result"
    }
   ],
   "source": [
    "runner_speed = np.random.choice(pmf.d.keys())\n",
    "runner_speed"
   ]
  },
  {
   "cell_type": "code",
   "execution_count": 9,
   "metadata": {
    "collapsed": false
   },
   "outputs": [
    {
     "data": {
      "text/plain": [
       "([9.375,\n",
       "  6.0,\n",
       "  8.933002481389577,\n",
       "  8.0,\n",
       "  8.16326530612245,\n",
       "  4.0862656072644725,\n",
       "  5.194805194805195,\n",
       "  5.741626794258373,\n",
       "  7.003891050583658],\n",
       " [0.0069129434214562522,\n",
       "  0.0024508622432328326,\n",
       "  0.004264978928638234,\n",
       "  0.0054216043562423351,\n",
       "  0.0044387910580681285,\n",
       "  0.0019401108902457828,\n",
       "  0.0011712109443683075,\n",
       "  0.0055434900673382928,\n",
       "  0.00075238709018341302])"
      ]
     },
     "execution_count": 9,
     "metadata": {},
     "output_type": "execute_result"
    }
   ],
   "source": [
    "new_pmf = relay_soln.BiasPmf(pmf, runner_speed)\n",
    "new_pmf.d.keys()[1:10], new_pmf.d.values()[1:10]"
   ]
  },
  {
   "cell_type": "code",
   "execution_count": 10,
   "metadata": {
    "collapsed": false
   },
   "outputs": [
    {
     "data": {
      "text/plain": [
       "<Container object of 374 artists>"
      ]
     },
     "execution_count": 10,
     "metadata": {},
     "output_type": "execute_result"
    },
    {
     "data": {
      "image/png": "[encoded data removed]",
      "text/plain": [
       "<matplotlib.figure.Figure at 0x7fb9ad4c6e10>"
      ]
     },
     "metadata": {},
     "output_type": "display_data"
    }
   ],
   "source": [
    "plt.bar(new_pmf.d.keys(), new_pmf.d.values())"
   ]
  },
  {
   "cell_type": "markdown",
   "metadata": {},
   "source": [
    "## Comment:\n",
    "The runner (observer) is chosen at random from the set of runners .. \n",
    "i.e. if his running speed is 9.2 .. \n",
    "\n",
    "The above conclusion is also hold in case of 9.2 running speed .. \n",
    "\n",
    "PMF values around 9.2 are less than the orginal values .. becuase the chance of overtaking a runner, or being overtaken, is proportional to the difference in their speeds.\n",
    "\n",
    "Most of the speeds far from 9.2 have higher probabilities (i.e. after 10 or below 6) .. \n",
    "\n",
    "This influences the normality of the shape .. "
   ]
  },
  {
   "cell_type": "markdown",
   "metadata": {},
   "source": [
    "## 3. Distribution of speeds (wrt 7.5 MPH):"
   ]
  },
  {
   "cell_type": "code",
   "execution_count": 11,
   "metadata": {
    "collapsed": false
   },
   "outputs": [],
   "source": [
    "biase_7 = relay_soln.BiasPmf(pmf, 7.5)\n",
    "# biase_7.d"
   ]
  },
  {
   "cell_type": "code",
   "execution_count": 12,
   "metadata": {
    "collapsed": false
   },
   "outputs": [
    {
     "data": {
      "text/plain": [
       "<matplotlib.text.Text at 0x7fb9acaebe10>"
      ]
     },
     "execution_count": 12,
     "metadata": {},
     "output_type": "execute_result"
    },
    {
     "data": {
      "image/png": "[encoded data removed]",
      "text/plain": [
       "<matplotlib.figure.Figure at 0x7fb9ad0cecd0>"
      ]
     },
     "metadata": {},
     "output_type": "display_data"
    }
   ],
   "source": [
    "plt.bar(biase_7.d.keys(),biase_7.d.values())\n",
    "plt.xlabel('speed (mph)')\n",
    "plt.ylabel('probability')"
   ]
  },
  {
   "cell_type": "markdown",
   "metadata": {},
   "source": [
    "The above conclusion is also hold in case of 7.5 running speed .. \n",
    "\n",
    "PMF values around 7.5 are less than the orginal values .. \n",
    "\n",
    "Most of the speeds far from 7.5 have higher probabilities (i.e. after 10 or below 6) .. \n",
    "\n",
    "This influences the normality of the shape .. \n",
    "\n",
    "This means that the runner's observation is biased according to his speed ..\n",
    "\n",
    "## Let's test the above conclusion: \n",
    "End to end implementation .."
   ]
  },
  {
   "cell_type": "code",
   "execution_count": 13,
   "metadata": {
    "collapsed": false
   },
   "outputs": [
    {
     "data": {
      "text/plain": [
       "[2.4916347992351824,\n",
       " 0.88336520076481762,\n",
       " 2.0496372806247596,\n",
       " 1.1166347992351824,\n",
       " 1.2799001053576315,\n",
       " 2.7970995935003451,\n",
       " 1.6885600059596229,\n",
       " 1.1417384065064446,\n",
       " 0.12052584981883996]"
      ]
     },
     "execution_count": 13,
     "metadata": {},
     "output_type": "execute_result"
    }
   ],
   "source": [
    "diff = []\n",
    "for i in pmf.d.keys():\n",
    "    diff.append(abs(i - runner_speed))\n",
    "diff[1:10]"
   ]
  },
  {
   "cell_type": "code",
   "execution_count": 14,
   "metadata": {
    "collapsed": false
   },
   "outputs": [
    {
     "data": {
      "text/plain": [
       "<matplotlib.text.Text at 0x7fb9ac2acd90>"
      ]
     },
     "execution_count": 14,
     "metadata": {},
     "output_type": "execute_result"
    },
    {
     "data": {
      "image/png": "[encoded data removed]",
      "text/plain": [
       "<matplotlib.figure.Figure at 0x7fb9cd640ad0>"
      ]
     },
     "metadata": {},
     "output_type": "display_data"
    }
   ],
   "source": [
    "plt.bar(diff, pmf.d.values())\n",
    "plt.xlabel('speed (mph)')\n",
    "plt.ylabel('probability')"
   ]
  },
  {
   "cell_type": "markdown",
   "metadata": {},
   "source": [
    "Range of values differs from the original plot ..!!!"
   ]
  },
  {
   "cell_type": "code",
   "execution_count": 16,
   "metadata": {
    "collapsed": false
   },
   "outputs": [],
   "source": [
    "def BiasPMF(pmf, runner_speed):\n",
    "    diff = []\n",
    "    mult_ = []\n",
    "\n",
    "    for i in xrange(len(pmf.d.keys())):\n",
    "        diff.append(abs(pmf.d.keys()[i] - runner_speed))  ## speeds \n",
    "        mult_.append(pmf.d.get(pmf.d.keys()[i], 0) * diff[i]) ## look for the key, If it's not found it returns 0, then add the finding as the key's value\n",
    "\n",
    "\n",
    "    norm = [float(i)/sum(mult_) for i in mult_]  ## normalized probs\n",
    "    \n",
    "    return norm\n",
    "    # mult_[1:10]\n",
    "    # norm"
   ]
  },
  {
   "cell_type": "code",
   "execution_count": 18,
   "metadata": {
    "collapsed": false
   },
   "outputs": [],
   "source": [
    "norm = BiasPMF(pmf, runner_speed)"
   ]
  },
  {
   "cell_type": "code",
   "execution_count": 19,
   "metadata": {
    "collapsed": false
   },
   "outputs": [
    {
     "data": {
      "text/plain": [
       "<matplotlib.text.Text at 0x7fb9ab81e610>"
      ]
     },
     "execution_count": 19,
     "metadata": {},
     "output_type": "execute_result"
    },
    {
     "data": {
      "image/png": "[encoded data removed]",
      "text/plain": [
       "<matplotlib.figure.Figure at 0x7fb9ab422090>"
      ]
     },
     "metadata": {},
     "output_type": "display_data"
    }
   ],
   "source": [
    "plt.bar(pmf.d.keys(), norm)\n",
    "plt.xlabel('speed (mph)') ## speeds not difference of speeds \n",
    "plt.ylabel('probability')"
   ]
  },
  {
   "cell_type": "markdown",
   "metadata": {},
   "source": [
    "Almost the same shape as the one generated using the built in function .. however, the probabilties are different a bit ! (i.e I have smaller probs after speed of 10 .. and higher before speed of 4) "
   ]
  }
 ],
 "metadata": {
  "kernelspec": {
   "display_name": "Python 2",
   "language": "python",
   "name": "python2"
  },
  "language_info": {
   "codemirror_mode": {
    "name": "ipython",
    "version": 2
   },
   "file_extension": ".py",
   "mimetype": "text/x-python",
   "name": "python",
   "nbconvert_exporter": "python",
   "pygments_lexer": "ipython2",
   "version": "2.7.12"
  }
 },
 "nbformat": 4,
 "nbformat_minor": 0
}
