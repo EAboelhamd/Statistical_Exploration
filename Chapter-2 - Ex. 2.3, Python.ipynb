{
 "cells": [
  {
   "cell_type": "markdown",
   "metadata": {},
   "source": [
    "## Introduction:\n",
    "\n",
    "This notebook is devoted to the Ex. 2.3, related to data distribution and histogram plotting .. \n",
    "\n",
    "\n",
    "Downloading the following pmf.py notebook in mandate for this exercise .. \n",
    "\n",
    "http://greenteapress.com/thinkstats/Pmf.py\n",
    "\n",
    "\n",
    "## Part-1: \n",
    "\n",
    "The mode of a distribution is the most frequent value (see https://en.wikipedia.org/wiki/Mode_(statistics)). Write a function called Mode that takes a Hist object and returns the most frequent value.\n",
    "\n",
    "## Part-2:  \n",
    "\n",
    "As a more challenging version, write a function called AllModes that takes a Hist object and returns a list of value-frequency pairs in descending order of frequency. Hint: the operator module provides a function called itemgetter which you can pass as a key to sorted."
   ]
  },
  {
   "cell_type": "code",
   "execution_count": 2,
   "metadata": {
    "collapsed": false
   },
   "outputs": [],
   "source": [
    "import Pmf\n",
    "import matplotlib.pyplot as plt\n",
    "import operator\n",
    "%matplotlib inline\n",
    "import numpy as np"
   ]
  },
  {
   "cell_type": "code",
   "execution_count": 3,
   "metadata": {
    "collapsed": true
   },
   "outputs": [],
   "source": [
    "x = [3, 2, 2, 2, 1, 3, 5] ## these data already mentioned in this section in the textbook .. however, I repeated the values of 2 and 3  "
   ]
  },
  {
   "cell_type": "code",
   "execution_count": 4,
   "metadata": {
    "collapsed": false
   },
   "outputs": [
    {
     "data": {
      "text/plain": [
       "{1: 1, 2: 3, 3: 2, 5: 1}"
      ]
     },
     "execution_count": 4,
     "metadata": {},
     "output_type": "execute_result"
    }
   ],
   "source": [
    "hist = {} # create data_dict\n",
    "for i in x:\n",
    "    hist[i] = hist.get(i, 0) + 1 ## 1 increases the counter \n",
    "\n",
    "hist #data dict ==> number and its freq"
   ]
  },
  {
   "cell_type": "code",
   "execution_count": 5,
   "metadata": {
    "collapsed": false
   },
   "outputs": [
    {
     "data": {
      "text/plain": [
       "<Pmf.Hist at 0x7f625408c290>"
      ]
     },
     "execution_count": 5,
     "metadata": {},
     "output_type": "execute_result"
    }
   ],
   "source": [
    "hist = Pmf.MakeHistFromList(x)\n",
    "hist    ## hist object "
   ]
  },
  {
   "cell_type": "code",
   "execution_count": 6,
   "metadata": {
    "collapsed": false
   },
   "outputs": [
    {
     "data": {
      "text/plain": [
       "1"
      ]
     },
     "execution_count": 6,
     "metadata": {},
     "output_type": "execute_result"
    }
   ],
   "source": [
    "## to access the elements in the hist object .. \n",
    "\n",
    "hist.Freq(1)"
   ]
  },
  {
   "cell_type": "markdown",
   "metadata": {},
   "source": [
    "We can iterate the hist to display all its item, freq pairs .. "
   ]
  },
  {
   "cell_type": "code",
   "execution_count": 7,
   "metadata": {
    "collapsed": false
   },
   "outputs": [
    {
     "name": "stdout",
     "output_type": "stream",
     "text": [
      "1 1\n",
      "2 3\n",
      "3 2\n",
      "5 1\n"
     ]
    }
   ],
   "source": [
    "for val, freq in hist.Items():\n",
    "    print val, freq"
   ]
  },
  {
   "cell_type": "code",
   "execution_count": 9,
   "metadata": {
    "collapsed": true
   },
   "outputs": [],
   "source": [
    "def Mode(hist): ## mode is the most frequent value\n",
    "    \n",
    "    lists = sorted(hist.Items())  ## returns ordered list (order by the items not their freq.)\n",
    "    x_, y = zip(*lists)  ## zip: seperates items, freqs into two vectors .. i.e. x carries items and y carries freq.  \n",
    "\n",
    "    max_value = max(y)  ## carries max freq \n",
    "    max_index = y.index(max_value) ## index of the max freq .. \n",
    "\n",
    "    return x_[max_index], x_, y  ## find item that has the max index "
   ]
  },
  {
   "cell_type": "code",
   "execution_count": 11,
   "metadata": {
    "collapsed": false
   },
   "outputs": [
    {
     "data": {
      "text/plain": [
       "2"
      ]
     },
     "execution_count": 11,
     "metadata": {},
     "output_type": "execute_result"
    }
   ],
   "source": [
    "mode_index, _, _ = Mode(hist) # 2 has the most freq. value that is repeated 3 times \n",
    "mode_index"
   ]
  },
  {
   "cell_type": "markdown",
   "metadata": {},
   "source": [
    "### Justification:\n",
    "\n",
    "We can easily assure that the above results are correct  by observing the items in x and their frequencies .. \n",
    "\n",
    "and we can also draw the above list and check that the 2nd index contains the highest repeatitive value .. "
   ]
  },
  {
   "cell_type": "code",
   "execution_count": 12,
   "metadata": {
    "collapsed": false
   },
   "outputs": [
    {
     "data": {
      "text/plain": [
       "<matplotlib.text.Text at 0x7f624d479e50>"
      ]
     },
     "execution_count": 12,
     "metadata": {},
     "output_type": "execute_result"
    },
    {
     "data": {
      "image/png": "[encoded data removed]",
      "text/plain": [
       "<matplotlib.figure.Figure at 0x7f625408c950>"
      ]
     },
     "metadata": {},
     "output_type": "display_data"
    }
   ],
   "source": [
    "_, x_, y = Mode(hist)\n",
    "plt.bar(x_, y)\n",
    "plt.xlabel('Values')\n",
    "plt.ylabel('frequencies')"
   ]
  },
  {
   "cell_type": "markdown",
   "metadata": {},
   "source": [
    "### 3rd check: \n",
    "\n",
    "I calculated the mode() using excel built in function .. to make sure it is also 2 as well .. "
   ]
  },
  {
   "cell_type": "markdown",
   "metadata": {},
   "source": [
    "## Part-2:\n",
    "\n",
    "allModes() .. "
   ]
  },
  {
   "cell_type": "code",
   "execution_count": 14,
   "metadata": {
    "collapsed": true
   },
   "outputs": [],
   "source": [
    "def allModes(hist):\n",
    "    sorted_x = sorted(hist.Items(), key=operator.itemgetter(1), reverse= True)\n",
    "    \n",
    "    return sorted_x"
   ]
  },
  {
   "cell_type": "code",
   "execution_count": 16,
   "metadata": {
    "collapsed": false
   },
   "outputs": [
    {
     "data": {
      "text/plain": [
       "[(2, 3), (3, 2), (1, 1), (5, 1)]"
      ]
     },
     "execution_count": 16,
     "metadata": {},
     "output_type": "execute_result"
    }
   ],
   "source": [
    "allModes(hist) ## returns the items and their freq. in descending order "
   ]
  },
  {
   "cell_type": "markdown",
   "metadata": {},
   "source": [
    "### Justification:\n",
    "\n",
    "the above function returns the items and their freq. in desending order .. with the help of the built in function sorted() .. \n",
    "\n",
    "the defualt order for this function is ascending .. this is why reverse is set to True .. \n",
    "\n",
    "itemgetter() fetches the item from its operand .. \n",
    "\n",
    "the value of 1 in itemgetter() represents fetching the freq. values and order them descending .. \n",
    "if value of 0 is set .. the items themselves will be ordered in desending order not their freq. \n",
    "\n",
    "As illustrated below .. \n",
    "\n",
    "Reference ==> https://docs.python.org/2/library/operator.html"
   ]
  },
  {
   "cell_type": "code",
   "execution_count": 17,
   "metadata": {
    "collapsed": true
   },
   "outputs": [],
   "source": [
    "def allModes(hist):\n",
    "    sorted_x = sorted(hist.Items(), key=operator.itemgetter(0), reverse= True)\n",
    "    \n",
    "    return sorted_x"
   ]
  },
  {
   "cell_type": "code",
   "execution_count": 18,
   "metadata": {
    "collapsed": false
   },
   "outputs": [
    {
     "data": {
      "text/plain": [
       "[(5, 1), (3, 2), (2, 3), (1, 1)]"
      ]
     },
     "execution_count": 18,
     "metadata": {},
     "output_type": "execute_result"
    }
   ],
   "source": [
    "allModes(hist)"
   ]
  }
 ],
 "metadata": {
  "kernelspec": {
   "display_name": "Python 2",
   "language": "python",
   "name": "python2"
  },
  "language_info": {
   "codemirror_mode": {
    "name": "ipython",
    "version": 2
   },
   "file_extension": ".py",
   "mimetype": "text/x-python",
   "name": "python",
   "nbconvert_exporter": "python",
   "pygments_lexer": "ipython2",
   "version": "2.7.12"
  }
 },
 "nbformat": 4,
 "nbformat_minor": 0
}
