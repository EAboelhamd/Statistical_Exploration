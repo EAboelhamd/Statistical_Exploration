{
 "cells": [
  {
   "cell_type": "markdown",
   "metadata": {},
   "source": [
    "## Introduction: \n",
    "\n",
    "This notebook is an implementation for applying PMF on remaining lifetime concept .. for this ex. we have to import PMF.py code (http://greenteapress.com/thinkstats/Pmf.py) that contains functions for calc. PMF and normalizes their values ... \n",
    "\n",
    "    Write a function called RemainingLifetime that takes a Pmf of lifetimes and\n",
    "    an age, and returns a new Pmf that represents the distribution of remaining\n",
    "    lifetimes.\n",
    "\n",
    "Before implementing this requirment .. let's introduce the survival analysis .. "
   ]
  },
  {
   "cell_type": "markdown",
   "metadata": {},
   "source": [
    "## What is Survival analysis ?!\n",
    "- Survival analysis attempts to answer questions such as: what is the proportion of a population which will survive past a certain time? Of those that survive, at what rate will they die or fail? Can multiple causes of death or failure be taken into account? How do particular circumstances or characteristics increase or decrease the probability of survival?\n",
    "\n",
    "- This is why to be able to implement the survival analysis concept .. someone has to have a distribution for the lifetime and an age .. \n",
    "\n",
    "As an example we can check ==> https://upload.wikimedia.org/wikipedia/commons/4/47/Excerpt_from_CDC_2003_Table_1.pdf"
   ]
  },
  {
   "cell_type": "code",
   "execution_count": 51,
   "metadata": {
    "collapsed": false
   },
   "outputs": [],
   "source": [
    "import Pmf\n",
    "import numpy as np\n",
    "import matplotlib.pyplot as plt\n",
    "%matplotlib inline"
   ]
  },
  {
   "cell_type": "code",
   "execution_count": 52,
   "metadata": {
    "collapsed": false
   },
   "outputs": [
    {
     "data": {
      "text/plain": [
       "[30, 20, 25, 40, 35, 25]"
      ]
     },
     "execution_count": 52,
     "metadata": {},
     "output_type": "execute_result"
    }
   ],
   "source": [
    "all_ages = [30, 20, 25, 40, 35, 25] ## random data\n",
    "all_ages"
   ]
  },
  {
   "cell_type": "code",
   "execution_count": 53,
   "metadata": {
    "collapsed": false
   },
   "outputs": [
    {
     "data": {
      "text/plain": [
       "<Pmf.Pmf at 0x7f3d8c05aed0>"
      ]
     },
     "execution_count": 53,
     "metadata": {},
     "output_type": "execute_result"
    }
   ],
   "source": [
    "all_ages_prob = Pmf.MakePmfFromList(all_ages)\n",
    "all_ages_prob"
   ]
  },
  {
   "cell_type": "code",
   "execution_count": 54,
   "metadata": {
    "collapsed": false
   },
   "outputs": [
    {
     "data": {
      "text/plain": [
       "<Pmf.Pmf at 0x7f3d8c05aed0>"
      ]
     },
     "execution_count": 54,
     "metadata": {},
     "output_type": "execute_result"
    }
   ],
   "source": [
    "all_ages_prob  ## list of pmfs "
   ]
  },
  {
   "cell_type": "code",
   "execution_count": 55,
   "metadata": {
    "collapsed": false
   },
   "outputs": [
    {
     "data": {
      "text/plain": [
       "{20: 0.16666666666666666,\n",
       " 25: 0.3333333333333333,\n",
       " 30: 0.16666666666666666,\n",
       " 35: 0.16666666666666666,\n",
       " 40: 0.16666666666666666}"
      ]
     },
     "execution_count": 55,
     "metadata": {},
     "output_type": "execute_result"
    }
   ],
   "source": [
    "all_ages_prob.d  ## d is a dict, key and value pairs"
   ]
  },
  {
   "cell_type": "markdown",
   "metadata": {},
   "source": [
    "So far we converted the unsorted list of values represents different ages to PMFs .. the next step is to normalize the PMFs .. in case they are not !! .. by using Normalize() function from Pmf class .. however, they are already normalized (summed to one) !\n",
    "\n",
    "\n",
    "## Note: \n",
    "MakePmfFromList() calls MakePmfFromHist() by default .. cause PMF and Hist are closely related except hist returns the freq. of each element in the set (int number) but Pmf return probability associated with the occurance of this element in the set (fraction) .."
   ]
  },
  {
   "cell_type": "code",
   "execution_count": 56,
   "metadata": {
    "collapsed": false
   },
   "outputs": [
    {
     "data": {
      "text/plain": [
       "<matplotlib.text.Text at 0x7f3d8514fa90>"
      ]
     },
     "execution_count": 56,
     "metadata": {},
     "output_type": "execute_result"
    },
    {
     "data": {
      "image/png": "[encoded data removed]",
      "text/plain": [
       "<matplotlib.figure.Figure at 0x7f3d851c5350>"
      ]
     },
     "metadata": {},
     "output_type": "display_data"
    }
   ],
   "source": [
    "plt.bar(all_ages_prob.d.keys(), all_ages_prob.d.values())  ## as we have discrete values\n",
    "plt.xlabel('Ages')\n",
    "plt.ylabel('PMF')"
   ]
  },
  {
   "cell_type": "markdown",
   "metadata": {
    "collapsed": false
   },
   "source": [
    "## comment:\n",
    "\n",
    "The following results might seem correct and understandable .. as follows:\n",
    "\n",
    "The bar chart demonstrates each age and its corresponding PMF value .. i.e. the pmf of age 25 is twice the pmf of the other ages which is o.33 (as it appears twice in the dataset) .. \n",
    "\n",
    "however, this is not 100% corrrect .. \n",
    "\n",
    "cuase if we look at the following reference .. \n",
    "https://upload.wikimedia.org/wikipedia/commons/4/47/Excerpt_from_CDC_2003_Table_1.pdf\n",
    "\n",
    "We can find that PMFs have to be drawn using histogrms .. not bar charts .. to be able to allocate whatever input age along the ages axis and figure out its corresponding PMF !! .. however, this is inapplicable in our case as we deal with discrete values not continuous "
   ]
  },
  {
   "cell_type": "code",
   "execution_count": 76,
   "metadata": {
    "collapsed": false
   },
   "outputs": [],
   "source": [
    "def remaininglifetime(pmf, age):\n",
    "    index = all_ages_prob.d.keys()\n",
    "    vals = all_ages_prob.d.values()\n",
    "    \n",
    "    k = []\n",
    "    v = []\n",
    "    \n",
    "    for i in xrange(len(index)):\n",
    "        if(index[i]  > age):\n",
    "            k.append(index[i])\n",
    "            v.append(vals[i])\n",
    "            \n",
    "    return k, v"
   ]
  },
  {
   "cell_type": "code",
   "execution_count": 77,
   "metadata": {
    "collapsed": false
   },
   "outputs": [
    {
     "data": {
      "text/plain": [
       "([40, 25, 35, 30],\n",
       " [0.16666666666666666,\n",
       "  0.3333333333333333,\n",
       "  0.16666666666666666,\n",
       "  0.16666666666666666])"
      ]
     },
     "execution_count": 77,
     "metadata": {},
     "output_type": "execute_result"
    }
   ],
   "source": [
    "age = 20\n",
    "k, v = remaininglifetime(all_ages_prob.d, age)\n",
    "k, v"
   ]
  },
  {
   "cell_type": "code",
   "execution_count": 78,
   "metadata": {
    "collapsed": false
   },
   "outputs": [
    {
     "data": {
      "text/plain": [
       "<matplotlib.text.Text at 0x7f3d84ffdd50>"
      ]
     },
     "execution_count": 78,
     "metadata": {},
     "output_type": "execute_result"
    },
    {
     "data": {
      "image/png": "[encoded data removed]",
      "text/plain": [
       "<matplotlib.figure.Figure at 0x7f3d84f6bf90>"
      ]
     },
     "metadata": {},
     "output_type": "display_data"
    }
   ],
   "source": [
    "plt.bar(k, v)\n",
    "plt.xlabel('Remaining Ages')\n",
    "plt.ylabel('PMF')"
   ]
  },
  {
   "cell_type": "markdown",
   "metadata": {},
   "source": [
    "The output of the above function represents the remaining lifetime after the input age. "
   ]
  }
 ],
 "metadata": {
  "kernelspec": {
   "display_name": "Python 2",
   "language": "python",
   "name": "python2"
  },
  "language_info": {
   "codemirror_mode": {
    "name": "ipython",
    "version": 2
   },
   "file_extension": ".py",
   "mimetype": "text/x-python",
   "name": "python",
   "nbconvert_exporter": "python",
   "pygments_lexer": "ipython2",
   "version": "2.7.12"
  }
 },
 "nbformat": 4,
 "nbformat_minor": 0
}
