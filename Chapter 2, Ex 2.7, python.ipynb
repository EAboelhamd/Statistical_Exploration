{
 "cells": [
  {
   "cell_type": "markdown",
   "metadata": {},
   "source": [
    "## Introduction: \n",
    "\n",
    "This exercise introduces the concept of conditional probability .. In this ex. we will need to import conditional.py .. \n",
    "\n",
    "http://greenteapress.com/thinkstats/conditional.py\n",
    "\n",
    "\n",
    "Imagine that someone you know is pregnant, and it is the beginning of Week 39. What is the chance that the baby will be born in the next week? \n",
    "How much does the answer change if it’s a first baby?\n",
    "We can answer these questions by computing a conditional probability, which is a probability that depends on a condition. In this case, the condition is that we know the baby didn’t arrive during Weeks 0–38. \n",
    "\n",
    "Here’s one way to do it:\n",
    "\n",
    "1. Given a PMF, generate a fake cohort of 1000 pregnancies. For each number of weeks, x, the number of pregnancies with duration x is 1000 PMF(x)\n",
    "\n",
    "2. Remove from the cohort all pregnancies with length less than 39\n",
    "\n",
    "3. Compute the PMF of the remaining durations; the result is the conditional PMF\n",
    "\n",
    "4. Evaluate the conditional PMF at x = 39 weeks\n",
    "\n",
    "another way ==> This algorithm is conceptually clear, but not very efficient. A simple alternative is to remove from the distribution the values less than 39 and then renormalize.\n",
    "\n",
    "## Ex. 2.7: \n",
    "- Write a function that implements either of these algorithms and computes the probability that a baby will be born during Week 39, given that it was not born prior to Week 39.\n",
    "\n",
    "- Generalize the function to compute the probability that a baby will be born during Week x, given that it was not born prior to Week x, for all x. Plot this value as a function of x for first babies and others.\n",
    "\n"
   ]
  },
  {
   "cell_type": "code",
   "execution_count": 37,
   "metadata": {
    "collapsed": false
   },
   "outputs": [],
   "source": [
    "import survey\n",
    "import first\n",
    "import conditional\n",
    "import itertools\n",
    "import Pmf\n",
    "import numpy as np\n",
    "import pandas as pd\n",
    "import matplotlib.pyplot as plt\n",
    "%matplotlib inline"
   ]
  },
  {
   "cell_type": "code",
   "execution_count": 2,
   "metadata": {
    "collapsed": false
   },
   "outputs": [
    {
     "data": {
      "text/plain": [
       "1000"
      ]
     },
     "execution_count": 2,
     "metadata": {},
     "output_type": "execute_result"
    }
   ],
   "source": [
    "pregnecies = np.round((51 - 0)*np.random.random(1000))\n",
    "len(pregnecies)  ## 1000 preg. "
   ]
  },
  {
   "cell_type": "markdown",
   "metadata": {},
   "source": [
    "Note: \n",
    "Repeatition is allowed ! .. \n",
    "\n",
    "I don't get this statement ! ==> \n",
    "(For each number of weeks, x, the number of pregnancies with duration x is 1000 PMF(x)) ..\n",
    "\n",
    "Is that means to calc PMF for ALL the 1000 preg. and then test the condition of number of preg. with duration x has to be 1000*PMF(x) ?! .. \n",
    "\n",
    "let's test this logic over week 39 ! "
   ]
  },
  {
   "cell_type": "code",
   "execution_count": 38,
   "metadata": {
    "collapsed": false
   },
   "outputs": [
    {
     "data": {
      "text/plain": [
       "<Pmf.Pmf at 0x7fbdfca76b90>"
      ]
     },
     "execution_count": 38,
     "metadata": {},
     "output_type": "execute_result"
    }
   ],
   "source": [
    "preg_dict = Pmf.MakePmfFromList(pregnecies)\n",
    "preg_dict"
   ]
  },
  {
   "cell_type": "code",
   "execution_count": 39,
   "metadata": {
    "collapsed": false
   },
   "outputs": [
    {
     "data": {
      "text/plain": [
       "{0.0: 0.011,\n",
       " 1.0: 0.015,\n",
       " 2.0: 0.022,\n",
       " 3.0: 0.021,\n",
       " 4.0: 0.016,\n",
       " 5.0: 0.024,\n",
       " 6.0: 0.018000000000000002,\n",
       " 7.0: 0.017,\n",
       " 8.0: 0.023,\n",
       " 9.0: 0.016,\n",
       " 10.0: 0.02,\n",
       " 11.0: 0.019,\n",
       " 12.0: 0.022,\n",
       " 13.0: 0.022,\n",
       " 14.0: 0.016,\n",
       " 15.0: 0.02,\n",
       " 16.0: 0.026000000000000002,\n",
       " 17.0: 0.021,\n",
       " 18.0: 0.02,\n",
       " 19.0: 0.014,\n",
       " 20.0: 0.012,\n",
       " 21.0: 0.009000000000000001,\n",
       " 22.0: 0.007,\n",
       " 23.0: 0.017,\n",
       " 24.0: 0.027,\n",
       " 25.0: 0.02,\n",
       " 26.0: 0.022,\n",
       " 27.0: 0.022,\n",
       " 28.0: 0.017,\n",
       " 29.0: 0.02,\n",
       " 30.0: 0.021,\n",
       " 31.0: 0.022,\n",
       " 32.0: 0.023,\n",
       " 33.0: 0.02,\n",
       " 34.0: 0.021,\n",
       " 35.0: 0.025,\n",
       " 36.0: 0.017,\n",
       " 37.0: 0.012,\n",
       " 38.0: 0.016,\n",
       " 39.0: 0.021,\n",
       " 40.0: 0.021,\n",
       " 41.0: 0.019,\n",
       " 42.0: 0.027,\n",
       " 43.0: 0.02,\n",
       " 44.0: 0.023,\n",
       " 45.0: 0.018000000000000002,\n",
       " 46.0: 0.023,\n",
       " 47.0: 0.024,\n",
       " 48.0: 0.016,\n",
       " 49.0: 0.021,\n",
       " 50.0: 0.022,\n",
       " 51.0: 0.012}"
      ]
     },
     "execution_count": 39,
     "metadata": {},
     "output_type": "execute_result"
    }
   ],
   "source": [
    "preg_dict.d"
   ]
  },
  {
   "cell_type": "code",
   "execution_count": 40,
   "metadata": {
    "collapsed": false
   },
   "outputs": [
    {
     "data": {
      "text/plain": [
       "21.0"
      ]
     },
     "execution_count": 40,
     "metadata": {},
     "output_type": "execute_result"
    }
   ],
   "source": [
    "x = 39 \n",
    "number_preg_w39 = 1000*preg_dict.d.values()[39]\n",
    "number_preg_w39"
   ]
  },
  {
   "cell_type": "markdown",
   "metadata": {},
   "source": [
    "Then we have 10 pregnencies expected to have their babies in week 39 ! ..\n",
    "\n",
    "Let's double check .. by counting the number of preg. in pregnency cohort of 1000 preg. "
   ]
  },
  {
   "cell_type": "code",
   "execution_count": 41,
   "metadata": {
    "collapsed": false
   },
   "outputs": [
    {
     "data": {
      "text/plain": [
       "21"
      ]
     },
     "execution_count": 41,
     "metadata": {},
     "output_type": "execute_result"
    }
   ],
   "source": [
    "counter = 0\n",
    "for i in pregnecies:\n",
    "    if(i == 39):\n",
    "        counter = counter + 1\n",
    "counter"
   ]
  },
  {
   "cell_type": "markdown",
   "metadata": {},
   "source": [
    "#### Matched results ;) "
   ]
  },
  {
   "cell_type": "code",
   "execution_count": 42,
   "metadata": {
    "collapsed": false
   },
   "outputs": [
    {
     "data": {
      "text/plain": [
       "267"
      ]
     },
     "execution_count": 42,
     "metadata": {},
     "output_type": "execute_result"
    }
   ],
   "source": [
    "## removing from the cohort all preg. less than 39 \n",
    "late_preg = []\n",
    "for i in pregnecies:\n",
    "    if(i >= 39):\n",
    "        late_preg.append(i)\n",
    "len(late_preg)"
   ]
  },
  {
   "cell_type": "markdown",
   "metadata": {},
   "source": [
    "## Conditional probability:"
   ]
  },
  {
   "cell_type": "code",
   "execution_count": 43,
   "metadata": {
    "collapsed": false
   },
   "outputs": [
    {
     "data": {
      "text/plain": [
       "<Pmf.Pmf at 0x7fbdfb1e6e10>"
      ]
     },
     "execution_count": 43,
     "metadata": {},
     "output_type": "execute_result"
    }
   ],
   "source": [
    "late_preg_dict = Pmf.MakePmfFromList(late_preg)\n",
    "late_preg_dict"
   ]
  },
  {
   "cell_type": "code",
   "execution_count": 44,
   "metadata": {
    "collapsed": false
   },
   "outputs": [
    {
     "data": {
      "text/plain": [
       "{39.0: 0.07865168539325842,\n",
       " 40.0: 0.07865168539325842,\n",
       " 41.0: 0.07116104868913858,\n",
       " 42.0: 0.10112359550561797,\n",
       " 43.0: 0.0749063670411985,\n",
       " 44.0: 0.08614232209737828,\n",
       " 45.0: 0.06741573033707865,\n",
       " 46.0: 0.08614232209737828,\n",
       " 47.0: 0.0898876404494382,\n",
       " 48.0: 0.0599250936329588,\n",
       " 49.0: 0.07865168539325842,\n",
       " 50.0: 0.08239700374531836,\n",
       " 51.0: 0.0449438202247191}"
      ]
     },
     "execution_count": 44,
     "metadata": {},
     "output_type": "execute_result"
    }
   ],
   "source": [
    "late_preg_dict.d"
   ]
  },
  {
   "cell_type": "markdown",
   "metadata": {},
   "source": [
    "## The 2nd way:\n",
    "removing from pmf and then normalizing .. "
   ]
  },
  {
   "cell_type": "code",
   "execution_count": 45,
   "metadata": {
    "collapsed": false
   },
   "outputs": [
    {
     "data": {
      "text/plain": [
       "([39.0,\n",
       "  40.0,\n",
       "  41.0,\n",
       "  42.0,\n",
       "  43.0,\n",
       "  44.0,\n",
       "  45.0,\n",
       "  46.0,\n",
       "  47.0,\n",
       "  48.0,\n",
       "  49.0,\n",
       "  50.0,\n",
       "  51.0],\n",
       " [0.021,\n",
       "  0.021,\n",
       "  0.019,\n",
       "  0.027,\n",
       "  0.02,\n",
       "  0.023,\n",
       "  0.018000000000000002,\n",
       "  0.023,\n",
       "  0.024,\n",
       "  0.016,\n",
       "  0.021,\n",
       "  0.022,\n",
       "  0.012])"
      ]
     },
     "execution_count": 45,
     "metadata": {},
     "output_type": "execute_result"
    }
   ],
   "source": [
    "k_ = []\n",
    "v_ = []\n",
    "\n",
    "for i in xrange(len(preg_dict.d.keys())):\n",
    "    if(preg_dict.d.keys()[i] >= 39):\n",
    "        k_.append(preg_dict.d.keys()[i])\n",
    "        v_.append(preg_dict.d.values()[i])\n",
    "k_, v_"
   ]
  },
  {
   "cell_type": "code",
   "execution_count": 46,
   "metadata": {
    "collapsed": false
   },
   "outputs": [],
   "source": [
    "# factor=1.0/sum(v_)\n",
    "normalized_d = [float(i)/sum(v_) for i in v_]"
   ]
  },
  {
   "cell_type": "code",
   "execution_count": 47,
   "metadata": {
    "collapsed": false
   },
   "outputs": [
    {
     "data": {
      "text/plain": [
       "[0.07865168539325842,\n",
       " 0.07865168539325842,\n",
       " 0.07116104868913857,\n",
       " 0.10112359550561797,\n",
       " 0.0749063670411985,\n",
       " 0.08614232209737827,\n",
       " 0.06741573033707865,\n",
       " 0.08614232209737827,\n",
       " 0.0898876404494382,\n",
       " 0.0599250936329588,\n",
       " 0.07865168539325842,\n",
       " 0.08239700374531835,\n",
       " 0.0449438202247191]"
      ]
     },
     "execution_count": 47,
     "metadata": {},
     "output_type": "execute_result"
    }
   ],
   "source": [
    "normalized_d"
   ]
  },
  {
   "cell_type": "markdown",
   "metadata": {},
   "source": [
    "This is an evidance that they were already normalized ! "
   ]
  },
  {
   "cell_type": "markdown",
   "metadata": {},
   "source": [
    "## Generalized function:\n"
   ]
  },
  {
   "cell_type": "code",
   "execution_count": 48,
   "metadata": {
    "collapsed": true
   },
   "outputs": [],
   "source": [
    "def generic_conditonal(pregnecies, week):\n",
    "    preg_dict = Pmf.MakePmfFromList(pregnecies)\n",
    "    \n",
    "    for i in pregnecies:\n",
    "        if(i >= week):\n",
    "            late_preg.append(i)\n",
    "            \n",
    "    late_preg_dict = Pmf.MakePmfFromList(late_preg)\n",
    "    \n",
    "    return preg_dict.d, late_preg_dict.d"
   ]
  },
  {
   "cell_type": "code",
   "execution_count": 49,
   "metadata": {
    "collapsed": false
   },
   "outputs": [
    {
     "data": {
      "text/plain": [
       "({0.0: 0.011,\n",
       "  1.0: 0.015,\n",
       "  2.0: 0.022,\n",
       "  3.0: 0.021,\n",
       "  4.0: 0.016,\n",
       "  5.0: 0.024,\n",
       "  6.0: 0.018000000000000002,\n",
       "  7.0: 0.017,\n",
       "  8.0: 0.023,\n",
       "  9.0: 0.016,\n",
       "  10.0: 0.02,\n",
       "  11.0: 0.019,\n",
       "  12.0: 0.022,\n",
       "  13.0: 0.022,\n",
       "  14.0: 0.016,\n",
       "  15.0: 0.02,\n",
       "  16.0: 0.026000000000000002,\n",
       "  17.0: 0.021,\n",
       "  18.0: 0.02,\n",
       "  19.0: 0.014,\n",
       "  20.0: 0.012,\n",
       "  21.0: 0.009000000000000001,\n",
       "  22.0: 0.007,\n",
       "  23.0: 0.017,\n",
       "  24.0: 0.027,\n",
       "  25.0: 0.02,\n",
       "  26.0: 0.022,\n",
       "  27.0: 0.022,\n",
       "  28.0: 0.017,\n",
       "  29.0: 0.02,\n",
       "  30.0: 0.021,\n",
       "  31.0: 0.022,\n",
       "  32.0: 0.023,\n",
       "  33.0: 0.02,\n",
       "  34.0: 0.021,\n",
       "  35.0: 0.025,\n",
       "  36.0: 0.017,\n",
       "  37.0: 0.012,\n",
       "  38.0: 0.016,\n",
       "  39.0: 0.021,\n",
       "  40.0: 0.021,\n",
       "  41.0: 0.019,\n",
       "  42.0: 0.027,\n",
       "  43.0: 0.02,\n",
       "  44.0: 0.023,\n",
       "  45.0: 0.018000000000000002,\n",
       "  46.0: 0.023,\n",
       "  47.0: 0.024,\n",
       "  48.0: 0.016,\n",
       "  49.0: 0.021,\n",
       "  50.0: 0.022,\n",
       "  51.0: 0.012},\n",
       " {33.0: 0.031007751937984496,\n",
       "  34.0: 0.03255813953488372,\n",
       "  35.0: 0.03875968992248062,\n",
       "  36.0: 0.02635658914728682,\n",
       "  37.0: 0.018604651162790697,\n",
       "  38.0: 0.024806201550387597,\n",
       "  39.0: 0.06511627906976744,\n",
       "  40.0: 0.06511627906976744,\n",
       "  41.0: 0.05891472868217054,\n",
       "  42.0: 0.08372093023255814,\n",
       "  43.0: 0.06201550387596899,\n",
       "  44.0: 0.07131782945736434,\n",
       "  45.0: 0.05581395348837209,\n",
       "  46.0: 0.07131782945736434,\n",
       "  47.0: 0.07441860465116279,\n",
       "  48.0: 0.04961240310077519,\n",
       "  49.0: 0.06511627906976744,\n",
       "  50.0: 0.06821705426356589,\n",
       "  51.0: 0.037209302325581395})"
      ]
     },
     "execution_count": 49,
     "metadata": {},
     "output_type": "execute_result"
    }
   ],
   "source": [
    "preg_dict_, late_preg_dict_ = generic_conditonal(pregnecies, 33)\n",
    "preg_dict_, late_preg_dict_"
   ]
  },
  {
   "cell_type": "code",
   "execution_count": 50,
   "metadata": {
    "collapsed": false
   },
   "outputs": [
    {
     "data": {
      "text/plain": [
       "<Container object of 52 artists>"
      ]
     },
     "execution_count": 50,
     "metadata": {},
     "output_type": "execute_result"
    },
    {
     "data": {
      "image/png": "[encoded data removed]",
      "text/plain": [
       "<matplotlib.figure.Figure at 0x7fbdfb1e6890>"
      ]
     },
     "metadata": {},
     "output_type": "display_data"
    }
   ],
   "source": [
    "plt.bar(preg_dict_.keys(), preg_dict_.values())"
   ]
  },
  {
   "cell_type": "code",
   "execution_count": 16,
   "metadata": {
    "collapsed": false
   },
   "outputs": [
    {
     "data": {
      "text/plain": [
       "<Container object of 19 artists>"
      ]
     },
     "execution_count": 16,
     "metadata": {},
     "output_type": "execute_result"
    },
    {
     "data": {
      "image/png": "[encoded data removed]",
      "text/plain": [
       "<matplotlib.figure.Figure at 0x7fbdfc720690>"
      ]
     },
     "metadata": {},
     "output_type": "display_data"
    }
   ],
   "source": [
    "plt.bar(late_preg_dict_.keys(), late_preg_dict_.values())"
   ]
  },
  {
   "cell_type": "markdown",
   "metadata": {},
   "source": [
    "## almost the same dictribution .. \n",
    "\n",
    "1st plot contains all list of pregnencies while the 2nd one is after trimming all those less than 33 weeks .. \n",
    "\n",
    "Next step is to apply the same concept (conditional probability) on pregnencies data to check the distributions of 1st babies and others .. "
   ]
  },
  {
   "cell_type": "code",
   "execution_count": 17,
   "metadata": {
    "collapsed": false
   },
   "outputs": [],
   "source": [
    "table = survey.Pregnancies()\n",
    "table.ReadRecords()\n",
    "outcome_ = np.zeros([len(table.records), 1])\n",
    "\n",
    "for i in xrange(len(table.records)):\n",
    "    outcome_[i] = table.records[i].outcome"
   ]
  },
  {
   "cell_type": "code",
   "execution_count": 18,
   "metadata": {
    "collapsed": false
   },
   "outputs": [
    {
     "data": {
      "text/plain": [
       "array([[ 1.],\n",
       "       [ 1.],\n",
       "       [ 1.],\n",
       "       ..., \n",
       "       [ 2.],\n",
       "       [ 1.],\n",
       "       [ 1.]])"
      ]
     },
     "execution_count": 18,
     "metadata": {},
     "output_type": "execute_result"
    }
   ],
   "source": [
    "outcome_ ## if 1 then alive baby"
   ]
  },
  {
   "cell_type": "code",
   "execution_count": 19,
   "metadata": {
    "collapsed": true
   },
   "outputs": [],
   "source": [
    "alive_counter = 0 \n",
    "\n",
    "for baby in outcome_:\n",
    "    if (baby == 1):\n",
    "        alive_counter = alive_counter + 1\n",
    "    else:\n",
    "        continue "
   ]
  },
  {
   "cell_type": "code",
   "execution_count": 20,
   "metadata": {
    "collapsed": false
   },
   "outputs": [
    {
     "data": {
      "text/plain": [
       "9148"
      ]
     },
     "execution_count": 20,
     "metadata": {},
     "output_type": "execute_result"
    }
   ],
   "source": [
    "alive_counter"
   ]
  },
  {
   "cell_type": "markdown",
   "metadata": {},
   "source": [
    "partitioning data to obtain first babies and others .."
   ]
  },
  {
   "cell_type": "code",
   "execution_count": 21,
   "metadata": {
    "collapsed": true
   },
   "outputs": [],
   "source": [
    "data = table.GetFields()"
   ]
  },
  {
   "cell_type": "code",
   "execution_count": 22,
   "metadata": {
    "collapsed": false
   },
   "outputs": [
    {
     "data": {
      "text/plain": [
       "array(['caseid', 'nbrnaliv', 'babysex', 'birthwgt_lb', 'birthwgt_oz',\n",
       "       'prglength', 'outcome', 'birthord', 'agepreg', 'finalwgt'], \n",
       "      dtype='|S11')"
      ]
     },
     "execution_count": 22,
     "metadata": {},
     "output_type": "execute_result"
    }
   ],
   "source": [
    "## read all data in dataframe .. then partition the dataframe table into two tables \n",
    "df = pd.DataFrame([])\n",
    "\n",
    "header =  [case[0] for (i, case) in enumerate(data)]  ## append, appends rows !! \n",
    "header = np.transpose(header)\n",
    "header"
   ]
  },
  {
   "cell_type": "code",
   "execution_count": 23,
   "metadata": {
    "collapsed": true
   },
   "outputs": [],
   "source": [
    "Value_to_push = []\n",
    "with open(\"2002FemPreg.dat\",\"r\") as io:\n",
    "    for l in io:\n",
    "        if len(l) > 100:\n",
    "            for (i,case) in enumerate(data):\n",
    "                try: \n",
    "                    Value_to_push.append([case[3](l[case[1]:case[2]])])\n",
    "#                     print(Value_to_push)\n",
    "                except ValueError: \n",
    "                    continue"
   ]
  },
  {
   "cell_type": "code",
   "execution_count": 24,
   "metadata": {
    "collapsed": false
   },
   "outputs": [
    {
     "data": {
      "text/plain": [
       "(<survey.Pregnancies at 0x7fbdfc632750>,\n",
       " <survey.Pregnancies at 0x7fbdfc787c10>)"
      ]
     },
     "execution_count": 24,
     "metadata": {},
     "output_type": "execute_result"
    }
   ],
   "source": [
    "partitions = first.PartitionRecords(table)\n",
    "partitions"
   ]
  },
  {
   "cell_type": "code",
   "execution_count": 25,
   "metadata": {
    "collapsed": false
   },
   "outputs": [
    {
     "data": {
      "text/plain": [
       "(4413, 4735)"
      ]
     },
     "execution_count": 25,
     "metadata": {},
     "output_type": "execute_result"
    }
   ],
   "source": [
    "first_baby = partitions[0]\n",
    "others = partitions[1]\n",
    "len(first_baby), len(others)"
   ]
  },
  {
   "cell_type": "code",
   "execution_count": 26,
   "metadata": {
    "collapsed": false
   },
   "outputs": [
    {
     "data": {
      "text/plain": [
       "(<survey.Pregnancies at 0x7fbdfc55fa90>,\n",
       " <survey.Pregnancies at 0x7fbdfb632b90>,\n",
       " <survey.Pregnancies at 0x7fbdfb632bd0>)"
      ]
     },
     "execution_count": 26,
     "metadata": {},
     "output_type": "execute_result"
    }
   ],
   "source": [
    "## tables \n",
    "t = first.MakeTables()\n",
    "original_table = t[0]\n",
    "firsts_table = t[1]\n",
    "others_table = t[2]\n",
    "\n",
    "original_table, firsts_table, others_table"
   ]
  },
  {
   "cell_type": "code",
   "execution_count": 27,
   "metadata": {
    "collapsed": false
   },
   "outputs": [],
   "source": [
    "first_baby_ = np.zeros([len(firsts_table.records), 1])\n",
    "\n",
    "for i in xrange(len(firsts_table.records)):\n",
    "    try:\n",
    "        first_baby_[i] = firsts_table.records[i].prglength\n",
    "    except ValueError:\n",
    "        first_baby_[i] = 0"
   ]
  },
  {
   "cell_type": "code",
   "execution_count": 28,
   "metadata": {
    "collapsed": false
   },
   "outputs": [
    {
     "data": {
      "text/plain": [
       "(array([[ 39.],\n",
       "        [ 39.],\n",
       "        [ 38.],\n",
       "        ..., \n",
       "        [ 39.],\n",
       "        [ 34.],\n",
       "        [ 39.]]), 4413)"
      ]
     },
     "execution_count": 28,
     "metadata": {},
     "output_type": "execute_result"
    }
   ],
   "source": [
    "first_baby_, len(first_baby_)"
   ]
  },
  {
   "cell_type": "code",
   "execution_count": 29,
   "metadata": {
    "collapsed": true
   },
   "outputs": [],
   "source": [
    "others_baby_ = np.zeros([len(others_table.records), 1])\n",
    "\n",
    "for i in xrange(len(others_table.records)):\n",
    "    try:\n",
    "        others_baby_[i] = others_table.records[i].prglength\n",
    "    except ValueError:\n",
    "        others_baby_[i] = 0"
   ]
  },
  {
   "cell_type": "code",
   "execution_count": 30,
   "metadata": {
    "collapsed": false
   },
   "outputs": [
    {
     "data": {
      "text/plain": [
       "(array([[ 39.],\n",
       "        [ 39.],\n",
       "        [ 39.],\n",
       "        ..., \n",
       "        [ 39.],\n",
       "        [ 39.],\n",
       "        [ 39.]]), 4735)"
      ]
     },
     "execution_count": 30,
     "metadata": {},
     "output_type": "execute_result"
    }
   ],
   "source": [
    "others_baby_, len(others_baby_)"
   ]
  },
  {
   "cell_type": "markdown",
   "metadata": {},
   "source": [
    "(first_baby_ and others_baby_) are considered the data colummns .. we gonna calc their PMFs and conditional probabilities for 39 weeks and compare the results .. "
   ]
  },
  {
   "cell_type": "markdown",
   "metadata": {},
   "source": [
    "## First babies:\n",
    "\n",
    "first_baby_ is seen as list of lists .. we have to convert it to single list to be able to call MakePmfFromList()"
   ]
  },
  {
   "cell_type": "code",
   "execution_count": 91,
   "metadata": {
    "collapsed": false
   },
   "outputs": [
    {
     "data": {
      "text/plain": [
       "4413"
      ]
     },
     "execution_count": 91,
     "metadata": {},
     "output_type": "execute_result"
    }
   ],
   "source": [
    "merged = list(itertools.chain(*first_baby_))\n",
    "len(merged)"
   ]
  },
  {
   "cell_type": "code",
   "execution_count": 85,
   "metadata": {
    "collapsed": false
   },
   "outputs": [
    {
     "data": {
      "text/plain": [
       "({0.0: 0.00022660321776569228,\n",
       "  17.0: 0.00022660321776569228,\n",
       "  20.0: 0.00022660321776569228,\n",
       "  21.0: 0.00022660321776569228,\n",
       "  22.0: 0.0006798096532970768,\n",
       "  23.0: 0.00022660321776569228,\n",
       "  24.0: 0.0015862225243598459,\n",
       "  25.0: 0.00022660321776569228,\n",
       "  26.0: 0.0036256514842510764,\n",
       "  27.0: 0.00022660321776569228,\n",
       "  28.0: 0.005438477226376614,\n",
       "  29.0: 0.0020394289598912306,\n",
       "  30.0: 0.016542034896895538,\n",
       "  31.0: 0.003399048266485384,\n",
       "  32.0: 0.012463176977113076,\n",
       "  33.0: 0.0063448900974393836,\n",
       "  34.0: 0.006571493315205076,\n",
       "  35.0: 0.03602991162474507,\n",
       "  36.0: 0.03897575345569907,\n",
       "  37.0: 0.04713346929526399,\n",
       "  38.0: 0.0616360752322683,\n",
       "  39.0: 0.47903920235667347,\n",
       "  40.0: 0.12145932472241106,\n",
       "  41.0: 0.08157715839564922,\n",
       "  42.0: 0.04645365964196692,\n",
       "  43.0: 0.01971447994561523,\n",
       "  44.0: 0.005211874008610923,\n",
       "  45.0: 0.0013596193065941536,\n",
       "  46.0: 0.00022660321776569228,\n",
       "  47.0: 0.00022660321776569228,\n",
       "  48.0: 0.0006798096532970768},\n",
       " {33.0: 0.0017877893984088674,\n",
       "  34.0: 0.0018771788683293108,\n",
       "  35.0: 0.0022347367480110843,\n",
       "  36.0: 0.0015196209886475373,\n",
       "  37.0: 0.0010726736390453205,\n",
       "  38.0: 0.001430231518727094,\n",
       "  39.0: 0.6537945829981229,\n",
       "  40.0: 0.1553588987217306,\n",
       "  41.0: 0.07615982837221776,\n",
       "  42.0: 0.045141682309823905,\n",
       "  43.0: 0.0222579780101904,\n",
       "  44.0: 0.010279789040850989,\n",
       "  45.0: 0.0044694734960221685,\n",
       "  46.0: 0.0042013050862608385,\n",
       "  47.0: 0.004380084026101725,\n",
       "  48.0: 0.003843747206579065,\n",
       "  49.0: 0.0037543577366586215,\n",
       "  50.0: 0.004290694556181282,\n",
       "  51.0: 0.002145347278090641})"
      ]
     },
     "execution_count": 85,
     "metadata": {},
     "output_type": "execute_result"
    }
   ],
   "source": [
    "week = 39\n",
    "normal_preg, late_preg = generic_conditonal(merged, week)\n",
    "normal_preg, late_preg"
   ]
  },
  {
   "cell_type": "code",
   "execution_count": 86,
   "metadata": {
    "collapsed": false
   },
   "outputs": [
    {
     "data": {
      "text/plain": [
       "<matplotlib.text.Text at 0x7fbdfa271fd0>"
      ]
     },
     "execution_count": 86,
     "metadata": {},
     "output_type": "execute_result"
    },
    {
     "data": {
      "image/png": "[encoded data removed]",
      "text/plain": [
       "<matplotlib.figure.Figure at 0x7fbdfa0df8d0>"
      ]
     },
     "metadata": {},
     "output_type": "display_data"
    }
   ],
   "source": [
    "plt.bar(normal_preg.keys(), normal_preg.values())\n",
    "plt.xlabel('weeks')\n",
    "plt.ylabel('PMF')"
   ]
  },
  {
   "cell_type": "code",
   "execution_count": 87,
   "metadata": {
    "collapsed": false
   },
   "outputs": [
    {
     "data": {
      "text/plain": [
       "<matplotlib.text.Text at 0x7fbdfa57cd10>"
      ]
     },
     "execution_count": 87,
     "metadata": {},
     "output_type": "execute_result"
    },
    {
     "data": {
      "image/png": "[encoded data removed]",
      "text/plain": [
       "<matplotlib.figure.Figure at 0x7fbdf9ffda50>"
      ]
     },
     "metadata": {},
     "output_type": "display_data"
    }
   ],
   "source": [
    "plt.bar(late_preg.keys(), late_preg.values())\n",
    "plt.xlabel('weeks')\n",
    "plt.ylabel('PMF')"
   ]
  },
  {
   "cell_type": "markdown",
   "metadata": {},
   "source": [
    "## Comment:\n",
    "plotting bar chart for first preg. in the normal case as well as the conditional probability case show the following:\n",
    "1. In the normal case, the distribution of first_babies is almost normal .. with high PMF value at week 39 .. \n",
    "2. there are outliers after 44 and before 30 .. hence the majority of the data clustered between 35 and 43 \n",
    "3. the distribution in the conditional prob. case, shows a positively skewed curve with a peak at week 39 .. this means that first babies usually come at week 39 and it is very rare to have thm after week # 50 \n",
    "\n",
    "## Let's do the same for (Others):"
   ]
  },
  {
   "cell_type": "code",
   "execution_count": 51,
   "metadata": {
    "collapsed": false
   },
   "outputs": [
    {
     "data": {
      "text/plain": [
       "4735"
      ]
     },
     "execution_count": 51,
     "metadata": {},
     "output_type": "execute_result"
    }
   ],
   "source": [
    "merged_ = list(itertools.chain(*others_baby_))\n",
    "len(merged_)"
   ]
  },
  {
   "cell_type": "code",
   "execution_count": 78,
   "metadata": {
    "collapsed": false
   },
   "outputs": [
    {
     "data": {
      "text/plain": [
       "({4.0: 0.00021119324181626187,\n",
       "  9.0: 0.00021119324181626187,\n",
       "  13.0: 0.00021119324181626187,\n",
       "  17.0: 0.00021119324181626187,\n",
       "  18.0: 0.00021119324181626187,\n",
       "  19.0: 0.00021119324181626187,\n",
       "  21.0: 0.00021119324181626187,\n",
       "  22.0: 0.0008447729672650475,\n",
       "  24.0: 0.0012671594508975714,\n",
       "  25.0: 0.00042238648363252375,\n",
       "  26.0: 0.004012671594508976,\n",
       "  27.0: 0.00042238648363252375,\n",
       "  28.0: 0.001689545934530095,\n",
       "  29.0: 0.0025343189017951427,\n",
       "  30.0: 0.013727560718057022,\n",
       "  31.0: 0.0025343189017951427,\n",
       "  32.0: 0.012671594508975712,\n",
       "  33.0: 0.0044350580781415,\n",
       "  34.0: 0.006546990496304118,\n",
       "  35.0: 0.032101372756071805,\n",
       "  36.0: 0.03146779303062302,\n",
       "  37.0: 0.05216473072861668,\n",
       "  38.0: 0.07074973600844772,\n",
       "  39.0: 0.5446673706441394,\n",
       "  40.0: 0.12249208025343189,\n",
       "  41.0: 0.04794086589229145,\n",
       "  42.0: 0.02597676874340021,\n",
       "  43.0: 0.012882787750791975,\n",
       "  44.0: 0.004857444561774023,\n",
       "  45.0: 0.0008447729672650475,\n",
       "  48.0: 0.0008447729672650475,\n",
       "  50.0: 0.00042238648363252375},\n",
       " {33.0: 0.0025474461851993377,\n",
       "  34.0: 0.002674818494459305,\n",
       "  35.0: 0.0031843077314991724,\n",
       "  36.0: 0.002165329257419437,\n",
       "  37.0: 0.0015284677111196028,\n",
       "  38.0: 0.0020379569481594703,\n",
       "  39.0: 0.6623360081518278,\n",
       "  40.0: 0.1531015157304802,\n",
       "  41.0: 0.06266717615590371,\n",
       "  42.0: 0.03821169277799007,\n",
       "  43.0: 0.020634314100114636,\n",
       "  44.0: 0.011718252451916954,\n",
       "  45.0: 0.005604381607438543,\n",
       "  46.0: 0.005859126225958477,\n",
       "  47.0: 0.006113870844478411,\n",
       "  48.0: 0.0050948923703986754,\n",
       "  49.0: 0.00534963698891861,\n",
       "  50.0: 0.006113870844478411,\n",
       "  51.0: 0.0030569354222392056})"
      ]
     },
     "execution_count": 78,
     "metadata": {},
     "output_type": "execute_result"
    }
   ],
   "source": [
    "week = 39\n",
    "normal_others, late_others = generic_conditonal(merged_, week)\n",
    "normal_others, late_others"
   ]
  },
  {
   "cell_type": "code",
   "execution_count": 79,
   "metadata": {
    "collapsed": false
   },
   "outputs": [
    {
     "data": {
      "text/plain": [
       "<matplotlib.text.Text at 0x7fbdfa4087d0>"
      ]
     },
     "execution_count": 79,
     "metadata": {},
     "output_type": "execute_result"
    },
    {
     "data": {
      "image/png": "[encoded data removed]",
      "text/plain": [
       "<matplotlib.figure.Figure at 0x7fbdfaa54350>"
      ]
     },
     "metadata": {},
     "output_type": "display_data"
    }
   ],
   "source": [
    "plt.bar(normal_others.keys(), normal_others.values())\n",
    "plt.xlabel('weeks')\n",
    "plt.ylabel('PMF')"
   ]
  },
  {
   "cell_type": "code",
   "execution_count": 80,
   "metadata": {
    "collapsed": false
   },
   "outputs": [
    {
     "data": {
      "text/plain": [
       "<matplotlib.text.Text at 0x7fbdfa286b90>"
      ]
     },
     "execution_count": 80,
     "metadata": {},
     "output_type": "execute_result"
    },
    {
     "data": {
      "image/png": "[encoded data removed]",
      "text/plain": [
       "<matplotlib.figure.Figure at 0x7fbdfa2b2110>"
      ]
     },
     "metadata": {},
     "output_type": "display_data"
    }
   ],
   "source": [
    "plt.bar(late_others.keys(), late_others.values())\n",
    "plt.xlabel('weeks')\n",
    "plt.ylabel('PMF')"
   ]
  },
  {
   "cell_type": "markdown",
   "metadata": {},
   "source": [
    "## Comment:\n",
    "- almost the same distribution like first_babies .. \n",
    "- the probability of having first_babies before 39 is slightly higher than that one of other_babies .. \n",
    "- the probability of having first_baby at week 50 is higher than that one of other_babies ..\n",
    "\n",
    "\n",
    "==> we might also plot both charts on the same grid for better visualization .. "
   ]
  },
  {
   "cell_type": "markdown",
   "metadata": {},
   "source": [
    "## Condition.py:"
   ]
  },
  {
   "cell_type": "code",
   "execution_count": 55,
   "metadata": {
    "collapsed": false
   },
   "outputs": [
    {
     "name": "stdout",
     "output_type": "stream",
     "text": [
      "<class 'survey.Pregnancies'>\n",
      "Risks:\n",
      "ProbEarly first babies 0.0\n",
      "ProbEarly others 0.0\n",
      "ProbOnTime first babies 0.809866962306\n",
      "ProbOnTime others 0.887252412392\n",
      "ProbLate first babies 0.190133037694\n",
      "ProbLate others 0.112747587608\n",
      "\n",
      "Risk ratios (first babies / others):\n",
      "ProbOnTime 0.912780794952\n",
      "ProbLate 1.68636014063\n",
      "35 0.0383409693755 first babies\n",
      "36 0.0431293881645 first babies\n",
      "37 0.0545073375262 first babies\n",
      "38 0.0753880266075 first babies\n",
      "39 0.633693045564 first babies\n",
      "40 0.438625204583 first babies\n",
      "41 0.524781341108 first babies\n",
      "42 0.628834355828 first babies\n",
      "43 0.719008264463 first babies\n",
      "44 0.676470588235 first babies\n",
      "45 0.545454545455 first babies\n",
      "35 0.0338831921534 others\n",
      "36 0.0343793262575 others\n",
      "37 0.0590203106332 others\n",
      "38 0.0850685627222 others\n",
      "39 0.715792395226 others\n",
      "40 0.56640625 others\n",
      "41 0.511261261261 others\n",
      "42 0.566820276498 others\n",
      "43 0.648936170213 others\n",
      "44 0.69696969697 others\n",
      "45 0.4 others\n",
      "first babies [0.03834096937545214, 0.043129388164493486, 0.05450733752620546, 0.07538802660753881, 0.6336930455635491, 0.4386252045826515, 0.5247813411078718, 0.6288343558282209, 0.71900826446281, 0.6764705882352942, 0.5454545454545455]\n",
      "others [0.033883192153366035, 0.03437932625749884, 0.059020310633213856, 0.085068562722194, 0.7157923952262003, 0.56640625, 0.5112612612612613, 0.5668202764976957, 0.6489361702127661, 0.696969696969697, 0.4]\n",
      "Writing conditional.pdf\n",
      "Writing conditional.eps\n"
     ]
    },
    {
     "data": {
      "text/plain": [
       "<matplotlib.figure.Figure at 0x7fbdfae7b1d0>"
      ]
     },
     "metadata": {},
     "output_type": "display_data"
    }
   ],
   "source": [
    "conditional.main()"
   ]
  },
  {
   "cell_type": "markdown",
   "metadata": {},
   "source": [
    "## Seperate output:"
   ]
  },
  {
   "cell_type": "code",
   "execution_count": 56,
   "metadata": {
    "collapsed": false
   },
   "outputs": [
    {
     "name": "stdout",
     "output_type": "stream",
     "text": [
      "35 0.0383409693755 first babies\n",
      "36 0.0431293881645 first babies\n",
      "37 0.0545073375262 first babies\n",
      "38 0.0753880266075 first babies\n",
      "39 0.633693045564 first babies\n",
      "40 0.438625204583 first babies\n",
      "41 0.524781341108 first babies\n",
      "42 0.628834355828 first babies\n",
      "43 0.719008264463 first babies\n",
      "44 0.676470588235 first babies\n",
      "45 0.545454545455 first babies\n",
      "35 0.0338831921534 others\n",
      "36 0.0343793262575 others\n",
      "37 0.0590203106332 others\n",
      "38 0.0850685627222 others\n",
      "39 0.715792395226 others\n",
      "40 0.56640625 others\n",
      "41 0.511261261261 others\n",
      "42 0.566820276498 others\n",
      "43 0.648936170213 others\n",
      "44 0.69696969697 others\n",
      "45 0.4 others\n",
      "first babies [0.03834096937545214, 0.043129388164493486, 0.05450733752620546, 0.07538802660753881, 0.6336930455635491, 0.4386252045826515, 0.5247813411078718, 0.6288343558282209, 0.71900826446281, 0.6764705882352942, 0.5454545454545455]\n",
      "others [0.033883192153366035, 0.03437932625749884, 0.059020310633213856, 0.085068562722194, 0.7157923952262003, 0.56640625, 0.5112612612612613, 0.5668202764976957, 0.6489361702127661, 0.696969696969697, 0.4]\n",
      "Writing conditional.pdf\n",
      "Writing conditional.eps\n"
     ]
    },
    {
     "data": {
      "text/plain": [
       "<matplotlib.figure.Figure at 0x7fbdfae66650>"
      ]
     },
     "metadata": {},
     "output_type": "display_data"
    }
   ],
   "source": [
    "_, firsts, others = conditional.descriptive.MakeTables()\n",
    "conditional.MakeFigure(firsts, others)  ## just printting "
   ]
  },
  {
   "cell_type": "markdown",
   "metadata": {
    "collapsed": false
   },
   "source": [
    "## Challenge !! ..\n",
    "\n",
    "I needed to plot charts for first_babies and others to be able to vitually compare my results to those generated in conditional.py .. \n",
    "\n",
    "Hence, I need to call MakeFigure() .. However, I couldn't extract the dictionaries of first_babies and others from this built in function .. as they are just printed there not returned !! .. \n",
    "\n",
    "One solution is to manually construct the dictionaries by copying the printted results"
   ]
  },
  {
   "cell_type": "code",
   "execution_count": 57,
   "metadata": {
    "collapsed": false
   },
   "outputs": [],
   "source": [
    "firsts_ = {35:0.0383409693755, \n",
    "36: 0.0431293881645, \n",
    "37: 0.0545073375262, \n",
    "38: 0.0753880266075, \n",
    "39: 0.633693045564, \n",
    "40: 0.438625204583, \n",
    "41: 0.524781341108, \n",
    "42: 0.628834355828, \n",
    "43: 0.719008264463, \n",
    "44: 0.676470588235, \n",
    "45: 0.545454545455}"
   ]
  },
  {
   "cell_type": "code",
   "execution_count": 58,
   "metadata": {
    "collapsed": true
   },
   "outputs": [],
   "source": [
    "others_ = {35:0.0338831921534, \n",
    "36: 0.0431293881645, \n",
    "37: 0.0343793262575, \n",
    "38: 0.0850685627222, \n",
    "39: 0.715792395226, \n",
    "40: 0.56640625, \n",
    "41: 0.511261261261, \n",
    "42: 0.566820276498, \n",
    "43: 0.648936170213, \n",
    "44: 0.69696969697, \n",
    "45: 0.4}"
   ]
  },
  {
   "cell_type": "code",
   "execution_count": 59,
   "metadata": {
    "collapsed": false
   },
   "outputs": [
    {
     "data": {
      "text/plain": [
       "<Container object of 11 artists>"
      ]
     },
     "execution_count": 59,
     "metadata": {},
     "output_type": "execute_result"
    },
    {
     "data": {
      "image/png": "[encoded data removed]",
      "text/plain": [
       "<matplotlib.figure.Figure at 0x7fbdfabd8a50>"
      ]
     },
     "metadata": {},
     "output_type": "display_data"
    }
   ],
   "source": [
    "plt.bar(firsts_.keys(), firsts_.values())"
   ]
  },
  {
   "cell_type": "code",
   "execution_count": 60,
   "metadata": {
    "collapsed": false
   },
   "outputs": [
    {
     "data": {
      "text/plain": [
       "<Container object of 11 artists>"
      ]
     },
     "execution_count": 60,
     "metadata": {},
     "output_type": "execute_result"
    },
    {
     "data": {
      "image/png": "[encoded data removed]",
      "text/plain": [
       "<matplotlib.figure.Figure at 0x7fbdfac34810>"
      ]
     },
     "metadata": {},
     "output_type": "display_data"
    }
   ],
   "source": [
    "plt.bar(others_.keys(), others_.values())"
   ]
  },
  {
   "cell_type": "markdown",
   "metadata": {},
   "source": [
    "## NO MATCH is found !! :S .. \n",
    "\n",
    "This is becuase I took different range than what they took .. \n",
    "\n",
    "Mine is the whole data and their is from [35, 45] ..\n",
    "\n",
    "I'll adjust my range to be able to compare .."
   ]
  },
  {
   "cell_type": "code",
   "execution_count": 88,
   "metadata": {
    "collapsed": false
   },
   "outputs": [
    {
     "data": {
      "text/plain": [
       "{35: 0.0022347367480110843,\n",
       " 36: 0.0015196209886475373,\n",
       " 37: 0.0010726736390453205,\n",
       " 38: 0.001430231518727094,\n",
       " 39: 0.6537945829981229,\n",
       " 40: 0.1553588987217306,\n",
       " 41: 0.07615982837221776,\n",
       " 42: 0.045141682309823905,\n",
       " 43: 0.0222579780101904,\n",
       " 44: 0.010279789040850989,\n",
       " 45: 0.0044694734960221685}"
      ]
     },
     "execution_count": 88,
     "metadata": {},
     "output_type": "execute_result"
    }
   ],
   "source": [
    "range_ = range(35, 46)\n",
    "first_comparable_data = dict([ (k, late_preg.get(k, None)) for k in range_])\n",
    "first_comparable_data"
   ]
  },
  {
   "cell_type": "code",
   "execution_count": 89,
   "metadata": {
    "collapsed": false
   },
   "outputs": [
    {
     "data": {
      "text/plain": [
       "<Container object of 11 artists>"
      ]
     },
     "execution_count": 89,
     "metadata": {},
     "output_type": "execute_result"
    },
    {
     "data": {
      "image/png": "[encoded data removed]",
      "text/plain": [
       "<matplotlib.figure.Figure at 0x7fbdfb034b10>"
      ]
     },
     "metadata": {},
     "output_type": "display_data"
    }
   ],
   "source": [
    "plt.bar(first_comparable_data.keys(), first_comparable_data.values())"
   ]
  },
  {
   "cell_type": "markdown",
   "metadata": {},
   "source": [
    "## Challenge:\n",
    "the figure still doesn't match the output figure from calling the built in MakeFigure() .. ! \n",
    "\n",
    "I think the problem is that I have to recalculate the pmf for the first_babies from 35 to 45 weeks ! .. \n",
    "\n",
    "I gonna do this as well as try the Others data .. "
   ]
  },
  {
   "cell_type": "code",
   "execution_count": null,
   "metadata": {
    "collapsed": true
   },
   "outputs": [],
   "source": []
  }
 ],
 "metadata": {
  "anaconda-cloud": {},
  "kernelspec": {
   "display_name": "Python 2",
   "language": "python",
   "name": "python2"
  },
  "language_info": {
   "codemirror_mode": {
    "name": "ipython",
    "version": 2
   },
   "file_extension": ".py",
   "mimetype": "text/x-python",
   "name": "python",
   "nbconvert_exporter": "python",
   "pygments_lexer": "ipython2",
   "version": "2.7.12"
  }
 },
 "nbformat": 4,
 "nbformat_minor": 0
}
