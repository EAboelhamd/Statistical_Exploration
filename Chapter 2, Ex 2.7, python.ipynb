{
 "cells": [
  {
   "cell_type": "markdown",
   "metadata": {},
   "source": [
    "## Introduction: \n",
    "\n",
    "This exercise introduces the concept of conditional probability .. In this ex. we will need to import conditional.py .. \n",
    "\n",
    "http://greenteapress.com/thinkstats/conditional.py\n",
    "\n",
    "\n",
    "Imagine that someone you know is pregnant, and it is the beginning of Week 39. What is the chance that the baby will be born in the next week? \n",
    "How much does the answer change if it’s a first baby?\n",
    "We can answer these questions by computing a conditional probability, which is a probability that depends on a condition. In this case, the condition is that we know the baby didn’t arrive during Weeks 0–38. \n",
    "\n",
    "Here’s one way to do it:\n",
    "\n",
    "1. Given a PMF, generate a fake cohort of 1000 pregnancies. For each number of weeks, x, the number of pregnancies with duration x is 1000 PMF(x)\n",
    "\n",
    "2. Remove from the cohort all pregnancies with length less than 39\n",
    "\n",
    "3. Compute the PMF of the remaining durations; the result is the conditional PMF\n",
    "\n",
    "4. Evaluate the conditional PMF at x = 39 weeks\n",
    "\n",
    "another way ==> This algorithm is conceptually clear, but not very efficient. A simple alternative is to remove from the distribution the values less than 39 and then renormalize.\n",
    "\n",
    "## Ex. 2.7: \n",
    "- Write a function that implements either of these algorithms and computes the probability that a baby will be born during Week 39, given that it was not born prior to Week 39.\n",
    "\n",
    "- Generalize the function to compute the probability that a baby will be born during Week x, given that it was not born prior to Week x, for all x. Plot this value as a function of x for first babies and others.\n",
    "\n"
   ]
  },
  {
   "cell_type": "code",
   "execution_count": 2,
   "metadata": {
    "collapsed": false
   },
   "outputs": [],
   "source": [
    "import survey\n",
    "import first\n",
    "# import conditional\n",
    "import Pmf\n",
    "import numpy as np\n",
    "import pandas as pd\n",
    "import matplotlib.pyplot as plt\n",
    "%matplotlib inline"
   ]
  },
  {
   "cell_type": "code",
   "execution_count": 38,
   "metadata": {
    "collapsed": false
   },
   "outputs": [
    {
     "data": {
      "text/plain": [
       "1000"
      ]
     },
     "execution_count": 38,
     "metadata": {},
     "output_type": "execute_result"
    }
   ],
   "source": [
    "pregnecies = np.round((51 - 0)*np.random.random(1000))\n",
    "len(pregnecies)  ## 1000 preg. "
   ]
  },
  {
   "cell_type": "markdown",
   "metadata": {},
   "source": [
    "Note: \n",
    "Repeatition is allowed ! .. \n",
    "\n",
    "I don't get this statement ! ==> \n",
    "(For each number of weeks, x, the number of pregnancies with duration x is 1000 PMF(x)) ..\n",
    "\n",
    "Is that means to calc PMF for ALL the 1000 preg. and then test the condition of number of preg. with duration x has to be 1000*PMF(x) ?! .. \n",
    "\n",
    "let's test this logic over week 39 ! "
   ]
  },
  {
   "cell_type": "code",
   "execution_count": 39,
   "metadata": {
    "collapsed": false
   },
   "outputs": [
    {
     "data": {
      "text/plain": [
       "<Pmf.Pmf at 0x7fc62f333ad0>"
      ]
     },
     "execution_count": 39,
     "metadata": {},
     "output_type": "execute_result"
    }
   ],
   "source": [
    "preg_dict = Pmf.MakePmfFromList(pregnecies)\n",
    "preg_dict"
   ]
  },
  {
   "cell_type": "code",
   "execution_count": 40,
   "metadata": {
    "collapsed": false
   },
   "outputs": [
    {
     "data": {
      "text/plain": [
       "{0.0: 0.009000000000000001,\n",
       " 1.0: 0.022,\n",
       " 2.0: 0.02,\n",
       " 3.0: 0.01,\n",
       " 4.0: 0.015,\n",
       " 5.0: 0.019,\n",
       " 6.0: 0.023,\n",
       " 7.0: 0.022,\n",
       " 8.0: 0.012,\n",
       " 9.0: 0.021,\n",
       " 10.0: 0.012,\n",
       " 11.0: 0.02,\n",
       " 12.0: 0.018000000000000002,\n",
       " 13.0: 0.015,\n",
       " 14.0: 0.024,\n",
       " 15.0: 0.021,\n",
       " 16.0: 0.023,\n",
       " 17.0: 0.016,\n",
       " 18.0: 0.017,\n",
       " 19.0: 0.017,\n",
       " 20.0: 0.016,\n",
       " 21.0: 0.015,\n",
       " 22.0: 0.022,\n",
       " 23.0: 0.024,\n",
       " 24.0: 0.017,\n",
       " 25.0: 0.015,\n",
       " 26.0: 0.023,\n",
       " 27.0: 0.019,\n",
       " 28.0: 0.02,\n",
       " 29.0: 0.024,\n",
       " 30.0: 0.026000000000000002,\n",
       " 31.0: 0.018000000000000002,\n",
       " 32.0: 0.025,\n",
       " 33.0: 0.031,\n",
       " 34.0: 0.023,\n",
       " 35.0: 0.02,\n",
       " 36.0: 0.018000000000000002,\n",
       " 37.0: 0.016,\n",
       " 38.0: 0.018000000000000002,\n",
       " 39.0: 0.018000000000000002,\n",
       " 40.0: 0.018000000000000002,\n",
       " 41.0: 0.017,\n",
       " 42.0: 0.031,\n",
       " 43.0: 0.016,\n",
       " 44.0: 0.023,\n",
       " 45.0: 0.03,\n",
       " 46.0: 0.023,\n",
       " 47.0: 0.016,\n",
       " 48.0: 0.024,\n",
       " 49.0: 0.013000000000000001,\n",
       " 50.0: 0.019,\n",
       " 51.0: 0.006}"
      ]
     },
     "execution_count": 40,
     "metadata": {},
     "output_type": "execute_result"
    }
   ],
   "source": [
    "preg_dict.d"
   ]
  },
  {
   "cell_type": "code",
   "execution_count": 41,
   "metadata": {
    "collapsed": false
   },
   "outputs": [
    {
     "data": {
      "text/plain": [
       "18.000000000000004"
      ]
     },
     "execution_count": 41,
     "metadata": {},
     "output_type": "execute_result"
    }
   ],
   "source": [
    "x = 39 \n",
    "number_preg_w39 = 1000*preg_dict.d.values()[39]\n",
    "number_preg_w39"
   ]
  },
  {
   "cell_type": "markdown",
   "metadata": {},
   "source": [
    "Then we have 10 pregnencies expected to have their babies in week 39 ! ..\n",
    "\n",
    "Let's double check .. by counting the number of preg. in pregnency cohort of 1000 preg. "
   ]
  },
  {
   "cell_type": "code",
   "execution_count": 42,
   "metadata": {
    "collapsed": false
   },
   "outputs": [
    {
     "data": {
      "text/plain": [
       "18"
      ]
     },
     "execution_count": 42,
     "metadata": {},
     "output_type": "execute_result"
    }
   ],
   "source": [
    "counter = 0\n",
    "for i in pregnecies:\n",
    "    if(i == 39):\n",
    "        counter = counter + 1\n",
    "counter"
   ]
  },
  {
   "cell_type": "markdown",
   "metadata": {},
   "source": [
    "#### Matched results ;) "
   ]
  },
  {
   "cell_type": "code",
   "execution_count": 43,
   "metadata": {
    "collapsed": false
   },
   "outputs": [
    {
     "data": {
      "text/plain": [
       "254"
      ]
     },
     "execution_count": 43,
     "metadata": {},
     "output_type": "execute_result"
    }
   ],
   "source": [
    "## removing from the cohort all preg. less than 39 \n",
    "late_preg = []\n",
    "for i in pregnecies:\n",
    "    if(i >= 39):\n",
    "        late_preg.append(i)\n",
    "len(late_preg)"
   ]
  },
  {
   "cell_type": "markdown",
   "metadata": {},
   "source": [
    "## Conditional probability:"
   ]
  },
  {
   "cell_type": "code",
   "execution_count": 44,
   "metadata": {
    "collapsed": false
   },
   "outputs": [
    {
     "data": {
      "text/plain": [
       "<Pmf.Pmf at 0x7fc630681290>"
      ]
     },
     "execution_count": 44,
     "metadata": {},
     "output_type": "execute_result"
    }
   ],
   "source": [
    "late_preg_dict = Pmf.MakePmfFromList(late_preg)\n",
    "late_preg_dict"
   ]
  },
  {
   "cell_type": "code",
   "execution_count": 45,
   "metadata": {
    "collapsed": false
   },
   "outputs": [
    {
     "data": {
      "text/plain": [
       "{39.0: 0.07086614173228346,\n",
       " 40.0: 0.07086614173228346,\n",
       " 41.0: 0.06692913385826771,\n",
       " 42.0: 0.1220472440944882,\n",
       " 43.0: 0.06299212598425197,\n",
       " 44.0: 0.09055118110236221,\n",
       " 45.0: 0.11811023622047244,\n",
       " 46.0: 0.09055118110236221,\n",
       " 47.0: 0.06299212598425197,\n",
       " 48.0: 0.09448818897637795,\n",
       " 49.0: 0.051181102362204724,\n",
       " 50.0: 0.07480314960629922,\n",
       " 51.0: 0.023622047244094488}"
      ]
     },
     "execution_count": 45,
     "metadata": {},
     "output_type": "execute_result"
    }
   ],
   "source": [
    "late_preg_dict.d"
   ]
  },
  {
   "cell_type": "markdown",
   "metadata": {},
   "source": [
    "## The 2nd way:\n",
    "removing from pmf and then normalizing .. "
   ]
  },
  {
   "cell_type": "code",
   "execution_count": 46,
   "metadata": {
    "collapsed": false
   },
   "outputs": [
    {
     "data": {
      "text/plain": [
       "([39.0,\n",
       "  40.0,\n",
       "  41.0,\n",
       "  42.0,\n",
       "  43.0,\n",
       "  44.0,\n",
       "  45.0,\n",
       "  46.0,\n",
       "  47.0,\n",
       "  48.0,\n",
       "  49.0,\n",
       "  50.0,\n",
       "  51.0],\n",
       " [0.018000000000000002,\n",
       "  0.018000000000000002,\n",
       "  0.017,\n",
       "  0.031,\n",
       "  0.016,\n",
       "  0.023,\n",
       "  0.03,\n",
       "  0.023,\n",
       "  0.016,\n",
       "  0.024,\n",
       "  0.013000000000000001,\n",
       "  0.019,\n",
       "  0.006])"
      ]
     },
     "execution_count": 46,
     "metadata": {},
     "output_type": "execute_result"
    }
   ],
   "source": [
    "k_ = []\n",
    "v_ = []\n",
    "\n",
    "for i in xrange(len(preg_dict.d.keys())):\n",
    "    if(preg_dict.d.keys()[i] >= 39):\n",
    "        k_.append(preg_dict.d.keys()[i])\n",
    "        v_.append(preg_dict.d.values()[i])\n",
    "k_, v_"
   ]
  },
  {
   "cell_type": "code",
   "execution_count": 47,
   "metadata": {
    "collapsed": false
   },
   "outputs": [],
   "source": [
    "# factor=1.0/sum(v_)\n",
    "normalized_d = [float(i)/sum(v_) for i in v_]"
   ]
  },
  {
   "cell_type": "code",
   "execution_count": 48,
   "metadata": {
    "collapsed": false
   },
   "outputs": [
    {
     "data": {
      "text/plain": [
       "[0.07086614173228348,\n",
       " 0.07086614173228348,\n",
       " 0.06692913385826772,\n",
       " 0.12204724409448818,\n",
       " 0.06299212598425197,\n",
       " 0.0905511811023622,\n",
       " 0.11811023622047244,\n",
       " 0.0905511811023622,\n",
       " 0.06299212598425197,\n",
       " 0.09448818897637795,\n",
       " 0.05118110236220473,\n",
       " 0.0748031496062992,\n",
       " 0.023622047244094488]"
      ]
     },
     "execution_count": 48,
     "metadata": {},
     "output_type": "execute_result"
    }
   ],
   "source": [
    "normalized_d"
   ]
  },
  {
   "cell_type": "markdown",
   "metadata": {},
   "source": [
    "This is an evidance that they were already normalized ! "
   ]
  },
  {
   "cell_type": "markdown",
   "metadata": {},
   "source": [
    "## Generalized function:\n"
   ]
  },
  {
   "cell_type": "code",
   "execution_count": 49,
   "metadata": {
    "collapsed": true
   },
   "outputs": [],
   "source": [
    "def generic_conditonal(pregnecies, week):\n",
    "    preg_dict = Pmf.MakePmfFromList(pregnecies)\n",
    "    \n",
    "    for i in pregnecies:\n",
    "        if(i >= week):\n",
    "            late_preg.append(i)\n",
    "            \n",
    "    late_preg_dict = Pmf.MakePmfFromList(late_preg)\n",
    "    \n",
    "    return preg_dict.d, late_preg_dict.d"
   ]
  },
  {
   "cell_type": "code",
   "execution_count": 50,
   "metadata": {
    "collapsed": false
   },
   "outputs": [
    {
     "data": {
      "text/plain": [
       "({0.0: 0.009000000000000001,\n",
       "  1.0: 0.022,\n",
       "  2.0: 0.02,\n",
       "  3.0: 0.01,\n",
       "  4.0: 0.015,\n",
       "  5.0: 0.019,\n",
       "  6.0: 0.023,\n",
       "  7.0: 0.022,\n",
       "  8.0: 0.012,\n",
       "  9.0: 0.021,\n",
       "  10.0: 0.012,\n",
       "  11.0: 0.02,\n",
       "  12.0: 0.018000000000000002,\n",
       "  13.0: 0.015,\n",
       "  14.0: 0.024,\n",
       "  15.0: 0.021,\n",
       "  16.0: 0.023,\n",
       "  17.0: 0.016,\n",
       "  18.0: 0.017,\n",
       "  19.0: 0.017,\n",
       "  20.0: 0.016,\n",
       "  21.0: 0.015,\n",
       "  22.0: 0.022,\n",
       "  23.0: 0.024,\n",
       "  24.0: 0.017,\n",
       "  25.0: 0.015,\n",
       "  26.0: 0.023,\n",
       "  27.0: 0.019,\n",
       "  28.0: 0.02,\n",
       "  29.0: 0.024,\n",
       "  30.0: 0.026000000000000002,\n",
       "  31.0: 0.018000000000000002,\n",
       "  32.0: 0.025,\n",
       "  33.0: 0.031,\n",
       "  34.0: 0.023,\n",
       "  35.0: 0.02,\n",
       "  36.0: 0.018000000000000002,\n",
       "  37.0: 0.016,\n",
       "  38.0: 0.018000000000000002,\n",
       "  39.0: 0.018000000000000002,\n",
       "  40.0: 0.018000000000000002,\n",
       "  41.0: 0.017,\n",
       "  42.0: 0.031,\n",
       "  43.0: 0.016,\n",
       "  44.0: 0.023,\n",
       "  45.0: 0.03,\n",
       "  46.0: 0.023,\n",
       "  47.0: 0.016,\n",
       "  48.0: 0.024,\n",
       "  49.0: 0.013000000000000001,\n",
       "  50.0: 0.019,\n",
       "  51.0: 0.006},\n",
       " {33.0: 0.04889589905362776,\n",
       "  34.0: 0.0362776025236593,\n",
       "  35.0: 0.031545741324921134,\n",
       "  36.0: 0.028391167192429023,\n",
       "  37.0: 0.025236593059936908,\n",
       "  38.0: 0.028391167192429023,\n",
       "  39.0: 0.056782334384858045,\n",
       "  40.0: 0.056782334384858045,\n",
       "  41.0: 0.05362776025236593,\n",
       "  42.0: 0.09779179810725552,\n",
       "  43.0: 0.050473186119873815,\n",
       "  44.0: 0.0725552050473186,\n",
       "  45.0: 0.0946372239747634,\n",
       "  46.0: 0.0725552050473186,\n",
       "  47.0: 0.050473186119873815,\n",
       "  48.0: 0.07570977917981073,\n",
       "  49.0: 0.04100946372239748,\n",
       "  50.0: 0.05993690851735015,\n",
       "  51.0: 0.01892744479495268})"
      ]
     },
     "execution_count": 50,
     "metadata": {},
     "output_type": "execute_result"
    }
   ],
   "source": [
    "preg_dict_, late_preg_dict_ = generic_conditonal(pregnecies, 33)\n",
    "preg_dict_, late_preg_dict_"
   ]
  },
  {
   "cell_type": "code",
   "execution_count": 51,
   "metadata": {
    "collapsed": false
   },
   "outputs": [
    {
     "data": {
      "text/plain": [
       "<Container object of 52 artists>"
      ]
     },
     "execution_count": 51,
     "metadata": {},
     "output_type": "execute_result"
    },
    {
     "data": {
      "image/png": "[encoded data removed]",
      "text/plain": [
       "<matplotlib.figure.Figure at 0x7fc62f333f10>"
      ]
     },
     "metadata": {},
     "output_type": "display_data"
    }
   ],
   "source": [
    "plt.bar(preg_dict_.keys(), preg_dict_.values())"
   ]
  },
  {
   "cell_type": "code",
   "execution_count": 52,
   "metadata": {
    "collapsed": false
   },
   "outputs": [
    {
     "data": {
      "text/plain": [
       "<Container object of 19 artists>"
      ]
     },
     "execution_count": 52,
     "metadata": {},
     "output_type": "execute_result"
    },
    {
     "data": {
      "image/png": "[encoded data removed]",
      "text/plain": [
       "<matplotlib.figure.Figure at 0x7fc62f18d790>"
      ]
     },
     "metadata": {},
     "output_type": "display_data"
    }
   ],
   "source": [
    "plt.bar(late_preg_dict_.keys(), late_preg_dict_.values())"
   ]
  },
  {
   "cell_type": "markdown",
   "metadata": {},
   "source": [
    "## almost the same dictribution .. \n",
    "\n",
    "1st plot contains all list of pregnencies while the 2nd one is after trimming all those less than 33 weeks .. \n",
    "\n",
    "Next step is to apply the same concept (conditional probability) on pregnencies data to check the distributions of 1st babies and others .. "
   ]
  },
  {
   "cell_type": "code",
   "execution_count": 18,
   "metadata": {
    "collapsed": false
   },
   "outputs": [],
   "source": [
    "table = survey.Pregnancies()\n",
    "table.ReadRecords()\n",
    "outcome_ = np.zeros([len(table.records), 1])\n",
    "\n",
    "for i in xrange(len(table.records)):\n",
    "    outcome_[i] = table.records[i].outcome"
   ]
  },
  {
   "cell_type": "code",
   "execution_count": 19,
   "metadata": {
    "collapsed": false
   },
   "outputs": [
    {
     "data": {
      "text/plain": [
       "array([[ 1.],\n",
       "       [ 1.],\n",
       "       [ 1.],\n",
       "       ..., \n",
       "       [ 2.],\n",
       "       [ 1.],\n",
       "       [ 1.]])"
      ]
     },
     "execution_count": 19,
     "metadata": {},
     "output_type": "execute_result"
    }
   ],
   "source": [
    "outcome_ ## if 1 then alive baby"
   ]
  },
  {
   "cell_type": "code",
   "execution_count": 20,
   "metadata": {
    "collapsed": true
   },
   "outputs": [],
   "source": [
    "alive_counter = 0 \n",
    "\n",
    "for baby in outcome_:\n",
    "    if (baby == 1):\n",
    "        alive_counter = alive_counter + 1\n",
    "    else:\n",
    "        continue "
   ]
  },
  {
   "cell_type": "code",
   "execution_count": 21,
   "metadata": {
    "collapsed": false
   },
   "outputs": [
    {
     "data": {
      "text/plain": [
       "9148"
      ]
     },
     "execution_count": 21,
     "metadata": {},
     "output_type": "execute_result"
    }
   ],
   "source": [
    "alive_counter"
   ]
  },
  {
   "cell_type": "markdown",
   "metadata": {},
   "source": [
    "partitioning data to obtain first babies and others .."
   ]
  },
  {
   "cell_type": "code",
   "execution_count": 22,
   "metadata": {
    "collapsed": true
   },
   "outputs": [],
   "source": [
    "data = table.GetFields()"
   ]
  },
  {
   "cell_type": "code",
   "execution_count": 23,
   "metadata": {
    "collapsed": false
   },
   "outputs": [
    {
     "data": {
      "text/plain": [
       "array(['caseid', 'nbrnaliv', 'babysex', 'birthwgt_lb', 'birthwgt_oz',\n",
       "       'prglength', 'outcome', 'birthord', 'agepreg', 'finalwgt'], \n",
       "      dtype='|S11')"
      ]
     },
     "execution_count": 23,
     "metadata": {},
     "output_type": "execute_result"
    }
   ],
   "source": [
    "## read all data in dataframe .. then partition the dataframe table into two tables \n",
    "df = pd.DataFrame([])\n",
    "\n",
    "header =  [case[0] for (i, case) in enumerate(data)]  ## append, appends rows !! \n",
    "header = np.transpose(header)\n",
    "header"
   ]
  },
  {
   "cell_type": "code",
   "execution_count": 24,
   "metadata": {
    "collapsed": true
   },
   "outputs": [],
   "source": [
    "Value_to_push = []\n",
    "with open(\"2002FemPreg.dat\",\"r\") as io:\n",
    "    for l in io:\n",
    "        if len(l) > 100:\n",
    "            for (i,case) in enumerate(data):\n",
    "                try: \n",
    "                    Value_to_push.append([case[3](l[case[1]:case[2]])])\n",
    "#                     print(Value_to_push)\n",
    "                except ValueError: \n",
    "                    continue"
   ]
  },
  {
   "cell_type": "code",
   "execution_count": 25,
   "metadata": {
    "collapsed": false
   },
   "outputs": [
    {
     "data": {
      "text/plain": [
       "(<survey.Pregnancies at 0x7fc630108e90>,\n",
       " <survey.Pregnancies at 0x7fc630108f10>)"
      ]
     },
     "execution_count": 25,
     "metadata": {},
     "output_type": "execute_result"
    }
   ],
   "source": [
    "partitions = first.PartitionRecords(table)\n",
    "partitions"
   ]
  },
  {
   "cell_type": "code",
   "execution_count": 26,
   "metadata": {
    "collapsed": false
   },
   "outputs": [
    {
     "data": {
      "text/plain": [
       "(4413, 4735)"
      ]
     },
     "execution_count": 26,
     "metadata": {},
     "output_type": "execute_result"
    }
   ],
   "source": [
    "first_baby = partitions[0]\n",
    "others = partitions[1]\n",
    "len(first_baby), len(others)"
   ]
  },
  {
   "cell_type": "code",
   "execution_count": 27,
   "metadata": {
    "collapsed": false
   },
   "outputs": [
    {
     "data": {
      "text/plain": [
       "(<survey.Pregnancies at 0x7fc6306819d0>,\n",
       " <survey.Pregnancies at 0x7fc62f786910>,\n",
       " <survey.Pregnancies at 0x7fc62f786950>)"
      ]
     },
     "execution_count": 27,
     "metadata": {},
     "output_type": "execute_result"
    }
   ],
   "source": [
    "## tables \n",
    "t = first.MakeTables()\n",
    "original_table = t[0]\n",
    "firsts_table = t[1]\n",
    "others_table = t[2]\n",
    "\n",
    "original_table, firsts_table, others_table"
   ]
  },
  {
   "cell_type": "code",
   "execution_count": 28,
   "metadata": {
    "collapsed": false
   },
   "outputs": [],
   "source": [
    "first_baby_ = np.zeros([len(firsts_table.records), 1])\n",
    "\n",
    "for i in xrange(len(firsts_table.records)):\n",
    "    try:\n",
    "        first_baby_[i] = firsts_table.records[i].prglength\n",
    "    except ValueError:\n",
    "        first_baby_[i] = 0"
   ]
  },
  {
   "cell_type": "code",
   "execution_count": 29,
   "metadata": {
    "collapsed": false
   },
   "outputs": [
    {
     "data": {
      "text/plain": [
       "(array([[ 39.],\n",
       "        [ 39.],\n",
       "        [ 38.],\n",
       "        ..., \n",
       "        [ 39.],\n",
       "        [ 34.],\n",
       "        [ 39.]]), 4413)"
      ]
     },
     "execution_count": 29,
     "metadata": {},
     "output_type": "execute_result"
    }
   ],
   "source": [
    "first_baby_, len(first_baby_)"
   ]
  },
  {
   "cell_type": "code",
   "execution_count": 30,
   "metadata": {
    "collapsed": true
   },
   "outputs": [],
   "source": [
    "others_baby_ = np.zeros([len(others_table.records), 1])\n",
    "\n",
    "for i in xrange(len(others_table.records)):\n",
    "    try:\n",
    "        others_baby_[i] = others_table.records[i].prglength\n",
    "    except ValueError:\n",
    "        others_baby_[i] = 0"
   ]
  },
  {
   "cell_type": "code",
   "execution_count": 31,
   "metadata": {
    "collapsed": false
   },
   "outputs": [
    {
     "data": {
      "text/plain": [
       "(array([[ 39.],\n",
       "        [ 39.],\n",
       "        [ 39.],\n",
       "        ..., \n",
       "        [ 39.],\n",
       "        [ 39.],\n",
       "        [ 39.]]), 4735)"
      ]
     },
     "execution_count": 31,
     "metadata": {},
     "output_type": "execute_result"
    }
   ],
   "source": [
    "others_baby_, len(others_baby_)"
   ]
  },
  {
   "cell_type": "markdown",
   "metadata": {},
   "source": [
    "(first_baby_ and others_baby_) are considered the data colummns .. we gonna calc their PMFs and conditional probabilities for 39 weeks and compare the results .. "
   ]
  },
  {
   "cell_type": "markdown",
   "metadata": {},
   "source": [
    "## First babies:\n",
    "\n",
    "first_baby_ is seen as list of lists .. we have to convert it to single list to be able to call MakePmfFromList()"
   ]
  },
  {
   "cell_type": "code",
   "execution_count": 32,
   "metadata": {
    "collapsed": false
   },
   "outputs": [
    {
     "data": {
      "text/plain": [
       "4413"
      ]
     },
     "execution_count": 32,
     "metadata": {},
     "output_type": "execute_result"
    }
   ],
   "source": [
    "import itertools\n",
    "merged = list(itertools.chain(*first_baby_))\n",
    "len(merged)"
   ]
  },
  {
   "cell_type": "code",
   "execution_count": 33,
   "metadata": {
    "collapsed": false
   },
   "outputs": [
    {
     "data": {
      "text/plain": [
       "({0.0: 0.00022660321776569228,\n",
       "  17.0: 0.00022660321776569228,\n",
       "  20.0: 0.00022660321776569228,\n",
       "  21.0: 0.00022660321776569228,\n",
       "  22.0: 0.0006798096532970768,\n",
       "  23.0: 0.00022660321776569228,\n",
       "  24.0: 0.0015862225243598459,\n",
       "  25.0: 0.00022660321776569228,\n",
       "  26.0: 0.0036256514842510764,\n",
       "  27.0: 0.00022660321776569228,\n",
       "  28.0: 0.005438477226376614,\n",
       "  29.0: 0.0020394289598912306,\n",
       "  30.0: 0.016542034896895538,\n",
       "  31.0: 0.003399048266485384,\n",
       "  32.0: 0.012463176977113076,\n",
       "  33.0: 0.0063448900974393836,\n",
       "  34.0: 0.006571493315205076,\n",
       "  35.0: 0.03602991162474507,\n",
       "  36.0: 0.03897575345569907,\n",
       "  37.0: 0.04713346929526399,\n",
       "  38.0: 0.0616360752322683,\n",
       "  39.0: 0.47903920235667347,\n",
       "  40.0: 0.12145932472241106,\n",
       "  41.0: 0.08157715839564922,\n",
       "  42.0: 0.04645365964196692,\n",
       "  43.0: 0.01971447994561523,\n",
       "  44.0: 0.005211874008610923,\n",
       "  45.0: 0.0013596193065941536,\n",
       "  46.0: 0.00022660321776569228,\n",
       "  47.0: 0.00022660321776569228,\n",
       "  48.0: 0.0006798096532970768},\n",
       " {33.0: 0.003048006096012192,\n",
       "  34.0: 0.005588011176022352,\n",
       "  35.0: 0.003048006096012192,\n",
       "  36.0: 0.005842011684023368,\n",
       "  37.0: 0.005588011176022352,\n",
       "  38.0: 0.005588011176022352,\n",
       "  39.0: 0.5521971043942088,\n",
       "  40.0: 0.14579629159258317,\n",
       "  41.0: 0.09753619507239014,\n",
       "  42.0: 0.06273812547625095,\n",
       "  43.0: 0.031750063500127,\n",
       "  44.0: 0.01447802895605791,\n",
       "  45.0: 0.007620015240030479,\n",
       "  46.0: 0.012954025908051815,\n",
       "  47.0: 0.008890017780035559,\n",
       "  48.0: 0.011430022860045718,\n",
       "  49.0: 0.009144018288036576,\n",
       "  50.0: 0.010668021336042671,\n",
       "  51.0: 0.006096012192024384})"
      ]
     },
     "execution_count": 33,
     "metadata": {},
     "output_type": "execute_result"
    }
   ],
   "source": [
    "week = 39\n",
    "normal_preg, late_preg = generic_conditonal(merged, week)\n",
    "normal_preg, late_preg"
   ]
  },
  {
   "cell_type": "code",
   "execution_count": 34,
   "metadata": {
    "collapsed": false
   },
   "outputs": [
    {
     "data": {
      "text/plain": [
       "<matplotlib.text.Text at 0x7fc62f79b910>"
      ]
     },
     "execution_count": 34,
     "metadata": {},
     "output_type": "execute_result"
    },
    {
     "data": {
      "image/png": "[encoded data removed]",
      "text/plain": [
       "<matplotlib.figure.Figure at 0x7fc630681d10>"
      ]
     },
     "metadata": {},
     "output_type": "display_data"
    }
   ],
   "source": [
    "plt.bar(normal_preg.keys(), normal_preg.values())\n",
    "plt.xlabel('weeks')\n",
    "plt.ylabel('PMF')"
   ]
  },
  {
   "cell_type": "code",
   "execution_count": 35,
   "metadata": {
    "collapsed": false
   },
   "outputs": [
    {
     "data": {
      "text/plain": [
       "<matplotlib.text.Text at 0x7fc62f613590>"
      ]
     },
     "execution_count": 35,
     "metadata": {},
     "output_type": "execute_result"
    },
    {
     "data": {
      "image/png": "[encoded data removed]",
      "text/plain": [
       "<matplotlib.figure.Figure at 0x7fc62f755a50>"
      ]
     },
     "metadata": {},
     "output_type": "display_data"
    }
   ],
   "source": [
    "plt.bar(late_preg.keys(), late_preg.values())\n",
    "plt.xlabel('weeks')\n",
    "plt.ylabel('PMF')"
   ]
  },
  {
   "cell_type": "markdown",
   "metadata": {},
   "source": [
    "## Comment:\n",
    "plotting bar chart for first preg. in the normal case as well as the conditional probability case show the following:\n",
    "1. In the normal case, the distribution of first_babies is almost normal .. with high PMF value at week 39 .. \n",
    "2. there are outliers after 44 and before 30 .. hence the majority of the data clustered between 35 and 43 \n",
    "3. the distribution in the conditional prob. case, shows a positively skewed curve with a peak at week 39 .. this means that first babies usually come at week 39 and it is very rare to have thm after week # 50 \n",
    "\n",
    "## Let's do the same for (Others):"
   ]
  },
  {
   "cell_type": "code",
   "execution_count": 53,
   "metadata": {
    "collapsed": false
   },
   "outputs": [
    {
     "data": {
      "text/plain": [
       "4735"
      ]
     },
     "execution_count": 53,
     "metadata": {},
     "output_type": "execute_result"
    }
   ],
   "source": [
    "import itertools\n",
    "merged_ = list(itertools.chain(*others_baby_))\n",
    "len(merged_)"
   ]
  },
  {
   "cell_type": "code",
   "execution_count": 54,
   "metadata": {
    "collapsed": false
   },
   "outputs": [
    {
     "data": {
      "text/plain": [
       "({4.0: 0.00021119324181626187,\n",
       "  9.0: 0.00021119324181626187,\n",
       "  13.0: 0.00021119324181626187,\n",
       "  17.0: 0.00021119324181626187,\n",
       "  18.0: 0.00021119324181626187,\n",
       "  19.0: 0.00021119324181626187,\n",
       "  21.0: 0.00021119324181626187,\n",
       "  22.0: 0.0008447729672650475,\n",
       "  24.0: 0.0012671594508975714,\n",
       "  25.0: 0.00042238648363252375,\n",
       "  26.0: 0.004012671594508976,\n",
       "  27.0: 0.00042238648363252375,\n",
       "  28.0: 0.001689545934530095,\n",
       "  29.0: 0.0025343189017951427,\n",
       "  30.0: 0.013727560718057022,\n",
       "  31.0: 0.0025343189017951427,\n",
       "  32.0: 0.012671594508975712,\n",
       "  33.0: 0.0044350580781415,\n",
       "  34.0: 0.006546990496304118,\n",
       "  35.0: 0.032101372756071805,\n",
       "  36.0: 0.03146779303062302,\n",
       "  37.0: 0.05216473072861668,\n",
       "  38.0: 0.07074973600844772,\n",
       "  39.0: 0.5446673706441394,\n",
       "  40.0: 0.12249208025343189,\n",
       "  41.0: 0.04794086589229145,\n",
       "  42.0: 0.02597676874340021,\n",
       "  43.0: 0.012882787750791975,\n",
       "  44.0: 0.004857444561774023,\n",
       "  45.0: 0.0008447729672650475,\n",
       "  48.0: 0.0008447729672650475,\n",
       "  50.0: 0.00042238648363252375},\n",
       " {33.0: 0.007316497521831484,\n",
       "  34.0: 0.005428369129100778,\n",
       "  35.0: 0.004720320981826764,\n",
       "  36.0: 0.004248288883644088,\n",
       "  37.0: 0.003776256785461411,\n",
       "  38.0: 0.004248288883644088,\n",
       "  39.0: 0.6171819683738494,\n",
       "  40.0: 0.14538588624026433,\n",
       "  41.0: 0.06160018881283927,\n",
       "  42.0: 0.04366296908189757,\n",
       "  43.0: 0.02194949256549445,\n",
       "  44.0: 0.016285107387302336,\n",
       "  45.0: 0.015105027141845645,\n",
       "  46.0: 0.010856738258201557,\n",
       "  47.0: 0.007552513570922822,\n",
       "  48.0: 0.012272834552749586,\n",
       "  49.0: 0.006136417276374793,\n",
       "  50.0: 0.009440641963653528,\n",
       "  51.0: 0.0028321925890960583})"
      ]
     },
     "execution_count": 54,
     "metadata": {},
     "output_type": "execute_result"
    }
   ],
   "source": [
    "week = 39\n",
    "normal_others, late_others = generic_conditonal(merged_, week)\n",
    "normal_others, late_others"
   ]
  },
  {
   "cell_type": "code",
   "execution_count": 55,
   "metadata": {
    "collapsed": false
   },
   "outputs": [
    {
     "data": {
      "text/plain": [
       "<matplotlib.text.Text at 0x7fc62f03a290>"
      ]
     },
     "execution_count": 55,
     "metadata": {},
     "output_type": "execute_result"
    },
    {
     "data": {
      "image/png": "[encoded data removed]",
      "text/plain": [
       "<matplotlib.figure.Figure at 0x7fc62f171d50>"
      ]
     },
     "metadata": {},
     "output_type": "display_data"
    }
   ],
   "source": [
    "plt.bar(normal_others.keys(), normal_others.values())\n",
    "plt.xlabel('weeks')\n",
    "plt.ylabel('PMF')"
   ]
  },
  {
   "cell_type": "code",
   "execution_count": 56,
   "metadata": {
    "collapsed": false
   },
   "outputs": [
    {
     "data": {
      "text/plain": [
       "<matplotlib.text.Text at 0x7fc62eec3150>"
      ]
     },
     "execution_count": 56,
     "metadata": {},
     "output_type": "execute_result"
    },
    {
     "data": {
      "image/png": "[encoded data removed]",
      "text/plain": [
       "<matplotlib.figure.Figure at 0x7fc62f16be10>"
      ]
     },
     "metadata": {},
     "output_type": "display_data"
    }
   ],
   "source": [
    "plt.bar(late_others.keys(), late_others.values())\n",
    "plt.xlabel('weeks')\n",
    "plt.ylabel('PMF')"
   ]
  },
  {
   "cell_type": "markdown",
   "metadata": {},
   "source": [
    "## Comment:\n",
    "- almost the same distribution like first_babies .. \n",
    "- the probability of having first_babies before 39 is slightly higher than that one of other_babies .. \n",
    "- the probability of having first_baby at week 50 is higher than that one of other_babies ..\n",
    "\n",
    "\n",
    "==> we might also plot both charts on the same grid for better visualization .. "
   ]
  }
 ],
 "metadata": {
  "anaconda-cloud": {},
  "kernelspec": {
   "display_name": "Python 2",
   "language": "python",
   "name": "python2"
  },
  "language_info": {
   "codemirror_mode": {
    "name": "ipython",
    "version": 2
   },
   "file_extension": ".py",
   "mimetype": "text/x-python",
   "name": "python",
   "nbconvert_exporter": "python",
   "pygments_lexer": "ipython2",
   "version": "2.7.12"
  }
 },
 "nbformat": 4,
 "nbformat_minor": 0
}
