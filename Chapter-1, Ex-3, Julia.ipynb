{
 "cells": [
  {
   "cell_type": "markdown",
   "metadata": {},
   "source": [
    "## Ex 3.1 :\n",
    "\n",
    "### Printing number of records .. \n",
    "\n",
    "In this exercise you will write a program to explore the sata in the Pregnancies table. \n",
    "\n",
    "1. In the directory where you put survey.py and the data files, create file named first.py and type or paste in the following code and check the results: \n",
    "\n",
    "        import survey\n",
    "\n",
    "        table = survey.Pregnancies()\n",
    "\n",
    "        table.ReadRecords()\n",
    "\n",
    "        print 'Number of pregnancies: ', len(table.records)\n",
    "       \n",
    "As here I'm in julia .. hence, importing survey.py is infeasible .. so, I'm gonna read the data in dataframe table format and print the length of that table .. "
   ]
  },
  {
   "cell_type": "code",
   "execution_count": 2,
   "metadata": {
    "collapsed": true
   },
   "outputs": [],
   "source": [
    "using DataFrames"
   ]
  },
  {
   "cell_type": "code",
   "execution_count": 17,
   "metadata": {
    "collapsed": false
   },
   "outputs": [
    {
     "data": {
      "text/plain": [
       "10-element Array{Tuple{String,Int64,Int64,DataType},1}:\n",
       " (\"caseid\",1,12,Int64)       \n",
       " (\"nbrnaliv\",22,22,Int64)    \n",
       " (\"babysex\",56,56,Int64)     \n",
       " (\"birthwgt_lb\",57,58,Int64) \n",
       " (\"birthwgt_oz\",59,60,Int64) \n",
       " (\"prglength\",275,276,Int64) \n",
       " (\"outcome\",277,277,Int64)   \n",
       " (\"birthord\",278,279,Int64)  \n",
       " (\"agepreg\",284,287,Int64)   \n",
       " (\"finalwgt\",423,440,Float64)"
      ]
     },
     "execution_count": 17,
     "metadata": {},
     "output_type": "execute_result"
    }
   ],
   "source": [
    "data = [(\"caseid\",1,12,Int), (\"nbrnaliv\",22,22,Int),(\"babysex\",56,56,Int), (\"birthwgt_lb\",57,58,Int),(\"birthwgt_oz\",59,60,Int), (\"prglength\", 275,276,Int), (\"outcome\", 277,277, Int), (\"birthord\",278,279,Int), (\"agepreg\", 284,287,Int), (\"finalwgt\",423,440,Float64)]"
   ]
  },
  {
   "cell_type": "code",
   "execution_count": 18,
   "metadata": {
    "collapsed": false
   },
   "outputs": [
    {
     "data": {
      "text/html": [
       "<table class=\"data-frame\"><thead><tr><th></th></tr></thead><tbody></tbody></table>"
      ],
      "text/plain": [
       "0×0 DataFrames.DataFrame\n"
      ]
     },
     "execution_count": 18,
     "metadata": {},
     "output_type": "execute_result"
    }
   ],
   "source": [
    "df_=DataFrame()"
   ]
  },
  {
   "cell_type": "code",
   "execution_count": 19,
   "metadata": {
    "collapsed": false
   },
   "outputs": [
    {
     "data": {
      "text/plain": [
       "10-element Array{Array{T,1},1}:\n",
       " Int64[]  \n",
       " Int64[]  \n",
       " Int64[]  \n",
       " Int64[]  \n",
       " Int64[]  \n",
       " Int64[]  \n",
       " Int64[]  \n",
       " Int64[]  \n",
       " Int64[]  \n",
       " Float64[]"
      ]
     },
     "execution_count": 19,
     "metadata": {},
     "output_type": "execute_result"
    }
   ],
   "source": [
    "map(x->df_[Symbol(x[1])]=Vector{x[4]}(0),data)"
   ]
  },
  {
   "cell_type": "code",
   "execution_count": 20,
   "metadata": {
    "collapsed": false
   },
   "outputs": [
    {
     "data": {
      "text/plain": [
       "Array{Tuple{String,Int64,Int64,DataType},1}"
      ]
     },
     "execution_count": 20,
     "metadata": {},
     "output_type": "execute_result"
    }
   ],
   "source": [
    "typeof(data)"
   ]
  },
  {
   "cell_type": "code",
   "execution_count": 21,
   "metadata": {
    "collapsed": true
   },
   "outputs": [],
   "source": [
    "open(\"2002FemPreg.dat\",\"r\") do io\n",
    "    for l in eachline(io)\n",
    "        if length(l)>100\n",
    "            for (i,case) in enumerate(data)\n",
    "                val2push=\n",
    "                try \n",
    "                    parse(case[4],l[case[2]:case[3]])\n",
    "                catch \n",
    "                    NA\n",
    "                end\n",
    "                push!(df_[Symbol(case[1])],val2push)\n",
    "          end\n",
    "      end\n",
    "    end\n",
    "end"
   ]
  },
  {
   "cell_type": "code",
   "execution_count": 22,
   "metadata": {
    "collapsed": false
   },
   "outputs": [
    {
     "data": {
      "text/html": [
       "<table class=\"data-frame\"><thead><tr><th></th><th>caseid</th><th>nbrnaliv</th><th>babysex</th><th>birthwgt_lb</th><th>birthwgt_oz</th><th>prglength</th><th>outcome</th><th>birthord</th><th>agepreg</th><th>finalwgt</th></tr></thead><tbody><tr><th>1</th><td>1</td><td>1</td><td>1</td><td>8</td><td>13</td><td>39</td><td>1</td><td>1</td><td>3316</td><td>6448.271111704751</td></tr><tr><th>2</th><td>1</td><td>1</td><td>2</td><td>7</td><td>14</td><td>39</td><td>1</td><td>2</td><td>3925</td><td>6448.271111704751</td></tr><tr><th>3</th><td>2</td><td>3</td><td>1</td><td>9</td><td>2</td><td>39</td><td>1</td><td>1</td><td>1433</td><td>12999.542264385902</td></tr><tr><th>4</th><td>2</td><td>1</td><td>2</td><td>7</td><td>0</td><td>39</td><td>1</td><td>2</td><td>1783</td><td>12999.542264385902</td></tr><tr><th>5</th><td>2</td><td>1</td><td>2</td><td>6</td><td>3</td><td>39</td><td>1</td><td>3</td><td>1833</td><td>12999.542264385902</td></tr><tr><th>6</th><td>6</td><td>1</td><td>1</td><td>8</td><td>9</td><td>38</td><td>1</td><td>1</td><td>2700</td><td>8874.440799222995</td></tr><tr><th>7</th><td>6</td><td>1</td><td>2</td><td>9</td><td>9</td><td>40</td><td>1</td><td>2</td><td>2883</td><td>8874.440799222995</td></tr><tr><th>8</th><td>6</td><td>1</td><td>2</td><td>8</td><td>6</td><td>42</td><td>1</td><td>3</td><td>3016</td><td>8874.440799222995</td></tr><tr><th>9</th><td>7</td><td>1</td><td>1</td><td>7</td><td>9</td><td>39</td><td>1</td><td>1</td><td>2808</td><td>6911.879920534536</td></tr><tr><th>10</th><td>7</td><td>1</td><td>2</td><td>6</td><td>10</td><td>35</td><td>1</td><td>2</td><td>3233</td><td>6911.879920534536</td></tr><tr><th>11</th><td>12</td><td>1</td><td>1</td><td>7</td><td>13</td><td>39</td><td>1</td><td>1</td><td>2575</td><td>6909.331618252927</td></tr><tr><th>12</th><td>14</td><td>1</td><td>2</td><td>7</td><td>0</td><td>39</td><td>1</td><td>1</td><td>2300</td><td>3039.904507096879</td></tr><tr><th>13</th><td>14</td><td>1</td><td>1</td><td>4</td><td>0</td><td>37</td><td>1</td><td>2</td><td>2458</td><td>3039.904507096879</td></tr><tr><th>14</th><td>14</td><td>NA</td><td>NA</td><td>NA</td><td>NA</td><td>9</td><td>2</td><td>NA</td><td>2983</td><td>3039.904507096879</td></tr><tr><th>15</th><td>15</td><td>NA</td><td>NA</td><td>NA</td><td>NA</td><td>3</td><td>4</td><td>NA</td><td>2750</td><td>5553.495599217641</td></tr><tr><th>16</th><td>15</td><td>1</td><td>2</td><td>7</td><td>11</td><td>33</td><td>1</td><td>1</td><td>2833</td><td>5553.495599217641</td></tr><tr><th>17</th><td>15</td><td>1</td><td>2</td><td>7</td><td>8</td><td>33</td><td>1</td><td>2</td><td>3033</td><td>5553.495599217641</td></tr><tr><th>18</th><td>18</td><td>1</td><td>1</td><td>6</td><td>5</td><td>39</td><td>1</td><td>1</td><td>1891</td><td>4153.371741429463</td></tr><tr><th>19</th><td>18</td><td>NA</td><td>NA</td><td>NA</td><td>NA</td><td>5</td><td>4</td><td>NA</td><td>2783</td><td>4153.371741429463</td></tr><tr><th>20</th><td>21</td><td>1</td><td>2</td><td>8</td><td>12</td><td>41</td><td>1</td><td>1</td><td>2791</td><td>7237.122630412091</td></tr><tr><th>21</th><td>21</td><td>1</td><td>2</td><td>8</td><td>3</td><td>39</td><td>1</td><td>2</td><td>3058</td><td>7237.122630412091</td></tr><tr><th>22</th><td>23</td><td>1</td><td>1</td><td>5</td><td>9</td><td>39</td><td>1</td><td>1</td><td>1891</td><td>13533.382043124135</td></tr><tr><th>23</th><td>23</td><td>NA</td><td>NA</td><td>NA</td><td>NA</td><td>8</td><td>4</td><td>NA</td><td>2708</td><td>13533.382043124135</td></tr><tr><th>24</th><td>24</td><td>1</td><td>1</td><td>6</td><td>12</td><td>39</td><td>1</td><td>1</td><td>2225</td><td>7424.840414467087</td></tr><tr><th>25</th><td>24</td><td>1</td><td>2</td><td>7</td><td>6</td><td>39</td><td>1</td><td>2</td><td>2575</td><td>7424.840414467087</td></tr><tr><th>26</th><td>24</td><td>1</td><td>1</td><td>6</td><td>13</td><td>39</td><td>1</td><td>3</td><td>2941</td><td>7424.840414467087</td></tr><tr><th>27</th><td>28</td><td>1</td><td>1</td><td>8</td><td>2</td><td>39</td><td>1</td><td>1</td><td>3266</td><td>6949.8460820623295</td></tr><tr><th>28</th><td>31</td><td>1</td><td>1</td><td>7</td><td>2</td><td>42</td><td>1</td><td>1</td><td>1883</td><td>5211.9431128540555</td></tr><tr><th>29</th><td>31</td><td>1</td><td>1</td><td>6</td><td>1</td><td>37</td><td>1</td><td>2</td><td>2083</td><td>5211.9431128540555</td></tr><tr><th>30</th><td>31</td><td>1</td><td>1</td><td>7</td><td>7</td><td>40</td><td>1</td><td>3</td><td>2166</td><td>5211.9431128540555</td></tr><tr><th>&vellip;</th><td>&vellip;</td><td>&vellip;</td><td>&vellip;</td><td>&vellip;</td><td>&vellip;</td><td>&vellip;</td><td>&vellip;</td><td>&vellip;</td><td>&vellip;</td><td>&vellip;</td></tr></tbody></table>"
      ],
      "text/plain": [
       "13593×10 DataFrames.DataFrame\n",
       "│ Row   │ caseid │ nbrnaliv │ babysex │ birthwgt_lb │ birthwgt_oz │ prglength │\n",
       "├───────┼────────┼──────────┼─────────┼─────────────┼─────────────┼───────────┤\n",
       "│ 1     │ 1      │ 1        │ 1       │ 8           │ 13          │ 39        │\n",
       "│ 2     │ 1      │ 1        │ 2       │ 7           │ 14          │ 39        │\n",
       "│ 3     │ 2      │ 3        │ 1       │ 9           │ 2           │ 39        │\n",
       "│ 4     │ 2      │ 1        │ 2       │ 7           │ 0           │ 39        │\n",
       "│ 5     │ 2      │ 1        │ 2       │ 6           │ 3           │ 39        │\n",
       "│ 6     │ 6      │ 1        │ 1       │ 8           │ 9           │ 38        │\n",
       "│ 7     │ 6      │ 1        │ 2       │ 9           │ 9           │ 40        │\n",
       "│ 8     │ 6      │ 1        │ 2       │ 8           │ 6           │ 42        │\n",
       "│ 9     │ 7      │ 1        │ 1       │ 7           │ 9           │ 39        │\n",
       "│ 10    │ 7      │ 1        │ 2       │ 6           │ 10          │ 35        │\n",
       "│ 11    │ 12     │ 1        │ 1       │ 7           │ 13          │ 39        │\n",
       "⋮\n",
       "│ 13582 │ 12568  │ 1        │ 1       │ 6           │ 6           │ 39        │\n",
       "│ 13583 │ 12568  │ NA       │ NA      │ NA          │ NA          │ 3         │\n",
       "│ 13584 │ 12569  │ NA       │ NA      │ NA          │ NA          │ 17        │\n",
       "│ 13585 │ 12569  │ 1        │ 2       │ 6           │ 6           │ 34        │\n",
       "│ 13586 │ 12570  │ NA       │ NA      │ NA          │ NA          │ 9         │\n",
       "│ 13587 │ 12570  │ NA       │ NA      │ NA          │ NA          │ 9         │\n",
       "│ 13588 │ 12570  │ NA       │ NA      │ NA          │ NA          │ 9         │\n",
       "│ 13589 │ 12571  │ 1        │ 1       │ 6           │ 3           │ 39        │\n",
       "│ 13590 │ 12571  │ NA       │ NA      │ NA          │ NA          │ 6         │\n",
       "│ 13591 │ 12571  │ NA       │ NA      │ NA          │ NA          │ 5         │\n",
       "│ 13592 │ 12571  │ 1        │ 1       │ 7           │ 8           │ 39        │\n",
       "│ 13593 │ 12571  │ 1        │ 1       │ 7           │ 8           │ 39        │\n",
       "\n",
       "│ Row   │ outcome │ birthord │ agepreg │ finalwgt │\n",
       "├───────┼─────────┼──────────┼─────────┼──────────┤\n",
       "│ 1     │ 1       │ 1        │ 3316    │ 6448.27  │\n",
       "│ 2     │ 1       │ 2        │ 3925    │ 6448.27  │\n",
       "│ 3     │ 1       │ 1        │ 1433    │ 12999.5  │\n",
       "│ 4     │ 1       │ 2        │ 1783    │ 12999.5  │\n",
       "│ 5     │ 1       │ 3        │ 1833    │ 12999.5  │\n",
       "│ 6     │ 1       │ 1        │ 2700    │ 8874.44  │\n",
       "│ 7     │ 1       │ 2        │ 2883    │ 8874.44  │\n",
       "│ 8     │ 1       │ 3        │ 3016    │ 8874.44  │\n",
       "│ 9     │ 1       │ 1        │ 2808    │ 6911.88  │\n",
       "│ 10    │ 1       │ 2        │ 3233    │ 6911.88  │\n",
       "│ 11    │ 1       │ 1        │ 2575    │ 6909.33  │\n",
       "⋮\n",
       "│ 13582 │ 1       │ 1        │ 3066    │ 7772.21  │\n",
       "│ 13583 │ 5       │ NA       │ 3325    │ 7772.21  │\n",
       "│ 13584 │ 2       │ NA       │ 2366    │ 5075.16  │\n",
       "│ 13585 │ 1       │ 1        │ 2691    │ 5075.16  │\n",
       "│ 13586 │ 2       │ NA       │ 2141    │ 11325.0  │\n",
       "│ 13587 │ 2       │ NA       │ 2241    │ 11325.0  │\n",
       "│ 13588 │ 2       │ NA       │ 2341    │ 11325.0  │\n",
       "│ 13589 │ 1       │ 1        │ 1791    │ 6269.2   │\n",
       "│ 13590 │ 2       │ NA       │ 1850    │ 6269.2   │\n",
       "│ 13591 │ 2       │ NA       │ 1975    │ 6269.2   │\n",
       "│ 13592 │ 1       │ 2        │ 2158    │ 6269.2   │\n",
       "│ 13593 │ 1       │ 3        │ 2158    │ 6269.2   │"
      ]
     },
     "execution_count": 22,
     "metadata": {},
     "output_type": "execute_result"
    }
   ],
   "source": [
    "df_"
   ]
  },
  {
   "cell_type": "code",
   "execution_count": 23,
   "metadata": {
    "collapsed": false
   },
   "outputs": [
    {
     "data": {
      "text/plain": [
       "(13593,)"
      ]
     },
     "execution_count": 23,
     "metadata": {},
     "output_type": "execute_result"
    }
   ],
   "source": [
    "size(df_[1])  ## number of records in df_ table "
   ]
  },
  {
   "cell_type": "markdown",
   "metadata": {},
   "source": [
    "## Justification:\n",
    "\n",
    "This results match the python results that also matches the documentation results .. \n",
    "\n",
    "http://www.icpsr.umich.edu/nsfg6/Controller?displayPage=labelDetails&fileCode=PREG&section=&subSec=8014&srtLabel=611774"
   ]
  },
  {
   "cell_type": "markdown",
   "metadata": {},
   "source": [
    "## Ex 3.2: \n",
    "\n",
    "### count (alive) .. \n",
    "\n",
    "Write a loop that iterates table and counts the number of live births. \n",
    "\n",
    "Find the documentation of outcome and confirm that your result is consistent with the summary in the documentation."
   ]
  },
  {
   "cell_type": "code",
   "execution_count": 33,
   "metadata": {
    "collapsed": false
   },
   "outputs": [
    {
     "data": {
      "text/plain": [
       "9148"
      ]
     },
     "execution_count": 33,
     "metadata": {},
     "output_type": "execute_result"
    }
   ],
   "source": [
    "## we gonna depend on (Outcome) column .. \n",
    "alive_counter = 0\n",
    "\n",
    "for i in df_[7]\n",
    "    if(i == 1)\n",
    "        alive_counter = alive_counter + 1\n",
    "    end\n",
    "end\n",
    "alive_counter"
   ]
  },
  {
   "cell_type": "markdown",
   "metadata": {},
   "source": [
    "## Comment:\n",
    "\n",
    "The number of obtained living births matches the python results and this number is already mentioned in the documentation .. \n",
    "http://www.icpsr.umich.edu/nsfg6/Controller?displayPage=labelDetails&fileCode=PREG&section=&subSec=8014&srtLabel=611785"
   ]
  },
  {
   "cell_type": "markdown",
   "metadata": {},
   "source": [
    "## Ex 3.3 :\n",
    "\n",
    "\n",
    "### Partition the data .. \n",
    "\n",
    "Modify the loop to partition the live birth records into two groups, one for first babies and one for the others. \n",
    "\n",
    "Again, read the documentation of birthord to see if your results are consistent."
   ]
  },
  {
   "cell_type": "code",
   "execution_count": 51,
   "metadata": {
    "collapsed": false
   },
   "outputs": [],
   "source": [
    "alive_partition = []\n",
    "others_partition = []\n",
    "\n",
    "for i in df_.columns\n",
    "     if(df_[7] == 1)\n",
    "        append(alive_partition, i)\n",
    "        print(df_[7])\n",
    "     end\n",
    "end"
   ]
  },
  {
   "cell_type": "code",
   "execution_count": null,
   "metadata": {
    "collapsed": true
   },
   "outputs": [],
   "source": []
  }
 ],
 "metadata": {
  "kernelspec": {
   "display_name": "Julia 0.5.0",
   "language": "julia",
   "name": "julia-0.5"
  },
  "language_info": {
   "file_extension": ".jl",
   "mimetype": "application/julia",
   "name": "julia",
   "version": "0.5.0"
  }
 },
 "nbformat": 4,
 "nbformat_minor": 0
}
