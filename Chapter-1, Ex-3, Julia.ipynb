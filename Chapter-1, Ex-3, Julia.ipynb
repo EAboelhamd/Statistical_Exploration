{
 "cells": [
  {
   "cell_type": "markdown",
   "metadata": {},
   "source": [
    "## Ex 3.1 :\n",
    "\n",
    "### Printing number of records .. \n",
    "\n",
    "In this exercise you will write a program to explore the sata in the Pregnancies table. \n",
    "\n",
    "1. In the directory where you put survey.py and the data files, create file named first.py and type or paste in the following code and check the results: \n",
    "\n",
    "        import survey\n",
    "\n",
    "        table = survey.Pregnancies()\n",
    "\n",
    "        table.ReadRecords()\n",
    "\n",
    "        print 'Number of pregnancies: ', len(table.records)\n",
    "       \n",
    "As here I'm in julia .. hence, importing survey.py is infeasible .. so, I'm gonna read the data in dataframe table format and print the length of that table .. "
   ]
  },
  {
   "cell_type": "code",
   "execution_count": 1,
   "metadata": {
    "collapsed": true
   },
   "outputs": [],
   "source": [
    "using DataFrames"
   ]
  },
  {
   "cell_type": "code",
   "execution_count": 2,
   "metadata": {
    "collapsed": false
   },
   "outputs": [
    {
     "data": {
      "text/plain": [
       "10-element Array{Tuple{String,Int64,Int64,DataType},1}:\n",
       " (\"caseid\",1,12,Int64)       \n",
       " (\"nbrnaliv\",22,22,Int64)    \n",
       " (\"babysex\",56,56,Int64)     \n",
       " (\"birthwgt_lb\",57,58,Int64) \n",
       " (\"birthwgt_oz\",59,60,Int64) \n",
       " (\"prglength\",275,276,Int64) \n",
       " (\"outcome\",277,277,Int64)   \n",
       " (\"birthord\",278,279,Int64)  \n",
       " (\"agepreg\",284,287,Int64)   \n",
       " (\"finalwgt\",423,440,Float64)"
      ]
     },
     "execution_count": 2,
     "metadata": {},
     "output_type": "execute_result"
    }
   ],
   "source": [
    "data = [(\"caseid\",1,12,Int), (\"nbrnaliv\",22,22,Int),(\"babysex\",56,56,Int), (\"birthwgt_lb\",57,58,Int),(\"birthwgt_oz\",59,60,Int), (\"prglength\", 275,276,Int), (\"outcome\", 277,277, Int), (\"birthord\",278,279,Int), (\"agepreg\", 284,287,Int), (\"finalwgt\",423,440,Float64)]"
   ]
  },
  {
   "cell_type": "code",
   "execution_count": 3,
   "metadata": {
    "collapsed": false
   },
   "outputs": [
    {
     "data": {
      "text/html": [
       "<table class=\"data-frame\"><thead><tr><th></th></tr></thead><tbody></tbody></table>"
      ],
      "text/plain": [
       "0×0 DataFrames.DataFrame\n"
      ]
     },
     "execution_count": 3,
     "metadata": {},
     "output_type": "execute_result"
    }
   ],
   "source": [
    "df_=DataFrame()"
   ]
  },
  {
   "cell_type": "code",
   "execution_count": 4,
   "metadata": {
    "collapsed": false
   },
   "outputs": [
    {
     "data": {
      "text/plain": [
       "10-element Array{Array{T,1},1}:\n",
       " Int64[]  \n",
       " Int64[]  \n",
       " Int64[]  \n",
       " Int64[]  \n",
       " Int64[]  \n",
       " Int64[]  \n",
       " Int64[]  \n",
       " Int64[]  \n",
       " Int64[]  \n",
       " Float64[]"
      ]
     },
     "execution_count": 4,
     "metadata": {},
     "output_type": "execute_result"
    }
   ],
   "source": [
    "map(x->df_[Symbol(x[1])]=Vector{x[4]}(0),data)"
   ]
  },
  {
   "cell_type": "code",
   "execution_count": 5,
   "metadata": {
    "collapsed": false
   },
   "outputs": [
    {
     "data": {
      "text/plain": [
       "Array{Tuple{String,Int64,Int64,DataType},1}"
      ]
     },
     "execution_count": 5,
     "metadata": {},
     "output_type": "execute_result"
    }
   ],
   "source": [
    "typeof(data)"
   ]
  },
  {
   "cell_type": "code",
   "execution_count": 6,
   "metadata": {
    "collapsed": true
   },
   "outputs": [],
   "source": [
    "open(\"2002FemPreg.dat\",\"r\") do io\n",
    "    for l in eachline(io)\n",
    "        if length(l)>100\n",
    "            for (i,case) in enumerate(data)\n",
    "                val2push=\n",
    "                try \n",
    "                    parse(case[4],l[case[2]:case[3]])\n",
    "                catch \n",
    "                    NA\n",
    "                end\n",
    "                push!(df_[Symbol(case[1])],val2push)\n",
    "          end\n",
    "      end\n",
    "    end\n",
    "end"
   ]
  },
  {
   "cell_type": "code",
   "execution_count": 7,
   "metadata": {
    "collapsed": false
   },
   "outputs": [
    {
     "data": {
      "text/html": [
       "<table class=\"data-frame\"><thead><tr><th></th><th>caseid</th><th>nbrnaliv</th><th>babysex</th><th>birthwgt_lb</th><th>birthwgt_oz</th><th>prglength</th><th>outcome</th><th>birthord</th><th>agepreg</th><th>finalwgt</th></tr></thead><tbody><tr><th>1</th><td>1</td><td>1</td><td>1</td><td>8</td><td>13</td><td>39</td><td>1</td><td>1</td><td>3316</td><td>6448.271111704751</td></tr><tr><th>2</th><td>1</td><td>1</td><td>2</td><td>7</td><td>14</td><td>39</td><td>1</td><td>2</td><td>3925</td><td>6448.271111704751</td></tr><tr><th>3</th><td>2</td><td>3</td><td>1</td><td>9</td><td>2</td><td>39</td><td>1</td><td>1</td><td>1433</td><td>12999.542264385902</td></tr><tr><th>4</th><td>2</td><td>1</td><td>2</td><td>7</td><td>0</td><td>39</td><td>1</td><td>2</td><td>1783</td><td>12999.542264385902</td></tr><tr><th>5</th><td>2</td><td>1</td><td>2</td><td>6</td><td>3</td><td>39</td><td>1</td><td>3</td><td>1833</td><td>12999.542264385902</td></tr><tr><th>6</th><td>6</td><td>1</td><td>1</td><td>8</td><td>9</td><td>38</td><td>1</td><td>1</td><td>2700</td><td>8874.440799222995</td></tr><tr><th>7</th><td>6</td><td>1</td><td>2</td><td>9</td><td>9</td><td>40</td><td>1</td><td>2</td><td>2883</td><td>8874.440799222995</td></tr><tr><th>8</th><td>6</td><td>1</td><td>2</td><td>8</td><td>6</td><td>42</td><td>1</td><td>3</td><td>3016</td><td>8874.440799222995</td></tr><tr><th>9</th><td>7</td><td>1</td><td>1</td><td>7</td><td>9</td><td>39</td><td>1</td><td>1</td><td>2808</td><td>6911.879920534536</td></tr><tr><th>10</th><td>7</td><td>1</td><td>2</td><td>6</td><td>10</td><td>35</td><td>1</td><td>2</td><td>3233</td><td>6911.879920534536</td></tr><tr><th>11</th><td>12</td><td>1</td><td>1</td><td>7</td><td>13</td><td>39</td><td>1</td><td>1</td><td>2575</td><td>6909.331618252927</td></tr><tr><th>12</th><td>14</td><td>1</td><td>2</td><td>7</td><td>0</td><td>39</td><td>1</td><td>1</td><td>2300</td><td>3039.904507096879</td></tr><tr><th>13</th><td>14</td><td>1</td><td>1</td><td>4</td><td>0</td><td>37</td><td>1</td><td>2</td><td>2458</td><td>3039.904507096879</td></tr><tr><th>14</th><td>14</td><td>NA</td><td>NA</td><td>NA</td><td>NA</td><td>9</td><td>2</td><td>NA</td><td>2983</td><td>3039.904507096879</td></tr><tr><th>15</th><td>15</td><td>NA</td><td>NA</td><td>NA</td><td>NA</td><td>3</td><td>4</td><td>NA</td><td>2750</td><td>5553.495599217641</td></tr><tr><th>16</th><td>15</td><td>1</td><td>2</td><td>7</td><td>11</td><td>33</td><td>1</td><td>1</td><td>2833</td><td>5553.495599217641</td></tr><tr><th>17</th><td>15</td><td>1</td><td>2</td><td>7</td><td>8</td><td>33</td><td>1</td><td>2</td><td>3033</td><td>5553.495599217641</td></tr><tr><th>18</th><td>18</td><td>1</td><td>1</td><td>6</td><td>5</td><td>39</td><td>1</td><td>1</td><td>1891</td><td>4153.371741429463</td></tr><tr><th>19</th><td>18</td><td>NA</td><td>NA</td><td>NA</td><td>NA</td><td>5</td><td>4</td><td>NA</td><td>2783</td><td>4153.371741429463</td></tr><tr><th>20</th><td>21</td><td>1</td><td>2</td><td>8</td><td>12</td><td>41</td><td>1</td><td>1</td><td>2791</td><td>7237.122630412091</td></tr><tr><th>21</th><td>21</td><td>1</td><td>2</td><td>8</td><td>3</td><td>39</td><td>1</td><td>2</td><td>3058</td><td>7237.122630412091</td></tr><tr><th>22</th><td>23</td><td>1</td><td>1</td><td>5</td><td>9</td><td>39</td><td>1</td><td>1</td><td>1891</td><td>13533.382043124135</td></tr><tr><th>23</th><td>23</td><td>NA</td><td>NA</td><td>NA</td><td>NA</td><td>8</td><td>4</td><td>NA</td><td>2708</td><td>13533.382043124135</td></tr><tr><th>24</th><td>24</td><td>1</td><td>1</td><td>6</td><td>12</td><td>39</td><td>1</td><td>1</td><td>2225</td><td>7424.840414467087</td></tr><tr><th>25</th><td>24</td><td>1</td><td>2</td><td>7</td><td>6</td><td>39</td><td>1</td><td>2</td><td>2575</td><td>7424.840414467087</td></tr><tr><th>26</th><td>24</td><td>1</td><td>1</td><td>6</td><td>13</td><td>39</td><td>1</td><td>3</td><td>2941</td><td>7424.840414467087</td></tr><tr><th>27</th><td>28</td><td>1</td><td>1</td><td>8</td><td>2</td><td>39</td><td>1</td><td>1</td><td>3266</td><td>6949.8460820623295</td></tr><tr><th>28</th><td>31</td><td>1</td><td>1</td><td>7</td><td>2</td><td>42</td><td>1</td><td>1</td><td>1883</td><td>5211.9431128540555</td></tr><tr><th>29</th><td>31</td><td>1</td><td>1</td><td>6</td><td>1</td><td>37</td><td>1</td><td>2</td><td>2083</td><td>5211.9431128540555</td></tr><tr><th>30</th><td>31</td><td>1</td><td>1</td><td>7</td><td>7</td><td>40</td><td>1</td><td>3</td><td>2166</td><td>5211.9431128540555</td></tr><tr><th>&vellip;</th><td>&vellip;</td><td>&vellip;</td><td>&vellip;</td><td>&vellip;</td><td>&vellip;</td><td>&vellip;</td><td>&vellip;</td><td>&vellip;</td><td>&vellip;</td><td>&vellip;</td></tr></tbody></table>"
      ],
      "text/plain": [
       "13593×10 DataFrames.DataFrame\n",
       "│ Row   │ caseid │ nbrnaliv │ babysex │ birthwgt_lb │ birthwgt_oz │ prglength │\n",
       "├───────┼────────┼──────────┼─────────┼─────────────┼─────────────┼───────────┤\n",
       "│ 1     │ 1      │ 1        │ 1       │ 8           │ 13          │ 39        │\n",
       "│ 2     │ 1      │ 1        │ 2       │ 7           │ 14          │ 39        │\n",
       "│ 3     │ 2      │ 3        │ 1       │ 9           │ 2           │ 39        │\n",
       "│ 4     │ 2      │ 1        │ 2       │ 7           │ 0           │ 39        │\n",
       "│ 5     │ 2      │ 1        │ 2       │ 6           │ 3           │ 39        │\n",
       "│ 6     │ 6      │ 1        │ 1       │ 8           │ 9           │ 38        │\n",
       "│ 7     │ 6      │ 1        │ 2       │ 9           │ 9           │ 40        │\n",
       "│ 8     │ 6      │ 1        │ 2       │ 8           │ 6           │ 42        │\n",
       "│ 9     │ 7      │ 1        │ 1       │ 7           │ 9           │ 39        │\n",
       "│ 10    │ 7      │ 1        │ 2       │ 6           │ 10          │ 35        │\n",
       "│ 11    │ 12     │ 1        │ 1       │ 7           │ 13          │ 39        │\n",
       "⋮\n",
       "│ 13582 │ 12568  │ 1        │ 1       │ 6           │ 6           │ 39        │\n",
       "│ 13583 │ 12568  │ NA       │ NA      │ NA          │ NA          │ 3         │\n",
       "│ 13584 │ 12569  │ NA       │ NA      │ NA          │ NA          │ 17        │\n",
       "│ 13585 │ 12569  │ 1        │ 2       │ 6           │ 6           │ 34        │\n",
       "│ 13586 │ 12570  │ NA       │ NA      │ NA          │ NA          │ 9         │\n",
       "│ 13587 │ 12570  │ NA       │ NA      │ NA          │ NA          │ 9         │\n",
       "│ 13588 │ 12570  │ NA       │ NA      │ NA          │ NA          │ 9         │\n",
       "│ 13589 │ 12571  │ 1        │ 1       │ 6           │ 3           │ 39        │\n",
       "│ 13590 │ 12571  │ NA       │ NA      │ NA          │ NA          │ 6         │\n",
       "│ 13591 │ 12571  │ NA       │ NA      │ NA          │ NA          │ 5         │\n",
       "│ 13592 │ 12571  │ 1        │ 1       │ 7           │ 8           │ 39        │\n",
       "│ 13593 │ 12571  │ 1        │ 1       │ 7           │ 8           │ 39        │\n",
       "\n",
       "│ Row   │ outcome │ birthord │ agepreg │ finalwgt │\n",
       "├───────┼─────────┼──────────┼─────────┼──────────┤\n",
       "│ 1     │ 1       │ 1        │ 3316    │ 6448.27  │\n",
       "│ 2     │ 1       │ 2        │ 3925    │ 6448.27  │\n",
       "│ 3     │ 1       │ 1        │ 1433    │ 12999.5  │\n",
       "│ 4     │ 1       │ 2        │ 1783    │ 12999.5  │\n",
       "│ 5     │ 1       │ 3        │ 1833    │ 12999.5  │\n",
       "│ 6     │ 1       │ 1        │ 2700    │ 8874.44  │\n",
       "│ 7     │ 1       │ 2        │ 2883    │ 8874.44  │\n",
       "│ 8     │ 1       │ 3        │ 3016    │ 8874.44  │\n",
       "│ 9     │ 1       │ 1        │ 2808    │ 6911.88  │\n",
       "│ 10    │ 1       │ 2        │ 3233    │ 6911.88  │\n",
       "│ 11    │ 1       │ 1        │ 2575    │ 6909.33  │\n",
       "⋮\n",
       "│ 13582 │ 1       │ 1        │ 3066    │ 7772.21  │\n",
       "│ 13583 │ 5       │ NA       │ 3325    │ 7772.21  │\n",
       "│ 13584 │ 2       │ NA       │ 2366    │ 5075.16  │\n",
       "│ 13585 │ 1       │ 1        │ 2691    │ 5075.16  │\n",
       "│ 13586 │ 2       │ NA       │ 2141    │ 11325.0  │\n",
       "│ 13587 │ 2       │ NA       │ 2241    │ 11325.0  │\n",
       "│ 13588 │ 2       │ NA       │ 2341    │ 11325.0  │\n",
       "│ 13589 │ 1       │ 1        │ 1791    │ 6269.2   │\n",
       "│ 13590 │ 2       │ NA       │ 1850    │ 6269.2   │\n",
       "│ 13591 │ 2       │ NA       │ 1975    │ 6269.2   │\n",
       "│ 13592 │ 1       │ 2        │ 2158    │ 6269.2   │\n",
       "│ 13593 │ 1       │ 3        │ 2158    │ 6269.2   │"
      ]
     },
     "execution_count": 7,
     "metadata": {},
     "output_type": "execute_result"
    }
   ],
   "source": [
    "df_"
   ]
  },
  {
   "cell_type": "code",
   "execution_count": 8,
   "metadata": {
    "collapsed": false
   },
   "outputs": [
    {
     "data": {
      "text/plain": [
       "(13593,)"
      ]
     },
     "execution_count": 8,
     "metadata": {},
     "output_type": "execute_result"
    }
   ],
   "source": [
    "size(df_[1])  ## number of records in df_ table "
   ]
  },
  {
   "cell_type": "markdown",
   "metadata": {},
   "source": [
    "## Justification:\n",
    "\n",
    "This results match the python results as well as the documentation results .. \n",
    "\n",
    "http://www.icpsr.umich.edu/nsfg6/Controller?displayPage=labelDetails&fileCode=PREG&section=&subSec=8014&srtLabel=611774"
   ]
  },
  {
   "cell_type": "markdown",
   "metadata": {},
   "source": [
    "## Ex 3.2: \n",
    "\n",
    "### count (alive) .. \n",
    "\n",
    "Write a loop that iterates table and counts the number of live births. \n",
    "\n",
    "Find the documentation of outcome and confirm that your result is consistent with the summary in the documentation."
   ]
  },
  {
   "cell_type": "code",
   "execution_count": 245,
   "metadata": {
    "collapsed": false
   },
   "outputs": [
    {
     "data": {
      "text/plain": [
       "9148"
      ]
     },
     "execution_count": 245,
     "metadata": {},
     "output_type": "execute_result"
    }
   ],
   "source": [
    "## we gonna utilize on (Outcome) column .. \n",
    "alive_counter = 0\n",
    "\n",
    "for i in df_[7]\n",
    "    if(i == 1)\n",
    "        alive_counter = alive_counter + 1\n",
    "    end\n",
    "end\n",
    "alive_counter"
   ]
  },
  {
   "cell_type": "markdown",
   "metadata": {},
   "source": [
    "## Comment:\n",
    "\n",
    "The number of obtained living births matches the python results and this number is already mentioned in the documentation .. \n",
    "\n",
    "http://www.icpsr.umich.edu/nsfg6/Controller?displayPage=labelDetails&fileCode=PREG&section=&subSec=8014&srtLabel=611785"
   ]
  },
  {
   "cell_type": "markdown",
   "metadata": {},
   "source": [
    "## Ex 3.3 :\n",
    "\n",
    "\n",
    "### Partition the data .. \n",
    "\n",
    "Modify the loop to partition the live birth records into two groups, one for first babies and one for the others. \n",
    "\n",
    "Again, read the documentation of birthord to see if your results are consistent."
   ]
  },
  {
   "cell_type": "markdown",
   "metadata": {},
   "source": [
    "I have to skip non-live births .. before partitioning the living ones .. \n",
    "\n",
    "\n",
    "selecting the living will be from (outcome) column .. \n",
    "\n",
    "then, birthord column will be utilized in the partitioning process .. "
   ]
  },
  {
   "cell_type": "code",
   "execution_count": 246,
   "metadata": {
    "collapsed": false
   },
   "outputs": [
    {
     "data": {
      "text/plain": [
       "13593-element DataArrays.DataArray{Int64,1}:\n",
       " 1\n",
       " 1\n",
       " 1\n",
       " 1\n",
       " 1\n",
       " 1\n",
       " 1\n",
       " 1\n",
       " 1\n",
       " 1\n",
       " 1\n",
       " 1\n",
       " 1\n",
       " ⋮\n",
       " 1\n",
       " 5\n",
       " 2\n",
       " 1\n",
       " 2\n",
       " 2\n",
       " 2\n",
       " 1\n",
       " 2\n",
       " 2\n",
       " 1\n",
       " 1"
      ]
     },
     "execution_count": 246,
     "metadata": {},
     "output_type": "execute_result"
    }
   ],
   "source": [
    "## outcom column .. that contains alive and non_alive babies\n",
    "df_[:,7]"
   ]
  },
  {
   "cell_type": "code",
   "execution_count": 247,
   "metadata": {
    "collapsed": false
   },
   "outputs": [
    {
     "data": {
      "text/plain": [
       "13593-element DataArrays.DataArray{Int64,1}:\n",
       " 1  \n",
       " 2  \n",
       " 1  \n",
       " 2  \n",
       " 3  \n",
       " 1  \n",
       " 2  \n",
       " 3  \n",
       " 1  \n",
       " 2  \n",
       " 1  \n",
       " 1  \n",
       " 2  \n",
       " ⋮  \n",
       " 1  \n",
       "  NA\n",
       "  NA\n",
       " 1  \n",
       "  NA\n",
       "  NA\n",
       "  NA\n",
       " 1  \n",
       "  NA\n",
       "  NA\n",
       " 2  \n",
       " 3  "
      ]
     },
     "execution_count": 247,
     "metadata": {},
     "output_type": "execute_result"
    }
   ],
   "source": [
    "##birthord column .. that contains first babies and others \n",
    "df_[:,8]"
   ]
  },
  {
   "cell_type": "code",
   "execution_count": 73,
   "metadata": {
    "collapsed": true
   },
   "outputs": [],
   "source": [
    "## Preparing columns ..\n",
    "\n",
    "first_table = DataFrame()\n",
    "\n",
    "myArrays=map(x->Vector{x[4]}(0),data)\n",
    "\n",
    "for (i,case) in enumerate(data)\n",
    "    first_table[Symbol(case[1])]=myArrays[i]\n",
    "end"
   ]
  },
  {
   "cell_type": "code",
   "execution_count": 74,
   "metadata": {
    "collapsed": true
   },
   "outputs": [],
   "source": [
    "others_table = DataFrame()\n",
    "\n",
    "myArrays_=map(x->Vector{x[4]}(0),data)\n",
    "\n",
    "for (i,case) in enumerate(data)\n",
    "    others_table[Symbol(case[1])]=myArrays_[i]\n",
    "end"
   ]
  },
  {
   "cell_type": "code",
   "execution_count": 75,
   "metadata": {
    "collapsed": false
   },
   "outputs": [
    {
     "data": {
      "text/html": [
       "<table class=\"data-frame\"><thead><tr><th></th><th>caseid</th><th>nbrnaliv</th><th>babysex</th><th>birthwgt_lb</th><th>birthwgt_oz</th><th>prglength</th><th>outcome</th><th>birthord</th><th>agepreg</th><th>finalwgt</th></tr></thead><tbody><tr><th>1</th><td>1</td><td>1</td><td>2</td><td>7</td><td>14</td><td>39</td><td>1</td><td>2</td><td>3925</td><td>6448.271111704751</td></tr><tr><th>2</th><td>2</td><td>1</td><td>2</td><td>7</td><td>0</td><td>39</td><td>1</td><td>2</td><td>1783</td><td>12999.542264385902</td></tr><tr><th>3</th><td>2</td><td>1</td><td>2</td><td>6</td><td>3</td><td>39</td><td>1</td><td>3</td><td>1833</td><td>12999.542264385902</td></tr><tr><th>4</th><td>6</td><td>1</td><td>2</td><td>9</td><td>9</td><td>40</td><td>1</td><td>2</td><td>2883</td><td>8874.440799222995</td></tr><tr><th>5</th><td>6</td><td>1</td><td>2</td><td>8</td><td>6</td><td>42</td><td>1</td><td>3</td><td>3016</td><td>8874.440799222995</td></tr><tr><th>6</th><td>7</td><td>1</td><td>2</td><td>6</td><td>10</td><td>35</td><td>1</td><td>2</td><td>3233</td><td>6911.879920534536</td></tr><tr><th>7</th><td>14</td><td>1</td><td>1</td><td>4</td><td>0</td><td>37</td><td>1</td><td>2</td><td>2458</td><td>3039.904507096879</td></tr><tr><th>8</th><td>15</td><td>1</td><td>2</td><td>7</td><td>8</td><td>33</td><td>1</td><td>2</td><td>3033</td><td>5553.495599217641</td></tr><tr><th>9</th><td>21</td><td>1</td><td>2</td><td>8</td><td>3</td><td>39</td><td>1</td><td>2</td><td>3058</td><td>7237.122630412091</td></tr><tr><th>10</th><td>24</td><td>1</td><td>2</td><td>7</td><td>6</td><td>39</td><td>1</td><td>2</td><td>2575</td><td>7424.840414467087</td></tr><tr><th>11</th><td>24</td><td>1</td><td>1</td><td>6</td><td>13</td><td>39</td><td>1</td><td>3</td><td>2941</td><td>7424.840414467087</td></tr><tr><th>12</th><td>31</td><td>1</td><td>1</td><td>6</td><td>1</td><td>37</td><td>1</td><td>2</td><td>2083</td><td>5211.9431128540555</td></tr><tr><th>13</th><td>31</td><td>1</td><td>1</td><td>7</td><td>7</td><td>40</td><td>1</td><td>3</td><td>2166</td><td>5211.9431128540555</td></tr><tr><th>14</th><td>38</td><td>1</td><td>1</td><td>7</td><td>4</td><td>39</td><td>1</td><td>2</td><td>2791</td><td>10137.324111249392</td></tr><tr><th>15</th><td>38</td><td>1</td><td>1</td><td>7</td><td>2</td><td>39</td><td>1</td><td>3</td><td>3725</td><td>10137.324111249392</td></tr><tr><th>16</th><td>44</td><td>1</td><td>2</td><td>7</td><td>4</td><td>36</td><td>1</td><td>2</td><td>3633</td><td>4656.0113343078165</td></tr><tr><th>17</th><td>46</td><td>1</td><td>1</td><td>8</td><td>15</td><td>40</td><td>1</td><td>2</td><td>2775</td><td>28882.846731507118</td></tr><tr><th>18</th><td>49</td><td>1</td><td>1</td><td>8</td><td>6</td><td>39</td><td>1</td><td>2</td><td>2341</td><td>2737.3702215484286</td></tr><tr><th>19</th><td>51</td><td>1</td><td>1</td><td>6</td><td>5</td><td>39</td><td>1</td><td>2</td><td>2775</td><td>11361.980792365039</td></tr><tr><th>20</th><td>57</td><td>1</td><td>1</td><td>10</td><td>2</td><td>37</td><td>1</td><td>2</td><td>2075</td><td>4619.754785170151</td></tr><tr><th>21</th><td>57</td><td>1</td><td>1</td><td>10</td><td>8</td><td>39</td><td>1</td><td>3</td><td>2166</td><td>4619.754785170151</td></tr><tr><th>22</th><td>60</td><td>1</td><td>1</td><td>10</td><td>9</td><td>40</td><td>1</td><td>2</td><td>3158</td><td>7071.357328975329</td></tr><tr><th>23</th><td>63</td><td>1</td><td>1</td><td>6</td><td>5</td><td>37</td><td>1</td><td>2</td><td>2891</td><td>7419.813715958927</td></tr><tr><th>24</th><td>70</td><td>1</td><td>2</td><td>7</td><td>5</td><td>38</td><td>1</td><td>2</td><td>3733</td><td>7646.969226150036</td></tr><tr><th>25</th><td>73</td><td>1</td><td>2</td><td>5</td><td>10</td><td>36</td><td>1</td><td>2</td><td>3333</td><td>7970.095929131591</td></tr><tr><th>26</th><td>77</td><td>1</td><td>1</td><td>9</td><td>12</td><td>39</td><td>1</td><td>2</td><td>2666</td><td>4833.129067054492</td></tr><tr><th>27</th><td>80</td><td>1</td><td>1</td><td>7</td><td>8</td><td>39</td><td>1</td><td>2</td><td>2633</td><td>6522.561064428434</td></tr><tr><th>28</th><td>80</td><td>1</td><td>1</td><td>7</td><td>6</td><td>39</td><td>1</td><td>3</td><td>2833</td><td>6522.561064428434</td></tr><tr><th>29</th><td>80</td><td>1</td><td>2</td><td>6</td><td>2</td><td>39</td><td>1</td><td>4</td><td>2966</td><td>6522.561064428434</td></tr><tr><th>30</th><td>86</td><td>1</td><td>1</td><td>6</td><td>10</td><td>39</td><td>1</td><td>2</td><td>2100</td><td>8717.001090944286</td></tr><tr><th>&vellip;</th><td>&vellip;</td><td>&vellip;</td><td>&vellip;</td><td>&vellip;</td><td>&vellip;</td><td>&vellip;</td><td>&vellip;</td><td>&vellip;</td><td>&vellip;</td><td>&vellip;</td></tr></tbody></table>"
      ],
      "text/plain": [
       "4735×10 DataFrames.DataFrame\n",
       "│ Row  │ caseid │ nbrnaliv │ babysex │ birthwgt_lb │ birthwgt_oz │ prglength │\n",
       "├──────┼────────┼──────────┼─────────┼─────────────┼─────────────┼───────────┤\n",
       "│ 1    │ 1      │ 1        │ 2       │ 7           │ 14          │ 39        │\n",
       "│ 2    │ 2      │ 1        │ 2       │ 7           │ 0           │ 39        │\n",
       "│ 3    │ 2      │ 1        │ 2       │ 6           │ 3           │ 39        │\n",
       "│ 4    │ 6      │ 1        │ 2       │ 9           │ 9           │ 40        │\n",
       "│ 5    │ 6      │ 1        │ 2       │ 8           │ 6           │ 42        │\n",
       "│ 6    │ 7      │ 1        │ 2       │ 6           │ 10          │ 35        │\n",
       "│ 7    │ 14     │ 1        │ 1       │ 4           │ 0           │ 37        │\n",
       "│ 8    │ 15     │ 1        │ 2       │ 7           │ 8           │ 33        │\n",
       "│ 9    │ 21     │ 1        │ 2       │ 8           │ 3           │ 39        │\n",
       "│ 10   │ 24     │ 1        │ 2       │ 7           │ 6           │ 39        │\n",
       "│ 11   │ 24     │ 1        │ 1       │ 6           │ 13          │ 39        │\n",
       "⋮\n",
       "│ 4724 │ 12544  │ 1        │ 2       │ 7           │ 2           │ 39        │\n",
       "│ 4725 │ 12544  │ 1        │ 2       │ 6           │ 8           │ 39        │\n",
       "│ 4726 │ 12546  │ 1        │ 2       │ 6           │ 14          │ 44        │\n",
       "│ 4727 │ 12547  │ 1        │ 2       │ 7           │ 11          │ 40        │\n",
       "│ 4728 │ 12547  │ 1        │ 2       │ 7           │ 10          │ 39        │\n",
       "│ 4729 │ 12556  │ 1        │ 2       │ 6           │ 11          │ 39        │\n",
       "│ 4730 │ 12556  │ 1        │ 1       │ 6           │ 0           │ 39        │\n",
       "│ 4731 │ 12556  │ 1        │ 2       │ 5           │ 13          │ 39        │\n",
       "│ 4732 │ 12561  │ 1        │ 2       │ 6           │ 2           │ 39        │\n",
       "│ 4733 │ 12566  │ 1        │ 1       │ 7           │ 0           │ 39        │\n",
       "│ 4734 │ 12571  │ 1        │ 1       │ 7           │ 8           │ 39        │\n",
       "│ 4735 │ 12571  │ 1        │ 1       │ 7           │ 8           │ 39        │\n",
       "\n",
       "│ Row  │ outcome │ birthord │ agepreg │ finalwgt │\n",
       "├──────┼─────────┼──────────┼─────────┼──────────┤\n",
       "│ 1    │ 1       │ 2        │ 3925    │ 6448.27  │\n",
       "│ 2    │ 1       │ 2        │ 1783    │ 12999.5  │\n",
       "│ 3    │ 1       │ 3        │ 1833    │ 12999.5  │\n",
       "│ 4    │ 1       │ 2        │ 2883    │ 8874.44  │\n",
       "│ 5    │ 1       │ 3        │ 3016    │ 8874.44  │\n",
       "│ 6    │ 1       │ 2        │ 3233    │ 6911.88  │\n",
       "│ 7    │ 1       │ 2        │ 2458    │ 3039.9   │\n",
       "│ 8    │ 1       │ 2        │ 3033    │ 5553.5   │\n",
       "│ 9    │ 1       │ 2        │ 3058    │ 7237.12  │\n",
       "│ 10   │ 1       │ 2        │ 2575    │ 7424.84  │\n",
       "│ 11   │ 1       │ 3        │ 2941    │ 7424.84  │\n",
       "⋮\n",
       "│ 4724 │ 1       │ 2        │ 2116    │ 7334.18  │\n",
       "│ 4725 │ 1       │ 3        │ 2633    │ 7334.18  │\n",
       "│ 4726 │ 1       │ 2        │ 2816    │ 9415.21  │\n",
       "│ 4727 │ 1       │ 2        │ 2108    │ 11499.6  │\n",
       "│ 4728 │ 1       │ 3        │ 2333    │ 11499.6  │\n",
       "│ 4729 │ 1       │ 2        │ 2441    │ 3965.7   │\n",
       "│ 4730 │ 1       │ 3        │ 2783    │ 3965.7   │\n",
       "│ 4731 │ 1       │ 4        │ 3316    │ 3965.7   │\n",
       "│ 4732 │ 1       │ 2        │ 2441    │ 4497.3   │\n",
       "│ 4733 │ 1       │ 2        │ 2591    │ 2627.55  │\n",
       "│ 4734 │ 1       │ 2        │ 2158    │ 6269.2   │\n",
       "│ 4735 │ 1       │ 3        │ 2158    │ 6269.2   │"
      ]
     },
     "execution_count": 75,
     "metadata": {},
     "output_type": "execute_result"
    }
   ],
   "source": [
    "for i = 1:size(df_)[1] #scan number of records \n",
    "    if(df_[i, 7] == 1) # alive\n",
    "        if (df_[i, 8] == 1) #first baby\n",
    "            append!(first_table, df_[i,:])\n",
    "        else\n",
    "            append!(others_table, df_[i, :])\n",
    "        end\n",
    "    end\n",
    "end\n",
    "first_table \n",
    "others_table"
   ]
  },
  {
   "cell_type": "code",
   "execution_count": 77,
   "metadata": {
    "collapsed": false
   },
   "outputs": [
    {
     "data": {
      "text/plain": [
       "(4413,4735)"
      ]
     },
     "execution_count": 77,
     "metadata": {},
     "output_type": "execute_result"
    }
   ],
   "source": [
    "size(first_table)[1], size(others_table)[1]"
   ]
  },
  {
   "cell_type": "markdown",
   "metadata": {},
   "source": [
    "Tables are partitioned ;) ..\n",
    "\n",
    "The results match python code and the documentation .. "
   ]
  },
  {
   "cell_type": "markdown",
   "metadata": {
    "collapsed": true
   },
   "source": [
    "## Ex 3.4: \n",
    "\n",
    "Compute the average pregnancy length (in weeks) for first babies and others. Is there a difference between the groups? How big is it?"
   ]
  },
  {
   "cell_type": "code",
   "execution_count": 80,
   "metadata": {
    "collapsed": false
   },
   "outputs": [
    {
     "data": {
      "text/plain": [
       "(38.60095173351461,38.52291446673706)"
      ]
     },
     "execution_count": 80,
     "metadata": {},
     "output_type": "execute_result"
    }
   ],
   "source": [
    "mean(first_table[6]), mean(others_table[6])"
   ]
  },
  {
   "cell_type": "markdown",
   "metadata": {},
   "source": [
    "The averages of first babies and other babies match python code .. \n",
    "\n",
    "let's claculate the difference between them in weeks as well as in days .. "
   ]
  },
  {
   "cell_type": "code",
   "execution_count": 83,
   "metadata": {
    "collapsed": false
   },
   "outputs": [
    {
     "data": {
      "text/plain": [
       "0.5462608674428466"
      ]
     },
     "execution_count": 83,
     "metadata": {},
     "output_type": "execute_result"
    }
   ],
   "source": [
    "diff_ = mean(first_table[6])- mean(others_table[6])\n",
    "\n",
    "## difference in days ..\n",
    "diff_*7"
   ]
  },
  {
   "cell_type": "markdown",
   "metadata": {},
   "source": [
    "The difference in days matches the python results .. this is an evidance that the first babies don't necessarly come late as the difference between their gesetation and the other's is only about 0.55 days .."
   ]
  }
 ],
 "metadata": {
  "kernelspec": {
   "display_name": "Julia 0.5.0",
   "language": "julia",
   "name": "julia-0.5"
  },
  "language_info": {
   "file_extension": ".jl",
   "mimetype": "application/julia",
   "name": "julia",
   "version": "0.5.0"
  }
 },
 "nbformat": 4,
 "nbformat_minor": 0
}
