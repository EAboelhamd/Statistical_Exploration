{
 "cells": [
  {
   "cell_type": "markdown",
   "metadata": {},
   "source": [
    "## Exercise 4.2 \n",
    "Collect the birthdays of the students in your class, sort them, and compute the interarrival times in days. Plot the CDF of the interarrival times and the CCDF on a log-y scale. \n",
    "\n",
    "Does it look like an exponential distribution?\n",
    "\n",
    "\n",
    "## Solution:\n",
    "For similicity, I'll generate the required births myself in light of the range of values in the data mentioned in Ex. 4.1"
   ]
  },
  {
   "cell_type": "code",
   "execution_count": 44,
   "metadata": {
    "collapsed": false
   },
   "outputs": [],
   "source": [
    "using DataFrames\n",
    "using Requests\n",
    "using PyPlot"
   ]
  },
  {
   "cell_type": "code",
   "execution_count": 2,
   "metadata": {
    "collapsed": false
   },
   "outputs": [
    {
     "data": {
      "text/plain": [
       "4-element Array{Tuple{String,Int64,Int64,DataType},1}:\n",
       " (\"Timeofbirth\",1,8,Int64)                   \n",
       " (\"childsex\",9,16,Int64)                     \n",
       " (\"Birthweight\",17,24,Int64)                 \n",
       " (\"Numberofminutesaftermidnight\",25,32,Int64)"
      ]
     },
     "execution_count": 2,
     "metadata": {},
     "output_type": "execute_result"
    }
   ],
   "source": [
    "data = [(\"Timeofbirth\",1,8,Int), (\"childsex\",9,16,Int),(\"Birthweight\",17,24,Int), (\"Numberofminutesaftermidnight\",25,32,Int)]"
   ]
  },
  {
   "cell_type": "code",
   "execution_count": 4,
   "metadata": {
    "collapsed": false
   },
   "outputs": [
    {
     "data": {
      "text/html": [
       "<table class=\"data-frame\"><thead><tr><th></th></tr></thead><tbody></tbody></table>"
      ],
      "text/plain": [
       "0×0 DataFrames.DataFrame\n"
      ]
     },
     "execution_count": 4,
     "metadata": {},
     "output_type": "execute_result"
    }
   ],
   "source": [
    "df_=DataFrame()"
   ]
  },
  {
   "cell_type": "code",
   "execution_count": 5,
   "metadata": {
    "collapsed": false
   },
   "outputs": [
    {
     "data": {
      "text/plain": [
       "4-element Array{Array{Int64,1},1}:\n",
       " Int64[]\n",
       " Int64[]\n",
       " Int64[]\n",
       " Int64[]"
      ]
     },
     "execution_count": 5,
     "metadata": {},
     "output_type": "execute_result"
    }
   ],
   "source": [
    "map(x->df_[Symbol(x[1])]=Vector{x[4]}(0),data)"
   ]
  },
  {
   "cell_type": "code",
   "execution_count": 6,
   "metadata": {
    "collapsed": false
   },
   "outputs": [
    {
     "data": {
      "text/plain": [
       "Response(200 OK, 11 headers, 3674 bytes in body)"
      ]
     },
     "execution_count": 6,
     "metadata": {},
     "output_type": "execute_result"
    }
   ],
   "source": [
    "res = get(\"http://thinkstats.com/babyboom.dat\")"
   ]
  },
  {
   "cell_type": "code",
   "execution_count": 8,
   "metadata": {
    "collapsed": true
   },
   "outputs": [],
   "source": [
    "read_file = readlines(IOBuffer(res.data));"
   ]
  },
  {
   "cell_type": "code",
   "execution_count": 11,
   "metadata": {
    "collapsed": false
   },
   "outputs": [
    {
     "data": {
      "text/plain": [
       "44-element Array{String,1}:\n",
       " \"    0005       1    3837       5\\n\"\n",
       " \"    0104       1    3334      64\\n\"\n",
       " \"    0118       2    3554      78\\n\"\n",
       " \"    0155       2    3838     115\\n\"\n",
       " \"    0257       2    3625     177\\n\"\n",
       " \"    0405       1    2208     245\\n\"\n",
       " \"    0407       1    1745     247\\n\"\n",
       " \"    0422       2    2846     262\\n\"\n",
       " \"    0431       2    3166     271\\n\"\n",
       " \"    0708       2    3520     428\\n\"\n",
       " \"    0735       2    3380     455\\n\"\n",
       " \"    0812       2    3294     492\\n\"\n",
       " \"    0814       1    2576     494\\n\"\n",
       " ⋮                                   \n",
       " \"    1909       2    4162    1149\\n\"\n",
       " \"    1947       2    3630    1187\\n\"\n",
       " \"    1949       2    3406    1189\\n\"\n",
       " \"    1951       2    3402    1191\\n\"\n",
       " \"    2010       1    3500    1210\\n\"\n",
       " \"    2037       2    3736    1237\\n\"\n",
       " \"    2051       2    3370    1251\\n\"\n",
       " \"    2104       2    2121    1264\\n\"\n",
       " \"    2123       2    3150    1283\\n\"\n",
       " \"    2217       1    3866    1337\\n\"\n",
       " \"    2327       1    3542    1407\\n\"\n",
       " \"    2355       1    3278    1435\\n\""
      ]
     },
     "execution_count": 11,
     "metadata": {},
     "output_type": "execute_result"
    }
   ],
   "source": [
    "colums_ = read_file[end-43:end]  "
   ]
  },
  {
   "cell_type": "code",
   "execution_count": 12,
   "metadata": {
    "collapsed": true
   },
   "outputs": [],
   "source": [
    "for l in colums_\n",
    "        if length(l)>10\n",
    "            for (i,case) in enumerate(data)\n",
    "                val2push=\n",
    "                try \n",
    "                    parse(case[4],l[case[2]:case[3]])\n",
    "                catch \n",
    "                    NA\n",
    "                end\n",
    "                push!(df_[Symbol(case[1])],val2push)\n",
    "          end\n",
    "      end\n",
    "    end"
   ]
  },
  {
   "cell_type": "code",
   "execution_count": 13,
   "metadata": {
    "collapsed": false
   },
   "outputs": [
    {
     "data": {
      "text/html": [
       "<table class=\"data-frame\"><thead><tr><th></th><th>Timeofbirth</th><th>childsex</th><th>Birthweight</th><th>Numberofminutesaftermidnight</th></tr></thead><tbody><tr><th>1</th><td>5</td><td>1</td><td>3837</td><td>5</td></tr><tr><th>2</th><td>104</td><td>1</td><td>3334</td><td>64</td></tr><tr><th>3</th><td>118</td><td>2</td><td>3554</td><td>78</td></tr><tr><th>4</th><td>155</td><td>2</td><td>3838</td><td>115</td></tr><tr><th>5</th><td>257</td><td>2</td><td>3625</td><td>177</td></tr><tr><th>6</th><td>405</td><td>1</td><td>2208</td><td>245</td></tr><tr><th>7</th><td>407</td><td>1</td><td>1745</td><td>247</td></tr><tr><th>8</th><td>422</td><td>2</td><td>2846</td><td>262</td></tr><tr><th>9</th><td>431</td><td>2</td><td>3166</td><td>271</td></tr><tr><th>10</th><td>708</td><td>2</td><td>3520</td><td>428</td></tr><tr><th>11</th><td>735</td><td>2</td><td>3380</td><td>455</td></tr><tr><th>12</th><td>812</td><td>2</td><td>3294</td><td>492</td></tr><tr><th>13</th><td>814</td><td>1</td><td>2576</td><td>494</td></tr><tr><th>14</th><td>909</td><td>1</td><td>3208</td><td>549</td></tr><tr><th>15</th><td>1035</td><td>2</td><td>3521</td><td>635</td></tr><tr><th>16</th><td>1049</td><td>1</td><td>3746</td><td>649</td></tr><tr><th>17</th><td>1053</td><td>1</td><td>3523</td><td>653</td></tr><tr><th>18</th><td>1133</td><td>2</td><td>2902</td><td>693</td></tr><tr><th>19</th><td>1209</td><td>2</td><td>2635</td><td>729</td></tr><tr><th>20</th><td>1256</td><td>2</td><td>3920</td><td>776</td></tr><tr><th>21</th><td>1305</td><td>2</td><td>3690</td><td>785</td></tr><tr><th>22</th><td>1406</td><td>1</td><td>3430</td><td>846</td></tr><tr><th>23</th><td>1407</td><td>1</td><td>3480</td><td>847</td></tr><tr><th>24</th><td>1433</td><td>1</td><td>3116</td><td>873</td></tr><tr><th>25</th><td>1446</td><td>1</td><td>3428</td><td>886</td></tr><tr><th>26</th><td>1514</td><td>2</td><td>3783</td><td>914</td></tr><tr><th>27</th><td>1631</td><td>2</td><td>3345</td><td>991</td></tr><tr><th>28</th><td>1657</td><td>2</td><td>3034</td><td>1017</td></tr><tr><th>29</th><td>1742</td><td>1</td><td>2184</td><td>1062</td></tr><tr><th>30</th><td>1807</td><td>2</td><td>3300</td><td>1087</td></tr><tr><th>&vellip;</th><td>&vellip;</td><td>&vellip;</td><td>&vellip;</td><td>&vellip;</td></tr></tbody></table>"
      ],
      "text/plain": [
       "44×4 DataFrames.DataFrame\n",
       "│ Row │ Timeofbirth │ childsex │ Birthweight │ Numberofminutesaftermidnight │\n",
       "├─────┼─────────────┼──────────┼─────────────┼──────────────────────────────┤\n",
       "│ 1   │ 5           │ 1        │ 3837        │ 5                            │\n",
       "│ 2   │ 104         │ 1        │ 3334        │ 64                           │\n",
       "│ 3   │ 118         │ 2        │ 3554        │ 78                           │\n",
       "│ 4   │ 155         │ 2        │ 3838        │ 115                          │\n",
       "│ 5   │ 257         │ 2        │ 3625        │ 177                          │\n",
       "│ 6   │ 405         │ 1        │ 2208        │ 245                          │\n",
       "│ 7   │ 407         │ 1        │ 1745        │ 247                          │\n",
       "│ 8   │ 422         │ 2        │ 2846        │ 262                          │\n",
       "│ 9   │ 431         │ 2        │ 3166        │ 271                          │\n",
       "│ 10  │ 708         │ 2        │ 3520        │ 428                          │\n",
       "│ 11  │ 735         │ 2        │ 3380        │ 455                          │\n",
       "⋮\n",
       "│ 33  │ 1909        │ 2        │ 4162        │ 1149                         │\n",
       "│ 34  │ 1947        │ 2        │ 3630        │ 1187                         │\n",
       "│ 35  │ 1949        │ 2        │ 3406        │ 1189                         │\n",
       "│ 36  │ 1951        │ 2        │ 3402        │ 1191                         │\n",
       "│ 37  │ 2010        │ 1        │ 3500        │ 1210                         │\n",
       "│ 38  │ 2037        │ 2        │ 3736        │ 1237                         │\n",
       "│ 39  │ 2051        │ 2        │ 3370        │ 1251                         │\n",
       "│ 40  │ 2104        │ 2        │ 2121        │ 1264                         │\n",
       "│ 41  │ 2123        │ 2        │ 3150        │ 1283                         │\n",
       "│ 42  │ 2217        │ 1        │ 3866        │ 1337                         │\n",
       "│ 43  │ 2327        │ 1        │ 3542        │ 1407                         │\n",
       "│ 44  │ 2355        │ 1        │ 3278        │ 1435                         │"
      ]
     },
     "execution_count": 13,
     "metadata": {},
     "output_type": "execute_result"
    }
   ],
   "source": [
    "df_"
   ]
  },
  {
   "cell_type": "code",
   "execution_count": 16,
   "metadata": {
    "collapsed": false
   },
   "outputs": [
    {
     "data": {
      "text/plain": [
       "(2355,5)"
      ]
     },
     "execution_count": 16,
     "metadata": {},
     "output_type": "execute_result"
    }
   ],
   "source": [
    "maximum(df_[:,1]), minimum(df_[:,1])"
   ]
  },
  {
   "cell_type": "code",
   "execution_count": 30,
   "metadata": {
    "collapsed": false
   },
   "outputs": [
    {
     "data": {
      "text/plain": [
       "60-element Array{Int64,1}:\n",
       " 1047\n",
       " 1693\n",
       "  116\n",
       " 2145\n",
       " 1332\n",
       " 1603\n",
       " 2079\n",
       " 1968\n",
       "  359\n",
       " 1443\n",
       " 1597\n",
       " 2248\n",
       "  573\n",
       "    ⋮\n",
       " 1629\n",
       "  511\n",
       "  767\n",
       "  568\n",
       " 1625\n",
       "   26\n",
       "  109\n",
       " 1371\n",
       "  804\n",
       " 1407\n",
       " 1641\n",
       " 1585"
      ]
     },
     "execution_count": 30,
     "metadata": {},
     "output_type": "execute_result"
    }
   ],
   "source": [
    "class_birth_time = rand(minimum(df_[:,1]): maximum(df_[:,1]),60)"
   ]
  },
  {
   "cell_type": "code",
   "execution_count": 32,
   "metadata": {
    "collapsed": false
   },
   "outputs": [
    {
     "data": {
      "text/plain": [
       "60-element Array{Int64,1}:\n",
       "   26\n",
       "  109\n",
       "  116\n",
       "  134\n",
       "  266\n",
       "  359\n",
       "  362\n",
       "  380\n",
       "  455\n",
       "  467\n",
       "  470\n",
       "  472\n",
       "  511\n",
       "    ⋮\n",
       " 1968\n",
       " 1984\n",
       " 2079\n",
       " 2097\n",
       " 2145\n",
       " 2176\n",
       " 2201\n",
       " 2248\n",
       " 2251\n",
       " 2318\n",
       " 2329\n",
       " 2345"
      ]
     },
     "execution_count": 32,
     "metadata": {},
     "output_type": "execute_result"
    }
   ],
   "source": [
    "sorted_class_birth_time = sort(class_birth_time)"
   ]
  },
  {
   "cell_type": "code",
   "execution_count": 33,
   "metadata": {
    "collapsed": true
   },
   "outputs": [],
   "source": [
    "## interarrival \n",
    "\n",
    "interarrival = Int[]\n",
    "\n",
    "for i = 1:length(sorted_class_birth_time)-1\n",
    "    push!(interarrival, (sorted_class_birth_time[i+1, 1] - sorted_class_birth_time[i, 1]))\n",
    "end\n"
   ]
  },
  {
   "cell_type": "code",
   "execution_count": 34,
   "metadata": {
    "collapsed": false
   },
   "outputs": [
    {
     "data": {
      "text/plain": [
       "59-element Array{Int64,1}:\n",
       "  83\n",
       "   7\n",
       "  18\n",
       " 132\n",
       "  93\n",
       "   3\n",
       "  18\n",
       "  75\n",
       "  12\n",
       "   3\n",
       "   2\n",
       "  39\n",
       "  57\n",
       "   ⋮\n",
       " 102\n",
       "  16\n",
       "  95\n",
       "  18\n",
       "  48\n",
       "  31\n",
       "  25\n",
       "  47\n",
       "   3\n",
       "  67\n",
       "  11\n",
       "  16"
      ]
     },
     "execution_count": 34,
     "metadata": {},
     "output_type": "execute_result"
    }
   ],
   "source": [
    "interarrival"
   ]
  },
  {
   "cell_type": "markdown",
   "metadata": {},
   "source": [
    "note that there is no pattern in the interarrival time values !"
   ]
  },
  {
   "cell_type": "code",
   "execution_count": 35,
   "metadata": {
    "collapsed": false
   },
   "outputs": [
    {
     "data": {
      "text/plain": [
       "Dict{Int64,Int64} with 43 entries:\n",
       "  2   => 2\n",
       "  11  => 1\n",
       "  39  => 2\n",
       "  46  => 1\n",
       "  197 => 1\n",
       "  25  => 1\n",
       "  29  => 1\n",
       "  8   => 1\n",
       "  95  => 1\n",
       "  57  => 1\n",
       "  90  => 1\n",
       "  14  => 1\n",
       "  31  => 1\n",
       "  112 => 1\n",
       "  106 => 1\n",
       "  52  => 1\n",
       "  18  => 3\n",
       "  26  => 1\n",
       "  83  => 1\n",
       "  49  => 1\n",
       "  4   => 2\n",
       "  67  => 2\n",
       "  93  => 1\n",
       "  1   => 2\n",
       "  30  => 1\n",
       "  ⋮   => ⋮"
      ]
     },
     "execution_count": 35,
     "metadata": {},
     "output_type": "execute_result"
    }
   ],
   "source": [
    "c = countmap(interarrival)"
   ]
  },
  {
   "cell_type": "code",
   "execution_count": 36,
   "metadata": {
    "collapsed": false
   },
   "outputs": [
    {
     "data": {
      "text/plain": [
       "calc_cdf (generic function with 1 method)"
      ]
     },
     "execution_count": 36,
     "metadata": {},
     "output_type": "execute_result"
    }
   ],
   "source": [
    "## calc cdf\n",
    "function calc_cdf(c) # c is a data dict\n",
    "    runsum = 0\n",
    "    xs = Float64[]\n",
    "    cs = Float64[]\n",
    "   \n",
    "    for (value, count) in sort(c)\n",
    "        runsum = runsum + count\n",
    "        push!(xs, value)\n",
    "        push!(cs, runsum)\n",
    "    end\n",
    "\n",
    "    total = float(runsum)  # total = 1596\n",
    "    cdf = [c/total for c in cs]   ## cdf[end] = 1, ps carrried cdf\n",
    "    \n",
    "    return xs, cdf\n",
    "end"
   ]
  },
  {
   "cell_type": "code",
   "execution_count": 37,
   "metadata": {
    "collapsed": false
   },
   "outputs": [
    {
     "data": {
      "text/plain": [
       "([1.0,2.0,3.0,4.0,6.0,7.0,8.0,10.0,11.0,12.0  …  83.0,90.0,91.0,93.0,95.0,102.0,106.0,112.0,132.0,197.0],[0.0338983,0.0677966,0.135593,0.169492,0.186441,0.237288,0.254237,0.271186,0.288136,0.338983  …  0.847458,0.864407,0.881356,0.898305,0.915254,0.932203,0.949153,0.966102,0.983051,1.0])"
      ]
     },
     "execution_count": 37,
     "metadata": {},
     "output_type": "execute_result"
    }
   ],
   "source": [
    "xs, cdf = calc_cdf(c)"
   ]
  },
  {
   "cell_type": "code",
   "execution_count": 46,
   "metadata": {
    "collapsed": false
   },
   "outputs": [
    {
     "data": {
      "image/png": "[encoded data removed]",
      "text/plain": [
       "PyPlot.Figure(PyObject <matplotlib.figure.Figure object at 0x7fba80108410>)"
      ]
     },
     "metadata": {},
     "output_type": "display_data"
    },
    {
     "data": {
      "text/plain": [
       "1-element Array{Any,1}:\n",
       " PyObject <matplotlib.lines.Line2D object at 0x7fba800532d0>"
      ]
     },
     "execution_count": 46,
     "metadata": {},
     "output_type": "execute_result"
    }
   ],
   "source": [
    "plot(xs, cdf)\n",
    "# xlabel!(\"Minutes\")\n",
    "# ylabel!(\"CDF\")"
   ]
  },
  {
   "cell_type": "code",
   "execution_count": 80,
   "metadata": {
    "collapsed": false
   },
   "outputs": [
    {
     "data": {
      "image/png": "[encoded data removed]",
      "text/plain": [
       "PyPlot.Figure(PyObject <matplotlib.figure.Figure object at 0x7fba7acf4490>)"
      ]
     },
     "metadata": {},
     "output_type": "display_data"
    },
    {
     "data": {
      "text/plain": [
       "1-element Array{Any,1}:\n",
       " PyObject <matplotlib.lines.Line2D object at 0x7fba7ad86850>"
      ]
     },
     "execution_count": 80,
     "metadata": {},
     "output_type": "execute_result"
    }
   ],
   "source": [
    "plot(xs, log(1-cdf))\n",
    "# xlabel!(\"Minutes\")\n",
    "# ylabel!(\"CCDF\")"
   ]
  },
  {
   "cell_type": "markdown",
   "metadata": {},
   "source": [
    "## Error!\n",
    "\n",
    "Note that there is a mistake in plotting log-y as it is expected to be 10^n where n varies from 0 to -inf ! .. \n",
    "\n",
    "However, it is still valid that the plot is not looks like an exponential dictribution cuase we have small number of data points ! "
   ]
  }
 ],
 "metadata": {
  "kernelspec": {
   "display_name": "Julia 0.5.0",
   "language": "julia",
   "name": "julia-0.5"
  },
  "language_info": {
   "file_extension": ".jl",
   "mimetype": "application/julia",
   "name": "julia",
   "version": "0.5.0"
  }
 },
 "nbformat": 4,
 "nbformat_minor": 0
}
