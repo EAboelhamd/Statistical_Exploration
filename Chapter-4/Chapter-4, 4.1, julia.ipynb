{
 "cells": [
  {
   "cell_type": "markdown",
   "metadata": {},
   "source": [
    "## Introduction:\n",
    "This chapter covers the concept of continous distribution .. \n",
    "\n",
    "We gonna start by reading the data and do some plots .. "
   ]
  },
  {
   "cell_type": "markdown",
   "metadata": {},
   "source": [
    "## Exercise 4.1 \n",
    "For small values of n, we don’t expect an empirical distribution to fit a continuous distribution exactly. One way to evaluate the quality of fit is to generate a sample from a continuous distribution and see how well it matches the data.\n",
    "\n",
    "The function expovariate in the random module generates random values from an exponential distribution with a given value of l. Use it to generate 44 values from an exponential distribution with mean 32.6. Plot the CCDF on a log-y scale and compare it to Figure 4.3.\n",
    "\n",
    "Hint: You can use the function pyplot.yscale to plot the y axis on a log scale.\n",
    "\n",
    "Or, if you use myplot, the Cdf function takes a boolean option, complement, that determines whether to plot the CDF or CCDF, and string options, xscale and yscale, that transform the axes; to plot a CCDF on a log-y scale:\n",
    "myplot.Cdf(cdf, complement=True, xscale='linear', yscale='log')"
   ]
  },
  {
   "cell_type": "code",
   "execution_count": 185,
   "metadata": {
    "collapsed": false
   },
   "outputs": [],
   "source": [
    "using DataFrames\n",
    "using Requests\n",
    "plotly()\n",
    "using PyPlot"
   ]
  },
  {
   "cell_type": "code",
   "execution_count": 186,
   "metadata": {
    "collapsed": false
   },
   "outputs": [
    {
     "data": {
      "text/plain": [
       "4-element Array{Tuple{String,Int64,Int64,DataType},1}:\n",
       " (\"Timeofbirth\",1,8,Int64)                   \n",
       " (\"childsex\",9,16,Int64)                     \n",
       " (\"Birthweight\",17,24,Int64)                 \n",
       " (\"Numberofminutesaftermidnight\",25,32,Int64)"
      ]
     },
     "execution_count": 186,
     "metadata": {},
     "output_type": "execute_result"
    }
   ],
   "source": [
    "data = [(\"Timeofbirth\",1,8,Int), (\"childsex\",9,16,Int),(\"Birthweight\",17,24,Int), (\"Numberofminutesaftermidnight\",25,32,Int)]"
   ]
  },
  {
   "cell_type": "code",
   "execution_count": 187,
   "metadata": {
    "collapsed": false
   },
   "outputs": [
    {
     "data": {
      "text/html": [
       "<table class=\"data-frame\"><thead><tr><th></th></tr></thead><tbody></tbody></table>"
      ],
      "text/plain": [
       "0×0 DataFrames.DataFrame\n"
      ]
     },
     "execution_count": 187,
     "metadata": {},
     "output_type": "execute_result"
    }
   ],
   "source": [
    "df_=DataFrame()"
   ]
  },
  {
   "cell_type": "code",
   "execution_count": 188,
   "metadata": {
    "collapsed": false
   },
   "outputs": [
    {
     "data": {
      "text/plain": [
       "4-element Array{Array{Int64,1},1}:\n",
       " Int64[]\n",
       " Int64[]\n",
       " Int64[]\n",
       " Int64[]"
      ]
     },
     "execution_count": 188,
     "metadata": {},
     "output_type": "execute_result"
    }
   ],
   "source": [
    "map(x->df_[Symbol(x[1])]=Vector{x[4]}(0),data)"
   ]
  },
  {
   "cell_type": "code",
   "execution_count": 189,
   "metadata": {
    "collapsed": false
   },
   "outputs": [
    {
     "data": {
      "text/plain": [
       "Response(200 OK, 11 headers, 3674 bytes in body)"
      ]
     },
     "execution_count": 189,
     "metadata": {},
     "output_type": "execute_result"
    }
   ],
   "source": [
    "res = get(\"http://thinkstats.com/babyboom.dat\")"
   ]
  },
  {
   "cell_type": "code",
   "execution_count": 190,
   "metadata": {
    "collapsed": false
   },
   "outputs": [],
   "source": [
    "read_file = readlines(IOBuffer(res.data));"
   ]
  },
  {
   "cell_type": "markdown",
   "metadata": {},
   "source": [
    "As I already know the length of the cases (i.e. 44) I can read_file[end-44:end] or even read the last 44 lines !"
   ]
  },
  {
   "cell_type": "code",
   "execution_count": 191,
   "metadata": {
    "collapsed": false
   },
   "outputs": [
    {
     "data": {
      "text/plain": [
       "44-element Array{String,1}:\n",
       " \"    0005       1    3837       5\\n\"\n",
       " \"    0104       1    3334      64\\n\"\n",
       " \"    0118       2    3554      78\\n\"\n",
       " \"    0155       2    3838     115\\n\"\n",
       " \"    0257       2    3625     177\\n\"\n",
       " \"    0405       1    2208     245\\n\"\n",
       " \"    0407       1    1745     247\\n\"\n",
       " \"    0422       2    2846     262\\n\"\n",
       " \"    0431       2    3166     271\\n\"\n",
       " \"    0708       2    3520     428\\n\"\n",
       " \"    0735       2    3380     455\\n\"\n",
       " \"    0812       2    3294     492\\n\"\n",
       " \"    0814       1    2576     494\\n\"\n",
       " ⋮                                   \n",
       " \"    1909       2    4162    1149\\n\"\n",
       " \"    1947       2    3630    1187\\n\"\n",
       " \"    1949       2    3406    1189\\n\"\n",
       " \"    1951       2    3402    1191\\n\"\n",
       " \"    2010       1    3500    1210\\n\"\n",
       " \"    2037       2    3736    1237\\n\"\n",
       " \"    2051       2    3370    1251\\n\"\n",
       " \"    2104       2    2121    1264\\n\"\n",
       " \"    2123       2    3150    1283\\n\"\n",
       " \"    2217       1    3866    1337\\n\"\n",
       " \"    2327       1    3542    1407\\n\"\n",
       " \"    2355       1    3278    1435\\n\""
      ]
     },
     "execution_count": 191,
     "metadata": {},
     "output_type": "execute_result"
    }
   ],
   "source": [
    "colums_ = read_file[60:end]  "
   ]
  },
  {
   "cell_type": "code",
   "execution_count": 192,
   "metadata": {
    "collapsed": false
   },
   "outputs": [],
   "source": [
    "for l in colums_\n",
    "        if length(l)>10\n",
    "            for (i,case) in enumerate(data)\n",
    "                val2push=\n",
    "                try \n",
    "                    parse(case[4],l[case[2]:case[3]])\n",
    "                catch \n",
    "                    NA\n",
    "                end\n",
    "                push!(df_[Symbol(case[1])],val2push)\n",
    "          end\n",
    "      end\n",
    "    end"
   ]
  },
  {
   "cell_type": "code",
   "execution_count": 193,
   "metadata": {
    "collapsed": false
   },
   "outputs": [
    {
     "data": {
      "text/html": [
       "<table class=\"data-frame\"><thead><tr><th></th><th>Timeofbirth</th><th>childsex</th><th>Birthweight</th><th>Numberofminutesaftermidnight</th></tr></thead><tbody><tr><th>1</th><td>5</td><td>1</td><td>3837</td><td>5</td></tr><tr><th>2</th><td>104</td><td>1</td><td>3334</td><td>64</td></tr><tr><th>3</th><td>118</td><td>2</td><td>3554</td><td>78</td></tr><tr><th>4</th><td>155</td><td>2</td><td>3838</td><td>115</td></tr><tr><th>5</th><td>257</td><td>2</td><td>3625</td><td>177</td></tr><tr><th>6</th><td>405</td><td>1</td><td>2208</td><td>245</td></tr><tr><th>7</th><td>407</td><td>1</td><td>1745</td><td>247</td></tr><tr><th>8</th><td>422</td><td>2</td><td>2846</td><td>262</td></tr><tr><th>9</th><td>431</td><td>2</td><td>3166</td><td>271</td></tr><tr><th>10</th><td>708</td><td>2</td><td>3520</td><td>428</td></tr><tr><th>11</th><td>735</td><td>2</td><td>3380</td><td>455</td></tr><tr><th>12</th><td>812</td><td>2</td><td>3294</td><td>492</td></tr><tr><th>13</th><td>814</td><td>1</td><td>2576</td><td>494</td></tr><tr><th>14</th><td>909</td><td>1</td><td>3208</td><td>549</td></tr><tr><th>15</th><td>1035</td><td>2</td><td>3521</td><td>635</td></tr><tr><th>16</th><td>1049</td><td>1</td><td>3746</td><td>649</td></tr><tr><th>17</th><td>1053</td><td>1</td><td>3523</td><td>653</td></tr><tr><th>18</th><td>1133</td><td>2</td><td>2902</td><td>693</td></tr><tr><th>19</th><td>1209</td><td>2</td><td>2635</td><td>729</td></tr><tr><th>20</th><td>1256</td><td>2</td><td>3920</td><td>776</td></tr><tr><th>21</th><td>1305</td><td>2</td><td>3690</td><td>785</td></tr><tr><th>22</th><td>1406</td><td>1</td><td>3430</td><td>846</td></tr><tr><th>23</th><td>1407</td><td>1</td><td>3480</td><td>847</td></tr><tr><th>24</th><td>1433</td><td>1</td><td>3116</td><td>873</td></tr><tr><th>25</th><td>1446</td><td>1</td><td>3428</td><td>886</td></tr><tr><th>26</th><td>1514</td><td>2</td><td>3783</td><td>914</td></tr><tr><th>27</th><td>1631</td><td>2</td><td>3345</td><td>991</td></tr><tr><th>28</th><td>1657</td><td>2</td><td>3034</td><td>1017</td></tr><tr><th>29</th><td>1742</td><td>1</td><td>2184</td><td>1062</td></tr><tr><th>30</th><td>1807</td><td>2</td><td>3300</td><td>1087</td></tr><tr><th>&vellip;</th><td>&vellip;</td><td>&vellip;</td><td>&vellip;</td><td>&vellip;</td></tr></tbody></table>"
      ],
      "text/plain": [
       "44×4 DataFrames.DataFrame\n",
       "│ Row │ Timeofbirth │ childsex │ Birthweight │ Numberofminutesaftermidnight │\n",
       "├─────┼─────────────┼──────────┼─────────────┼──────────────────────────────┤\n",
       "│ 1   │ 5           │ 1        │ 3837        │ 5                            │\n",
       "│ 2   │ 104         │ 1        │ 3334        │ 64                           │\n",
       "│ 3   │ 118         │ 2        │ 3554        │ 78                           │\n",
       "│ 4   │ 155         │ 2        │ 3838        │ 115                          │\n",
       "│ 5   │ 257         │ 2        │ 3625        │ 177                          │\n",
       "│ 6   │ 405         │ 1        │ 2208        │ 245                          │\n",
       "│ 7   │ 407         │ 1        │ 1745        │ 247                          │\n",
       "│ 8   │ 422         │ 2        │ 2846        │ 262                          │\n",
       "│ 9   │ 431         │ 2        │ 3166        │ 271                          │\n",
       "│ 10  │ 708         │ 2        │ 3520        │ 428                          │\n",
       "│ 11  │ 735         │ 2        │ 3380        │ 455                          │\n",
       "⋮\n",
       "│ 33  │ 1909        │ 2        │ 4162        │ 1149                         │\n",
       "│ 34  │ 1947        │ 2        │ 3630        │ 1187                         │\n",
       "│ 35  │ 1949        │ 2        │ 3406        │ 1189                         │\n",
       "│ 36  │ 1951        │ 2        │ 3402        │ 1191                         │\n",
       "│ 37  │ 2010        │ 1        │ 3500        │ 1210                         │\n",
       "│ 38  │ 2037        │ 2        │ 3736        │ 1237                         │\n",
       "│ 39  │ 2051        │ 2        │ 3370        │ 1251                         │\n",
       "│ 40  │ 2104        │ 2        │ 2121        │ 1264                         │\n",
       "│ 41  │ 2123        │ 2        │ 3150        │ 1283                         │\n",
       "│ 42  │ 2217        │ 1        │ 3866        │ 1337                         │\n",
       "│ 43  │ 2327        │ 1        │ 3542        │ 1407                         │\n",
       "│ 44  │ 2355        │ 1        │ 3278        │ 1435                         │"
      ]
     },
     "execution_count": 193,
     "metadata": {},
     "output_type": "execute_result"
    }
   ],
   "source": [
    "df_"
   ]
  },
  {
   "cell_type": "markdown",
   "metadata": {},
   "source": [
    "Interarrival is the time between two consecutive arraivals .. \n",
    "we can calculate it by measuring the difference between each two rows !"
   ]
  },
  {
   "cell_type": "code",
   "execution_count": 194,
   "metadata": {
    "collapsed": false
   },
   "outputs": [],
   "source": [
    "interarrival = Int[]\n",
    "\n",
    "for i = 1:length(df_[:,1])-1\n",
    "    push!(interarrival, (df_[i+1,1] - df_[i,1]))\n",
    "end\n"
   ]
  },
  {
   "cell_type": "code",
   "execution_count": 195,
   "metadata": {
    "collapsed": false
   },
   "outputs": [
    {
     "data": {
      "text/plain": [
       "43-element Array{Int64,1}:\n",
       "  99\n",
       "  14\n",
       "  37\n",
       " 102\n",
       " 148\n",
       "   2\n",
       "  15\n",
       "   9\n",
       " 277\n",
       "  27\n",
       "  77\n",
       "   2\n",
       "  95\n",
       "   ⋮\n",
       "  55\n",
       "  38\n",
       "   2\n",
       "   2\n",
       "  59\n",
       "  27\n",
       "  14\n",
       "  53\n",
       "  19\n",
       "  94\n",
       " 110\n",
       "  28"
      ]
     },
     "execution_count": 195,
     "metadata": {},
     "output_type": "execute_result"
    }
   ],
   "source": [
    "interarrival"
   ]
  },
  {
   "cell_type": "markdown",
   "metadata": {},
   "source": [
    "Let's calculate the CDF  of the interarrival time .. "
   ]
  },
  {
   "cell_type": "code",
   "execution_count": 196,
   "metadata": {
    "collapsed": false
   },
   "outputs": [
    {
     "data": {
      "text/plain": [
       "Dict{Int64,Int64} with 36 entries:\n",
       "  18  => 1\n",
       "  47  => 1\n",
       "  148 => 1\n",
       "  68  => 1\n",
       "  77  => 1\n",
       "  2   => 4\n",
       "  80  => 1\n",
       "  101 => 1\n",
       "  85  => 1\n",
       "  26  => 2\n",
       "  9   => 1\n",
       "  102 => 1\n",
       "  55  => 1\n",
       "  29  => 1\n",
       "  19  => 1\n",
       "  65  => 1\n",
       "  59  => 1\n",
       "  49  => 1\n",
       "  37  => 1\n",
       "  4   => 1\n",
       "  277 => 1\n",
       "  53  => 1\n",
       "  28  => 1\n",
       "  95  => 1\n",
       "  110 => 1\n",
       "  ⋮   => ⋮"
      ]
     },
     "execution_count": 196,
     "metadata": {},
     "output_type": "execute_result"
    }
   ],
   "source": [
    "c = countmap(interarrival)"
   ]
  },
  {
   "cell_type": "code",
   "execution_count": 197,
   "metadata": {
    "collapsed": false
   },
   "outputs": [
    {
     "name": "stderr",
     "output_type": "stream",
     "text": [
      "WARNING: Method definition calc_cdf(Any) in module Main at In[160]:3 overwritten at In[197]:3.\n"
     ]
    },
    {
     "data": {
      "text/plain": [
       "calc_cdf (generic function with 1 method)"
      ]
     },
     "execution_count": 197,
     "metadata": {},
     "output_type": "execute_result"
    }
   ],
   "source": [
    "## calc cdf\n",
    "function calc_cdf(c) # c is a data dict\n",
    "    runsum = 0\n",
    "    xs = Float64[]\n",
    "    cs = Float64[]\n",
    "   \n",
    "    for (value, count) in sort(c)\n",
    "        runsum = runsum + count\n",
    "        push!(xs, value)\n",
    "        push!(cs, runsum)\n",
    "    end\n",
    "\n",
    "    total = float(runsum)  # total = 1596\n",
    "    cdf = [c/total for c in cs]   ## cdf[end] = 1, ps carrried cdf\n",
    "    \n",
    "    return xs, cdf\n",
    "end"
   ]
  },
  {
   "cell_type": "code",
   "execution_count": 198,
   "metadata": {
    "collapsed": false
   },
   "outputs": [
    {
     "data": {
      "text/plain": [
       "([1.0,2.0,4.0,9.0,13.0,14.0,15.0,18.0,19.0,26.0  …  94.0,95.0,99.0,101.0,102.0,110.0,117.0,126.0,148.0,277.0],[0.0232558,0.116279,0.139535,0.162791,0.186047,0.255814,0.27907,0.302326,0.325581,0.372093  …  0.790698,0.813953,0.837209,0.860465,0.883721,0.906977,0.930233,0.953488,0.976744,1.0])"
      ]
     },
     "execution_count": 198,
     "metadata": {},
     "output_type": "execute_result"
    }
   ],
   "source": [
    "xs, cdf = calc_cdf(c)"
   ]
  },
  {
   "cell_type": "code",
   "execution_count": 201,
   "metadata": {
    "collapsed": false
   },
   "outputs": [
    {
     "data": {
      "text/html": [
       "<script src=\"/home/eman/.julia/v0.5/Plots/src/backends/../../deps/plotly-latest.min.js\"></script>    <div id=\"dda359e7-d4be-48e7-845f-9c7b2cde1d73\" style=\"width:600px;height:400px;\"></div>\n",
       "    <script>\n",
       "    PLOT = document.getElementById('dda359e7-d4be-48e7-845f-9c7b2cde1d73');\n",
       "    Plotly.plot(PLOT, [{\"yaxis\":\"y\",\"y\":[0.023255813953488372,0.11627906976744186,0.13953488372093023,0.16279069767441862,0.18604651162790697,0.2558139534883721,0.27906976744186046,0.3023255813953488,0.32558139534883723,0.37209302325581395,0.4186046511627907,0.4418604651162791,0.46511627906976744,0.4883720930232558,0.5116279069767442,0.5348837209302325,0.5581395348837209,0.5813953488372093,0.6046511627906976,0.627906976744186,0.6511627906976745,0.6744186046511628,0.6976744186046512,0.7209302325581395,0.7441860465116279,0.7674418604651163,0.7906976744186046,0.813953488372093,0.8372093023255814,0.8604651162790697,0.8837209302325582,0.9069767441860465,0.9302325581395349,0.9534883720930233,0.9767441860465116,1.0],\"showlegend\":true,\"name\":\"y1\",\"type\":\"scatter\",\"xaxis\":\"x\",\"line\":{\"width\":1,\"dash\":\"solid\",\"color\":\"rgba(0, 154, 250, 1.000)\",\"shape\":\"linear\"},\"x\":[1.0,2.0,4.0,9.0,13.0,14.0,15.0,18.0,19.0,26.0,27.0,28.0,29.0,37.0,38.0,47.0,49.0,53.0,55.0,59.0,65.0,68.0,76.0,77.0,80.0,85.0,94.0,95.0,99.0,101.0,102.0,110.0,117.0,126.0,148.0,277.0],\"mode\":\"lines\"}], {\"yaxis\":{\"type\":\"-\",\"titlefont\":{\"size\":15,\"color\":\"rgba(0, 0, 0, 1.000)\",\"family\":\"sans-serif\"},\"title\":\"CDF\",\"tickfont\":{\"size\":11,\"color\":\"rgba(0, 0, 0, 1.000)\",\"family\":\"sans-serif\"},\"ticks\":\"inside\",\"tickmode\":\"array\",\"showgrid\":true,\"tickvals\":[0.25,0.5,0.75,1.0],\"domain\":[0.07581474190726165,0.9901574803149606],\"ticktext\":[\"0.25\",\"0.50\",\"0.75\",\"1.00\"],\"tickangle\":0,\"zeroline\":false,\"linecolor\":\"rgba(0, 0, 0, 1.000)\",\"tickcolor\":\"rgba(0, 0, 0, 1.000)\",\"anchor\":\"x\"},\"annotations\":[],\"width\":600,\"plot_bgcolor\":\"rgba(255, 255, 255, 1.000)\",\"showlegend\":true,\"legend\":{\"bgcolor\":\"rgba(255, 255, 255, 1.000)\",\"y\":1.0,\"font\":{\"size\":11,\"color\":\"rgba(0, 0, 0, 1.000)\",\"family\":\"sans-serif\"},\"bordercolor\":\"rgba(0, 0, 0, 1.000)\",\"x\":1.0},\"xaxis\":{\"type\":\"-\",\"titlefont\":{\"size\":15,\"color\":\"rgba(0, 0, 0, 1.000)\",\"family\":\"sans-serif\"},\"title\":\"Minutes\",\"tickfont\":{\"size\":11,\"color\":\"rgba(0, 0, 0, 1.000)\",\"family\":\"sans-serif\"},\"ticks\":\"inside\",\"tickmode\":\"array\",\"showgrid\":true,\"tickvals\":[100.0,200.0],\"domain\":[0.09128390201224845,0.9934383202099738],\"ticktext\":[\"100\",\"200\"],\"tickangle\":0,\"zeroline\":false,\"linecolor\":\"rgba(0, 0, 0, 1.000)\",\"tickcolor\":\"rgba(0, 0, 0, 1.000)\",\"anchor\":\"y\"},\"paper_bgcolor\":\"rgba(255, 255, 255, 1.000)\",\"height\":400,\"margin\":{\"r\":0,\"l\":0,\"b\":0,\"t\":20}});\n",
       "    </script>\n"
      ]
     },
     "execution_count": 201,
     "metadata": {},
     "output_type": "execute_result"
    }
   ],
   "source": [
    "plot(xs, cdf)\n",
    "xlabel!(\"Minutes\")\n",
    "ylabel!(\"CDF\")"
   ]
  },
  {
   "cell_type": "code",
   "execution_count": 205,
   "metadata": {
    "collapsed": false
   },
   "outputs": [
    {
     "data": {
      "text/html": [
       "<script src=\"/home/eman/.julia/v0.5/Plots/src/backends/../../deps/plotly-latest.min.js\"></script>    <div id=\"4f94e7ff-b0b3-4290-bb54-db338115ad64\" style=\"width:600px;height:400px;\"></div>\n",
       "    <script>\n",
       "    PLOT = document.getElementById('4f94e7ff-b0b3-4290-bb54-db338115ad64');\n",
       "    Plotly.plot(PLOT, [{\"yaxis\":\"y\",\"y\":[-0.02353049741019416,-0.12361395596717664,-0.150282203049338,-0.1776811772374525,-0.20585205420414873,-0.2954642128938359,-0.3272129112084162,-0.36000273403140703,-0.3939042857070884,-0.46536324968923337,-0.5423242908253618,-0.5831462853456169,-0.6257058997644126,-0.6701576623352465,-0.7166776779701395,-0.7654678421395713,-0.8167611365271219,-0.8708283577973979,-0.9279867716373462,-0.9886113934537812,-1.0531499145913525,-1.1221427860783038,-1.1962507582320256,-1.276293465905562,-1.363304842895192,-1.458615022699517,-1.5639755383573428,-1.6817585740137266,-1.8152899666382494,-1.9694406464655072,-2.1517622032594623,-2.374905754573671,-2.6625878270254524,-3.068052935133618,-3.7612001156935606,null],\"showlegend\":true,\"name\":\"y1\",\"type\":\"scatter\",\"xaxis\":\"x\",\"line\":{\"width\":1,\"dash\":\"solid\",\"color\":\"rgba(0, 154, 250, 1.000)\",\"shape\":\"linear\"},\"x\":[1.0,2.0,4.0,9.0,13.0,14.0,15.0,18.0,19.0,26.0,27.0,28.0,29.0,37.0,38.0,47.0,49.0,53.0,55.0,59.0,65.0,68.0,76.0,77.0,80.0,85.0,94.0,95.0,99.0,101.0,102.0,110.0,117.0,126.0,148.0,277.0],\"mode\":\"lines\"}], {\"yaxis\":{\"type\":\"-\",\"titlefont\":{\"size\":15,\"color\":\"rgba(0, 0, 0, 1.000)\",\"family\":\"sans-serif\"},\"title\":\"CCDF\",\"tickfont\":{\"size\":11,\"color\":\"rgba(0, 0, 0, 1.000)\",\"family\":\"sans-serif\"},\"ticks\":\"inside\",\"tickmode\":\"array\",\"showgrid\":true,\"tickvals\":[null],\"domain\":[0.07581474190726165,0.9901574803149606],\"ticktext\":[],\"tickangle\":0,\"zeroline\":false,\"linecolor\":\"rgba(0, 0, 0, 1.000)\",\"tickcolor\":\"rgba(0, 0, 0, 1.000)\",\"anchor\":\"x\"},\"annotations\":[],\"width\":600,\"plot_bgcolor\":\"rgba(255, 255, 255, 1.000)\",\"showlegend\":true,\"legend\":{\"bgcolor\":\"rgba(255, 255, 255, 1.000)\",\"y\":1.0,\"font\":{\"size\":11,\"color\":\"rgba(0, 0, 0, 1.000)\",\"family\":\"sans-serif\"},\"bordercolor\":\"rgba(0, 0, 0, 1.000)\",\"x\":1.0},\"xaxis\":{\"type\":\"-\",\"titlefont\":{\"size\":15,\"color\":\"rgba(0, 0, 0, 1.000)\",\"family\":\"sans-serif\"},\"title\":\"Minutes\",\"tickfont\":{\"size\":11,\"color\":\"rgba(0, 0, 0, 1.000)\",\"family\":\"sans-serif\"},\"ticks\":\"inside\",\"tickmode\":\"array\",\"showgrid\":true,\"tickvals\":[100.0,200.0],\"domain\":[0.032024642752989205,0.9934383202099737],\"ticktext\":[\"100\",\"200\"],\"tickangle\":0,\"zeroline\":false,\"linecolor\":\"rgba(0, 0, 0, 1.000)\",\"tickcolor\":\"rgba(0, 0, 0, 1.000)\",\"anchor\":\"y\"},\"paper_bgcolor\":\"rgba(255, 255, 255, 1.000)\",\"height\":400,\"margin\":{\"r\":0,\"l\":0,\"b\":0,\"t\":20}});\n",
       "    </script>\n"
      ]
     },
     "execution_count": 205,
     "metadata": {},
     "output_type": "execute_result"
    }
   ],
   "source": [
    "plot(xs, log(1-cdf))\n",
    "xlabel!(\"Minutes\")\n",
    "ylabel!(\"CCDF\")"
   ]
  },
  {
   "cell_type": "markdown",
   "metadata": {
    "collapsed": true
   },
   "source": [
    "Same results as discussed in the chapter .. "
   ]
  },
  {
   "cell_type": "markdown",
   "metadata": {},
   "source": [
    "In python ==> random.expovariate(lambda) .. i.e. lambda = 2 "
   ]
  }
 ],
 "metadata": {
  "kernelspec": {
   "display_name": "Julia 0.5.0",
   "language": "julia",
   "name": "julia-0.5"
  },
  "language_info": {
   "file_extension": ".jl",
   "mimetype": "application/julia",
   "name": "julia",
   "version": "0.5.0"
  }
 },
 "nbformat": 4,
 "nbformat_minor": 0
}
