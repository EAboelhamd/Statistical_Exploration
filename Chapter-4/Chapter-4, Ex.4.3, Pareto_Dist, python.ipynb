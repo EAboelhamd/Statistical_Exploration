{
 "cells": [
  {
   "cell_type": "markdown",
   "metadata": {},
   "source": [
    "## Introduction:\n",
    "It has been used to describe phenomena in the natural and social sciences including sizes of cities and\n",
    "towns, sand particles and meteorites, forest fires and earthquakes.\n",
    "\n",
    "Paret Distribution ==> https://en.wikipedia.org/wiki/Pareto_distribution\n",
    "\n",
    "## Ex. 4.3:\n",
    "The random module provides paretovariate, which generates random values from a Pareto distribution. It takes a parameter for alpha, but not xm. The default value for xm is 1; you can generate a distribution with a different parameter by multiplying by xm.\n",
    "\n",
    "Write a wrapper function named paretovariate that takes alpha and xm as parameters and uses random.paretovariate to generate values from a two parameter Pareto distribution.\n",
    "\n",
    "Use your function to generate a sample from a Pareto distribution. Compute the CCDF and plot it on a log-log scale. Is it a straight line? What is the slope?"
   ]
  },
  {
   "cell_type": "code",
   "execution_count": 79,
   "metadata": {
    "collapsed": false
   },
   "outputs": [],
   "source": [
    "import random\n",
    "import numpy as np\n",
    "import Cdf\n",
    "import myplot\n",
    "import itertools\n",
    "import matplotlib.pyplot as plt\n",
    "%matplotlib inline"
   ]
  },
  {
   "cell_type": "code",
   "execution_count": 64,
   "metadata": {
    "collapsed": false
   },
   "outputs": [
    {
     "data": {
      "text/plain": [
       "867.5675112131986"
      ]
     },
     "execution_count": 64,
     "metadata": {},
     "output_type": "execute_result"
    }
   ],
   "source": [
    "xm = 3\n",
    "xm*random.paretovariate(1) ## test"
   ]
  },
  {
   "cell_type": "code",
   "execution_count": 65,
   "metadata": {
    "collapsed": true
   },
   "outputs": [],
   "source": [
    "def paretovariate(alpha, xm):\n",
    "    \n",
    "    return xm*random.paretovariate(alpha)"
   ]
  },
  {
   "cell_type": "code",
   "execution_count": 66,
   "metadata": {
    "collapsed": false
   },
   "outputs": [
    {
     "data": {
      "text/plain": [
       "array([  9.34192225,   8.88811944,   3.44349441,   3.54015205,\n",
       "         7.68349651,  27.33741714,  19.71372833,   6.98896012,\n",
       "         5.32988957,   3.37152798,   1.44869852,   1.24935763,\n",
       "         4.78876716,   4.09607387,   8.36433879,   6.3810573 ,\n",
       "         0.16425408,   0.43173183,   2.83895369,   8.04165851,\n",
       "         3.07342202,   8.87452696,   7.01789061,  12.91208106,\n",
       "         3.83503963,   5.92842757,   0.98572487,   9.56411621,\n",
       "         1.40420035,   2.89225942])"
      ]
     },
     "execution_count": 66,
     "metadata": {},
     "output_type": "execute_result"
    }
   ],
   "source": [
    "alpha = 10*np.random.random(30)  # I multiplied by 10 just to magnify the number\n",
    "xm = 10*np.random.random(30)\n",
    "pareto_data = paretovariate(alpha, xm)\n",
    "pareto_data"
   ]
  },
  {
   "cell_type": "code",
   "execution_count": 67,
   "metadata": {
    "collapsed": false
   },
   "outputs": [
    {
     "data": {
      "text/plain": [
       "<Cdf.Cdf at 0x7f33c45288d0>"
      ]
     },
     "execution_count": 67,
     "metadata": {},
     "output_type": "execute_result"
    }
   ],
   "source": [
    "cdf_data = Cdf.MakeCdfFromList(pareto_data)\n",
    "cdf_data"
   ]
  },
  {
   "cell_type": "code",
   "execution_count": 69,
   "metadata": {
    "collapsed": false
   },
   "outputs": [
    {
     "data": {
      "text/plain": [
       "<matplotlib.text.Text at 0x7f33c4439ad0>"
      ]
     },
     "execution_count": 69,
     "metadata": {},
     "output_type": "execute_result"
    },
    {
     "data": {
      "image/png": "[encoded data removed]",
      "text/plain": [
       "<matplotlib.figure.Figure at 0x7f33c444e3d0>"
      ]
     },
     "metadata": {},
     "output_type": "display_data"
    }
   ],
   "source": [
    "plt.plot(cdf_data.xs, cdf_data.ps)\n",
    "plt.xlabel('X')\n",
    "plt.ylabel('CDF')"
   ]
  },
  {
   "cell_type": "markdown",
   "metadata": {},
   "source": [
    "The shape is not stright like that one in the textbook !"
   ]
  },
  {
   "cell_type": "code",
   "execution_count": 82,
   "metadata": {
    "collapsed": false
   },
   "outputs": [
    {
     "data": {
      "text/plain": [
       "<matplotlib.text.Text at 0x7f33c4043910>"
      ]
     },
     "execution_count": 82,
     "metadata": {},
     "output_type": "execute_result"
    },
    {
     "data": {
      "image/png": "[encoded data removed]",
      "text/plain": [
       "<matplotlib.figure.Figure at 0x7f33c402a490>"
      ]
     },
     "metadata": {},
     "output_type": "display_data"
    }
   ],
   "source": [
    "plt.plot(cdf_data.xs, 1-np.log(cdf_data.ps))\n",
    "plt.xlabel('X')\n",
    "plt.ylabel('CCDF')"
   ]
  },
  {
   "cell_type": "markdown",
   "metadata": {},
   "source": [
    "The shape looks good .. as expected to be .. it is decreasing .. \n",
    "\n",
    "Howevere the y-axis range is not log !! :S\n",
    "\n",
    "Let's try the built in function to double check !"
   ]
  },
  {
   "cell_type": "code",
   "execution_count": 81,
   "metadata": {
    "collapsed": false
   },
   "outputs": [
    {
     "data": {
      "text/plain": [
       "{'xscale': 'linear', 'yscale': 'log'}"
      ]
     },
     "execution_count": 81,
     "metadata": {},
     "output_type": "execute_result"
    },
    {
     "data": {
      "image/png": "[encoded data removed]",
      "text/plain": [
       "<matplotlib.figure.Figure at 0x7f33c4064410>"
      ]
     },
     "metadata": {},
     "output_type": "display_data"
    }
   ],
   "source": [
    "myplot.Cdf(cdf_data, complement=True, xscale='linear', yscale='log')"
   ]
  },
  {
   "cell_type": "markdown",
   "metadata": {},
   "source": [
    "Similar results :S"
   ]
  }
 ],
 "metadata": {
  "kernelspec": {
   "display_name": "Python 2",
   "language": "python",
   "name": "python2"
  },
  "language_info": {
   "codemirror_mode": {
    "name": "ipython",
    "version": 2
   },
   "file_extension": ".py",
   "mimetype": "text/x-python",
   "name": "python",
   "nbconvert_exporter": "python",
   "pygments_lexer": "ipython2",
   "version": "2.7.12"
  }
 },
 "nbformat": 4,
 "nbformat_minor": 0
}
