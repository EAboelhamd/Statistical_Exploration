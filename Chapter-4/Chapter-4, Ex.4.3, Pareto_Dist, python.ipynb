{
 "cells": [
  {
   "cell_type": "markdown",
   "metadata": {},
   "source": [
    "## Introduction:\n",
    "It has been used to describe phenomena in the natural and social sciences including sizes of cities and\n",
    "towns, sand particles and meteorites, forest fires and earthquakes.\n",
    "\n",
    "Paret Distribution ==> https://en.wikipedia.org/wiki/Pareto_distribution\n",
    "\n",
    "## Ex. 4.3:\n",
    "The random module provides paretovariate, which generates random values from a Pareto distribution. It takes a parameter for alpha, but not xm. The default value for xm is 1; you can generate a distribution with a different parameter by multiplying by xm.\n",
    "\n",
    "Write a wrapper function named paretovariate that takes alpha and xm as parameters and uses random.paretovariate to generate values from a two parameter Pareto distribution.\n",
    "\n",
    "Use your function to generate a sample from a Pareto distribution. Compute the CCDF and plot it on a log-log scale. Is it a straight line? What is the slope?"
   ]
  },
  {
   "cell_type": "code",
   "execution_count": 93,
   "metadata": {
    "collapsed": false
   },
   "outputs": [],
   "source": [
    "import random\n",
    "import numpy as np\n",
    "import Cdf\n",
    "import myplot\n",
    "import itertools\n",
    "import matplotlib.pyplot as plt\n",
    "%matplotlib inline"
   ]
  },
  {
   "cell_type": "code",
   "execution_count": 94,
   "metadata": {
    "collapsed": false
   },
   "outputs": [
    {
     "data": {
      "text/plain": [
       "89.57928645413456"
      ]
     },
     "execution_count": 94,
     "metadata": {},
     "output_type": "execute_result"
    }
   ],
   "source": [
    "xm = 3\n",
    "xm*random.paretovariate(1) ## test"
   ]
  },
  {
   "cell_type": "code",
   "execution_count": 95,
   "metadata": {
    "collapsed": true
   },
   "outputs": [],
   "source": [
    "def paretovariate(alpha, xm):\n",
    "    n = 30\n",
    "    return xm*np.random.pareto(alpha, n)"
   ]
  },
  {
   "cell_type": "code",
   "execution_count": 96,
   "metadata": {
    "collapsed": false
   },
   "outputs": [
    {
     "data": {
      "text/plain": [
       "array([ 0.07983415,  0.04788999,  0.01486405,  0.02490657,  0.07120158,\n",
       "        0.05192482,  0.00266961,  0.04134036,  0.26015823,  0.09954275,\n",
       "        0.01865788,  0.03183385,  0.12156697,  0.03955637,  0.00304176,\n",
       "        0.04488823,  0.01327304,  0.10843898,  0.07949966,  0.02631203,\n",
       "        0.11930578,  0.01029773,  0.06185209,  0.14015532,  0.05342503,\n",
       "        0.00169413,  0.06443699,  0.01372217,  0.03714003,  0.01752187])"
      ]
     },
     "execution_count": 96,
     "metadata": {},
     "output_type": "execute_result"
    }
   ],
   "source": [
    "alpha = 17\n",
    "xm = 1\n",
    "pareto_data = paretovariate(alpha, xm)\n",
    "pareto_data"
   ]
  },
  {
   "cell_type": "code",
   "execution_count": 97,
   "metadata": {
    "collapsed": false
   },
   "outputs": [
    {
     "data": {
      "text/plain": [
       "<Cdf.Cdf at 0x7f33c3cc67d0>"
      ]
     },
     "execution_count": 97,
     "metadata": {},
     "output_type": "execute_result"
    }
   ],
   "source": [
    "cdf_data = Cdf.MakeCdfFromList(pareto_data)\n",
    "cdf_data"
   ]
  },
  {
   "cell_type": "code",
   "execution_count": 98,
   "metadata": {
    "collapsed": false
   },
   "outputs": [
    {
     "data": {
      "text/plain": [
       "<matplotlib.text.Text at 0x7f33c3cbdad0>"
      ]
     },
     "execution_count": 98,
     "metadata": {},
     "output_type": "execute_result"
    },
    {
     "data": {
      "image/png": "[encoded data removed]",
      "text/plain": [
       "<matplotlib.figure.Figure at 0x7f33c3fc1850>"
      ]
     },
     "metadata": {},
     "output_type": "display_data"
    }
   ],
   "source": [
    "plt.plot(cdf_data.xs, cdf_data.ps)\n",
    "plt.xlabel('X')\n",
    "plt.ylabel('CDF')"
   ]
  },
  {
   "cell_type": "markdown",
   "metadata": {},
   "source": [
    "The shape is not stright like that one in the textbook !"
   ]
  },
  {
   "cell_type": "code",
   "execution_count": 110,
   "metadata": {
    "collapsed": false
   },
   "outputs": [
    {
     "data": {
      "text/plain": [
       "<matplotlib.text.Text at 0x7f33c3d15ad0>"
      ]
     },
     "execution_count": 110,
     "metadata": {},
     "output_type": "execute_result"
    },
    {
     "data": {
      "image/png": "[encoded data removed]",
      "text/plain": [
       "<matplotlib.figure.Figure at 0x7f33c38ced90>"
      ]
     },
     "metadata": {},
     "output_type": "display_data"
    }
   ],
   "source": [
    "plt.plot(cdf_data.xs, 1-np.log(cdf_data.ps)) ## error \n",
    "plt.xlabel('X')\n",
    "plt.ylabel('CCDF')"
   ]
  },
  {
   "cell_type": "markdown",
   "metadata": {},
   "source": [
    "The shape looks good .. as expected to be .. it is decreasing .. \n",
    "\n",
    "Howevere the y-axis range is not log !! :S\n",
    "\n",
    "Let's try the built in function to double check !"
   ]
  },
  {
   "cell_type": "code",
   "execution_count": 100,
   "metadata": {
    "collapsed": false
   },
   "outputs": [
    {
     "data": {
      "text/plain": [
       "{'xscale': 'linear', 'yscale': 'log'}"
      ]
     },
     "execution_count": 100,
     "metadata": {},
     "output_type": "execute_result"
    },
    {
     "data": {
      "image/png": "[encoded data removed]",
      "text/plain": [
       "<matplotlib.figure.Figure at 0x7f33c3b3e450>"
      ]
     },
     "metadata": {},
     "output_type": "display_data"
    }
   ],
   "source": [
    "myplot.Cdf(cdf_data, complement=True, xscale='linear', yscale='log')"
   ]
  },
  {
   "cell_type": "markdown",
   "metadata": {},
   "source": [
    "Similar results :S .. \n",
    "however, the y-axis range is incorrect in mine ! .. it's a CDF hence, has to be from 0 to 1"
   ]
  }
 ],
 "metadata": {
  "kernelspec": {
   "display_name": "Python 2",
   "language": "python",
   "name": "python2"
  },
  "language_info": {
   "codemirror_mode": {
    "name": "ipython",
    "version": 2
   },
   "file_extension": ".py",
   "mimetype": "text/x-python",
   "name": "python",
   "nbconvert_exporter": "python",
   "pygments_lexer": "ipython2",
   "version": "2.7.12"
  }
 },
 "nbformat": 4,
 "nbformat_minor": 0
}
