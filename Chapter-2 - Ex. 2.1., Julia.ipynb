{
 "cells": [
  {
   "cell_type": "markdown",
   "metadata": {},
   "source": [
    "## Introduction:\n",
    "\n",
    "Write a function called Pumpkin that uses functions from thinkstats.py to compute the mean, variance and standard deviation of the pumpkins weights in the previous section (in the textbook). \n",
    "\n",
    "There is no space to utilize thinkstats.py code .. hence, all the calculations will be implemented using Julia's built in functions and the double check will be made through calculate them again using excel .. "
   ]
  },
  {
   "cell_type": "markdown",
   "metadata": {},
   "source": [
    "## Pumpkins example in details .. \n",
    "\n",
    "Suppose I grow several varieties in my garden, and one day I harvest three decorative pumpkins that are 1 pound each, two pie pumpkins that are 3 pounds each, and one Atlantic Giant® pumpkin that weighs 591 pounds. The mean of this sample is 100 pounds."
   ]
  },
  {
   "cell_type": "code",
   "execution_count": 1,
   "metadata": {
    "collapsed": false
   },
   "outputs": [
    {
     "data": {
      "text/plain": [
       "6-element Array{Int64,1}:\n",
       "   1\n",
       "   1\n",
       "   1\n",
       "   3\n",
       "   3\n",
       " 591"
      ]
     },
     "execution_count": 1,
     "metadata": {},
     "output_type": "execute_result"
    }
   ],
   "source": [
    "pumpkins_sizes = [1, 1, 1, 3, 3, 591]"
   ]
  },
  {
   "cell_type": "code",
   "execution_count": 2,
   "metadata": {
    "collapsed": false
   },
   "outputs": [
    {
     "data": {
      "text/plain": [
       "100.0"
      ]
     },
     "execution_count": 2,
     "metadata": {},
     "output_type": "execute_result"
    }
   ],
   "source": [
    "m = mean(pumpkins_sizes) ## similar to what has been mentioned"
   ]
  },
  {
   "cell_type": "code",
   "execution_count": 3,
   "metadata": {
    "collapsed": false
   },
   "outputs": [
    {
     "data": {
      "text/plain": [
       "57860.4"
      ]
     },
     "execution_count": 3,
     "metadata": {},
     "output_type": "execute_result"
    }
   ],
   "source": [
    "var(pumpkins_sizes) ## similar as excel, differs from python "
   ]
  },
  {
   "cell_type": "markdown",
   "metadata": {},
   "source": [
    "Differs from python results of 48217.0 .. \n",
    "\n",
    "Let's try to write it ourselves .. "
   ]
  },
  {
   "cell_type": "code",
   "execution_count": 4,
   "metadata": {
    "collapsed": true
   },
   "outputs": [],
   "source": [
    "v = 0\n",
    "for pumpkin in pumpkins_sizes\n",
    "    v = (sum(pumpkin - m)^2)/(length(pumpkins_sizes)-1) ## sample variance\n",
    "end"
   ]
  },
  {
   "cell_type": "code",
   "execution_count": 5,
   "metadata": {
    "collapsed": false
   },
   "outputs": [
    {
     "data": {
      "text/plain": [
       "48216.2"
      ]
     },
     "execution_count": 5,
     "metadata": {},
     "output_type": "execute_result"
    }
   ],
   "source": [
    "v"
   ]
  },
  {
   "cell_type": "markdown",
   "metadata": {},
   "source": [
    "This is closer to python result .. \n",
    "\n",
    "\n",
    "Hence, standard devaition is expected to be closer as well ..  "
   ]
  },
  {
   "cell_type": "code",
   "execution_count": 6,
   "metadata": {
    "collapsed": false
   },
   "outputs": [
    {
     "data": {
      "text/plain": [
       "219.58187539047935"
      ]
     },
     "execution_count": 6,
     "metadata": {},
     "output_type": "execute_result"
    }
   ],
   "source": [
    "std_ = sqrt(v)"
   ]
  },
  {
   "cell_type": "markdown",
   "metadata": {},
   "source": [
    "Very close to python results of (219.58369702689677) .. as expected .. "
   ]
  },
  {
   "cell_type": "markdown",
   "metadata": {},
   "source": [
    "## However .. \n",
    "applying the std built in function is expected to vary from the above result (like what has been done in the variance value) "
   ]
  },
  {
   "cell_type": "code",
   "execution_count": 7,
   "metadata": {
    "collapsed": false
   },
   "outputs": [
    {
     "data": {
      "text/plain": [
       "240.54188824402289"
      ]
     },
     "execution_count": 7,
     "metadata": {},
     "output_type": "execute_result"
    }
   ],
   "source": [
    "## in the 1st case (built in std) .. \n",
    "\n",
    "std(pumpkins_sizes) ## similar as excel, differs from python"
   ]
  },
  {
   "cell_type": "markdown",
   "metadata": {},
   "source": [
    "This is far as well from python results of (219.58369702689677)"
   ]
  },
  {
   "cell_type": "markdown",
   "metadata": {},
   "source": [
    "## Justification .. \n",
    "\n",
    "Perhanps coding the varaince calculations from scratch results in a nearly similar results like python .. however, I tried to calculate the variance for the above data using excel and the output was (57860.4) which is exactly the same as julia built in function ! :S  \n",
    "\n",
    "\n",
    "## Conclusion:\n",
    "In python ==> \n",
    "    \n",
    "    built in function, funtion from textbook implementation ==> matches \n",
    "    \n",
    "In Julia ==> \n",
    "    - built in function, python ==> doesn't match \n",
    "    - built in function, excel ==> matches \n",
    "    - end to end impelemenation, python ==> matches \n",
    "    \n",
    "    \n",
    "### Trials to understand the mechanism on ver() in Julia: \n",
    "after searching the internet, many refrences have been found that describe the mechanism of var() in Julia .. \n",
    "\n",
    "i.e. Page 11 here ==> https://media.readthedocs.org/pdf/statsbasejl/latest/statsbasejl.pdf\n",
    "\n",
    "There are many versions of var() .. and they all basicaly calculate weighted variance .. "
   ]
  },
  {
   "cell_type": "code",
   "execution_count": 12,
   "metadata": {
    "collapsed": false
   },
   "outputs": [
    {
     "data": {
      "text/plain": [
       "57860.4"
      ]
     },
     "execution_count": 12,
     "metadata": {},
     "output_type": "execute_result"
    }
   ],
   "source": [
    "var(pumpkins_sizes, mean = 100) ## calculate weighted variance "
   ]
  },
  {
   "cell_type": "code",
   "execution_count": 11,
   "metadata": {
    "collapsed": false
   },
   "outputs": [
    {
     "data": {
      "text/plain": [
       "69860.4"
      ]
     },
     "execution_count": 11,
     "metadata": {},
     "output_type": "execute_result"
    }
   ],
   "source": [
    "var(pumpkins_sizes, mean = 0) ## far from all the values "
   ]
  },
  {
   "cell_type": "code",
   "execution_count": 18,
   "metadata": {
    "collapsed": false
   },
   "outputs": [
    {
     "data": {
      "text/plain": [
       "69621.6"
      ]
     },
     "execution_count": 18,
     "metadata": {},
     "output_type": "execute_result"
    }
   ],
   "source": [
    "var(pumpkins_sizes, mean = 1) ## expected ! .. as the mean of 1 is near 3 values in the data .. "
   ]
  },
  {
   "cell_type": "code",
   "execution_count": 17,
   "metadata": {
    "collapsed": false
   },
   "outputs": [
    {
     "data": {
      "text/plain": [
       "249860.4"
      ]
     },
     "execution_count": 17,
     "metadata": {},
     "output_type": "execute_result"
    }
   ],
   "source": [
    "var(pumpkins_sizes, mean = 500) ## expected ! "
   ]
  },
  {
   "cell_type": "markdown",
   "metadata": {},
   "source": [
    "as long as mean value increases, varaince increases as well .. which makes sense cause mean misrepresent more data points .. \n",
    "\n",
    "However, I think calculating var value from scratch is more rebust cause it deosn't depend on weighted mean, and has justifiable result ..  "
   ]
  }
 ],
 "metadata": {
  "kernelspec": {
   "display_name": "Julia 0.5.0",
   "language": "julia",
   "name": "julia-0.5"
  },
  "language_info": {
   "file_extension": ".jl",
   "mimetype": "application/julia",
   "name": "julia",
   "version": "0.5.0"
  }
 },
 "nbformat": 4,
 "nbformat_minor": 0
}
